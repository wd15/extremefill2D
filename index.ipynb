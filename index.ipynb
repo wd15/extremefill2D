{
 "cells": [
  {
   "cell_type": "markdown",
   "metadata": {},
   "source": [
    "# Extreme Fill 2D Example"
   ]
  },
  {
   "cell_type": "code",
   "execution_count": 23,
   "metadata": {
    "collapsed": false
   },
   "outputs": [],
   "source": [
    "%reload_ext yamlmagic\n",
    "\n",
    "from extremefill2D.fextreme import init_sim, restart_sim"
   ]
  },
  {
   "cell_type": "code",
   "execution_count": 2,
   "metadata": {
    "collapsed": false
   },
   "outputs": [],
   "source": [
    "treant = init_sim('scripts/params.json', 'data', tags=['debug'])"
   ]
  },
  {
   "cell_type": "code",
   "execution_count": 3,
   "metadata": {
    "collapsed": false
   },
   "outputs": [],
   "source": [
    "treant = restart_sim(treant, 10)"
   ]
  },
  {
   "cell_type": "code",
   "execution_count": 4,
   "metadata": {
    "collapsed": false
   },
   "outputs": [
    {
     "data": {
      "text/plain": [
       "<xarray.Dataset>\n",
       "Dimensions:             (cupric: 5510, distance: 5510, dx: 38, dy: 145, potential: 5510, suppressor: 5510, theta: 5510, x: 5510, y: 5510)\n",
       "Coordinates:\n",
       "  * potential           (potential) float64 0.25 0.25 0.25 0.25 0.25 0.25 ...\n",
       "  * x                   (x) float64 4.356e-07 1.146e-06 1.718e-06 2.302e-06 ...\n",
       "  * distance            (distance) float64 -5.406e-06 -5.087e-06 -4.802e-06 ...\n",
       "  * cupric              (cupric) float64 1e+03 1e+03 1e+03 1e+03 1e+03 1e+03 ...\n",
       "  * theta               (theta) float64 0.0 0.0 0.0 0.0 0.0 0.0 0.0 0.0 0.0 ...\n",
       "  * dy                  (dy) float64 1.321e-06 7.454e-07 6.776e-07 6.16e-07 ...\n",
       "  * dx                  (dx) float64 8.6e-07 5.6e-07 5.84e-07 5.84e-07 ...\n",
       "  * y                   (y) float64 -6.094e-05 -6.094e-05 -6.094e-05 ...\n",
       "  * suppressor          (suppressor) float64 0.02 0.02 0.02 0.02 0.02 0.02 ...\n",
       "Data variables:\n",
       "    elapsed_time        float64 0.1753\n",
       "    time_step_duration  float64 0.02594"
      ]
     },
     "execution_count": 4,
     "metadata": {},
     "output_type": "execute_result"
    }
   ],
   "source": [
    "import xarray\n",
    "xarray.open_dataset(sorted(treant.glob('data*.nc'))[-1].abspath)"
   ]
  },
  {
   "cell_type": "code",
   "execution_count": 5,
   "metadata": {
    "collapsed": false
   },
   "outputs": [],
   "source": [
    "data = xarray.open_dataset(sorted(treant.glob('data*.nc'))[-1].abspath)"
   ]
  },
  {
   "cell_type": "code",
   "execution_count": 6,
   "metadata": {
    "collapsed": false
   },
   "outputs": [
    {
     "data": {
      "text/plain": [
       "-6.0939480000000014e-05"
      ]
     },
     "execution_count": 6,
     "metadata": {},
     "output_type": "execute_result"
    }
   ],
   "source": [
    "min(data.x.values)\n",
    "max(data.y.values)\n",
    "min(data.y.values)"
   ]
  },
  {
   "cell_type": "code",
   "execution_count": 8,
   "metadata": {
    "collapsed": true
   },
   "outputs": [],
   "source": [
    "x_data = data.x.values\n",
    "y_data = data.y.values\n",
    "values = data.distance.values"
   ]
  },
  {
   "cell_type": "code",
   "execution_count": 13,
   "metadata": {
    "collapsed": false
   },
   "outputs": [
    {
     "name": "stdout",
     "output_type": "stream",
     "text": [
      "(995, 228)\n"
     ]
    }
   ],
   "source": [
    "import numpy as np\n",
    "\n",
    "from scipy.interpolate import griddata\n",
    "\n",
    "dx = 2e-7\n",
    "xi = np.linspace(min(x_data), max(x_data), (max(x_data) - min(x_data)) // dx)\n",
    "yi = np.linspace(min(y_data), max(y_data), (max(y_data) - min(y_data)) // dx)\n",
    "# grid the data.\n",
    "zi = griddata((x_data, y_data), values, (xi[None,:], yi[:,None]), method='cubic')\n",
    "print(zi.shape)"
   ]
  },
  {
   "cell_type": "code",
   "execution_count": 19,
   "metadata": {
    "collapsed": false
   },
   "outputs": [
    {
     "name": "stdout",
     "output_type": "stream",
     "text": [
      "1\n",
      "[array([[ 304.38321084,    0.        ],\n",
      "       [ 304.38418157,    1.        ],\n",
      "       [ 304.38415359,    2.        ],\n",
      "       ..., \n",
      "       [ 304.38229422,  225.        ],\n",
      "       [ 304.38228902,  226.        ],\n",
      "       [ 304.38228045,  227.        ]])]\n"
     ]
    }
   ],
   "source": [
    "from skimage import measure\n",
    "\n",
    "contours = measure.find_contours(zi, 0.0)\n",
    "\n",
    "print(len(contours))\n",
    "print(contours)"
   ]
  },
  {
   "cell_type": "code",
   "execution_count": 26,
   "metadata": {
    "collapsed": false
   },
   "outputs": [
    {
     "data": {
      "application/javascript": [
       "\n",
       "            require(\n",
       "                [\n",
       "                    \"notebook/js/codecell\",\n",
       "                    \"codemirror/mode/yaml/yaml\"\n",
       "                ],\n",
       "                function(cc){\n",
       "                    cc.CodeCell.options_default.highlight_modes.magic_yaml = {\n",
       "                        reg: [\"^%%yaml\"]\n",
       "                    }\n",
       "                }\n",
       "            );\n",
       "            "
      ],
      "text/plain": [
       "<IPython.core.display.Javascript object>"
      ]
     },
     "metadata": {},
     "output_type": "display_data"
    }
   ],
   "source": [
    "%%yaml vega_yaml\n",
    "---\n",
    "width: 500\n",
    "height: 500\n",
    "\n",
    "data:\n",
    "  - name: contour_data\n",
    "    values:\n",
    "      - x: 0.0\n",
    "        y: 0.0\n",
    "      - x: 1.0\n",
    "        y: 0.5\n",
    "      - x: 2.0\n",
    "        y: 2.0\n",
    "\n",
    "axes:\n",
    "  - type: x\n",
    "    scale: x\n",
    "  - type: y\n",
    "    scale: y\n",
    "\n",
    "scales:\n",
    "  - name: x\n",
    "    nice: true\n",
    "    range: width\n",
    "    domain:\n",
    "      data: contour_data\n",
    "      field: x\n",
    "  - name: y\n",
    "    nice: true\n",
    "    range: height\n",
    "    domain:\n",
    "      data: contour_data\n",
    "      field: y\n",
    "\n",
    "marks:\n",
    "  - type: line\n",
    "    from:\n",
    "      data: contour_data\n",
    "    properties:\n",
    "      enter:\n",
    "        x:\n",
    "          scale: x\n",
    "          field: x\n",
    "        y:\n",
    "          scale: y\n",
    "          field: y"
   ]
  },
  {
   "cell_type": "code",
   "execution_count": 27,
   "metadata": {
    "collapsed": false
   },
   "outputs": [
    {
     "name": "stdout",
     "output_type": "stream",
     "text": [
      "{'height': 500, 'width': 500, 'scales': [{'name': 'x', 'domain': {'field': 'x', 'data': 'contour_data'}, 'nice': True, 'range': 'width'}, {'name': 'y', 'domain': {'field': 'y', 'data': 'contour_data'}, 'nice': True, 'range': 'height'}], 'data': [{'name': 'contour_data', 'values': [{'x': 0.0, 'y': 0.0}, {'x': 1.0, 'y': 0.5}, {'x': 2.0, 'y': 2.0}]}], 'marks': [{'from': {'data': 'contour_data'}, 'properties': {'enter': {'x': {'field': 'x', 'scale': 'x'}, 'y': {'field': 'y', 'scale': 'y'}}}, 'type': 'line'}], 'axes': [{'scale': 'x', 'type': 'x'}, {'scale': 'y', 'type': 'y'}]}\n"
     ]
    }
   ],
   "source": [
    "print(vega_yaml)"
   ]
  },
  {
   "cell_type": "code",
   "execution_count": null,
   "metadata": {
    "collapsed": true
   },
   "outputs": [],
   "source": []
  }
 ],
 "metadata": {
  "anaconda-cloud": {},
  "kernelspec": {
   "display_name": "Python [conda env:extreme]",
   "language": "python",
   "name": "conda-env-extreme-py"
  },
  "language_info": {
   "codemirror_mode": {
    "name": "ipython",
    "version": 3
   },
   "file_extension": ".py",
   "mimetype": "text/x-python",
   "name": "python",
   "nbconvert_exporter": "python",
   "pygments_lexer": "ipython3",
   "version": "3.5.2"
  }
 },
 "nbformat": 4,
 "nbformat_minor": 1
}
