{
 "cells": [
  {
   "cell_type": "markdown",
   "metadata": {},
   "source": [
    "# Extreme Fill 2D Example"
   ]
  },
  {
   "cell_type": "code",
   "execution_count": 1,
   "metadata": {
    "collapsed": false
   },
   "outputs": [
    {
     "name": "stderr",
     "output_type": "stream",
     "text": [
      "/home/dwheeler/anaconda/envs/extreme/lib/python3.5/site-packages/fuzzywuzzy/fuzz.py:35: UserWarning: Using slow pure-python SequenceMatcher. Install python-Levenshtein to remove this warning\n",
      "  warnings.warn('Using slow pure-python SequenceMatcher. Install python-Levenshtein to remove this warning')\n"
     ]
    }
   ],
   "source": [
    "from extremefill2D.fextreme import init_sim, restart_sim\n",
    "from extremefill2D.fextreme.plot import vega_plot\n",
    "import vega"
   ]
  },
  {
   "cell_type": "code",
   "execution_count": 2,
   "metadata": {
    "collapsed": false
   },
   "outputs": [],
   "source": [
    "treant = init_sim('scripts/params.json', 'data', tags=['debug'])"
   ]
  },
  {
   "cell_type": "code",
   "execution_count": 3,
   "metadata": {
    "collapsed": true
   },
   "outputs": [],
   "source": [
    "#treant = restart_sim(treant, 10)"
   ]
  },
  {
   "cell_type": "code",
   "execution_count": 4,
   "metadata": {
    "collapsed": false
   },
   "outputs": [],
   "source": [
    "out = vega_plot(treant)"
   ]
  },
  {
   "cell_type": "code",
   "execution_count": 5,
   "metadata": {
    "collapsed": false
   },
   "outputs": [
    {
     "name": "stdout",
     "output_type": "stream",
     "text": [
      "<vega.vega.Vega object at 0x7f9659b66940>\n"
     ]
    }
   ],
   "source": [
    "print(out)"
   ]
  },
  {
   "cell_type": "code",
   "execution_count": 6,
   "metadata": {
    "collapsed": false
   },
   "outputs": [
    {
     "data": {
      "text/plain": [
       "True"
      ]
     },
     "execution_count": 6,
     "metadata": {},
     "output_type": "execute_result"
    }
   ],
   "source": [
    "type(out) is vega.Vega"
   ]
  },
  {
   "cell_type": "code",
   "execution_count": 7,
   "metadata": {
    "collapsed": false
   },
   "outputs": [
    {
     "data": {
      "text/html": [
       "<div class=\"vega-embed\" id=\"ff7e8ff6-bd44-4e6b-b133-abb189a86eb4\"></div>\n",
       "\n",
       "<style>\n",
       ".vega-embed svg, .vega-embed canvas {\n",
       "  border: 1px dotted gray;\n",
       "}\n",
       "\n",
       ".vega-embed .vega-actions a {\n",
       "  margin-right: 6px;\n",
       "}\n",
       "</style>\n"
      ]
     },
     "metadata": {
      "jupyter-vega": "#ff7e8ff6-bd44-4e6b-b133-abb189a86eb4"
     },
     "output_type": "display_data"
    },
    {
     "data": {
      "application/javascript": [
       "var spec = {\"scales\": [{\"domainMax\": \"15e-6\", \"range\": \"width\", \"name\": \"x\", \"domain\": [0.0, \"15e-6\"]}, {\"range\": \"height\", \"name\": \"y\", \"domain\": [0.0, \"70e-6\"]}], \"height\": 560, \"width\": 120, \"marks\": [{\"from\": {\"data\": \"contour_data0\"}, \"type\": \"line\", \"properties\": {\"enter\": {\"y\": {\"scale\": \"y\", \"field\": \"y\"}, \"stroke\": {\"value\": \"steelblue\"}, \"x\": {\"scale\": \"x\", \"field\": \"x\"}}}}], \"axes\": [{\"scale\": \"x\", \"type\": \"x\"}, {\"scale\": \"y\", \"type\": \"y\"}], \"data\": [{\"name\": \"contour_data0\", \"values\": [{\"y\": 6.070371811093155e-05, \"x\": 4.4800000000000005e-05}, {\"y\": 6.0703724473059544e-05, \"x\": 4.424e-05}, {\"y\": 6.070372870240461e-05, \"x\": 4.368e-05}, {\"y\": 6.070373117623936e-05, \"x\": 4.312e-05}, {\"y\": 6.0703732489639085e-05, \"x\": 4.2560000000000006e-05}, {\"y\": 6.0703732692357576e-05, \"x\": 4.2000000000000004e-05}, {\"y\": 6.070373183415355e-05, \"x\": 4.144e-05}, {\"y\": 6.070372996480341e-05, \"x\": 4.088e-05}, {\"y\": 6.070372715644128e-05, \"x\": 4.032e-05}, {\"y\": 6.070372385456077e-05, \"x\": 3.9760000000000006e-05}, {\"y\": 6.070371714559082e-05, \"x\": 3.9200000000000004e-05}, {\"y\": 6.07037131282265e-05, \"x\": 3.864e-05}, {\"y\": 6.070371384200504e-05, \"x\": 3.808e-05}, {\"y\": 6.070371576588559e-05, \"x\": 3.752e-05}, {\"y\": 6.0703717707159414e-05, \"x\": 3.6960000000000005e-05}, {\"y\": 6.0703718059238085e-05, \"x\": 3.6400000000000004e-05}, {\"y\": 6.070371756894328e-05, \"x\": 3.584e-05}, {\"y\": 6.0703715907019794e-05, \"x\": 3.528e-05}, {\"y\": 6.0703715075031514e-05, \"x\": 3.472e-05}, {\"y\": 6.070371514926468e-05, \"x\": 3.4160000000000005e-05}, {\"y\": 6.0703716526831396e-05, \"x\": 3.3600000000000004e-05}, {\"y\": 6.070371961904548e-05, \"x\": 3.304e-05}, {\"y\": 6.0703720418333446e-05, \"x\": 3.248e-05}, {\"y\": 6.070372017674959e-05, \"x\": 3.192e-05}, {\"y\": 6.070371919065667e-05, \"x\": 3.1360000000000005e-05}, {\"y\": 6.0703718121178304e-05, \"x\": 3.08e-05}, {\"y\": 6.070371791327652e-05, \"x\": 3.0240000000000002e-05}, {\"y\": 6.0703718068823435e-05, \"x\": 2.968e-05}, {\"y\": 6.070371868601148e-05, \"x\": 2.9120000000000002e-05}, {\"y\": 6.070371879861594e-05, \"x\": 2.856e-05}, {\"y\": 6.0703717665509104e-05, \"x\": 2.8000000000000003e-05}, {\"y\": 6.070371703730814e-05, \"x\": 2.744e-05}, {\"y\": 6.070371737560051e-05, \"x\": 2.688e-05}, {\"y\": 6.070371777916124e-05, \"x\": 2.6320000000000002e-05}, {\"y\": 6.0703718332057876e-05, \"x\": 2.576e-05}, {\"y\": 6.070372148817597e-05, \"x\": 2.5200000000000003e-05}, {\"y\": 6.0703723809317805e-05, \"x\": 2.464e-05}, {\"y\": 6.0703720375315794e-05, \"x\": 2.4080000000000003e-05}, {\"y\": 6.070371326743585e-05, \"x\": 2.3520000000000002e-05}, {\"y\": 6.0703714972544695e-05, \"x\": 2.296e-05}, {\"y\": 6.07037179506348e-05, \"x\": 2.2400000000000002e-05}, {\"y\": 6.070371659084875e-05, \"x\": 2.184e-05}, {\"y\": 6.0703712159121e-05, \"x\": 2.1280000000000003e-05}, {\"y\": 6.0703714272991656e-05, \"x\": 2.072e-05}, {\"y\": 6.07037235019547e-05, \"x\": 2.016e-05}, {\"y\": 6.070372286248767e-05, \"x\": 1.9600000000000002e-05}, {\"y\": 6.070371840923468e-05, \"x\": 1.904e-05}, {\"y\": 6.070371792045788e-05, \"x\": 1.8480000000000003e-05}, {\"y\": 6.0703720909509556e-05, \"x\": 1.792e-05}, {\"y\": 6.070371394393463e-05, \"x\": 1.736e-05}, {\"y\": 6.0703713344625304e-05, \"x\": 1.6800000000000002e-05}, {\"y\": 6.070372009041689e-05, \"x\": 1.624e-05}, {\"y\": 6.070371845084756e-05, \"x\": 1.5680000000000002e-05}, {\"y\": 6.0703718755661215e-05, \"x\": 1.5120000000000001e-05}, {\"y\": 6.070372084704709e-05, \"x\": 1.4560000000000001e-05}, {\"y\": 6.070371343313907e-05, \"x\": 1.4000000000000001e-05}, {\"y\": 6.0703717602122186e-05, \"x\": 1.344e-05}, {\"y\": 6.070371019484089e-05, \"x\": 1.288e-05}, {\"y\": 6.070373104157427e-05, \"x\": 1.232e-05}, {\"y\": 6.0703719958600425e-05, \"x\": 1.1760000000000001e-05}, {\"y\": 6.0703635925418584e-05, \"x\": 1.1200000000000001e-05}, {\"y\": 6.070402437067901e-05, \"x\": 1.0640000000000001e-05}, {\"y\": 6.0702612761171443e-05, \"x\": 1.008e-05}, {\"y\": 6.0705106447269336e-05, \"x\": 9.52e-06}, {\"y\": 6.069866258456545e-05, \"x\": 8.96e-06}, {\"y\": 6.072323379792617e-05, \"x\": 8.400000000000001e-06}, {\"y\": 6.0480000000000004e-05, \"x\": 7.913557878941262e-06}, {\"y\": 6.005152406132955e-05, \"x\": 7.840000000000001e-06}, {\"y\": 5.992e-05, \"x\": 7.828996082998912e-06}, {\"y\": 5.950787858894138e-05, \"x\": 7.840000000000001e-06}, {\"y\": 5.936e-05, \"x\": 7.843995501479962e-06}, {\"y\": 5.8800000000000006e-05, \"x\": 7.841739457223453e-06}, {\"y\": 5.8240000000000005e-05, \"x\": 7.84148915920878e-06}, {\"y\": 5.7680000000000003e-05, \"x\": 7.841477595792389e-06}, {\"y\": 5.712e-05, \"x\": 7.841526441017644e-06}, {\"y\": 5.656e-05, \"x\": 7.841514734610185e-06}, {\"y\": 5.6000000000000006e-05, \"x\": 7.841537979240485e-06}, {\"y\": 5.5440000000000005e-05, \"x\": 7.841391501696266e-06}, {\"y\": 5.488e-05, \"x\": 7.841454748862318e-06}, {\"y\": 5.432e-05, \"x\": 7.841607857207592e-06}, {\"y\": 5.376e-05, \"x\": 7.841416633934795e-06}, {\"y\": 5.3200000000000006e-05, \"x\": 7.841500199674373e-06}, {\"y\": 5.2640000000000004e-05, \"x\": 7.841438710885016e-06}, {\"y\": 5.208e-05, \"x\": 7.841597649388497e-06}, {\"y\": 5.152e-05, \"x\": 7.841399920631672e-06}, {\"y\": 5.096000000000001e-05, \"x\": 7.841450082655412e-06}, {\"y\": 5.0400000000000005e-05, \"x\": 7.841505678782554e-06}, {\"y\": 4.9840000000000004e-05, \"x\": 7.841456964749828e-06}, {\"y\": 4.928e-05, \"x\": 7.841456128635032e-06}, {\"y\": 4.872e-05, \"x\": 7.841451778684655e-06}, {\"y\": 4.8160000000000006e-05, \"x\": 7.841611131549824e-06}, {\"y\": 4.7600000000000005e-05, \"x\": 7.841438625975227e-06}, {\"y\": 4.7040000000000004e-05, \"x\": 7.841478451235797e-06}, {\"y\": 4.648e-05, \"x\": 7.841551430634436e-06}, {\"y\": 4.592e-05, \"x\": 7.841434064268317e-06}, {\"y\": 4.5360000000000006e-05, \"x\": 7.84148868907289e-06}, {\"y\": 4.4800000000000005e-05, \"x\": 7.841559985470974e-06}, {\"y\": 4.424e-05, \"x\": 7.841480081740742e-06}, {\"y\": 4.368e-05, \"x\": 7.84143073914373e-06}, {\"y\": 4.312e-05, \"x\": 7.841487487189169e-06}, {\"y\": 4.2560000000000006e-05, \"x\": 7.841458302688533e-06}, {\"y\": 4.2000000000000004e-05, \"x\": 7.841503325420559e-06}, {\"y\": 4.144e-05, \"x\": 7.841489377620193e-06}, {\"y\": 4.088e-05, \"x\": 7.841518315046944e-06}, {\"y\": 4.032e-05, \"x\": 7.841466529559294e-06}, {\"y\": 3.9760000000000006e-05, \"x\": 7.841507741694856e-06}, {\"y\": 3.9200000000000004e-05, \"x\": 7.841354367166985e-06}, {\"y\": 3.864e-05, \"x\": 7.841508340566611e-06}, {\"y\": 3.808e-05, \"x\": 7.841496282872723e-06}, {\"y\": 3.752e-05, \"x\": 7.841594701101366e-06}, {\"y\": 3.6960000000000005e-05, \"x\": 7.841449313166971e-06}, {\"y\": 3.6400000000000004e-05, \"x\": 7.841465025099525e-06}, {\"y\": 3.584e-05, \"x\": 7.84142342054721e-06}, {\"y\": 3.528e-05, \"x\": 7.841489954961236e-06}, {\"y\": 3.472e-05, \"x\": 7.841535955668016e-06}, {\"y\": 3.4160000000000005e-05, \"x\": 7.841443515792184e-06}, {\"y\": 3.3600000000000004e-05, \"x\": 7.841421746341538e-06}, {\"y\": 3.304e-05, \"x\": 7.841570879271088e-06}, {\"y\": 3.248e-05, \"x\": 7.841436995004683e-06}, {\"y\": 3.192e-05, \"x\": 7.84143073013314e-06}, {\"y\": 3.1360000000000005e-05, \"x\": 7.841607936820634e-06}, {\"y\": 3.08e-05, \"x\": 7.841440633356833e-06}, {\"y\": 3.0240000000000002e-05, \"x\": 7.841517906026262e-06}, {\"y\": 2.968e-05, \"x\": 7.841413445198335e-06}, {\"y\": 2.9120000000000002e-05, \"x\": 7.841506626870854e-06}, {\"y\": 2.856e-05, \"x\": 7.841554889778723e-06}, {\"y\": 2.8000000000000003e-05, \"x\": 7.841391186675766e-06}, {\"y\": 2.744e-05, \"x\": 7.84138293829514e-06}, {\"y\": 2.688e-05, \"x\": 7.841555381892046e-06}, {\"y\": 2.6320000000000002e-05, \"x\": 7.841501051771427e-06}, {\"y\": 2.576e-05, \"x\": 7.841441644223954e-06}, {\"y\": 2.5200000000000003e-05, \"x\": 7.841511865825088e-06}, {\"y\": 2.464e-05, \"x\": 7.841556791349023e-06}, {\"y\": 2.4080000000000003e-05, \"x\": 7.841505138554896e-06}, {\"y\": 2.3520000000000002e-05, \"x\": 7.841358254872396e-06}, {\"y\": 2.296e-05, \"x\": 7.841463450849427e-06}, {\"y\": 2.2400000000000002e-05, \"x\": 7.841530990273588e-06}, {\"y\": 2.184e-05, \"x\": 7.841500942728235e-06}, {\"y\": 2.1280000000000003e-05, \"x\": 7.841496407868794e-06}, {\"y\": 2.072e-05, \"x\": 7.841515430851439e-06}, {\"y\": 2.016e-05, \"x\": 7.841453841596282e-06}, {\"y\": 1.9600000000000002e-05, \"x\": 7.841474649032933e-06}, {\"y\": 1.904e-05, \"x\": 7.841458486342294e-06}, {\"y\": 1.8480000000000003e-05, \"x\": 7.84147809616147e-06}, {\"y\": 1.792e-05, \"x\": 7.841485283596055e-06}, {\"y\": 1.736e-05, \"x\": 7.841467954325825e-06}, {\"y\": 1.6800000000000002e-05, \"x\": 7.841449190863286e-06}, {\"y\": 1.624e-05, \"x\": 7.841513128553338e-06}, {\"y\": 1.5680000000000002e-05, \"x\": 7.841472753933885e-06}, {\"y\": 1.5120000000000001e-05, \"x\": 7.841558692854524e-06}, {\"y\": 1.4560000000000001e-05, \"x\": 7.841457981093323e-06}, {\"y\": 1.4000000000000001e-05, \"x\": 7.841451753181382e-06}, {\"y\": 1.344e-05, \"x\": 7.84146335388543e-06}, {\"y\": 1.288e-05, \"x\": 7.841492795208306e-06}, {\"y\": 1.232e-05, \"x\": 7.84148540466752e-06}, {\"y\": 1.1760000000000001e-05, \"x\": 7.841492858670286e-06}, {\"y\": 1.1200000000000001e-05, \"x\": 7.841482097474739e-06}, {\"y\": 1.0640000000000001e-05, \"x\": 7.841469113226717e-06}, {\"y\": 1.008e-05, \"x\": 7.841440494256307e-06}, {\"y\": 9.52e-06, \"x\": 7.841499570395797e-06}, {\"y\": 8.96e-06, \"x\": 7.841486105975937e-06}, {\"y\": 8.400000000000001e-06, \"x\": 7.841418929452255e-06}, {\"y\": 7.840000000000001e-06, \"x\": 7.841444657785827e-06}, {\"y\": 7.280000000000001e-06, \"x\": 7.840945437442901e-06}, {\"y\": 6.72e-06, \"x\": 7.840453791957436e-06}, {\"y\": 6.16e-06, \"x\": 7.846848805324437e-06}, {\"y\": 5.600000000000001e-06, \"x\": 7.872664631266437e-06}, {\"y\": 5.463832435730211e-06, \"x\": 7.840000000000001e-06}, {\"y\": 5.04e-06, \"x\": 7.6135659231611535e-06}, {\"y\": 4.891110047606661e-06, \"x\": 7.280000000000001e-06}, {\"y\": 4.919861022474267e-06, \"x\": 6.72e-06}, {\"y\": 4.920853435677365e-06, \"x\": 6.16e-06}, {\"y\": 4.921215623507119e-06, \"x\": 5.600000000000001e-06}, {\"y\": 4.920259735063007e-06, \"x\": 5.04e-06}, {\"y\": 4.920824976590991e-06, \"x\": 4.48e-06}, {\"y\": 4.916943789513085e-06, \"x\": 3.920000000000001e-06}, {\"y\": 4.904266280736246e-06, \"x\": 3.36e-06}, {\"y\": 5.04e-06, \"x\": 2.867027688842751e-06}, {\"y\": 5.10943781837151e-06, \"x\": 2.8000000000000003e-06}, {\"y\": 5.600000000000001e-06, \"x\": 2.668559496512676e-06}, {\"y\": 6.16e-06, \"x\": 2.685951965503859e-06}, {\"y\": 6.72e-06, \"x\": 2.6882623782045333e-06}, {\"y\": 7.280000000000001e-06, \"x\": 2.688188150364671e-06}, {\"y\": 7.840000000000001e-06, \"x\": 2.687944487441974e-06}, {\"y\": 8.400000000000001e-06, \"x\": 2.6878572511615116e-06}, {\"y\": 8.96e-06, \"x\": 2.687824572650471e-06}, {\"y\": 9.52e-06, \"x\": 2.687956224033037e-06}, {\"y\": 1.008e-05, \"x\": 2.6878446338276998e-06}, {\"y\": 1.0640000000000001e-05, \"x\": 2.6878374351333936e-06}, {\"y\": 1.1200000000000001e-05, \"x\": 2.6878540161839038e-06}, {\"y\": 1.1760000000000001e-05, \"x\": 2.6878277111280474e-06}, {\"y\": 1.232e-05, \"x\": 2.687829685800232e-06}, {\"y\": 1.288e-05, \"x\": 2.6878401770160367e-06}, {\"y\": 1.344e-05, \"x\": 2.687861819110741e-06}, {\"y\": 1.4000000000000001e-05, \"x\": 2.6878529198689873e-06}, {\"y\": 1.4560000000000001e-05, \"x\": 2.6878573729263356e-06}, {\"y\": 1.5120000000000001e-05, \"x\": 2.6878304246964357e-06}, {\"y\": 1.5680000000000002e-05, \"x\": 2.687916014297849e-06}, {\"y\": 1.624e-05, \"x\": 2.687876636534844e-06}, {\"y\": 1.6800000000000002e-05, \"x\": 2.6878335660247777e-06}, {\"y\": 1.736e-05, \"x\": 2.687773137345525e-06}, {\"y\": 1.792e-05, \"x\": 2.687888766124441e-06}, {\"y\": 1.8480000000000003e-05, \"x\": 2.687851535358623e-06}, {\"y\": 1.904e-05, \"x\": 2.687793831661328e-06}, {\"y\": 1.9600000000000002e-05, \"x\": 2.687848376694147e-06}, {\"y\": 2.016e-05, \"x\": 2.687910977655045e-06}, {\"y\": 2.072e-05, \"x\": 2.6878134818427796e-06}, {\"y\": 2.1280000000000003e-05, \"x\": 2.6877833368203815e-06}, {\"y\": 2.184e-05, \"x\": 2.6878953653398632e-06}, {\"y\": 2.2400000000000002e-05, \"x\": 2.6877810566054047e-06}, {\"y\": 2.296e-05, \"x\": 2.687884713360534e-06}, {\"y\": 2.3520000000000002e-05, \"x\": 2.687867119051451e-06}, {\"y\": 2.4080000000000003e-05, \"x\": 2.6878407900925234e-06}, {\"y\": 2.464e-05, \"x\": 2.6878074414237165e-06}, {\"y\": 2.5200000000000003e-05, \"x\": 2.687809590819864e-06}, {\"y\": 2.576e-05, \"x\": 2.687835607253518e-06}, {\"y\": 2.6320000000000002e-05, \"x\": 2.6877859837799996e-06}, {\"y\": 2.688e-05, \"x\": 2.6878190462453157e-06}, {\"y\": 2.744e-05, \"x\": 2.687844774418336e-06}, {\"y\": 2.8000000000000003e-05, \"x\": 2.687862080448979e-06}, {\"y\": 2.856e-05, \"x\": 2.687848430523999e-06}, {\"y\": 2.9120000000000002e-05, \"x\": 2.6879100863676696e-06}, {\"y\": 2.968e-05, \"x\": 2.6877874621688505e-06}, {\"y\": 3.0240000000000002e-05, \"x\": 2.687877728526234e-06}, {\"y\": 3.08e-05, \"x\": 2.687829167242271e-06}, {\"y\": 3.1360000000000005e-05, \"x\": 2.6878527316356134e-06}, {\"y\": 3.192e-05, \"x\": 2.6877533091518957e-06}, {\"y\": 3.248e-05, \"x\": 2.687828308747398e-06}, {\"y\": 3.304e-05, \"x\": 2.6879334644075855e-06}, {\"y\": 3.3600000000000004e-05, \"x\": 2.687778968710934e-06}, {\"y\": 3.4160000000000005e-05, \"x\": 2.687882549655502e-06}, {\"y\": 3.472e-05, \"x\": 2.687815283308338e-06}, {\"y\": 3.528e-05, \"x\": 2.6879137124933864e-06}, {\"y\": 3.584e-05, \"x\": 2.6878013569913934e-06}, {\"y\": 3.6400000000000004e-05, \"x\": 2.6878173383811868e-06}, {\"y\": 3.6960000000000005e-05, \"x\": 2.6878423319462216e-06}, {\"y\": 3.752e-05, \"x\": 2.687825099044267e-06}, {\"y\": 3.808e-05, \"x\": 2.6878262475279797e-06}, {\"y\": 3.864e-05, \"x\": 2.687843349939542e-06}, {\"y\": 3.9200000000000004e-05, \"x\": 2.687849697804046e-06}, {\"y\": 3.9760000000000006e-05, \"x\": 2.687785115760821e-06}, {\"y\": 4.032e-05, \"x\": 2.6878991526725895e-06}, {\"y\": 4.088e-05, \"x\": 2.687931108560501e-06}, {\"y\": 4.144e-05, \"x\": 2.687788413660393e-06}, {\"y\": 4.2000000000000004e-05, \"x\": 2.6879421942816906e-06}, {\"y\": 4.2560000000000006e-05, \"x\": 2.687821752241379e-06}, {\"y\": 4.312e-05, \"x\": 2.6878104425741616e-06}, {\"y\": 4.368e-05, \"x\": 2.6877391812995933e-06}, {\"y\": 4.424e-05, \"x\": 2.6878380820429384e-06}, {\"y\": 4.4800000000000005e-05, \"x\": 2.687959678195256e-06}, {\"y\": 4.5360000000000006e-05, \"x\": 2.6878206554581406e-06}, {\"y\": 4.592e-05, \"x\": 2.687889731070525e-06}, {\"y\": 4.648e-05, \"x\": 2.6878447145262236e-06}, {\"y\": 4.7040000000000004e-05, \"x\": 2.6878111142432617e-06}, {\"y\": 4.7600000000000005e-05, \"x\": 2.6878671834629897e-06}, {\"y\": 4.8160000000000006e-05, \"x\": 2.687798004405921e-06}, {\"y\": 4.872e-05, \"x\": 2.687848034794153e-06}, {\"y\": 4.928e-05, \"x\": 2.687842511001876e-06}, {\"y\": 4.9840000000000004e-05, \"x\": 2.6878308745573116e-06}, {\"y\": 5.0400000000000005e-05, \"x\": 2.687873628938917e-06}, {\"y\": 5.096000000000001e-05, \"x\": 2.6878229063309576e-06}, {\"y\": 5.152e-05, \"x\": 2.6878506478640985e-06}, {\"y\": 5.208e-05, \"x\": 2.687821539139648e-06}, {\"y\": 5.2640000000000004e-05, \"x\": 2.6878076723143642e-06}, {\"y\": 5.3200000000000006e-05, \"x\": 2.6878307747797154e-06}, {\"y\": 5.376e-05, \"x\": 2.6878291203708366e-06}, {\"y\": 5.432e-05, \"x\": 2.6878623535133763e-06}, {\"y\": 5.488e-05, \"x\": 2.6877481096056684e-06}, {\"y\": 5.5440000000000005e-05, \"x\": 2.6878765509841803e-06}, {\"y\": 5.6000000000000006e-05, \"x\": 2.687817556650113e-06}, {\"y\": 5.656e-05, \"x\": 2.6878908981658706e-06}, {\"y\": 5.712e-05, \"x\": 2.687821939483896e-06}, {\"y\": 5.7680000000000003e-05, \"x\": 2.687828818971633e-06}, {\"y\": 5.8240000000000005e-05, \"x\": 2.68790137715005e-06}, {\"y\": 5.8800000000000006e-05, \"x\": 2.687716163951728e-06}, {\"y\": 5.936e-05, \"x\": 2.6894617598414007e-06}, {\"y\": 5.992e-05, \"x\": 2.690704633991655e-06}, {\"y\": 6.0480000000000004e-05, \"x\": 2.5739490096068693e-06}, {\"y\": 6.070742696916897e-05, \"x\": 2.24e-06}, {\"y\": 6.070617691529186e-05, \"x\": 1.68e-06}, {\"y\": 6.070362612683734e-05, \"x\": 1.12e-06}, {\"y\": 6.070279422727329e-05, \"x\": 5.6e-07}, {\"y\": 6.070379688989552e-05, \"x\": 0.0}], \"transform\": [{\"test\": \"datum.x < 15e-6\", \"type\": \"filter\"}]}]};\n",
       "var selector = \"#ff7e8ff6-bd44-4e6b-b133-abb189a86eb4\";\n",
       "var type = \"vega\";\n",
       "\n",
       "var output_area = this;\n",
       "require(['nbextensions/jupyter-vega/index'], function(vega) {\n",
       "  vega.render(selector, spec, type, output_area);\n",
       "}, function (err) {\n",
       "  if (err.requireType !== 'scripterror') {\n",
       "    throw(err);\n",
       "  }\n",
       "});\n"
      ]
     },
     "metadata": {
      "jupyter-vega": "#ff7e8ff6-bd44-4e6b-b133-abb189a86eb4"
     },
     "output_type": "display_data"
    },
    {
     "data": {
      "image/png": "[encoded data removed]"
     },
     "metadata": {
      "jupyter-vega": "#ff7e8ff6-bd44-4e6b-b133-abb189a86eb4"
     },
     "output_type": "display_data"
    }
   ],
   "source": [
    "# NBVAL_IGNORE_OUTPUT\n",
    "out"
   ]
  },
  {
   "cell_type": "code",
   "execution_count": null,
   "metadata": {
    "collapsed": true
   },
   "outputs": [],
   "source": []
  }
 ],
 "metadata": {
  "anaconda-cloud": {},
  "kernelspec": {
   "display_name": "Python 3",
   "language": "python",
   "name": "python3"
  },
  "language_info": {
   "codemirror_mode": {
    "name": "ipython",
    "version": 3
   },
   "file_extension": ".py",
   "mimetype": "text/x-python",
   "name": "python",
   "nbconvert_exporter": "python",
   "pygments_lexer": "ipython3",
   "version": "3.5.2"
  }
 },
 "nbformat": 4,
 "nbformat_minor": 1
}
