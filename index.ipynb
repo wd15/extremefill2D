{
 "cells": [
  {
   "cell_type": "markdown",
   "metadata": {},
   "source": [
    "# Extreme Fill 2D Example"
   ]
  },
  {
   "cell_type": "code",
   "execution_count": 1,
   "metadata": {
    "collapsed": false
   },
   "outputs": [],
   "source": [
    "from collections import namedtuple\n",
    "from toolz.curried import map, pipe, compose, get, do, curry, count, pluck, juxt, flip\n",
    "from extremefill2D.systems import ExtremeFillSystem\n",
    "from extremefill2D.tools import WriteCupricData\n",
    "import shutil\n",
    "from extremefill2D.contourViewer import ContourViewer\n",
    "import numpy as np\n",
    "import json\n",
    "import os"
   ]
  },
  {
   "cell_type": "code",
   "execution_count": 8,
   "metadata": {
    "collapsed": false
   },
   "outputs": [
    {
     "data": {
      "image/png": "[encoded data removed]",
      "text/plain": [
       "<matplotlib.figure.Figure at 0x7fd8405d4c50>"
      ]
     },
     "metadata": {},
     "output_type": "display_data"
    }
   ],
   "source": [
    "def fcompose(*args):\n",
    "    return compose(*args[::-1])\n",
    "\n",
    "def make_object(dict_):\n",
    "    return namedtuple(\"ParamClass\", dict_.keys())(*dict_.values())\n",
    "\n",
    "def run(params):\n",
    "    return ExtremeFillSystem(\n",
    "        params,\n",
    "        WriteCupricData(params.datafile),\n",
    "    ).run(print_data=False)\n",
    "\n",
    "def read_params(jsonfile):\n",
    "    with open(jsonfile, 'r') as filepointer:\n",
    "        dict_ = json.load(filepointer)\n",
    "    return dict_\n",
    "\n",
    "def contour_plot(args):\n",
    "    datafile, params = args\n",
    "    viewer = ContourViewer(datafile, indexJump=params.data_frequency, featureDepth=56e-6)\n",
    "    return viewer.plot(indices=np.arange(0, params.totalSteps, params.data_frequency))\n",
    "\n",
    "def copy_file(params):\n",
    "    tmp = 'tmp.h5'\n",
    "    shutil.copy(params.datafile, 'tmp.h5')\n",
    "    return (tmp, params)\n",
    "\n",
    "def main(jsonfile, datafile='data.h5', **extra_params):\n",
    "    return pipe(\n",
    "        jsonfile,\n",
    "        read_params,\n",
    "        lambda json_params: {'datafile' : datafile,\n",
    "                             **json_params,\n",
    "                             **extra_params},\n",
    "        make_object,\n",
    "        do(lambda x: os.remove(x.datafile) if os.path.exists(x.datafile) else None),\n",
    "        do(run),\n",
    "        copy_file,\n",
    "        contour_plot)\n",
    "\n",
    "_ = main('scripts/params.json', totalSteps=300, data_frequency=30)\n"
   ]
  }
 ],
 "metadata": {
  "anaconda-cloud": {},
  "kernelspec": {
   "display_name": "Python [conda env:extreme]",
   "language": "python",
   "name": "conda-env-extreme-py"
  },
  "language_info": {
   "codemirror_mode": {
    "name": "ipython",
    "version": 3
   },
   "file_extension": ".py",
   "mimetype": "text/x-python",
   "name": "python",
   "nbconvert_exporter": "python",
   "pygments_lexer": "ipython3",
   "version": "3.5.2"
  }
 },
 "nbformat": 4,
 "nbformat_minor": 1
}
