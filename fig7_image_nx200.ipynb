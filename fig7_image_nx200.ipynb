{
 "metadata": {
  "name": "fig7_image_nx200"
 },
 "nbformat": 3,
 "nbformat_minor": 0,
 "worksheets": [
  {
   "cells": [
    {
     "cell_type": "code",
     "collapsed": false,
     "input": [
      "%load_ext autoreload\n",
      "%autoreload 2\n",
      "from tools import getSMTRecords, smt_ipy_table\n",
      "records = getSMTRecords(tags=['annular60'])"
     ],
     "language": "python",
     "metadata": {},
     "outputs": [
      {
       "output_type": "stream",
       "stream": "stdout",
       "text": [
        "Created Django record store using PostgreSQL\n"
       ]
      }
     ],
     "prompt_number": 1
    },
    {
     "cell_type": "code",
     "collapsed": false,
     "input": [
      "print len(records)"
     ],
     "language": "python",
     "metadata": {},
     "outputs": [
      {
       "output_type": "stream",
       "stream": "stdout",
       "text": [
        "332\n"
       ]
      }
     ],
     "prompt_number": 2
    },
    {
     "cell_type": "code",
     "collapsed": false,
     "input": [
      "%load_ext autoreload\n",
      "%autoreload 4\n",
      "from featureProperty import FeatureProperty\n",
      "\n",
      "void_size = []\n",
      "height = []\n",
      "suppressor = []\n",
      "potential = []\n",
      "\n",
      "for r in records:\n",
      "    if len(r.output_data) > 0:\n",
      "        fp = FeatureProperty(r)\n",
      "        void_size.append(fp.getVoidSize())\n",
      "        height.append(fp.getHeight())\n",
      "        fp.close()\n",
      "        suppressor.append(r.parameters['bulkSuppressor'])\n",
      "        potential.append(r.parameters['appliedPotential'])\n",
      "    \n",
      "void_size = np.array(void_size)\n",
      "height = np.array(height)\n",
      "suppressor = np.array(suppressor)\n",
      "potential = np.array(potential)\n",
      "\n",
      "mask = (suppressor > 0.1) & (potential > -0.1)\n",
      "\n",
      "height[mask] = 0.0"
     ],
     "language": "python",
     "metadata": {},
     "outputs": [],
     "prompt_number": 3
    },
    {
     "cell_type": "code",
     "collapsed": false,
     "input": [
      "import pandas as pd\n",
      "\n",
      "df = pd.DataFrame({'suppressor' : suppressor, 'potential' : potential, 'void_size' : void_size, 'height' : height})"
     ],
     "language": "python",
     "metadata": {},
     "outputs": [],
     "prompt_number": 4
    },
    {
     "cell_type": "code",
     "collapsed": false,
     "input": [
      "import matplotlib as mpl\n",
      "from matplotlib.mlab import griddata\n",
      "import prettyplotlib as ppl\n",
      "import brewer2mpl\n",
      "\n",
      "almost_black = '#262626'\n",
      "\n",
      "\n",
      "# Another ColorBrewer scale. This one has nice \"traditional\" colors like\n",
      "# reds and blues\n",
      "set1 = brewer2mpl.get_map('Set1', 'qualitative', 9).mpl_colors\n",
      "set2 = brewer2mpl.get_map('Set2', 'qualitative', 8).mpl_colors\n",
      "mpl.rcParams['axes.color_cycle'] = set2\n",
      "\n",
      "\n",
      "# Set some commonly used colors\n",
      "almost_black = '#262626'\n",
      "light_grey = np.array([float(248) / float(255)] * 3)\n",
      "\n",
      "reds = mpl.cm.Reds\n",
      "reds.set_bad('white')\n",
      "reds.set_under('white')\n",
      "\n",
      "blues_r = mpl.cm.Blues_r\n",
      "blues_r.set_bad('white')\n",
      "blues_r.set_under('white')\n",
      "    \n",
      "# Need to 'reverse' red to blue so that blue=cold=small numbers,\n",
      "# and red=hot=large numbers with '_r' suffix\n",
      "blue_red = brewer2mpl.get_map('RdBu', 'Diverging', 11,\n",
      "                              reverse=True).mpl_colormap\n",
      "map1 = brewer2mpl.get_map('Set1', 'qualitative', 9).mpl_colormap\n",
      "map2 = brewer2mpl.get_map('Set2', 'qualitative', 8).mpl_colormap\n",
      "\n",
      "# Default \"patches\" like scatterplots\n",
      "mpl.rcParams['patch.linewidth'] = 0.75     # edge width in points\n",
      "\n",
      "# Default empty circle with a colored outline\n",
      "mpl.rcParams['patch.facecolor'] = 'none'\n",
      "mpl.rcParams['patch.edgecolor'] = set2[0]\n",
      "\n",
      "# Change the default axis colors from black to a slightly lighter black,\n",
      "# and a little thinner (0.5 instead of 1)\n",
      "mpl.rcParams['axes.edgecolor'] = almost_black\n",
      "mpl.rcParams['axes.labelcolor'] = almost_black\n",
      "mpl.rcParams['axes.linewidth'] = 0.5\n",
      "\n",
      "# Make the default grid be white so it \"removes\" lines rather than adds\n",
      "mpl.rcParams['grid.color'] = 'white'\n",
      "\n",
      "# change the tick colors also to the almost black\n",
      "mpl.rcParams['ytick.color'] = almost_black\n",
      "mpl.rcParams['xtick.color'] = almost_black\n",
      "\n",
      "# change the text colors also to the almost black\n",
      "mpl.rcParams['text.color'] = almost_black\n",
      "\n",
      "\n",
      "titlefontsize = 16\n",
      "fontdict = {'fontsize' : 18}\n",
      "tickfontsize = 16\n",
      "Ngrid = 1000\n",
      "clevels = 11\n",
      "\n",
      "xi = np.log10(2 * np.logspace(-3, -1, Ngrid))\n",
      "yi = np.log10(2.5 * np.logspace(-2, 0, Ngrid))\n",
      "\n",
      "x = np.log10(df.suppressor)\n",
      "y = np.log10(-df.potential)\n",
      "\n",
      "yi = yi[yi < np.amax(y)]\n",
      "\n",
      "#zi = griddata((x, y), z, (xi[None,:], yi[:,None]), method='cubic')\n",
      "zi_void = griddata(x, y, np.array(df.void_size), xi, yi)\n",
      "zi_height = griddata(x, y, np.array(df.height), xi, yi)\n",
      "\n",
      "fig = plt.figure(figsize=(15, 6), dpi=200)\n",
      "\n",
      "xlabelstring = r'$C_{\\text{Supp}}$ $\\left(\\mole\\per\\power{\\metre}{3}\\right)$'\n",
      "ylabelstring = r'$-E_{\\text{App}}$ $\\left(\\volt\\right)$'\n",
      "\n",
      "ax1 = fig.add_subplot(1, 3, 2)\n",
      "ax1.contourf(10**xi, 10**yi, zi_void, np.linspace(0, 1, clevels), cmap=blue_red)\n",
      "ax1.set_xlabel(xlabelstring, fontdict=fontdict, color=almost_black)\n",
      "\n",
      "ax2 = fig.add_subplot(1, 3, 1)\n",
      "ax2.contourf(10**xi, 10**yi, zi_height, np.linspace(0, 1, clevels), cmap=blue_red)\n",
      "ax2.set_ylabel(ylabelstring, fontdict=fontdict, color=almost_black)\n",
      "\n",
      "ax3 = fig.add_subplot(1, 3, 3)\n",
      "a = ax3.contourf(10**xi, 10**yi, zi_height - zi_void, np.linspace(0, 1, clevels), cmap=blue_red)\n",
      "\n",
      "for ax, title in zip((ax1, ax2, ax3), ('b', 'a', 'c')):\n",
      "    ax.text(0.5, 1.01, r'$\\text{{({0})}}$'.format(title),\n",
      "            horizontalalignment='center',\n",
      "            fontsize=titlefontsize,\n",
      "            transform = ax.transAxes, color=almost_black)\n",
      "    ax.tick_params(axis='both', which='major', labelsize=tickfontsize)\n",
      "    ax.tick_params(axis='both', which='minor', labelsize=tickfontsize)\n",
      "    ax.set_xscale('log')\n",
      "    ax.set_yscale('log')\n",
      "    if ax in (ax1, ax3):\n",
      "        ax.set_yticklabels([r''] * len(ax.get_yticks()))\n",
      "    ppl.remove_chartjunk(ax, ['top', 'right'])\n",
      "    ax.plot((0.02,), (0.25,), 'ko', mec='k', ms=10)\n",
      "    ax.plot((0.01,), (0.2,), 'ko', mec='k', ms=10)\n",
      "    \n",
      "## colorbar\n",
      "from mpl_toolkits.axes_grid1 import make_axes_locatable\n",
      "divider = make_axes_locatable(ax3)\n",
      "cax = divider.append_axes(\"right\", size=\"5%\", pad=0.05)\n",
      "cb = plt.colorbar(a, cax=cax, ticks=(0, 0.2, 0.4, 0.6, 0.8, 1))\n",
      "cb.ax.tick_params(labelsize=14) \n",
      "for t in cb.ax.get_yticklabels():\n",
      "    t.set_color(almost_black)\n",
      "\n",
      "plt.tight_layout()\n",
      "plt.savefig(\"fig7_nx200.png\")"
     ],
     "language": "python",
     "metadata": {},
     "outputs": [
      {
       "output_type": "display_data",
       "png": "[encoded data removed]"
      }
     ],
     "prompt_number": 5
    },
    {
     "cell_type": "code",
     "collapsed": false,
     "input": [],
     "language": "python",
     "metadata": {},
     "outputs": []
    }
   ],
   "metadata": {}
  }
 ]
}