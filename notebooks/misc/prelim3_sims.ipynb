{
 "cells": [
  {
   "cell_type": "markdown",
   "metadata": {
    "collapsed": true
   },
   "source": [
    "#  Preliminary 3 Simulations\n",
    "\n",
    "Rerun some simulations from the paper."
   ]
  },
  {
   "cell_type": "code",
   "execution_count": 1,
   "metadata": {
    "collapsed": true
   },
   "outputs": [],
   "source": [
    "from distributed import LocalCluster\n",
    "from distributed import Client\n",
    "from extremefill2D.fextreme import init_sim, restart_sim, iterate_sim, multi_init_sim\n",
    "from extremefill2D.fextreme.plot import vega_plot_treants, vega_plot_treant\n",
    "import vega\n",
    "from extremefill2D.fextreme.tools import get_by_uuid, outer_dict, pmap\n",
    "from toolz.curried import map, pipe, curry\n",
    "import itertools\n",
    "\n",
    "%reload_ext yamlmagic"
   ]
  },
  {
   "cell_type": "code",
   "execution_count": 6,
   "metadata": {
    "collapsed": false
   },
   "outputs": [
    {
     "data": {
      "text/plain": [
       "<Client: scheduler=\"127.0.0.1:8786\" processes=8 cores=8>"
      ]
     },
     "execution_count": 6,
     "metadata": {},
     "output_type": "execute_result"
    },
    {
     "name": "stderr",
     "output_type": "stream",
     "text": [
      "Exception ignored in: <generator object handle_stream at 0x7f5658c236d0>\n",
      "RuntimeError: generator ignored GeneratorExit\n",
      "Exception ignored in: <generator object handle_stream at 0x7f5658be1938>\n",
      "RuntimeError: generator ignored GeneratorExit\n",
      "Exception ignored in: <generator object handle_stream at 0x7f5658be1888>\n",
      "RuntimeError: generator ignored GeneratorExit\n"
     ]
    }
   ],
   "source": [
    "cluster = LocalCluster(nanny=True, n_workers=8, threads_per_worker=1)\n",
    "client = Client(cluster)\n",
    "client"
   ]
  },
  {
   "cell_type": "code",
   "execution_count": 7,
   "metadata": {
    "collapsed": false
   },
   "outputs": [
    {
     "data": {
      "text/plain": [
       "15.384615384615383"
      ]
     },
     "execution_count": 7,
     "metadata": {},
     "output_type": "execute_result"
    }
   ],
   "source": [
    "1. / 0.065"
   ]
  },
  {
   "cell_type": "code",
   "execution_count": 5,
   "metadata": {
    "collapsed": true
   },
   "outputs": [],
   "source": [
    "client.shutdown()"
   ]
  },
  {
   "cell_type": "code",
   "execution_count": 10,
   "metadata": {
    "collapsed": false
   },
   "outputs": [],
   "source": [
    "treants = multi_init_sim('../../scripts/params.json',\n",
    "                         '../../data',\n",
    "                         pmap(client),\n",
    "                         dict(appliedPotential=[-0.45],\n",
    "                              bulkSuppressor=[0.06],\n",
    "                              kPlus=[546.0],\n",
    "                              kMinus=[3.79e7],\n",
    "                              rBoundary=[28e-6]),\n",
    "                         tags=['prelim3a'])"
   ]
  },
  {
   "cell_type": "code",
   "execution_count": 11,
   "metadata": {
    "collapsed": false
   },
   "outputs": [
    {
     "name": "stdout",
     "output_type": "stream",
     "text": [
      "[<Treant: '8af1d0b8-47a3-4d00-b4b8-f7e5c15c5639'>]\n"
     ]
    }
   ],
   "source": [
    "print(treants)"
   ]
  },
  {
   "cell_type": "code",
   "execution_count": 12,
   "metadata": {
    "collapsed": true
   },
   "outputs": [],
   "source": [
    "treant_and_errors = pmap(client)(iterate_sim(iterations=30, steps=100), treants)"
   ]
  },
  {
   "cell_type": "code",
   "execution_count": null,
   "metadata": {
    "collapsed": true
   },
   "outputs": [],
   "source": []
  }
 ],
 "metadata": {
  "anaconda-cloud": {},
  "kernelspec": {
   "display_name": "Python [conda env:extreme]",
   "language": "python",
   "name": "conda-env-extreme-py"
  },
  "language_info": {
   "codemirror_mode": {
    "name": "ipython",
    "version": 3
   },
   "file_extension": ".py",
   "mimetype": "text/x-python",
   "name": "python",
   "nbconvert_exporter": "python",
   "pygments_lexer": "ipython3",
   "version": "3.5.2"
  }
 },
 "nbformat": 4,
 "nbformat_minor": 1
}
