{
 "cells": [
  {
   "cell_type": "markdown",
   "metadata": {
    "collapsed": true
   },
   "source": [
    "#  Preliminary 1 Simulations\n",
    "\n",
    "The code appears to be running so it is now possible to obtain some prelimiary results for the base set of paramters to investigate, $E_{\\text{APPLIED}}$=-0.16, -0.18, -0.20, -0.22, -0.24, -0.26, -0.28, -0.30; $c_{\\theta}^{\\infty}$=0.006, 0.012"
   ]
  },
  {
   "cell_type": "code",
   "execution_count": 1,
   "metadata": {
    "collapsed": true
   },
   "outputs": [],
   "source": [
    "from distributed import LocalCluster\n",
    "from distributed import Client\n",
    "from extremefill2D.fextreme import init_sim, restart_sim, iterate_sim, multi_init_sim\n",
    "from extremefill2D.fextreme.plot import vega_plot_treants, vega_plot_treant\n",
    "import vega\n",
    "from extremefill2D.fextreme.tools import get_by_uuid, outer_dict, pmap\n",
    "from toolz.curried import map, pipe, curry\n",
    "import itertools\n",
    "\n",
    "%reload_ext yamlmagic"
   ]
  },
  {
   "cell_type": "code",
   "execution_count": 2,
   "metadata": {
    "collapsed": false
   },
   "outputs": [
    {
     "data": {
      "text/plain": [
       "<Client: scheduler=\"127.0.0.1:8786\" processes=8 cores=8>"
      ]
     },
     "execution_count": 2,
     "metadata": {},
     "output_type": "execute_result"
    }
   ],
   "source": [
    "cluster = LocalCluster(nanny=True, n_workers=8, threads_per_worker=1)\n",
    "client = Client(cluster)\n",
    "client"
   ]
  },
  {
   "cell_type": "code",
   "execution_count": 6,
   "metadata": {
    "collapsed": true
   },
   "outputs": [],
   "source": [
    "client.shutdown()"
   ]
  },
  {
   "cell_type": "code",
   "execution_count": 3,
   "metadata": {
    "collapsed": false
   },
   "outputs": [],
   "source": [
    "treants1 = multi_init_sim('../../scripts/params1.json',\n",
    "                          '../../data',\n",
    "                          pmap(client),\n",
    "                          dict(appliedPotential=(-0.16, -0.18, -0.20, -0.22, -0.24, -0.26,\n",
    "                                                 -0.28, -0.30, -0.40, -0.50, -0.60, -0.70, -0.80),\n",
    "                               bulkSuppressor=(0.003,)),\n",
    "                          tags=['prelim2'])\n",
    "\n",
    "treants2 = multi_init_sim('../../scripts/params1.json',\n",
    "                          '../../data',\n",
    "                          pmap(client),\n",
    "                          dict(appliedPotential=(-0.30, -0.40, -0.50, -0.60, -0.70, -0.80),\n",
    "                               bulkSuppressor=(0.006, 0.012)),\n",
    "                          tags=['prelim2'])"
   ]
  },
  {
   "cell_type": "code",
   "execution_count": 4,
   "metadata": {
    "collapsed": false
   },
   "outputs": [
    {
     "name": "stdout",
     "output_type": "stream",
     "text": [
      "[<Treant: '0d9a570c-9d42-42d9-ac52-856d7ee50462'>, <Treant: '1b23b0b8-a78e-4ed9-9068-248faccc08b4'>, <Treant: 'e677558a-feba-4a62-a670-bad5cdc57f9c'>, <Treant: '280a1451-d2e4-4c85-ab91-76d73227eca8'>, <Treant: '80663650-6777-4d02-a02d-4caf165b97f9'>, <Treant: '1b300121-6dd9-4ea5-b33e-57435e9645c4'>, <Treant: '2e05eb8e-8d77-488c-a5b5-cf2dede0f68c'>, <Treant: '63d2cfbc-81f5-43d3-aa9e-4e4ccec8fd12'>, <Treant: '0bc89986-7cd9-4b01-89e6-984cb1ee419e'>, <Treant: '8b7eeba9-a9ec-4ffa-ae81-f00842a3b08b'>, <Treant: 'bc3cacdb-d8cb-41bf-9bad-3d633ae348c3'>, <Treant: '642c8b55-6146-4c38-bc90-04ee0f618dc2'>, <Treant: '334dee67-9f56-435e-b3d3-0c8ee256b252'>, <Treant: 'd3a85632-5bc0-4d11-af32-b24057d3fd57'>, <Treant: 'bdb08a0e-48f0-4164-886f-139da143f1d2'>, <Treant: '7153746e-de4d-484a-bef1-e0f7aa419894'>, <Treant: '950f7398-ffb3-4ecf-96e2-d19ae251c566'>, <Treant: 'b22e3837-0d08-4dc5-8a6c-84afb0f6f1b2'>, <Treant: '24365f73-0f4c-45ca-8fcb-0f9d4025741b'>, <Treant: 'b901726f-71bd-490d-a56e-de1d2191a955'>, <Treant: '6959ec1f-3c80-4b4c-a230-21c0851d4f3e'>, <Treant: '4ce42ce6-7973-420d-9819-76492c594c02'>, <Treant: 'd8ae1960-09b0-4a33-9874-c6eca989fec1'>, <Treant: '97e9f836-8fac-4526-9334-9a723e5fd0d9'>, <Treant: '795b55ce-dbed-479f-b99d-63b8552d4e56'>]\n"
     ]
    }
   ],
   "source": [
    "treants = treants1 + treants2\n",
    "print(treants)"
   ]
  },
  {
   "cell_type": "code",
   "execution_count": null,
   "metadata": {
    "collapsed": true
   },
   "outputs": [],
   "source": [
    "treant_and_errors = pmap(client)(iterate_sim(iterations=30, steps=100), treants)"
   ]
  },
  {
   "cell_type": "code",
   "execution_count": null,
   "metadata": {
    "collapsed": true
   },
   "outputs": [],
   "source": []
  }
 ],
 "metadata": {
  "anaconda-cloud": {},
  "kernelspec": {
   "display_name": "Python [conda env:extreme]",
   "language": "python",
   "name": "conda-env-extreme-py"
  },
  "language_info": {
   "codemirror_mode": {
    "name": "ipython",
    "version": 3
   },
   "file_extension": ".py",
   "mimetype": "text/x-python",
   "name": "python",
   "nbconvert_exporter": "python",
   "pygments_lexer": "ipython3",
   "version": "3.5.2"
  }
 },
 "nbformat": 4,
 "nbformat_minor": 1
}
