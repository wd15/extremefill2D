{
 "cells": [
  {
   "cell_type": "markdown",
   "metadata": {},
   "source": [
    "# Update current density - Issue [#32](https://github.com/wd15/extremefill2D/issues/32)\n",
    "\n",
    "## The Old\n",
    "The old current density is \n",
    "\n",
    "$$\n",
    "i = \\frac{c_{\\text{cu}}}{c_{\\text{cu}}^{\\infty}}\n",
    "    \\left(i_0 + i_1 \\theta\\right)\n",
    "    \\left(e^{-\\alpha \\bar{F} \\eta} - e^{\\left(2 - \\alpha\\right) \\bar{F} \\eta}\\right)\n",
    "$$\n",
    "\n",
    "where $\\bar{F} = \\frac{F}{R T}$. The deriviative w.r.t $\\eta$ is\n",
    "\n",
    "$$\n",
    "\\frac{\\partial i}{\\partial \\eta} = \\bar{F}\n",
    "    \\frac{c_{\\text{cu}}}{c_{\\text{cu}}^{\\infty}}\n",
    "    \\left(i_0 + i_1 \\theta\\right)\n",
    "    \\left(-\\alpha e^{-\\alpha \\bar{F} \\eta} - \\left(2 - \\alpha\\right) e^{\\left(2 - \\alpha\\right) \\bar{F} \\eta}\\right)\n",
    "$$\n",
    "\n",
    "This is used to stablize the equation for potential.\n",
    "\n",
    "The old code for this is (note that `self.potential` is $-\\eta$) in the code),\n",
    "```python\n",
    "    def calc_dep_vars(self, params):\n",
    "        Fbar = params.faradaysConstant / params.gasConstant / params.temperature\n",
    "        self.coeff_forward = params.alpha * Fbar\n",
    "        self.coeff_backward = (2 - params.alpha) * Fbar\n",
    "        exp_forward = numerix.exp(self.coeff_forward * self.potential)\n",
    "        exp_backward = numerix.exp(-self.coeff_backward * self.potential)\n",
    "        I0 = (params.i0 + params.i1 * self.interfaceTheta)\n",
    "        cbar =  self.cupric / params.bulkCupric\n",
    "        self.beta_forward = cbar * I0 * exp_forward\n",
    "        self.beta_backward = cbar * I0 * exp_backward\n",
    "        self.baseCurrent = I0 * (exp_forward - exp_backward)\n",
    "        self.currentDensity = cbar * self.baseCurrent\n",
    "        self.currentDerivative = cbar * I0 * (self.coeff_forward *  exp_forward + self.coeff_backward * exp_backward)\n",
    "        self.depositionRate = self.currentDensity * params.omega / params.charge / params.faradaysConstant\n",
    "```"
   ]
  },
  {
   "cell_type": "markdown",
   "metadata": {},
   "source": [
    "## The New\n",
    "\n",
    "The new current density is\n",
    "\n",
    "$$\n",
    "i = \\frac{c_{\\text{cu}}}{c_{\\text{cu}}^{\\infty}}\n",
    "    \\left[\n",
    "    i_0 \\left(1 - \\theta\\right)\n",
    "    \\left(e^{-\\alpha_0 \\bar{F} \\eta} - e^{\\left(1 - \\alpha_0 \\right) \\bar{F} \\eta}\\right)\n",
    "    + \n",
    "    i_1 \\theta\n",
    "    \\left(e^{-\\alpha_1 \\bar{F} \\eta} - e^{\\left(1 - \\alpha_1 \\right) \\bar{F} \\eta}\\right)\n",
    "    \\right]\n",
    "$$\n",
    "and\n",
    "$$\n",
    "i = \\bar{F}\n",
    "    \\frac{c_{\\text{cu}}}{c_{\\text{cu}}^{\\infty}}\n",
    "    \\left[\n",
    "    i_0 \\left(1 - \\theta\\right)\n",
    "    \\left(-\\alpha_0 e^{-\\alpha_0 \\bar{F} \\eta} - \\left(1 - \\alpha_0 \\right) e^{\\left(1 - \\alpha_0 \\right) \\bar{F} \\eta}\\right)\n",
    "    + \n",
    "    i_1 \\theta\n",
    "    \\left(-\\alpha_1 e^{-\\alpha_1 \\bar{F} \\eta} - \\left(1 - \\alpha_1 \\right) e^{\\left(1 - \\alpha_1 \\right) \\bar{F} \\eta}\\right)\n",
    "    \\right]\n",
    "$$\n",
    "\n",
    "The new code is\n",
    "\n",
    "```python\n",
    "    def calc_dep_vars(self, params):\n",
    "\n",
    "        Fbar = params.faradaysConstant / params.gasConstant / params.temperature\n",
    "        self.coeff_forward0 = params.alpha0 * Fbar\n",
    "        self.coeff_backward0 = (1 - params.alpha0) * Fbar\n",
    "        self.coeff_forward1 = params.alpha1 * Fbar\n",
    "        self.coeff_backward1 = (1 - params.alpha1) * Fbar\n",
    "        exp_forward0 = numerix.exp(self.coeff_forward0 * self.potential)\n",
    "        exp_backward0 = numerix.exp(-self.coeff_backward0 * self.potential)\n",
    "        exp_forward1 = numerix.exp(self.coeff_forward1 * self.potential)\n",
    "        exp_backward1 = numerix.exp(-self.coeff_backward1 * self.potential)\n",
    "        cbar =  self.cupric / params.bulkCupric\n",
    "        I0 = params.i0 * (1 - self.theta)\n",
    "        I1 = params.i1 * self.theta\n",
    "        self.beta_forward0 = cbar * I0 * exp_forward0\n",
    "        self.beta_backward0 = cbar * I0 * exp_backward0\n",
    "        self.beta_forward1 = cbar * I1 * exp_forward1\n",
    "        self.beta_backward1 = cbar * I1 * exp_backward1\n",
    "\n",
    "        self.baseCurrent = I0 * (exp_forward0 - exp_backward0) + I1 * (exp_forward1 - exp_backward1)\n",
    "        self.currentDensity = cbar * self.baseCurrent\n",
    "        self.currentDerivative = cbar * (I0 * (self.coeff_forward0 *  exp_forward0 + self.coeff_backward0 * exp_backward0) \\\n",
    "                                         + I1 * (self.coeff_forward1 *  exp_forward1 + self.coeff_backward1 * exp_backward1))\n",
    "        self.depositionRate = self.currentDensity * params.omega / params.charge / params.faradaysConstant\n",
    "```"
   ]
  },
  {
   "cell_type": "markdown",
   "metadata": {},
   "source": [
    "## The Numbers\n",
    "\n",
    "The numbers for the new $i_0$ and $i_1$ given $v_0$=1.65$\\times$10$^{-9}$ and $v_1$=3.67$\\times$10$^{-12}$"
   ]
  },
  {
   "cell_type": "code",
   "execution_count": 5,
   "metadata": {
    "collapsed": false
   },
   "outputs": [
    {
     "name": "stdout",
     "output_type": "stream",
     "text": [
      "i0 value: 44.845140845070425\n",
      "i1 value: 0.09974646478873239\n"
     ]
    }
   ],
   "source": [
    "def i_(v, omega=7.1e-6, n=2, F=9.6485e4):\n",
    "    return v * n * F / omega\n",
    "\n",
    "print('i0 value:',i_(1.65e-9))\n",
    "print('i1 value:',i_(3.67e-12))"
   ]
  },
  {
   "cell_type": "code",
   "execution_count": null,
   "metadata": {
    "collapsed": true
   },
   "outputs": [],
   "source": []
  }
 ],
 "metadata": {
  "anaconda-cloud": {},
  "kernelspec": {
   "display_name": "Python [conda env:extreme]",
   "language": "python",
   "name": "conda-env-extreme-py"
  },
  "language_info": {
   "codemirror_mode": {
    "name": "ipython",
    "version": 3
   },
   "file_extension": ".py",
   "mimetype": "text/x-python",
   "name": "python",
   "nbconvert_exporter": "python",
   "pygments_lexer": "ipython3",
   "version": "3.5.2"
  }
 },
 "nbformat": 4,
 "nbformat_minor": 1
}
