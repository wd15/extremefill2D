{
 "cells": [
  {
   "cell_type": "markdown",
   "metadata": {
    "collapsed": true
   },
   "source": [
    "#  Preliminary 1 Simulations\n",
    "\n",
    "The code appears to be running so it is now possible to obtain some prelimiary results for the base set of paramters to investigate, $E_{\\text{APPLIED}}$=-0.16, -0.18, -0.20, -0.22, -0.24, -0.26, -0.28, -0.30; $c_{\\theta}^{\\infty}$=0.006, 0.012"
   ]
  },
  {
   "cell_type": "code",
   "execution_count": 1,
   "metadata": {
    "collapsed": true
   },
   "outputs": [],
   "source": [
    "from distributed import LocalCluster\n",
    "from distributed import Client\n",
    "from extremefill2D.fextreme import init_sim, restart_sim, iterate_sim, multi_init_sim\n",
    "from extremefill2D.fextreme.plot import vega_plot_treants, vega_plot_treant\n",
    "import vega\n",
    "from extremefill2D.fextreme.tools import get_by_uuid, outer_dict, pmap\n",
    "from toolz.curried import map, pipe, curry\n",
    "import itertools\n",
    "\n",
    "%reload_ext yamlmagic"
   ]
  },
  {
   "cell_type": "code",
   "execution_count": 2,
   "metadata": {
    "collapsed": false
   },
   "outputs": [
    {
     "data": {
      "text/plain": [
       "<Client: scheduler=\"127.0.0.1:8786\" processes=8 cores=8>"
      ]
     },
     "execution_count": 2,
     "metadata": {},
     "output_type": "execute_result"
    }
   ],
   "source": [
    "cluster = LocalCluster(nanny=True, n_workers=8, threads_per_worker=1)\n",
    "client = Client(cluster)\n",
    "client"
   ]
  },
  {
   "cell_type": "code",
   "execution_count": 6,
   "metadata": {
    "collapsed": true
   },
   "outputs": [],
   "source": [
    "client.shutdown()"
   ]
  },
  {
   "cell_type": "code",
   "execution_count": 4,
   "metadata": {
    "collapsed": false
   },
   "outputs": [],
   "source": [
    "treants = multi_init_sim('../../scripts/params1.json',\n",
    "                         '../../data',\n",
    "                         pmap(client),\n",
    "                         dict(appliedPotential=(-0.16, -0.18, -0.20, -0.22, -0.24, -0.26, -0.28, -0.30),\n",
    "                              bulkSuppressor=(0.006, 0.012)),\n",
    "                         tags=['prelim1'])"
   ]
  },
  {
   "cell_type": "code",
   "execution_count": 5,
   "metadata": {
    "collapsed": false
   },
   "outputs": [
    {
     "name": "stdout",
     "output_type": "stream",
     "text": [
      "[<Treant: '550e1938-5843-4e72-8f2c-5209e68bc53c'>, <Treant: '766e328f-cecd-4fc7-aaa6-9c59efc528bb'>, <Treant: '63124df8-95ea-4cf5-9f64-ae2040f6dc5a'>, <Treant: '41727a23-eb07-485d-9587-3f97f94a3f70'>, <Treant: 'd3255296-2d7a-4857-a49c-2e21259b0959'>, <Treant: '068a2809-eb5a-4a00-bc11-8d5820dce979'>, <Treant: '35a13610-ac65-4c5b-b24e-cd16b912fed4'>, <Treant: '5950f67d-fb09-4292-8633-fe2e46c9b738'>, <Treant: '1eb186bc-ea19-485a-bc8c-31933dbf0980'>, <Treant: '2431195c-f15f-423b-a5b3-5b112affa977'>, <Treant: '506cee39-53ec-4ce7-b57e-56c9c528859c'>, <Treant: 'f4e978e0-ef90-4856-bc3f-f28ad898138a'>, <Treant: 'd7edd8f4-71e6-4d93-bcfd-644d715b1ac2'>, <Treant: '95499a89-a7fd-4aae-af34-dc91cf0234ce'>, <Treant: 'dbd3ed44-449f-4b48-be0a-730c3718f2eb'>, <Treant: '17d5767e-c57d-4c90-b015-e767ad66e495'>]\n"
     ]
    }
   ],
   "source": [
    "print(treants)"
   ]
  },
  {
   "cell_type": "code",
   "execution_count": 6,
   "metadata": {
    "collapsed": true
   },
   "outputs": [],
   "source": [
    "treant_and_errors = pmap(client)(iterate_sim(iterations=20, steps=100), treants)"
   ]
  },
  {
   "cell_type": "code",
   "execution_count": null,
   "metadata": {
    "collapsed": true
   },
   "outputs": [],
   "source": []
  }
 ],
 "metadata": {
  "anaconda-cloud": {},
  "kernelspec": {
   "display_name": "Python [conda env:extreme]",
   "language": "python",
   "name": "conda-env-extreme-py"
  },
  "language_info": {
   "codemirror_mode": {
    "name": "ipython",
    "version": 3
   },
   "file_extension": ".py",
   "mimetype": "text/x-python",
   "name": "python",
   "nbconvert_exporter": "python",
   "pygments_lexer": "ipython3",
   "version": "3.5.2"
  }
 },
 "nbformat": 4,
 "nbformat_minor": 1
}
