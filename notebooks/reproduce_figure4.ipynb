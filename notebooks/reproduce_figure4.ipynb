{
 "cells": [
  {
   "cell_type": "code",
   "execution_count": 1,
   "metadata": {
    "collapsed": false
   },
   "outputs": [
    {
     "name": "stdout",
     "output_type": "stream",
     "text": [
      "ccdd90858e48\n"
     ]
    }
   ],
   "source": [
    "%load_ext autoreload\n",
    "%autoreload 2\n",
    "from extremefill2D.tools import getSMTRecords, smt_ipy_table\n",
    "records = getSMTRecords(path='../scripts')\n",
    "for r in records:\n",
    "    print r.label"
   ]
  },
  {
   "cell_type": "code",
   "execution_count": 2,
   "metadata": {
    "collapsed": false
   },
   "outputs": [],
   "source": [
    "from sumatra.projects import load_project"
   ]
  },
  {
   "cell_type": "code",
   "execution_count": 3,
   "metadata": {
    "collapsed": false
   },
   "outputs": [
    {
     "name": "stdout",
     "output_type": "stream",
     "text": [
      "/home/wd15/git/extremefill-project/extremefill2D/notebooks\r\n"
     ]
    }
   ],
   "source": [
    "!pwd"
   ]
  },
  {
   "cell_type": "code",
   "execution_count": 4,
   "metadata": {
    "collapsed": false
   },
   "outputs": [
    {
     "data": {
      "text/html": [
       "<table border=\"1\" cellpadding=\"3\" cellspacing=\"0\"  style=\"border:1px solid black;border-collapse:collapse;\"><tr><td  style=\"background-color:LightGray;\"><b>Label</b></td><td  style=\"background-color:LightGray;\"><b>Timestamp</b></td><td  style=\"background-color:LightGray;\"><b>Parameters</b></td><td  style=\"background-color:LightGray;\"><b>Duration</b></td><td  style=\"background-color:LightGray;\"><b>Version</b></td><td  style=\"background-color:LightGray;\"><b>Tags</b></td></tr><tr><td  style=\"background-color:Ivory;\"><code>ccdd9085</code></td><td  style=\"background-color:Ivory;\">2017-03-22 18:21</td><td  style=\"background-color:Ivory;\"><code>kPlus: 546.0, kMinus: 37900000.0, appliedPotential: -0.45, bulkSuppressor: 0.06, Nx: 200</code></td><td  style=\"background-color:Ivory;\">4m 47.60s</td><td  style=\"background-color:Ivory;\"><code>b92042034560</code></td><td  style=\"background-color:Ivory;\"></td></tr></table>"
      ],
      "text/plain": [
       "<IPython.core.display.HTML object>"
      ]
     },
     "execution_count": 4,
     "metadata": {},
     "output_type": "execute_result"
    }
   ],
   "source": [
    "smt_ipy_table(records,\n",
    "              fields=['label', 'timestamp', 'parameters', 'duration', 'version', 'tags'],\n",
    "              parameters=['kPlus', 'kMinus', 'appliedPotential', 'bulkSuppressor', 'Nx'])"
   ]
  },
  {
   "cell_type": "code",
   "execution_count": 16,
   "metadata": {
    "collapsed": false
   },
   "outputs": [
    {
     "data": {
      "text/plain": [
       "[0.0,\n",
       " 4.868518112499366,\n",
       " 4.868518112499366,\n",
       " 12.561895716335966,\n",
       " 12.561895716335966,\n",
       " 12.561895716335966,\n",
       " 12.561895716335966,\n",
       " 22.561895716335968,\n",
       " 22.561895716335968,\n",
       " 22.561895716335968,\n",
       " 22.561895716335968,\n",
       " 22.561895716335968,\n",
       " 32.56189571633597,\n",
       " 32.56189571633597,\n",
       " 32.56189571633597,\n",
       " 32.56189571633597,\n",
       " 32.56189571633597,\n",
       " 42.56189571633597,\n",
       " 42.56189571633597,\n",
       " 42.56189571633597]"
      ]
     },
     "execution_count": 16,
     "metadata": {},
     "output_type": "execute_result"
    }
   ],
   "source": [
    "viewer.elapsedTimes"
   ]
  },
  {
   "cell_type": "code",
   "execution_count": 15,
   "metadata": {
    "collapsed": false
   },
   "outputs": [
    {
     "data": {
      "image/png": "[encoded data removed]",
      "text/plain": [
       "<matplotlib.figure.Figure at 0x7f32c2d98a90>"
      ]
     },
     "metadata": {},
     "output_type": "display_data"
    }
   ],
   "source": [
    "%matplotlib inline \n",
    "from extremefill2D.contourViewer import ContourViewer\n",
    "import matplotlib.pyplot as plt\n",
    "import numpy as np\n",
    "\n",
    "record = records[0]\n",
    "fig = plt.figure(figsize=(2.5, 8), dpi=200)\n",
    "ax = plt.subplot(1, 1, 1)\n",
    "viewer = ContourViewer(record, ax=ax)\n",
    "all_spines = ['top', 'bottom', 'right', 'left']\n",
    "for spine in all_spines:\n",
    "    ax.spines[spine].set_visible(False)\n",
    "#plt.text(0.32, 0.01, '$\\\\texttt{{{0}}}$'.format(record.label[:8]), fontsize=12, transform=ax.transAxes)\n",
    "viewer.plot(times = np.arange(20)[:20] * 2., mirror=True, cutoff=True, cutoffvalue=0., show=False)"
   ]
  },
  {
   "cell_type": "code",
   "execution_count": null,
   "metadata": {
    "collapsed": true
   },
   "outputs": [],
   "source": []
  }
 ],
 "metadata": {
  "kernelspec": {
   "display_name": "Python 2",
   "language": "python",
   "name": "python2"
  },
  "language_info": {
   "codemirror_mode": {
    "name": "ipython",
    "version": 2
   },
   "file_extension": ".py",
   "mimetype": "text/x-python",
   "name": "python",
   "nbconvert_exporter": "python",
   "pygments_lexer": "ipython2",
   "version": "2.7.12"
  }
 },
 "nbformat": 4,
 "nbformat_minor": 1
}
