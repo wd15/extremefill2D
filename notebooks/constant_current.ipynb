{
 "metadata": {
  "name": "",
  "signature": "sha256:19ac7047924eabcb17992c6a6b8cc8de9146d4b6dc703a699a6960253f6818d6"
 },
 "nbformat": 3,
 "nbformat_minor": 0,
 "worksheets": [
  {
   "cells": [
    {
     "cell_type": "markdown",
     "metadata": {},
     "source": [
      "# Notebook to scope out using constant current simulations\n",
      "\n",
      "Let's try and calculate the global current for a simulation.\n",
      "\n",
      "$$ I =  \\frac{D c}{\\delta} F n A \\beta $$\n",
      "\n",
      "where $A$ is the inital surface area of the electrode and $\\beta$ is a factor, 0.75 in this case."
     ]
    },
    {
     "cell_type": "code",
     "collapsed": false,
     "input": [
      "import json\n",
      "from collections import namedtuple\n",
      "\n",
      "\n",
      "with open('../scripts/constant_current.json', 'r') as fp:\n",
      "    params_dict = json.load(fp)\n",
      "    \n",
      "params = namedtuple('ParamClass', params_dict.keys())(*params_dict.values())"
     ],
     "language": "python",
     "metadata": {},
     "outputs": [],
     "prompt_number": 1
    },
    {
     "cell_type": "code",
     "collapsed": false,
     "input": [
      "R = params.router\n",
      "D = params.diffusionCupric\n",
      "c = params.bulkCupric\n",
      "delta = params.delta\n",
      "n = params.charge\n",
      "F = params.faradaysConstant\n",
      "A = R**2 / 2\n",
      "b = 0.5\n",
      "I = D * c * n  * F * A * b / delta\n",
      "\n",
      "print 'current:',I"
     ],
     "language": "python",
     "metadata": {},
     "outputs": [
      {
       "output_type": "stream",
       "stream": "stdout",
       "text": [
        "current: 3.59557382812e-07\n"
       ]
      }
     ],
     "prompt_number": 4
    },
    {
     "cell_type": "code",
     "collapsed": false,
     "input": [
      "%load_ext autoreload\n",
      "%autoreload 2\n",
      "from extremefill2D.tools import getSMTRecords, smt_ipy_table\n",
      "records = getSMTRecords(tags=['constant_current2'], path='../scripts')"
     ],
     "language": "python",
     "metadata": {},
     "outputs": [
      {
       "output_type": "stream",
       "stream": "stdout",
       "text": [
        "Created Django record store using PostgreSQL\n"
       ]
      }
     ],
     "prompt_number": 1
    },
    {
     "cell_type": "code",
     "collapsed": false,
     "input": [
      "print records"
     ],
     "language": "python",
     "metadata": {},
     "outputs": [
      {
       "output_type": "stream",
       "stream": "stdout",
       "text": [
        "[Record #25539c29e00a]\n"
       ]
      }
     ],
     "prompt_number": 2
    },
    {
     "cell_type": "code",
     "collapsed": false,
     "input": [
      "from extremefill2D.multiViewer import MultiViewer\n",
      "\n",
      "viewer = MultiViewer(records,\n",
      "                     figsize=(5., 5.))\n",
      "\n",
      "viewer.plot(times=(0., 800.), xlim=49e-6, ylim=-90e-6)"
     ],
     "language": "python",
     "metadata": {},
     "outputs": [
      {
       "metadata": {},
       "output_type": "display_data",
       "png": "[encoded data removed]",
       "text": [
        "<matplotlib.figure.Figure at 0x5193990>"
       ]
      }
     ],
     "prompt_number": 31
    },
    {
     "cell_type": "code",
     "collapsed": false,
     "input": [
      "%load_ext autoreload\n",
      "%autoreload 2\n",
      "from extremefill2D.tools import getSMTRecords, smt_ipy_table\n",
      "records = getSMTRecords(tags=['constant_current5'], path='../scripts')"
     ],
     "language": "python",
     "metadata": {},
     "outputs": [
      {
       "output_type": "stream",
       "stream": "stdout",
       "text": [
        "Created Django record store using PostgreSQL\n"
       ]
      }
     ],
     "prompt_number": 1
    },
    {
     "cell_type": "code",
     "collapsed": false,
     "input": [
      "print records"
     ],
     "language": "python",
     "metadata": {},
     "outputs": [
      {
       "output_type": "stream",
       "stream": "stdout",
       "text": [
        "[Record #ecce00acc922]\n"
       ]
      }
     ],
     "prompt_number": 2
    },
    {
     "cell_type": "code",
     "collapsed": false,
     "input": [
      "from extremefill2D.multiViewer import MultiViewer\n",
      "\n",
      "viewer = MultiViewer(records,\n",
      "                     figsize=(5., 5.))\n",
      "\n",
      "viewer.plot(times=(0., 500.), xlim=49e-6, ylim=-90e-6)"
     ],
     "language": "python",
     "metadata": {},
     "outputs": [
      {
       "metadata": {},
       "output_type": "display_data",
       "png": "[encoded data removed]",
       "text": [
        "<matplotlib.figure.Figure at 0x5925bd0>"
       ]
      }
     ],
     "prompt_number": 5
    },
    {
     "cell_type": "code",
     "collapsed": false,
     "input": [
      "%load_ext autoreload\n",
      "%autoreload 2\n",
      "from extremefill2D.tools import getSMTRecords, smt_ipy_table\n",
      "records = getSMTRecords(tags=['constant_current6'], path='../scripts')"
     ],
     "language": "python",
     "metadata": {},
     "outputs": [
      {
       "output_type": "stream",
       "stream": "stdout",
       "text": [
        "Created Django record store using PostgreSQL\n"
       ]
      }
     ],
     "prompt_number": 1
    },
    {
     "cell_type": "code",
     "collapsed": false,
     "input": [
      "print records"
     ],
     "language": "python",
     "metadata": {},
     "outputs": [
      {
       "output_type": "stream",
       "stream": "stdout",
       "text": [
        "[Record #d471e5451548]\n"
       ]
      }
     ],
     "prompt_number": 2
    },
    {
     "cell_type": "code",
     "collapsed": false,
     "input": [
      "from extremefill2D.multiViewer import MultiViewer\n",
      "\n",
      "viewer = MultiViewer(records,\n",
      "                     figsize=(5., 5.))\n",
      "\n",
      "viewer.plot(times=(0., 100, 200, 300, 400, 500.), xlim=49e-6, ylim=-90e-6)"
     ],
     "language": "python",
     "metadata": {},
     "outputs": [
      {
       "metadata": {},
       "output_type": "display_data",
       "png": "[encoded data removed]",
       "text": [
        "<matplotlib.figure.Figure at 0x5906750>"
       ]
      }
     ],
     "prompt_number": 4
    },
    {
     "cell_type": "code",
     "collapsed": false,
     "input": [],
     "language": "python",
     "metadata": {},
     "outputs": []
    }
   ],
   "metadata": {}
  }
 ]
}