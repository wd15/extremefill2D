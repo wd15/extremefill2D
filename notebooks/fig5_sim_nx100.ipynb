{
 "metadata": {
  "name": "fig5_sim_nx100"
 },
 "nbformat": 3,
 "nbformat_minor": 0,
 "worksheets": [
  {
   "cells": [
    {
     "cell_type": "code",
     "collapsed": false,
     "input": [
      "!date\n",
      "from tools import batch_launch\n",
      "    \n",
      "reason = \"Running simulations for Figure 5, Nx=100\"\n",
      "\n",
      "simParams = ((379.269019073, 6158482.11066, -0.25, 0.02),\n",
      "             (379.269019073, 233572146.909, -0.25, 0.02),\n",
      "             (379.269019073, 37926901.9073, -0.25, 0.02))\n",
      "    \n",
      "for kPlus, kMinus, appliedPotential, bulkSuppressor in simParams:\n",
      "    batch_launch(reason=reason,\n",
      "                 tags=['fig5_nx100_2'],\n",
      "                 kPlus=kPlus,\n",
      "                 kMinus=kMinus,\n",
      "                 appliedPotential=appliedPotential,\n",
      "                 bulkSuppressor=bulkSuppressor,\n",
      "                 rboundary=50e-6 / np.sqrt(np.pi),\n",
      "                 Nx=100,\n",
      "                 spacing_ratio=1.2,\n",
      "                 CFL=0.1,\n",
      "                 levelset_update_ncell=5,\n",
      "                 data_frequency=10,\n",
      "                 write_potential=1,\n",
      "                 write_theta=1,\n",
      "                 write_suppressor=1)"
     ],
     "language": "python",
     "metadata": {},
     "outputs": [
      {
       "output_type": "stream",
       "stream": "stdout",
       "text": [
        "Mon Nov  4 11:06:38 EST 2013\r\n"
       ]
      }
     ],
     "prompt_number": 1
    },
    {
     "cell_type": "code",
     "collapsed": false,
     "input": [],
     "language": "python",
     "metadata": {},
     "outputs": []
    }
   ],
   "metadata": {}
  }
 ]
}