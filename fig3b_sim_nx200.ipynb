{
 "metadata": {
  "name": "fig3b_sim_nx200"
 },
 "nbformat": 3,
 "nbformat_minor": 0,
 "worksheets": [
  {
   "cells": [
    {
     "cell_type": "code",
     "collapsed": false,
     "input": [
      "!date\n",
      "\n",
      "from tools import batch_launch\n",
      "    \n",
      "kPluses = np.logspace(0, 4, 20)[[10, 12, 14, 16]][::-1]\n",
      "kMinuses = np.logspace(6, 9, 20)[[9, 10, 14, 19]]\n",
      "    \n",
      "reason = \"Figure 3(b) Nx=200\"\n",
      "    \n",
      "for kPlus in kPluses:\n",
      "    for kMinus in kMinuses:\n",
      "        batch_launch(reason=reason,\n",
      "                     tags=['fig3b_nx200'],\n",
      "                     kPlus=kPlus,\n",
      "                     kMinus=kMinus,\n",
      "                     rboundary=50e-6 / np.sqrt(np.pi),\n",
      "                     Nx=200,\n",
      "                     spacing_ratio=1.2,\n",
      "                     CFL=0.1,\n",
      "                     levelset_update_ncell=5,\n",
      "                     data_frequency=100,\n",
      "                     appliedPotential=-0.45,\n",
      "                     bulkSuppressor=0.06)"
     ],
     "language": "python",
     "metadata": {},
     "outputs": [
      {
       "output_type": "stream",
       "stream": "stdout",
       "text": [
        "Fri Nov  1 19:18:50 EDT 2013\r\n"
       ]
      }
     ],
     "prompt_number": 1
    },
    {
     "cell_type": "code",
     "collapsed": false,
     "input": [],
     "language": "python",
     "metadata": {},
     "outputs": []
    }
   ],
   "metadata": {}
  }
 ]
}