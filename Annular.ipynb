{
 "metadata": {
  "name": "Annular"
 },
 "nbformat": 3,
 "nbformat_minor": 0,
 "worksheets": [
  {
   "cells": [
    {
     "cell_type": "code",
     "collapsed": false,
     "input": [
      "%load_ext autoreload\n",
      "%autoreload 2\n",
      "from multiViewer import MultiViewer\n",
      "from smtext import getSMTRecords, smt_ipy_table\n",
      "records = getSMTRecords()\n",
      "records = getSMTRecords(records=records, tags=['annulartest'])\n",
      "#records = [getSMTRecords(records=records, parameters={'kPlus' : v})[0] for v in (60., 70., 80., 90.)]\n",
      "#title = [r'$k^+$={0:1.2e}'.format(r.parameters['kPlus']) for r in records]\n",
      "#viewer = MultiViewer(records, title=title, figsize=(8, 9))\n",
      "#viewer.plot(times=(0., 1000., 2000., 3000., 4000., 5000., 6000., 7000.))\n",
      "smt_ipy_table(records, fields=['label', 'timestamp', 'parameters', 'duration', 'version'], parameters=['annular'])"
     ],
     "language": "python",
     "metadata": {},
     "outputs": [
      {
       "output_type": "stream",
       "stream": "stdout",
       "text": [
        "Created Django record store using PostgreSQL\n"
       ]
      },
      {
       "output_type": "stream",
       "stream": "stderr",
       "text": [
        "/users/wd15/hg/sumatra/sumatra/programs.py:57: Warning: Python could not be found. Please supply the path to the /users/wd15/.virtualenvs/fipy/bin/python executable.\n",
        "  warnings.warn(errmsg)\n"
       ]
      },
      {
       "html": [
        "<table border=\"1\" cellpadding=\"3\" cellspacing=\"0\"  style=\"border:1px solid black;border-collapse:collapse;\"><tr><td  style=\"background-color:LightGray;\"><b>Label</b></td><td  style=\"background-color:LightGray;\"><b>Timestamp</b></td><td  style=\"background-color:LightGray;\"><b>Parameters</b></td><td  style=\"background-color:LightGray;\"><b>Duration</b></td><td  style=\"background-color:LightGray;\"><b>Version</b></td></tr><tr><td  style=\"background-color:Ivory;\"><code>b0cc2c761d54</code></td><td  style=\"background-color:Ivory;\">2013-07-24 16:36</td><td  style=\"background-color:Ivory;\"><code>annular: 1</code></td><td  style=\"background-color:Ivory;\">4.32s</td><td  style=\"background-color:Ivory;\"><code>8c73314ab059</code></td></tr></table>"
       ],
       "output_type": "pyout",
       "prompt_number": 1,
       "text": [
        "<IPython.core.display.HTML at 0x3a46350>"
       ]
      }
     ],
     "prompt_number": 1
    },
    {
     "cell_type": "code",
     "collapsed": false,
     "input": [],
     "language": "python",
     "metadata": {},
     "outputs": []
    }
   ],
   "metadata": {}
  }
 ]
}