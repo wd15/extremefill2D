{
 "metadata": {
  "name": "extremefill2D"
 },
 "nbformat": 3,
 "nbformat_minor": 0,
 "worksheets": [
  {
   "cells": [
    {
     "cell_type": "markdown",
     "metadata": {},
     "source": [
      "# Extreme Fill 2D\n",
      "\n",
      "The 2D version of the extreme fill seems to work as of acbffe7419dcc0101fcbe and all the tests pass."
     ]
    },
    {
     "cell_type": "markdown",
     "metadata": {},
     "source": [
      "## Test convergence\n",
      "\n",
      "Sweep through the following parameters.\n",
      "\n",
      "  * CFL\n",
      "  * grid spacing\n",
      "  * sweep tolerance\n",
      "  * linear solver tolerance\n",
      "\n",
      "To test convergence use $||\\phi - \\phi_0||$ where $\\phi_0$ is the most refined simulation."
     ]
    },
    {
     "cell_type": "markdown",
     "metadata": {},
     "source": [
      "## Simulations on the cluster\n",
      "\n",
      "Go over Andrew's emails to figure out how to do this.\n"
     ]
    },
    {
     "cell_type": "markdown",
     "metadata": {},
     "source": [
      "## Meeting with Dan and Tom on 11/09/12\n",
      "\n",
      " * Create a color map with $c_{\\text{supp}}$ versus $\\eta$ showing the different types of fill for both trenches and vias to demonstrate where the 1D model breaks down. Also create the 1D version of this.\n",
      "\n",
      " * Do a simulation for a via and a trench to see if the system ever shuts down. This has been observed in the base simulation already"
     ]
    },
    {
     "cell_type": "code",
     "collapsed": false,
     "input": [],
     "language": "python",
     "metadata": {},
     "outputs": []
    },
    {
     "cell_type": "code",
     "collapsed": false,
     "input": [],
     "language": "python",
     "metadata": {},
     "outputs": []
    },
    {
     "cell_type": "code",
     "collapsed": false,
     "input": [],
     "language": "python",
     "metadata": {},
     "outputs": []
    },
    {
     "cell_type": "code",
     "collapsed": false,
     "input": [],
     "language": "python",
     "metadata": {},
     "outputs": []
    }
   ],
   "metadata": {}
  }
 ]
}