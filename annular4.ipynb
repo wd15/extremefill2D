{
 "metadata": {
  "name": "annular4"
 },
 "nbformat": 3,
 "nbformat_minor": 0,
 "worksheets": [
  {
   "cells": [
    {
     "cell_type": "markdown",
     "metadata": {},
     "source": [
      "# Simulations to find a value for $k^+$ and $k^-$ that fills"
     ]
    },
    {
     "cell_type": "markdown",
     "metadata": {},
     "source": [
      "Firstly, let's estimate the correct value for `rboundary`."
     ]
    },
    {
     "cell_type": "code",
     "collapsed": false,
     "input": [
      "rboundary = 50e-6 / np.sqrt(np.pi)\n",
      "print rboundary"
     ],
     "language": "python",
     "metadata": {},
     "outputs": [
      {
       "output_type": "stream",
       "stream": "stdout",
       "text": [
        "2.82094791774e-05\n"
       ]
      }
     ],
     "prompt_number": 4
    },
    {
     "cell_type": "code",
     "collapsed": false,
     "input": [
      "!date"
     ],
     "language": "python",
     "metadata": {},
     "outputs": [
      {
       "output_type": "stream",
       "stream": "stdout",
       "text": [
        "Wed Aug 28 13:17:46 EDT 2013\r\n"
       ]
      }
     ],
     "prompt_number": 5
    },
    {
     "cell_type": "markdown",
     "metadata": {},
     "source": [
      "Use log spacing for `kPlus` and `kMinus`."
     ]
    },
    {
     "cell_type": "code",
     "collapsed": false,
     "input": [
      "kPluses = np.logspace(1, 3, 20)\n",
      "print kPluses"
     ],
     "language": "python",
     "metadata": {},
     "outputs": [
      {
       "output_type": "stream",
       "stream": "stdout",
       "text": [
        "[   10.            12.74274986    16.23776739    20.69138081    26.36650899\n",
        "    33.59818286    42.81332399    54.55594781    69.51927962    88.58667904\n",
        "   112.88378917   143.84498883   183.29807108   233.57214691   297.63514416\n",
        "   379.26901907   483.29302386   615.84821107   784.75997035  1000.        ]\n"
       ]
      }
     ],
     "prompt_number": 13
    },
    {
     "cell_type": "code",
     "collapsed": false,
     "input": [
      "kMinuses = np.logspace(7, 8, 10)\n",
      "print kMinuses"
     ],
     "language": "python",
     "metadata": {},
     "outputs": [
      {
       "output_type": "stream",
       "stream": "stdout",
       "text": [
        "[  1.00000000e+07   1.29154967e+07   1.66810054e+07   2.15443469e+07\n",
        "   2.78255940e+07   3.59381366e+07   4.64158883e+07   5.99484250e+07\n",
        "   7.74263683e+07   1.00000000e+08]\n"
       ]
      }
     ],
     "prompt_number": 14
    },
    {
     "cell_type": "code",
     "collapsed": false,
     "input": [
      "from tools import batch_launch\n",
      "    \n",
      "reason = \"Finding a value of kPlus and kMinus that fills the annulus feature.\"\n",
      "    \n",
      "for kPlus in kPluses:\n",
      "    for kMinus in kMinuses:\n",
      "        batch_launch(reason=reason, tags=['annular17'], kPlus=kPlus, kMinus=kMinus, rboundary=rboundary, Nx=200, spacing_ratio=1.2)"
     ],
     "language": "python",
     "metadata": {},
     "outputs": [],
     "prompt_number": 27
    },
    {
     "cell_type": "code",
     "collapsed": false,
     "input": [
      "!qstat"
     ],
     "language": "python",
     "metadata": {},
     "outputs": [
      {
       "output_type": "stream",
       "stream": "stdout",
       "text": [
        "job-ID  prior   name       user         state submit/start at     queue                          slots ja-task-ID \r\n",
        "-----------------------------------------------------------------------------------------------------------------\r\n",
        "1686033 0.25843 launcher   wd15         r     08/27/2013 15:26:52 wide64@r037                        1        \r\n",
        "1686034 0.25843 launcher   wd15         r     08/27/2013 15:26:52 wide64@r033                        1        \r\n",
        "1686035 0.25843 launcher   wd15         r     08/27/2013 15:26:52 wide64@r037                        1        \r\n",
        "1686036 0.25843 launcher   wd15         r     08/27/2013 15:26:52 wide64@r033                        1        \r\n",
        "1686037 0.25843 launcher   wd15         r     08/27/2013 15:26:52 wide64@r037                        1        \r\n",
        "1686038 0.25843 launcher   wd15         r     08/27/2013 15:26:52 wide64@r033                        1        \r\n",
        "1686039 0.25843 launcher   wd15         r     08/27/2013 15:26:52 ctcms@r016                         1        \r\n",
        "1686040 0.25843 launcher   wd15         r     08/27/2013 15:26:52 wide64@r037                        1        \r\n",
        "1686041 0.25843 launcher   wd15         r     08/27/2013 15:26:52 ctcms@r019                         1        \r\n",
        "1686042 0.25843 launcher   wd15         r     08/27/2013 15:26:52 wide64@r033                        1        \r\n",
        "1686327 0.05682 launcher   wd15         r     08/28/2013 15:34:07 ctcms@r017                         1        \r\n",
        "1686328 0.05208 launcher   wd15         t     08/28/2013 15:34:07 ctcms@r017                         1        \r\n",
        "1686329 0.04808 launcher   wd15         r     08/28/2013 15:34:07 ctcms@r018                         1        \r\n",
        "1686330 0.04464 launcher   wd15         t     08/28/2013 15:34:07 ctcms@r017                         1        \r\n",
        "1686331 0.04167 launcher   wd15         t     08/28/2013 15:34:07 ctcms@r017                         1        \r\n",
        "1686332 0.03906 launcher   wd15         r     08/28/2013 15:34:07 ctcms@r015                         1        \r\n",
        "1686333 0.03676 launcher   wd15         t     08/28/2013 15:34:07 ctcms@r018                         1        \r\n",
        "1686334 0.03472 launcher   wd15         t     08/28/2013 15:34:07 ctcms@r015                         1        \r\n",
        "1686335 0.03290 launcher   wd15         t     08/28/2013 15:34:07 ctcms@r018                         1        \r\n",
        "1686336 0.03125 launcher   wd15         t     08/28/2013 15:34:07 ctcms@r017                         1        \r\n",
        "1686337 0.02976 launcher   wd15         t     08/28/2013 15:34:07 ctcms@r015                         1        \r\n",
        "1686338 0.02841 launcher   wd15         t     08/28/2013 15:34:07 ctcms@r018                         1        \r\n",
        "1686339 0.02717 launcher   wd15         t     08/28/2013 15:34:07 ctcms@r017                         1        \r\n",
        "1686340 0.02604 launcher   wd15         t     08/28/2013 15:34:07 ctcms@r015                         1        \r\n",
        "1686341 0.02500 launcher   wd15         r     08/28/2013 15:34:07 ctcms@r019                         1        \r\n",
        "1686342 0.02404 launcher   wd15         t     08/28/2013 15:34:07 ctcms@r018                         1        \r\n",
        "1686343 0.02315 launcher   wd15         t     08/28/2013 15:34:07 ctcms@r017                         1        \r\n",
        "1686344 0.02232 launcher   wd15         t     08/28/2013 15:34:07 ctcms@r015                         1        \r\n",
        "1686345 0.02155 launcher   wd15         r     08/28/2013 15:34:07 ctcms@r016                         1        \r\n",
        "1686346 0.02083 launcher   wd15         t     08/28/2013 15:34:07 ctcms@r019                         1        \r\n",
        "1686347 0.02016 launcher   wd15         t     08/28/2013 15:34:07 ctcms@r018                         1        \r\n",
        "1686348 0.01953 launcher   wd15         t     08/28/2013 15:34:07 ctcms@r015                         1        \r\n",
        "1686349 0.01894 launcher   wd15         t     08/28/2013 15:34:07 ctcms@r016                         1        \r\n",
        "1686350 0.01838 launcher   wd15         t     08/28/2013 15:34:07 ctcms@r019                         1        \r\n",
        "1686351 0.01786 launcher   wd15         t     08/28/2013 15:34:07 ctcms@r016                         1        \r\n",
        "1686352 0.01736 launcher   wd15         t     08/28/2013 15:34:07 ctcms@r019                         1        \r\n",
        "1686353 0.01689 launcher   wd15         t     08/28/2013 15:34:07 ctcms@r016                         1        \r\n",
        "1686354 0.01645 launcher   wd15         r     08/28/2013 15:34:07 wide64@r034                        1        \r\n",
        "1686355 0.01603 launcher   wd15         t     08/28/2013 15:34:07 wide64@r034                        1        \r\n",
        "1686356 0.01563 launcher   wd15         r     08/28/2013 15:34:07 wide64@r037                        1        \r\n",
        "1686357 0.01524 launcher   wd15         r     08/28/2013 15:34:07 wide64@r030                        1        \r\n",
        "1686358 0.01488 launcher   wd15         t     08/28/2013 15:34:07 wide64@r034                        1        \r\n",
        "1686359 0.01454 launcher   wd15         t     08/28/2013 15:34:07 wide64@r037                        1        \r\n",
        "1686360 0.01420 launcher   wd15         r     08/28/2013 15:34:07 wide2@r013                         1        \r\n",
        "1686361 0.01389 launcher   wd15         t     08/28/2013 15:34:07 wide64@r030                        1        \r\n",
        "1686362 0.01359 launcher   wd15         t     08/28/2013 15:34:07 wide64@r034                        1        \r\n",
        "1686363 0.01330 launcher   wd15         t     08/28/2013 15:34:07 wide64@r037                        1        \r\n",
        "1686364 0.01302 launcher   wd15         t     08/28/2013 15:34:07 wide64@r030                        1        \r\n",
        "1686365 0.01276 launcher   wd15         t     08/28/2013 15:34:07 wide2@r013                         1        \r\n",
        "1686366 0.01250 launcher   wd15         t     08/28/2013 15:34:07 wide64@r034                        1        \r\n",
        "1686367 0.01226 launcher   wd15         t     08/28/2013 15:34:07 wide64@r037                        1        \r\n",
        "1686368 0.01202 launcher   wd15         t     08/28/2013 15:34:07 wide64@r030                        1        \r\n",
        "1686369 0.01179 launcher   wd15         t     08/28/2013 15:34:07 wide64@r034                        1        \r\n",
        "1686370 0.01157 launcher   wd15         t     08/28/2013 15:34:07 wide2@r013                         1        \r\n",
        "1686371 0.01136 launcher   wd15         t     08/28/2013 15:34:07 wide64@r037                        1        \r\n",
        "1686372 0.01116 launcher   wd15         r     08/28/2013 15:34:07 wide64@r033                        1        \r\n",
        "1686373 0.01097 launcher   wd15         t     08/28/2013 15:34:07 wide64@r030                        1        \r\n",
        "1686374 0.01078 launcher   wd15         t     08/28/2013 15:34:07 wide64@r034                        1        \r\n",
        "1686375 0.01059 launcher   wd15         t     08/28/2013 15:34:07 wide64@r037                        1        \r\n",
        "1686376 0.01042 launcher   wd15         t     08/28/2013 15:34:07 wide64@r033                        1        \r\n",
        "1686377 0.01025 launcher   wd15         t     08/28/2013 15:34:07 wide2@r013                         1        \r\n",
        "1686378 0.01008 launcher   wd15         t     08/28/2013 15:34:07 wide64@r030                        1        \r\n",
        "1686379 0.00992 launcher   wd15         t     08/28/2013 15:34:07 wide64@r033                        1        \r\n",
        "1686380 0.00977 launcher   wd15         t     08/28/2013 15:34:07 wide64@r033                        1        \r\n",
        "1686381 0.00962 launcher   wd15         qw    08/28/2013 15:33:54                                    1        \r\n",
        "1686382 0.00947 launcher   wd15         qw    08/28/2013 15:33:54                                    1        \r\n",
        "1686383 0.00933 launcher   wd15         qw    08/28/2013 15:33:54                                    1        \r\n",
        "1686384 0.00919 launcher   wd15         qw    08/28/2013 15:33:54                                    1        \r\n",
        "1686385 0.00906 launcher   wd15         qw    08/28/2013 15:33:54                                    1        \r\n",
        "1686386 0.00893 launcher   wd15         qw    08/28/2013 15:33:54                                    1        \r\n",
        "1686387 0.00880 launcher   wd15         qw    08/28/2013 15:33:54                                    1        \r\n",
        "1686388 0.00868 launcher   wd15         qw    08/28/2013 15:33:54                                    1        \r\n",
        "1686389 0.00856 launcher   wd15         qw    08/28/2013 15:33:54                                    1        \r\n",
        "1686390 0.00845 launcher   wd15         qw    08/28/2013 15:33:54                                    1        \r\n",
        "1686391 0.00833 launcher   wd15         qw    08/28/2013 15:33:54                                    1        \r\n",
        "1686392 0.00822 launcher   wd15         qw    08/28/2013 15:33:54                                    1        \r\n",
        "1686393 0.00812 launcher   wd15         qw    08/28/2013 15:33:54                                    1        \r\n",
        "1686394 0.00801 launcher   wd15         qw    08/28/2013 15:33:54                                    1        \r\n",
        "1686395 0.00791 launcher   wd15         qw    08/28/2013 15:33:54                                    1        \r\n",
        "1686396 0.00781 launcher   wd15         qw    08/28/2013 15:33:54                                    1        \r\n",
        "1686397 0.00772 launcher   wd15         qw    08/28/2013 15:33:54                                    1        \r\n",
        "1686398 0.00762 launcher   wd15         qw    08/28/2013 15:33:54                                    1        \r\n",
        "1686399 0.00753 launcher   wd15         qw    08/28/2013 15:33:54                                    1        \r\n",
        "1686400 0.00744 launcher   wd15         qw    08/28/2013 15:33:54                                    1        \r\n",
        "1686401 0.00735 launcher   wd15         qw    08/28/2013 15:33:54                                    1        \r\n",
        "1686402 0.00727 launcher   wd15         qw    08/28/2013 15:33:54                                    1        \r\n",
        "1686403 0.00718 launcher   wd15         qw    08/28/2013 15:33:54                                    1        \r\n",
        "1686404 0.00710 launcher   wd15         qw    08/28/2013 15:33:54                                    1        \r\n",
        "1686405 0.00702 launcher   wd15         qw    08/28/2013 15:33:54                                    1        \r\n",
        "1686406 0.00694 launcher   wd15         qw    08/28/2013 15:33:54                                    1        \r\n",
        "1686407 0.00687 launcher   wd15         qw    08/28/2013 15:33:54                                    1        \r\n",
        "1686408 0.00679 launcher   wd15         qw    08/28/2013 15:33:54                                    1        \r\n",
        "1686409 0.00672 launcher   wd15         qw    08/28/2013 15:33:54                                    1        \r\n",
        "1686410 0.00665 launcher   wd15         qw    08/28/2013 15:33:54                                    1        \r\n",
        "1686411 0.00658 launcher   wd15         qw    08/28/2013 15:33:54                                    1        \r\n",
        "1686412 0.00651 launcher   wd15         qw    08/28/2013 15:33:54                                    1        \r\n",
        "1686413 0.00644 launcher   wd15         qw    08/28/2013 15:33:54                                    1        \r\n",
        "1686414 0.00638 launcher   wd15         qw    08/28/2013 15:33:54                                    1        \r\n",
        "1686415 0.00631 launcher   wd15         qw    08/28/2013 15:33:55                                    1        \r\n",
        "1686416 0.00625 launcher   wd15         qw    08/28/2013 15:33:55                                    1        \r\n",
        "1686417 0.00619 launcher   wd15         qw    08/28/2013 15:33:55                                    1        \r\n",
        "1686418 0.00613 launcher   wd15         qw    08/28/2013 15:33:55                                    1        \r\n",
        "1686419 0.00607 launcher   wd15         qw    08/28/2013 15:33:55                                    1        \r\n",
        "1686420 0.00601 launcher   wd15         qw    08/28/2013 15:33:55                                    1        \r\n",
        "1686421 0.00595 launcher   wd15         qw    08/28/2013 15:33:55                                    1        \r\n",
        "1686422 0.00590 launcher   wd15         qw    08/28/2013 15:33:55                                    1        \r\n",
        "1686423 0.00584 launcher   wd15         qw    08/28/2013 15:33:55                                    1        \r\n",
        "1686424 0.00579 launcher   wd15         qw    08/28/2013 15:33:55                                    1        \r\n",
        "1686425 0.00573 launcher   wd15         qw    08/28/2013 15:33:55                                    1        \r\n",
        "1686426 0.00568 launcher   wd15         qw    08/28/2013 15:33:55                                    1        \r\n",
        "1686427 0.00563 launcher   wd15         qw    08/28/2013 15:33:55                                    1        \r\n",
        "1686428 0.00558 launcher   wd15         qw    08/28/2013 15:33:55                                    1        \r\n",
        "1686429 0.00553 launcher   wd15         qw    08/28/2013 15:33:55                                    1        \r\n",
        "1686430 0.00548 launcher   wd15         qw    08/28/2013 15:33:55                                    1        \r\n",
        "1686431 0.00543 launcher   wd15         qw    08/28/2013 15:33:55                                    1        \r\n",
        "1686432 0.00539 launcher   wd15         qw    08/28/2013 15:33:55                                    1        \r\n",
        "1686433 0.00534 launcher   wd15         qw    08/28/2013 15:33:55                                    1        \r\n",
        "1686434 0.00530 launcher   wd15         qw    08/28/2013 15:33:55                                    1        \r\n",
        "1686435 0.00525 launcher   wd15         qw    08/28/2013 15:33:55                                    1        \r\n",
        "1686436 0.00521 launcher   wd15         qw    08/28/2013 15:33:55                                    1        \r\n",
        "1686437 0.00517 launcher   wd15         qw    08/28/2013 15:33:55                                    1        \r\n",
        "1686438 0.00512 launcher   wd15         qw    08/28/2013 15:33:55                                    1        \r\n",
        "1686439 0.00508 launcher   wd15         qw    08/28/2013 15:33:55                                    1        \r\n",
        "1686440 0.00504 launcher   wd15         qw    08/28/2013 15:33:55                                    1        \r\n",
        "1686441 0.00500 launcher   wd15         qw    08/28/2013 15:33:55                                    1        \r\n",
        "1686442 0.00496 launcher   wd15         qw    08/28/2013 15:33:55                                    1        \r\n",
        "1686443 0.00492 launcher   wd15         qw    08/28/2013 15:33:55                                    1        \r\n",
        "1686444 0.00488 launcher   wd15         qw    08/28/2013 15:33:55                                    1        \r\n",
        "1686445 0.00485 launcher   wd15         qw    08/28/2013 15:33:55                                    1        \r\n",
        "1686446 0.00481 launcher   wd15         qw    08/28/2013 15:33:55                                    1        \r\n",
        "1686447 0.00477 launcher   wd15         qw    08/28/2013 15:33:55                                    1        \r\n",
        "1686448 0.00473 launcher   wd15         qw    08/28/2013 15:33:55                                    1        \r\n",
        "1686449 0.00470 launcher   wd15         qw    08/28/2013 15:33:55                                    1        \r\n",
        "1686450 0.00466 launcher   wd15         qw    08/28/2013 15:33:55                                    1        \r\n",
        "1686451 0.00463 launcher   wd15         qw    08/28/2013 15:33:55                                    1        \r\n",
        "1686452 0.00460 launcher   wd15         qw    08/28/2013 15:33:55                                    1        \r\n",
        "1686453 0.00456 launcher   wd15         qw    08/28/2013 15:33:55                                    1        \r\n",
        "1686454 0.00453 launcher   wd15         qw    08/28/2013 15:33:55                                    1        \r\n",
        "1686455 0.00450 launcher   wd15         qw    08/28/2013 15:33:55                                    1        \r\n",
        "1686456 0.00446 launcher   wd15         qw    08/28/2013 15:33:55                                    1        \r\n",
        "1686457 0.00443 launcher   wd15         qw    08/28/2013 15:33:55                                    1        \r\n",
        "1686458 0.00440 launcher   wd15         qw    08/28/2013 15:33:55                                    1        \r\n",
        "1686459 0.00437 launcher   wd15         qw    08/28/2013 15:33:55                                    1        \r\n",
        "1686460 0.00434 launcher   wd15         qw    08/28/2013 15:33:55                                    1        \r\n",
        "1686461 0.00431 launcher   wd15         qw    08/28/2013 15:33:55                                    1        \r\n",
        "1686462 0.00428 launcher   wd15         qw    08/28/2013 15:33:55                                    1        \r\n",
        "1686463 0.00425 launcher   wd15         qw    08/28/2013 15:33:55                                    1        \r\n",
        "1686464 0.00422 launcher   wd15         qw    08/28/2013 15:33:55                                    1        \r\n",
        "1686465 0.00419 launcher   wd15         qw    08/28/2013 15:33:55                                    1        \r\n",
        "1686466 0.00417 launcher   wd15         qw    08/28/2013 15:33:55                                    1        \r\n",
        "1686467 0.00414 launcher   wd15         qw    08/28/2013 15:33:55                                    1        \r\n",
        "1686468 0.00411 launcher   wd15         qw    08/28/2013 15:33:55                                    1        \r\n",
        "1686469 0.00409 launcher   wd15         qw    08/28/2013 15:33:55                                    1        \r\n",
        "1686470 0.00406 launcher   wd15         qw    08/28/2013 15:33:55                                    1        \r\n",
        "1686471 0.00403 launcher   wd15         qw    08/28/2013 15:33:55                                    1        \r\n",
        "1686472 0.00401 launcher   wd15         qw    08/28/2013 15:33:55                                    1        \r\n",
        "1686473 0.00398 launcher   wd15         qw    08/28/2013 15:33:55                                    1        \r\n",
        "1686474 0.00396 launcher   wd15         qw    08/28/2013 15:33:55                                    1        \r\n",
        "1686475 0.00393 launcher   wd15         qw    08/28/2013 15:33:55                                    1        \r\n",
        "1686476 0.00391 launcher   wd15         qw    08/28/2013 15:33:55                                    1        \r\n",
        "1686477 0.00388 launcher   wd15         qw    08/28/2013 15:33:55                                    1        \r\n",
        "1686478 0.00386 launcher   wd15         qw    08/28/2013 15:33:55                                    1        \r\n",
        "1686479 0.00383 launcher   wd15         qw    08/28/2013 15:33:55                                    1        \r\n",
        "1686480 0.00381 launcher   wd15         qw    08/28/2013 15:33:55                                    1        \r\n",
        "1686481 0.00379 launcher   wd15         qw    08/28/2013 15:33:55                                    1        \r\n",
        "1686482 0.00377 launcher   wd15         qw    08/28/2013 15:33:55                                    1        \r\n",
        "1686483 0.00374 launcher   wd15         qw    08/28/2013 15:33:55                                    1        \r\n",
        "1686484 0.00372 launcher   wd15         qw    08/28/2013 15:33:55                                    1        \r\n",
        "1686485 0.00370 launcher   wd15         qw    08/28/2013 15:33:55                                    1        \r\n",
        "1686486 0.00368 launcher   wd15         qw    08/28/2013 15:33:55                                    1        \r\n",
        "1686487 0.00366 launcher   wd15         qw    08/28/2013 15:33:55                                    1        \r\n",
        "1686488 0.00363 launcher   wd15         qw    08/28/2013 15:33:55                                    1        \r\n",
        "1686489 0.00361 launcher   wd15         qw    08/28/2013 15:33:56                                    1        \r\n",
        "1686490 0.00359 launcher   wd15         qw    08/28/2013 15:33:56                                    1        \r\n",
        "1686491 0.00357 launcher   wd15         qw    08/28/2013 15:33:56                                    1        \r\n",
        "1686492 0.00355 launcher   wd15         qw    08/28/2013 15:33:56                                    1        \r\n",
        "1686493 0.00353 launcher   wd15         qw    08/28/2013 15:33:56                                    1        \r\n",
        "1686494 0.00351 launcher   wd15         qw    08/28/2013 15:33:56                                    1        \r\n",
        "1686495 0.00349 launcher   wd15         qw    08/28/2013 15:33:56                                    1        \r\n",
        "1686496 0.00347 launcher   wd15         qw    08/28/2013 15:33:56                                    1        \r\n",
        "1686497 0.00345 launcher   wd15         qw    08/28/2013 15:33:56                                    1        \r\n",
        "1686498 0.00343 launcher   wd15         qw    08/28/2013 15:33:56                                    1        \r\n",
        "1686499 0.00342 launcher   wd15         qw    08/28/2013 15:33:56                                    1        \r\n",
        "1686500 0.00340 launcher   wd15         qw    08/28/2013 15:33:56                                    1        \r\n",
        "1686501 0.00338 launcher   wd15         qw    08/28/2013 15:33:56                                    1        \r\n",
        "1686502 0.00336 launcher   wd15         qw    08/28/2013 15:33:56                                    1        \r\n",
        "1686503 0.00334 launcher   wd15         qw    08/28/2013 15:33:56                                    1        \r\n",
        "1686504 0.00332 launcher   wd15         qw    08/28/2013 15:33:56                                    1        \r\n",
        "1686505 0.00331 launcher   wd15         qw    08/28/2013 15:33:56                                    1        \r\n",
        "1686506 0.00329 launcher   wd15         qw    08/28/2013 15:33:56                                    1        \r\n",
        "1686507 0.00327 launcher   wd15         qw    08/28/2013 15:33:56                                    1        \r\n",
        "1686508 0.00326 launcher   wd15         qw    08/28/2013 15:33:56                                    1        \r\n",
        "1686509 0.00324 launcher   wd15         qw    08/28/2013 15:33:56                                    1        \r\n",
        "1686510 0.00322 launcher   wd15         qw    08/28/2013 15:33:56                                    1        \r\n",
        "1686511 0.00321 launcher   wd15         qw    08/28/2013 15:33:56                                    1        \r\n",
        "1686512 0.00319 launcher   wd15         qw    08/28/2013 15:33:56                                    1        \r\n",
        "1686513 0.00317 launcher   wd15         qw    08/28/2013 15:33:56                                    1        \r\n",
        "1686514 0.00316 launcher   wd15         qw    08/28/2013 15:33:56                                    1        \r\n",
        "1686515 0.00314 launcher   wd15         qw    08/28/2013 15:33:56                                    1        \r\n",
        "1686516 0.00312 launcher   wd15         qw    08/28/2013 15:33:56                                    1        \r\n",
        "1686517 0.00311 launcher   wd15         qw    08/28/2013 15:33:56                                    1        \r\n",
        "1686518 0.00309 launcher   wd15         qw    08/28/2013 15:33:56                                    1        \r\n",
        "1686519 0.00308 launcher   wd15         qw    08/28/2013 15:33:56                                    1        \r\n",
        "1686520 0.00306 launcher   wd15         qw    08/28/2013 15:33:56                                    1        \r\n",
        "1686521 0.00305 launcher   wd15         qw    08/28/2013 15:33:56                                    1        \r\n",
        "1686522 0.00303 launcher   wd15         qw    08/28/2013 15:33:56                                    1        \r\n",
        "1686523 0.00302 launcher   wd15         qw    08/28/2013 15:33:56                                    1        \r\n",
        "1686524 0.00300 launcher   wd15         qw    08/28/2013 15:33:56                                    1        \r\n",
        "1686525 0.00299 launcher   wd15         qw    08/28/2013 15:33:56                                    1        \r\n",
        "1686526 0.00298 launcher   wd15         qw    08/28/2013 15:33:56                                    1        \r\n"
       ]
      }
     ],
     "prompt_number": 28
    },
    {
     "cell_type": "code",
     "collapsed": false,
     "input": [
      "!qstat"
     ],
     "language": "python",
     "metadata": {},
     "outputs": [
      {
       "output_type": "stream",
       "stream": "stdout",
       "text": [
        "job-ID  prior   name       user         state submit/start at     queue                          slots ja-task-ID \r\n",
        "-----------------------------------------------------------------------------------------------------------------\r\n",
        "1686033 0.25946 launcher   wd15         r     08/27/2013 15:26:52 wide64@r037                        1        \r\n",
        "1686034 0.25946 launcher   wd15         r     08/27/2013 15:26:52 wide64@r033                        1        \r\n",
        "1686035 0.25946 launcher   wd15         r     08/27/2013 15:26:52 wide64@r037                        1        \r\n",
        "1686036 0.25946 launcher   wd15         r     08/27/2013 15:26:52 wide64@r033                        1        \r\n",
        "1686037 0.25946 launcher   wd15         r     08/27/2013 15:26:52 wide64@r037                        1        \r\n",
        "1686038 0.25946 launcher   wd15         r     08/27/2013 15:26:52 wide64@r033                        1        \r\n",
        "1686039 0.25946 launcher   wd15         r     08/27/2013 15:26:52 ctcms@r016                         1        \r\n",
        "1686040 0.25946 launcher   wd15         r     08/27/2013 15:26:52 wide64@r037                        1        \r\n",
        "1686041 0.25946 launcher   wd15         r     08/27/2013 15:26:52 ctcms@r019                         1        \r\n",
        "1686042 0.25946 launcher   wd15         r     08/27/2013 15:26:52 wide64@r033                        1        \r\n"
       ]
      }
     ],
     "prompt_number": 38
    },
    {
     "cell_type": "code",
     "collapsed": false,
     "input": [
      "%load_ext autoreload\n",
      "%autoreload 2\n",
      "from tools import getSMTRecords, smt_ipy_table\n",
      "records = getSMTRecords()\n",
      "annular17Records = getSMTRecords(records=records, tags=['annular17'])"
     ],
     "language": "python",
     "metadata": {},
     "outputs": [
      {
       "output_type": "stream",
       "stream": "stdout",
       "text": [
        "Created Django record store using PostgreSQL\n"
       ]
      },
      {
       "output_type": "stream",
       "stream": "stderr",
       "text": [
        "/users/wd15/hg/sumatra/sumatra/programs.py:57: Warning: Python could not be found. Please supply the path to the /users/wd15/.virtualenvs/fipy/bin/python executable.\n",
        "  warnings.warn(errmsg)\n"
       ]
      }
     ],
     "prompt_number": 2
    },
    {
     "cell_type": "code",
     "collapsed": false,
     "input": [
      "annular17Records = annular10Records"
     ],
     "language": "python",
     "metadata": {},
     "outputs": [],
     "prompt_number": 6
    },
    {
     "cell_type": "code",
     "collapsed": false,
     "input": [
      "smt_ipy_table(annular17Records, fields=['label', 'timestamp', 'parameters', 'duration', 'version', 'tags'], parameters=['spacing_ratio', 'rboundary', 'Nx', 'kPlus', 'kMinus'])"
     ],
     "language": "python",
     "metadata": {},
     "outputs": [
      {
       "html": [
        "<table border=\"1\" cellpadding=\"3\" cellspacing=\"0\"  style=\"border:1px solid black;border-collapse:collapse;\"><tr><td  style=\"background-color:LightGray;\"><b>Label</b></td><td  style=\"background-color:LightGray;\"><b>Timestamp</b></td><td  style=\"background-color:LightGray;\"><b>Parameters</b></td><td  style=\"background-color:LightGray;\"><b>Duration</b></td><td  style=\"background-color:LightGray;\"><b>Version</b></td><td  style=\"background-color:LightGray;\"><b>Tags</b></td></tr><tr><td  style=\"background-color:Ivory;\"><code>c11bf0602c9e</code></td><td  style=\"background-color:Ivory;\">2013-08-28 20:59</td><td  style=\"background-color:Ivory;\"><code>spacing_ratio: 1.2, rboundary: 2.82094791774e-05, Nx: 200, kPlus: 1000.0, kMinus: 21544346.9003</code></td><td  style=\"background-color:Ivory;\">25m 50.76s</td><td  style=\"background-color:Ivory;\"><code>c96b085a9e3a</code></td><td  style=\"background-color:Ivory;\">annular17</td></tr><tr><td  style=\"background-color:AliceBlue;\"><code>cdecb680ff37</code></td><td  style=\"background-color:AliceBlue;\">2013-08-28 20:58</td><td  style=\"background-color:AliceBlue;\"><code>spacing_ratio: 1.2, rboundary: 2.82094791774e-05, Nx: 200, kPlus: 1000.0, kMinus: 16681005.372</code></td><td  style=\"background-color:AliceBlue;\">21m 14.29s</td><td  style=\"background-color:AliceBlue;\"><code>c96b085a9e3a</code></td><td  style=\"background-color:AliceBlue;\">annular17</td></tr><tr><td  style=\"background-color:Ivory;\"><code>7322d4d59faf</code></td><td  style=\"background-color:Ivory;\">2013-08-28 20:57</td><td  style=\"background-color:Ivory;\"><code>spacing_ratio: 1.2, rboundary: 2.82094791774e-05, Nx: 200, kPlus: 1000.0, kMinus: 12915496.6501</code></td><td  style=\"background-color:Ivory;\">14m 56.64s</td><td  style=\"background-color:Ivory;\"><code>c96b085a9e3a</code></td><td  style=\"background-color:Ivory;\">annular17</td></tr><tr><td  style=\"background-color:AliceBlue;\"><code>b63ddc10acf1</code></td><td  style=\"background-color:AliceBlue;\">2013-08-28 20:56</td><td  style=\"background-color:AliceBlue;\"><code>spacing_ratio: 1.2, rboundary: 2.82094791774e-05, Nx: 200, kPlus: 1000.0, kMinus: 10000000.0</code></td><td  style=\"background-color:AliceBlue;\">21m 6.91s</td><td  style=\"background-color:AliceBlue;\"><code>c96b085a9e3a</code></td><td  style=\"background-color:AliceBlue;\">annular17</td></tr><tr><td  style=\"background-color:Ivory;\"><code>1b9fe57a4df4</code></td><td  style=\"background-color:Ivory;\">2013-08-28 20:55</td><td  style=\"background-color:Ivory;\"><code>spacing_ratio: 1.2, rboundary: 2.82094791774e-05, Nx: 200, kPlus: 784.759970351, kMinus: 77426368.2681</code></td><td  style=\"background-color:Ivory;\">3h 20m 35.72s</td><td  style=\"background-color:Ivory;\"><code>c96b085a9e3a</code></td><td  style=\"background-color:Ivory;\">annular17</td></tr><tr><td  style=\"background-color:AliceBlue;\"><code>efa9a19d4f7b</code></td><td  style=\"background-color:AliceBlue;\">2013-08-28 20:51</td><td  style=\"background-color:AliceBlue;\"><code>spacing_ratio: 1.2, rboundary: 2.82094791774e-05, Nx: 200, kPlus: 784.759970351, kMinus: 59948425.0319</code></td><td  style=\"background-color:AliceBlue;\">3h 7m 46.81s</td><td  style=\"background-color:AliceBlue;\"><code>c96b085a9e3a</code></td><td  style=\"background-color:AliceBlue;\">annular17</td></tr><tr><td  style=\"background-color:Ivory;\"><code>bf4ff5abc19f</code></td><td  style=\"background-color:Ivory;\">2013-08-28 20:50</td><td  style=\"background-color:Ivory;\"><code>spacing_ratio: 1.2, rboundary: 2.82094791774e-05, Nx: 200, kPlus: 784.759970351, kMinus: 46415888.3361</code></td><td  style=\"background-color:Ivory;\">3h 8m 33.24s</td><td  style=\"background-color:Ivory;\"><code>c96b085a9e3a</code></td><td  style=\"background-color:Ivory;\">annular17</td></tr><tr><td  style=\"background-color:AliceBlue;\"><code>86b1a7aa5203</code></td><td  style=\"background-color:AliceBlue;\">2013-08-28 20:48</td><td  style=\"background-color:AliceBlue;\"><code>spacing_ratio: 1.2, rboundary: 2.82094791774e-05, Nx: 200, kPlus: 784.759970351, kMinus: 27825594.0221</code></td><td  style=\"background-color:AliceBlue;\">1h 37m 21.84s</td><td  style=\"background-color:AliceBlue;\"><code>c96b085a9e3a</code></td><td  style=\"background-color:AliceBlue;\">annular17</td></tr><tr><td  style=\"background-color:Ivory;\"><code>f874faa88558</code></td><td  style=\"background-color:Ivory;\">2013-08-28 20:48</td><td  style=\"background-color:Ivory;\"><code>spacing_ratio: 1.2, rboundary: 2.82094791774e-05, Nx: 200, kPlus: 784.759970351, kMinus: 35938136.638</code></td><td  style=\"background-color:Ivory;\">2h 56m 2.85s</td><td  style=\"background-color:Ivory;\"><code>c96b085a9e3a</code></td><td  style=\"background-color:Ivory;\">annular17</td></tr><tr><td  style=\"background-color:AliceBlue;\"><code>d2972fc82022</code></td><td  style=\"background-color:AliceBlue;\">2013-08-28 20:36</td><td  style=\"background-color:AliceBlue;\"><code>spacing_ratio: 1.2, rboundary: 2.82094791774e-05, Nx: 200, kPlus: 615.848211066, kMinus: 16681005.372</code></td><td  style=\"background-color:AliceBlue;\">21m 40.67s</td><td  style=\"background-color:AliceBlue;\"><code>c96b085a9e3a</code></td><td  style=\"background-color:AliceBlue;\">annular17</td></tr><tr><td  style=\"background-color:Ivory;\"><code>9b1c2af8f628</code></td><td  style=\"background-color:Ivory;\">2013-08-28 20:35</td><td  style=\"background-color:Ivory;\"><code>spacing_ratio: 1.2, rboundary: 2.82094791774e-05, Nx: 200, kPlus: 615.848211066, kMinus: 12915496.6501</code></td><td  style=\"background-color:Ivory;\">19m 59.76s</td><td  style=\"background-color:Ivory;\"><code>c96b085a9e3a</code></td><td  style=\"background-color:Ivory;\">annular17</td></tr><tr><td  style=\"background-color:AliceBlue;\"><code>a632bac7df11</code></td><td  style=\"background-color:AliceBlue;\">2013-08-28 20:34</td><td  style=\"background-color:AliceBlue;\"><code>spacing_ratio: 1.2, rboundary: 2.82094791774e-05, Nx: 200, kPlus: 615.848211066, kMinus: 10000000.0</code></td><td  style=\"background-color:AliceBlue;\">12m 42.51s</td><td  style=\"background-color:AliceBlue;\"><code>c96b085a9e3a</code></td><td  style=\"background-color:AliceBlue;\">annular17</td></tr><tr><td  style=\"background-color:Ivory;\"><code>d9f73a903f7c</code></td><td  style=\"background-color:Ivory;\">2013-08-28 20:31</td><td  style=\"background-color:Ivory;\"><code>spacing_ratio: 1.2, rboundary: 2.82094791774e-05, Nx: 200, kPlus: 483.293023857, kMinus: 77426368.2681</code></td><td  style=\"background-color:Ivory;\">4h 37m 34.86s</td><td  style=\"background-color:Ivory;\"><code>c96b085a9e3a</code></td><td  style=\"background-color:Ivory;\">annular17</td></tr><tr><td  style=\"background-color:AliceBlue;\"><code>f0e5c9ad8083</code></td><td  style=\"background-color:AliceBlue;\">2013-08-28 20:28</td><td  style=\"background-color:AliceBlue;\"><code>spacing_ratio: 1.2, rboundary: 2.82094791774e-05, Nx: 200, kPlus: 483.293023857, kMinus: 59948425.0319</code></td><td  style=\"background-color:AliceBlue;\">2h 59m 11.87s</td><td  style=\"background-color:AliceBlue;\"><code>c96b085a9e3a</code></td><td  style=\"background-color:AliceBlue;\">annular17</td></tr><tr><td  style=\"background-color:Ivory;\"><code>faedc3c9cc36</code></td><td  style=\"background-color:Ivory;\">2013-08-28 20:27</td><td  style=\"background-color:Ivory;\"><code>spacing_ratio: 1.2, rboundary: 2.82094791774e-05, Nx: 200, kPlus: 483.293023857, kMinus: 46415888.3361</code></td><td  style=\"background-color:Ivory;\">2h 25m 45.12s</td><td  style=\"background-color:Ivory;\"><code>c96b085a9e3a</code></td><td  style=\"background-color:Ivory;\">annular17</td></tr><tr><td  style=\"background-color:AliceBlue;\"><code>047cfba0c6e6</code></td><td  style=\"background-color:AliceBlue;\">2013-08-28 20:24</td><td  style=\"background-color:AliceBlue;\"><code>spacing_ratio: 1.2, rboundary: 2.82094791774e-05, Nx: 200, kPlus: 483.293023857, kMinus: 27825594.0221</code></td><td  style=\"background-color:AliceBlue;\">2h 29m 58.43s</td><td  style=\"background-color:AliceBlue;\"><code>c96b085a9e3a</code></td><td  style=\"background-color:AliceBlue;\">annular17</td></tr><tr><td  style=\"background-color:Ivory;\"><code>62184d37424d</code></td><td  style=\"background-color:Ivory;\">2013-08-28 20:22</td><td  style=\"background-color:Ivory;\"><code>spacing_ratio: 1.2, rboundary: 2.82094791774e-05, Nx: 200, kPlus: 483.293023857, kMinus: 21544346.9003</code></td><td  style=\"background-color:Ivory;\">1h 17m 12.58s</td><td  style=\"background-color:Ivory;\"><code>c96b085a9e3a</code></td><td  style=\"background-color:Ivory;\">annular17</td></tr><tr><td  style=\"background-color:AliceBlue;\"><code>3cc4159223dc</code></td><td  style=\"background-color:AliceBlue;\">2013-08-28 20:19</td><td  style=\"background-color:AliceBlue;\"><code>spacing_ratio: 1.2, rboundary: 2.82094791774e-05, Nx: 200, kPlus: 483.293023857, kMinus: 12915496.6501</code></td><td  style=\"background-color:AliceBlue;\">15m 5.70s</td><td  style=\"background-color:AliceBlue;\"><code>c96b085a9e3a</code></td><td  style=\"background-color:AliceBlue;\">annular17</td></tr><tr><td  style=\"background-color:Ivory;\"><code>c892eefba020</code></td><td  style=\"background-color:Ivory;\">2013-08-28 20:18</td><td  style=\"background-color:Ivory;\"><code>spacing_ratio: 1.2, rboundary: 2.82094791774e-05, Nx: 200, kPlus: 483.293023857, kMinus: 10000000.0</code></td><td  style=\"background-color:Ivory;\">17m 1.29s</td><td  style=\"background-color:Ivory;\"><code>c96b085a9e3a</code></td><td  style=\"background-color:Ivory;\">annular17</td></tr><tr><td  style=\"background-color:AliceBlue;\"><code>261f43ef652a</code></td><td  style=\"background-color:AliceBlue;\">2013-08-28 20:10</td><td  style=\"background-color:AliceBlue;\"><code>spacing_ratio: 1.2, rboundary: 2.82094791774e-05, Nx: 200, kPlus: 379.269019073, kMinus: 27825594.0221</code></td><td  style=\"background-color:AliceBlue;\">2h 3m 33.33s</td><td  style=\"background-color:AliceBlue;\"><code>c96b085a9e3a</code></td><td  style=\"background-color:AliceBlue;\">annular17</td></tr><tr><td  style=\"background-color:Ivory;\"><code>1a8c610a3675</code></td><td  style=\"background-color:Ivory;\">2013-08-28 20:09</td><td  style=\"background-color:Ivory;\"><code>spacing_ratio: 1.2, rboundary: 2.82094791774e-05, Nx: 200, kPlus: 379.269019073, kMinus: 21544346.9003</code></td><td  style=\"background-color:Ivory;\">1h 26m 49.82s</td><td  style=\"background-color:Ivory;\"><code>c96b085a9e3a</code></td><td  style=\"background-color:Ivory;\">annular17</td></tr><tr><td  style=\"background-color:AliceBlue;\"><code>dd2a08757b19</code></td><td  style=\"background-color:AliceBlue;\">2013-08-28 20:07</td><td  style=\"background-color:AliceBlue;\"><code>spacing_ratio: 1.2, rboundary: 2.82094791774e-05, Nx: 200, kPlus: 379.269019073, kMinus: 12915496.6501</code></td><td  style=\"background-color:AliceBlue;\">16m 0.76s</td><td  style=\"background-color:AliceBlue;\"><code>c96b085a9e3a</code></td><td  style=\"background-color:AliceBlue;\">annular17</td></tr><tr><td  style=\"background-color:Ivory;\"><code>6333788fc9b0</code></td><td  style=\"background-color:Ivory;\">2013-08-28 20:06</td><td  style=\"background-color:Ivory;\"><code>spacing_ratio: 1.2, rboundary: 2.82094791774e-05, Nx: 200, kPlus: 379.269019073, kMinus: 10000000.0</code></td><td  style=\"background-color:Ivory;\">14m 56.36s</td><td  style=\"background-color:Ivory;\"><code>c96b085a9e3a</code></td><td  style=\"background-color:Ivory;\">annular17</td></tr><tr><td  style=\"background-color:AliceBlue;\"><code>6b127a6ff5ab</code></td><td  style=\"background-color:AliceBlue;\">2013-08-28 20:03</td><td  style=\"background-color:AliceBlue;\"><code>spacing_ratio: 1.2, rboundary: 2.82094791774e-05, Nx: 200, kPlus: 297.635144163, kMinus: 77426368.2681</code></td><td  style=\"background-color:AliceBlue;\">3h 4m 57.99s</td><td  style=\"background-color:AliceBlue;\"><code>c96b085a9e3a</code></td><td  style=\"background-color:AliceBlue;\">annular17</td></tr><tr><td  style=\"background-color:Ivory;\"><code>c6c525adff1a</code></td><td  style=\"background-color:Ivory;\">2013-08-28 19:59</td><td  style=\"background-color:Ivory;\"><code>spacing_ratio: 1.2, rboundary: 2.82094791774e-05, Nx: 200, kPlus: 297.635144163, kMinus: 46415888.3361</code></td><td  style=\"background-color:Ivory;\">2h 10m 14.82s</td><td  style=\"background-color:Ivory;\"><code>c96b085a9e3a</code></td><td  style=\"background-color:Ivory;\">annular17</td></tr><tr><td  style=\"background-color:AliceBlue;\"><code>6364e31ee87a</code></td><td  style=\"background-color:AliceBlue;\">2013-08-28 19:58</td><td  style=\"background-color:AliceBlue;\"><code>spacing_ratio: 1.2, rboundary: 2.82094791774e-05, Nx: 200, kPlus: 297.635144163, kMinus: 35938136.638</code></td><td  style=\"background-color:AliceBlue;\">2h 51m 12.27s</td><td  style=\"background-color:AliceBlue;\"><code>c96b085a9e3a</code></td><td  style=\"background-color:AliceBlue;\">annular17</td></tr><tr><td  style=\"background-color:Ivory;\"><code>a56453c72f62</code></td><td  style=\"background-color:Ivory;\">2013-08-28 19:57</td><td  style=\"background-color:Ivory;\"><code>spacing_ratio: 1.2, rboundary: 2.82094791774e-05, Nx: 200, kPlus: 297.635144163, kMinus: 27825594.0221</code></td><td  style=\"background-color:Ivory;\">2h 38m 19.15s</td><td  style=\"background-color:Ivory;\"><code>c96b085a9e3a</code></td><td  style=\"background-color:Ivory;\">annular17</td></tr><tr><td  style=\"background-color:AliceBlue;\"><code>4a91ea9f4d96</code></td><td  style=\"background-color:AliceBlue;\">2013-08-28 19:57</td><td  style=\"background-color:AliceBlue;\"><code>spacing_ratio: 1.2, rboundary: 2.82094791774e-05, Nx: 200, kPlus: 297.635144163, kMinus: 16681005.372</code></td><td  style=\"background-color:AliceBlue;\">21m 16.48s</td><td  style=\"background-color:AliceBlue;\"><code>c96b085a9e3a</code></td><td  style=\"background-color:AliceBlue;\">annular17</td></tr><tr><td  style=\"background-color:Ivory;\"><code>41888455d48b</code></td><td  style=\"background-color:Ivory;\">2013-08-28 19:57</td><td  style=\"background-color:Ivory;\"><code>spacing_ratio: 1.2, rboundary: 2.82094791774e-05, Nx: 200, kPlus: 297.635144163, kMinus: 21544346.9003</code></td><td  style=\"background-color:Ivory;\">1h 41m 2.57s</td><td  style=\"background-color:Ivory;\"><code>c96b085a9e3a</code></td><td  style=\"background-color:Ivory;\">annular17</td></tr><tr><td  style=\"background-color:AliceBlue;\"><code>3672352c5fcd</code></td><td  style=\"background-color:AliceBlue;\">2013-08-28 19:55</td><td  style=\"background-color:AliceBlue;\"><code>spacing_ratio: 1.2, rboundary: 2.82094791774e-05, Nx: 200, kPlus: 297.635144163, kMinus: 10000000.0</code></td><td  style=\"background-color:AliceBlue;\">14m 4.42s</td><td  style=\"background-color:AliceBlue;\"><code>c96b085a9e3a</code></td><td  style=\"background-color:AliceBlue;\">annular17</td></tr><tr><td  style=\"background-color:Ivory;\"><code>2c44c2e5906a</code></td><td  style=\"background-color:Ivory;\">2013-08-28 19:54</td><td  style=\"background-color:Ivory;\"><code>spacing_ratio: 1.2, rboundary: 2.82094791774e-05, Nx: 200, kPlus: 233.572146909, kMinus: 100000000.0</code></td><td  style=\"background-color:Ivory;\">3h 12m 44.35s</td><td  style=\"background-color:Ivory;\"><code>c96b085a9e3a</code></td><td  style=\"background-color:Ivory;\">annular17</td></tr><tr><td  style=\"background-color:AliceBlue;\"><code>2f288ceb43e8</code></td><td  style=\"background-color:AliceBlue;\">2013-08-28 19:54</td><td  style=\"background-color:AliceBlue;\"><code>spacing_ratio: 1.2, rboundary: 2.82094791774e-05, Nx: 200, kPlus: 233.572146909, kMinus: 77426368.2681</code></td><td  style=\"background-color:AliceBlue;\">3h 6m 50.57s</td><td  style=\"background-color:AliceBlue;\"><code>c96b085a9e3a</code></td><td  style=\"background-color:AliceBlue;\">annular17</td></tr><tr><td  style=\"background-color:Ivory;\"><code>33b5b5a528d4</code></td><td  style=\"background-color:Ivory;\">2013-08-28 19:54</td><td  style=\"background-color:Ivory;\"><code>spacing_ratio: 1.2, rboundary: 2.82094791774e-05, Nx: 200, kPlus: 233.572146909, kMinus: 59948425.0319</code></td><td  style=\"background-color:Ivory;\">3h 11m 36.22s</td><td  style=\"background-color:Ivory;\"><code>c96b085a9e3a</code></td><td  style=\"background-color:Ivory;\">annular17</td></tr><tr><td  style=\"background-color:AliceBlue;\"><code>a9f810e1a4c9</code></td><td  style=\"background-color:AliceBlue;\">2013-08-28 19:53</td><td  style=\"background-color:AliceBlue;\"><code>spacing_ratio: 1.2, rboundary: 2.82094791774e-05, Nx: 200, kPlus: 233.572146909, kMinus: 46415888.3361</code></td><td  style=\"background-color:AliceBlue;\">2h 49m 42.17s</td><td  style=\"background-color:AliceBlue;\"><code>c96b085a9e3a</code></td><td  style=\"background-color:AliceBlue;\">annular17</td></tr><tr><td  style=\"background-color:Ivory;\"><code>97261e73a3d3</code></td><td  style=\"background-color:Ivory;\">2013-08-28 19:51</td><td  style=\"background-color:Ivory;\"><code>spacing_ratio: 1.2, rboundary: 2.82094791774e-05, Nx: 200, kPlus: 233.572146909, kMinus: 35938136.638</code></td><td  style=\"background-color:Ivory;\">2h 53m 27.22s</td><td  style=\"background-color:Ivory;\"><code>c96b085a9e3a</code></td><td  style=\"background-color:Ivory;\">annular17</td></tr><tr><td  style=\"background-color:AliceBlue;\"><code>610d8b2e5d2f</code></td><td  style=\"background-color:AliceBlue;\">2013-08-28 19:47</td><td  style=\"background-color:AliceBlue;\"><code>spacing_ratio: 1.2, rboundary: 2.82094791774e-05, Nx: 200, kPlus: 233.572146909, kMinus: 27825594.0221</code></td><td  style=\"background-color:AliceBlue;\">2h 14m 30.53s</td><td  style=\"background-color:AliceBlue;\"><code>c96b085a9e3a</code></td><td  style=\"background-color:AliceBlue;\">annular17</td></tr><tr><td  style=\"background-color:Ivory;\"><code>6b324a4070b5</code></td><td  style=\"background-color:Ivory;\">2013-08-28 19:44</td><td  style=\"background-color:Ivory;\"><code>spacing_ratio: 1.2, rboundary: 2.82094791774e-05, Nx: 200, kPlus: 233.572146909, kMinus: 21544346.9003</code></td><td  style=\"background-color:Ivory;\">1h 30m 43.82s</td><td  style=\"background-color:Ivory;\"><code>c96b085a9e3a</code></td><td  style=\"background-color:Ivory;\">annular17</td></tr><tr><td  style=\"background-color:AliceBlue;\"><code>092cb16d3c4b</code></td><td  style=\"background-color:AliceBlue;\">2013-08-28 19:42</td><td  style=\"background-color:AliceBlue;\"><code>spacing_ratio: 1.2, rboundary: 2.82094791774e-05, Nx: 200, kPlus: 233.572146909, kMinus: 16681005.372</code></td><td  style=\"background-color:AliceBlue;\">23m 13.02s</td><td  style=\"background-color:AliceBlue;\"><code>c96b085a9e3a</code></td><td  style=\"background-color:AliceBlue;\">annular17</td></tr><tr><td  style=\"background-color:Ivory;\"><code>a6b48e77253d</code></td><td  style=\"background-color:Ivory;\">2013-08-28 19:41</td><td  style=\"background-color:Ivory;\"><code>spacing_ratio: 1.2, rboundary: 2.82094791774e-05, Nx: 200, kPlus: 233.572146909, kMinus: 12915496.6501</code></td><td  style=\"background-color:Ivory;\">17m 1.02s</td><td  style=\"background-color:Ivory;\"><code>c96b085a9e3a</code></td><td  style=\"background-color:Ivory;\">annular17</td></tr><tr><td  style=\"background-color:AliceBlue;\"><code>36fb60bdd73a</code></td><td  style=\"background-color:AliceBlue;\">2013-08-28 19:39</td><td  style=\"background-color:AliceBlue;\"><code>spacing_ratio: 1.2, rboundary: 2.82094791774e-05, Nx: 200, kPlus: 233.572146909, kMinus: 10000000.0</code></td><td  style=\"background-color:AliceBlue;\">17m 7.90s</td><td  style=\"background-color:AliceBlue;\"><code>c96b085a9e3a</code></td><td  style=\"background-color:AliceBlue;\">annular17</td></tr><tr><td  style=\"background-color:Ivory;\"><code>5ac20c4a056c</code></td><td  style=\"background-color:Ivory;\">2013-08-28 19:36</td><td  style=\"background-color:Ivory;\"><code>spacing_ratio: 1.2, rboundary: 2.82094791774e-05, Nx: 200, kPlus: 183.298071083, kMinus: 100000000.0</code></td><td  style=\"background-color:Ivory;\">3h 8m 47.00s</td><td  style=\"background-color:Ivory;\"><code>c96b085a9e3a</code></td><td  style=\"background-color:Ivory;\">annular17</td></tr><tr><td  style=\"background-color:AliceBlue;\"><code>cb1dae54ca97</code></td><td  style=\"background-color:AliceBlue;\">2013-08-28 19:35</td><td  style=\"background-color:AliceBlue;\"><code>spacing_ratio: 1.2, rboundary: 2.82094791774e-05, Nx: 200, kPlus: 183.298071083, kMinus: 59948425.0319</code></td><td  style=\"background-color:AliceBlue;\">3h 39m 9.45s</td><td  style=\"background-color:AliceBlue;\"><code>c96b085a9e3a</code></td><td  style=\"background-color:AliceBlue;\">annular17</td></tr><tr><td  style=\"background-color:Ivory;\"><code>a9f3175c35c0</code></td><td  style=\"background-color:Ivory;\">2013-08-28 19:34</td><td  style=\"background-color:Ivory;\"><code>spacing_ratio: 1.2, rboundary: 2.82094791774e-05, Nx: 200, kPlus: 183.298071083, kMinus: 46415888.3361</code></td><td  style=\"background-color:Ivory;\">3h 32m 16.14s</td><td  style=\"background-color:Ivory;\"><code>c96b085a9e3a</code></td><td  style=\"background-color:Ivory;\">annular17</td></tr><tr><td  style=\"background-color:AliceBlue;\"><code>10444ba2e0ca</code></td><td  style=\"background-color:AliceBlue;\">2013-08-28 19:30</td><td  style=\"background-color:AliceBlue;\"><code>spacing_ratio: 1.2, rboundary: 2.82094791774e-05, Nx: 200, kPlus: 183.298071083, kMinus: 35938136.638</code></td><td  style=\"background-color:AliceBlue;\">2h 24m 49.68s</td><td  style=\"background-color:AliceBlue;\"><code>c96b085a9e3a</code></td><td  style=\"background-color:AliceBlue;\">annular17</td></tr><tr><td  style=\"background-color:Ivory;\"><code>db9fed52b501</code></td><td  style=\"background-color:Ivory;\">2013-08-28 19:30</td><td  style=\"background-color:Ivory;\"><code>spacing_ratio: 1.2, rboundary: 2.82094791774e-05, Nx: 200, kPlus: 183.298071083, kMinus: 27825594.0221</code></td><td  style=\"background-color:Ivory;\">2h 12m 5.45s</td><td  style=\"background-color:Ivory;\"><code>c96b085a9e3a</code></td><td  style=\"background-color:Ivory;\">annular17</td></tr><tr><td  style=\"background-color:AliceBlue;\"><code>634e4c954e2f</code></td><td  style=\"background-color:AliceBlue;\">2013-08-28 19:29</td><td  style=\"background-color:AliceBlue;\"><code>spacing_ratio: 1.2, rboundary: 2.82094791774e-05, Nx: 200, kPlus: 183.298071083, kMinus: 21544346.9003</code></td><td  style=\"background-color:AliceBlue;\">1h 58m 4.30s</td><td  style=\"background-color:AliceBlue;\"><code>c96b085a9e3a</code></td><td  style=\"background-color:AliceBlue;\">annular17</td></tr><tr><td  style=\"background-color:Ivory;\"><code>5f0786b0ff18</code></td><td  style=\"background-color:Ivory;\">2013-08-28 19:28</td><td  style=\"background-color:Ivory;\"><code>spacing_ratio: 1.2, rboundary: 2.82094791774e-05, Nx: 200, kPlus: 183.298071083, kMinus: 16681005.372</code></td><td  style=\"background-color:Ivory;\">25m 26.92s</td><td  style=\"background-color:Ivory;\"><code>c96b085a9e3a</code></td><td  style=\"background-color:Ivory;\">annular17</td></tr><tr><td  style=\"background-color:AliceBlue;\"><code>76cf57a18e92</code></td><td  style=\"background-color:AliceBlue;\">2013-08-28 19:27</td><td  style=\"background-color:AliceBlue;\"><code>spacing_ratio: 1.2, rboundary: 2.82094791774e-05, Nx: 200, kPlus: 183.298071083, kMinus: 12915496.6501</code></td><td  style=\"background-color:AliceBlue;\">19m 27.37s</td><td  style=\"background-color:AliceBlue;\"><code>c96b085a9e3a</code></td><td  style=\"background-color:AliceBlue;\">annular17</td></tr><tr><td  style=\"background-color:Ivory;\"><code>7be49f9a6955</code></td><td  style=\"background-color:Ivory;\">2013-08-28 19:24</td><td  style=\"background-color:Ivory;\"><code>spacing_ratio: 1.2, rboundary: 2.82094791774e-05, Nx: 200, kPlus: 183.298071083, kMinus: 10000000.0</code></td><td  style=\"background-color:Ivory;\">15m 52.57s</td><td  style=\"background-color:Ivory;\"><code>c96b085a9e3a</code></td><td  style=\"background-color:Ivory;\">annular17</td></tr><tr><td  style=\"background-color:AliceBlue;\"><code>44f8898c4fa4</code></td><td  style=\"background-color:AliceBlue;\">2013-08-28 19:24</td><td  style=\"background-color:AliceBlue;\"><code>spacing_ratio: 1.2, rboundary: 2.82094791774e-05, Nx: 200, kPlus: 143.844988829, kMinus: 100000000.0</code></td><td  style=\"background-color:AliceBlue;\">4h 35m 47.48s</td><td  style=\"background-color:AliceBlue;\"><code>c96b085a9e3a</code></td><td  style=\"background-color:AliceBlue;\">annular17</td></tr><tr><td  style=\"background-color:Ivory;\"><code>72967dac70cf</code></td><td  style=\"background-color:Ivory;\">2013-08-28 19:24</td><td  style=\"background-color:Ivory;\"><code>spacing_ratio: 1.2, rboundary: 2.82094791774e-05, Nx: 200, kPlus: 143.844988829, kMinus: 77426368.2681</code></td><td  style=\"background-color:Ivory;\">3h 35m 9.65s</td><td  style=\"background-color:Ivory;\"><code>c96b085a9e3a</code></td><td  style=\"background-color:Ivory;\">annular17</td></tr><tr><td  style=\"background-color:AliceBlue;\"><code>fc126a1cf332</code></td><td  style=\"background-color:AliceBlue;\">2013-08-28 19:23</td><td  style=\"background-color:AliceBlue;\"><code>spacing_ratio: 1.2, rboundary: 2.82094791774e-05, Nx: 200, kPlus: 143.844988829, kMinus: 59948425.0319</code></td><td  style=\"background-color:AliceBlue;\">3h 41m 15.91s</td><td  style=\"background-color:AliceBlue;\"><code>c96b085a9e3a</code></td><td  style=\"background-color:AliceBlue;\">annular17</td></tr><tr><td  style=\"background-color:Ivory;\"><code>666e48520299</code></td><td  style=\"background-color:Ivory;\">2013-08-28 19:19</td><td  style=\"background-color:Ivory;\"><code>spacing_ratio: 1.2, rboundary: 2.82094791774e-05, Nx: 200, kPlus: 143.844988829, kMinus: 46415888.3361</code></td><td  style=\"background-color:Ivory;\">3h 31m 17.77s</td><td  style=\"background-color:Ivory;\"><code>c96b085a9e3a</code></td><td  style=\"background-color:Ivory;\">annular17</td></tr><tr><td  style=\"background-color:AliceBlue;\"><code>611ccad33815</code></td><td  style=\"background-color:AliceBlue;\">2013-08-28 19:18</td><td  style=\"background-color:AliceBlue;\"><code>spacing_ratio: 1.2, rboundary: 2.82094791774e-05, Nx: 200, kPlus: 143.844988829, kMinus: 35938136.638</code></td><td  style=\"background-color:AliceBlue;\">3h 20m 10.34s</td><td  style=\"background-color:AliceBlue;\"><code>c96b085a9e3a</code></td><td  style=\"background-color:AliceBlue;\">annular17</td></tr><tr><td  style=\"background-color:Ivory;\"><code>9b91e572313b</code></td><td  style=\"background-color:Ivory;\">2013-08-28 19:18</td><td  style=\"background-color:Ivory;\"><code>spacing_ratio: 1.2, rboundary: 2.82094791774e-05, Nx: 200, kPlus: 143.844988829, kMinus: 27825594.0221</code></td><td  style=\"background-color:Ivory;\">2h 16m 13.19s</td><td  style=\"background-color:Ivory;\"><code>c96b085a9e3a</code></td><td  style=\"background-color:Ivory;\">annular17</td></tr><tr><td  style=\"background-color:AliceBlue;\"><code>12b93a714dc3</code></td><td  style=\"background-color:AliceBlue;\">2013-08-28 19:15</td><td  style=\"background-color:AliceBlue;\"><code>spacing_ratio: 1.2, rboundary: 2.82094791774e-05, Nx: 200, kPlus: 143.844988829, kMinus: 21544346.9003</code></td><td  style=\"background-color:AliceBlue;\">1h 45m 20.65s</td><td  style=\"background-color:AliceBlue;\"><code>c96b085a9e3a</code></td><td  style=\"background-color:AliceBlue;\">annular17</td></tr><tr><td  style=\"background-color:Ivory;\"><code>e66dc869de71</code></td><td  style=\"background-color:Ivory;\">2013-08-28 19:15</td><td  style=\"background-color:Ivory;\"><code>spacing_ratio: 1.2, rboundary: 2.82094791774e-05, Nx: 200, kPlus: 143.844988829, kMinus: 16681005.372</code></td><td  style=\"background-color:Ivory;\">51m 54.57s</td><td  style=\"background-color:Ivory;\"><code>c96b085a9e3a</code></td><td  style=\"background-color:Ivory;\">annular17</td></tr><tr><td  style=\"background-color:AliceBlue;\"><code>2c595ee0aaf5</code></td><td  style=\"background-color:AliceBlue;\">2013-08-28 19:11</td><td  style=\"background-color:AliceBlue;\"><code>spacing_ratio: 1.2, rboundary: 2.82094791774e-05, Nx: 200, kPlus: 143.844988829, kMinus: 12915496.6501</code></td><td  style=\"background-color:AliceBlue;\">22m 56.77s</td><td  style=\"background-color:AliceBlue;\"><code>c96b085a9e3a</code></td><td  style=\"background-color:AliceBlue;\">annular17</td></tr><tr><td  style=\"background-color:Ivory;\"><code>529579790cb5</code></td><td  style=\"background-color:Ivory;\">2013-08-28 19:09</td><td  style=\"background-color:Ivory;\"><code>spacing_ratio: 1.2, rboundary: 2.82094791774e-05, Nx: 200, kPlus: 143.844988829, kMinus: 10000000.0</code></td><td  style=\"background-color:Ivory;\">17m 48.14s</td><td  style=\"background-color:Ivory;\"><code>c96b085a9e3a</code></td><td  style=\"background-color:Ivory;\">annular17</td></tr><tr><td  style=\"background-color:AliceBlue;\"><code>0ff2130389aa</code></td><td  style=\"background-color:AliceBlue;\">2013-08-28 19:04</td><td  style=\"background-color:AliceBlue;\"><code>spacing_ratio: 1.2, rboundary: 2.82094791774e-05, Nx: 200, kPlus: 112.883789168, kMinus: 100000000.0</code></td><td  style=\"background-color:AliceBlue;\">3h 35m 33.93s</td><td  style=\"background-color:AliceBlue;\"><code>c96b085a9e3a</code></td><td  style=\"background-color:AliceBlue;\">annular17</td></tr><tr><td  style=\"background-color:Ivory;\"><code>59de87c9596b</code></td><td  style=\"background-color:Ivory;\">2013-08-28 19:03</td><td  style=\"background-color:Ivory;\"><code>spacing_ratio: 1.2, rboundary: 2.82094791774e-05, Nx: 200, kPlus: 112.883789168, kMinus: 59948425.0319</code></td><td  style=\"background-color:Ivory;\">3h 25m 22.09s</td><td  style=\"background-color:Ivory;\"><code>c96b085a9e3a</code></td><td  style=\"background-color:Ivory;\">annular17</td></tr><tr><td  style=\"background-color:AliceBlue;\"><code>d0dd4ffb4916</code></td><td  style=\"background-color:AliceBlue;\">2013-08-28 19:03</td><td  style=\"background-color:AliceBlue;\"><code>spacing_ratio: 1.2, rboundary: 2.82094791774e-05, Nx: 200, kPlus: 112.883789168, kMinus: 77426368.2681</code></td><td  style=\"background-color:AliceBlue;\">3h 27m 33.46s</td><td  style=\"background-color:AliceBlue;\"><code>c96b085a9e3a</code></td><td  style=\"background-color:AliceBlue;\">annular17</td></tr><tr><td  style=\"background-color:Ivory;\"><code>109b21308a00</code></td><td  style=\"background-color:Ivory;\">2013-08-28 19:02</td><td  style=\"background-color:Ivory;\"><code>spacing_ratio: 1.2, rboundary: 2.82094791774e-05, Nx: 200, kPlus: 112.883789168, kMinus: 46415888.3361</code></td><td  style=\"background-color:Ivory;\">3h 12m 55.58s</td><td  style=\"background-color:Ivory;\"><code>c96b085a9e3a</code></td><td  style=\"background-color:Ivory;\">annular17</td></tr><tr><td  style=\"background-color:AliceBlue;\"><code>12cd3192fe81</code></td><td  style=\"background-color:AliceBlue;\">2013-08-28 19:00</td><td  style=\"background-color:AliceBlue;\"><code>spacing_ratio: 1.2, rboundary: 2.82094791774e-05, Nx: 200, kPlus: 112.883789168, kMinus: 35938136.638</code></td><td  style=\"background-color:AliceBlue;\">3h 53m 53.73s</td><td  style=\"background-color:AliceBlue;\"><code>c96b085a9e3a</code></td><td  style=\"background-color:AliceBlue;\">annular17</td></tr><tr><td  style=\"background-color:Ivory;\"><code>c8a70d35a2c5</code></td><td  style=\"background-color:Ivory;\">2013-08-28 19:00</td><td  style=\"background-color:Ivory;\"><code>spacing_ratio: 1.2, rboundary: 2.82094791774e-05, Nx: 200, kPlus: 112.883789168, kMinus: 21544346.9003</code></td><td  style=\"background-color:Ivory;\">2h 5m 56.57s</td><td  style=\"background-color:Ivory;\"><code>c96b085a9e3a</code></td><td  style=\"background-color:Ivory;\">annular17</td></tr><tr><td  style=\"background-color:AliceBlue;\"><code>ab8384cc3490</code></td><td  style=\"background-color:AliceBlue;\">2013-08-28 19:00</td><td  style=\"background-color:AliceBlue;\"><code>spacing_ratio: 1.2, rboundary: 2.82094791774e-05, Nx: 200, kPlus: 112.883789168, kMinus: 27825594.0221</code></td><td  style=\"background-color:AliceBlue;\">2h 46m 11.59s</td><td  style=\"background-color:AliceBlue;\"><code>c96b085a9e3a</code></td><td  style=\"background-color:AliceBlue;\">annular17</td></tr><tr><td  style=\"background-color:Ivory;\"><code>856d83a11307</code></td><td  style=\"background-color:Ivory;\">2013-08-28 18:50</td><td  style=\"background-color:Ivory;\"><code>spacing_ratio: 1.2, rboundary: 2.82094791774e-05, Nx: 200, kPlus: 88.586679041, kMinus: 100000000.0</code></td><td  style=\"background-color:Ivory;\">4h 37m 44.51s</td><td  style=\"background-color:Ivory;\"><code>c96b085a9e3a</code></td><td  style=\"background-color:Ivory;\">annular17</td></tr><tr><td  style=\"background-color:AliceBlue;\"><code>8c4f47eebb4b</code></td><td  style=\"background-color:AliceBlue;\">2013-08-28 18:50</td><td  style=\"background-color:AliceBlue;\"><code>spacing_ratio: 1.2, rboundary: 2.82094791774e-05, Nx: 200, kPlus: 112.883789168, kMinus: 16681005.372</code></td><td  style=\"background-color:AliceBlue;\">58m 38.25s</td><td  style=\"background-color:AliceBlue;\"><code>c96b085a9e3a</code></td><td  style=\"background-color:AliceBlue;\">annular17</td></tr><tr><td  style=\"background-color:Ivory;\"><code>5e8a9705948b</code></td><td  style=\"background-color:Ivory;\">2013-08-28 18:50</td><td  style=\"background-color:Ivory;\"><code>spacing_ratio: 1.2, rboundary: 2.82094791774e-05, Nx: 200, kPlus: 88.586679041, kMinus: 77426368.2681</code></td><td  style=\"background-color:Ivory;\">4h 32m 24.61s</td><td  style=\"background-color:Ivory;\"><code>c96b085a9e3a</code></td><td  style=\"background-color:Ivory;\">annular17</td></tr><tr><td  style=\"background-color:AliceBlue;\"><code>dffdc6b3007a</code></td><td  style=\"background-color:AliceBlue;\">2013-08-28 18:50</td><td  style=\"background-color:AliceBlue;\"><code>spacing_ratio: 1.2, rboundary: 2.82094791774e-05, Nx: 200, kPlus: 88.586679041, kMinus: 46415888.3361</code></td><td  style=\"background-color:AliceBlue;\">4h 31m 7.33s</td><td  style=\"background-color:AliceBlue;\"><code>c96b085a9e3a</code></td><td  style=\"background-color:AliceBlue;\">annular17</td></tr><tr><td  style=\"background-color:Ivory;\"><code>b7b761bdfb3c</code></td><td  style=\"background-color:Ivory;\">2013-08-28 18:50</td><td  style=\"background-color:Ivory;\"><code>spacing_ratio: 1.2, rboundary: 2.82094791774e-05, Nx: 200, kPlus: 88.586679041, kMinus: 59948425.0319</code></td><td  style=\"background-color:Ivory;\">4h 34m 28.95s</td><td  style=\"background-color:Ivory;\"><code>c96b085a9e3a</code></td><td  style=\"background-color:Ivory;\">annular17</td></tr><tr><td  style=\"background-color:AliceBlue;\"><code>ab6663e46533</code></td><td  style=\"background-color:AliceBlue;\">2013-08-28 18:50</td><td  style=\"background-color:AliceBlue;\"><code>spacing_ratio: 1.2, rboundary: 2.82094791774e-05, Nx: 200, kPlus: 112.883789168, kMinus: 12915496.6501</code></td><td  style=\"background-color:AliceBlue;\">32m 46.61s</td><td  style=\"background-color:AliceBlue;\"><code>c96b085a9e3a</code></td><td  style=\"background-color:AliceBlue;\">annular17</td></tr><tr><td  style=\"background-color:Ivory;\"><code>5f2231af1211</code></td><td  style=\"background-color:Ivory;\">2013-08-28 18:50</td><td  style=\"background-color:Ivory;\"><code>spacing_ratio: 1.2, rboundary: 2.82094791774e-05, Nx: 200, kPlus: 112.883789168, kMinus: 10000000.0</code></td><td  style=\"background-color:Ivory;\">23m 18.20s</td><td  style=\"background-color:Ivory;\"><code>c96b085a9e3a</code></td><td  style=\"background-color:Ivory;\">annular17</td></tr><tr><td  style=\"background-color:AliceBlue;\"><code>cc1fccc6a664</code></td><td  style=\"background-color:AliceBlue;\">2013-08-28 18:50</td><td  style=\"background-color:AliceBlue;\"><code>spacing_ratio: 1.2, rboundary: 2.82094791774e-05, Nx: 200, kPlus: 88.586679041, kMinus: 35938136.638</code></td><td  style=\"background-color:AliceBlue;\">5h 8.95s</td><td  style=\"background-color:AliceBlue;\"><code>c96b085a9e3a</code></td><td  style=\"background-color:AliceBlue;\">annular17</td></tr><tr><td  style=\"background-color:Ivory;\"><code>954a122a807c</code></td><td  style=\"background-color:Ivory;\">2013-08-28 18:50</td><td  style=\"background-color:Ivory;\"><code>spacing_ratio: 1.2, rboundary: 2.82094791774e-05, Nx: 200, kPlus: 88.586679041, kMinus: 10000000.0</code></td><td  style=\"background-color:Ivory;\">27m 5.61s</td><td  style=\"background-color:Ivory;\"><code>c96b085a9e3a</code></td><td  style=\"background-color:Ivory;\">annular17</td></tr><tr><td  style=\"background-color:AliceBlue;\"><code>c8022dd667a8</code></td><td  style=\"background-color:AliceBlue;\">2013-08-28 18:50</td><td  style=\"background-color:AliceBlue;\"><code>spacing_ratio: 1.2, rboundary: 2.82094791774e-05, Nx: 200, kPlus: 88.586679041, kMinus: 16681005.372</code></td><td  style=\"background-color:AliceBlue;\">1h 36m 34.79s</td><td  style=\"background-color:AliceBlue;\"><code>c96b085a9e3a</code></td><td  style=\"background-color:AliceBlue;\">annular17</td></tr><tr><td  style=\"background-color:Ivory;\"><code>2514d882fd1e</code></td><td  style=\"background-color:Ivory;\">2013-08-28 18:50</td><td  style=\"background-color:Ivory;\"><code>spacing_ratio: 1.2, rboundary: 2.82094791774e-05, Nx: 200, kPlus: 88.586679041, kMinus: 12915496.6501</code></td><td  style=\"background-color:Ivory;\">37m 42.30s</td><td  style=\"background-color:Ivory;\"><code>c96b085a9e3a</code></td><td  style=\"background-color:Ivory;\">annular17</td></tr><tr><td  style=\"background-color:AliceBlue;\"><code>cec4948bd428</code></td><td  style=\"background-color:AliceBlue;\">2013-08-28 18:50</td><td  style=\"background-color:AliceBlue;\"><code>spacing_ratio: 1.2, rboundary: 2.82094791774e-05, Nx: 200, kPlus: 69.5192796178, kMinus: 59948425.0319</code></td><td  style=\"background-color:AliceBlue;\">4h 31m 12.76s</td><td  style=\"background-color:AliceBlue;\"><code>c96b085a9e3a</code></td><td  style=\"background-color:AliceBlue;\">annular17</td></tr><tr><td  style=\"background-color:Ivory;\"><code>8252f25e5be1</code></td><td  style=\"background-color:Ivory;\">2013-08-28 18:50</td><td  style=\"background-color:Ivory;\"><code>spacing_ratio: 1.2, rboundary: 2.82094791774e-05, Nx: 200, kPlus: 88.586679041, kMinus: 27825594.0221</code></td><td  style=\"background-color:Ivory;\">4h 57m 46.97s</td><td  style=\"background-color:Ivory;\"><code>c96b085a9e3a</code></td><td  style=\"background-color:Ivory;\">annular17</td></tr><tr><td  style=\"background-color:AliceBlue;\"><code>e76d549c476e</code></td><td  style=\"background-color:AliceBlue;\">2013-08-28 18:50</td><td  style=\"background-color:AliceBlue;\"><code>spacing_ratio: 1.2, rboundary: 2.82094791774e-05, Nx: 200, kPlus: 88.586679041, kMinus: 21544346.9003</code></td><td  style=\"background-color:AliceBlue;\">2h 54m 44.80s</td><td  style=\"background-color:AliceBlue;\"><code>c96b085a9e3a</code></td><td  style=\"background-color:AliceBlue;\">annular17</td></tr><tr><td  style=\"background-color:Ivory;\"><code>d736a6a1ed2a</code></td><td  style=\"background-color:Ivory;\">2013-08-28 18:50</td><td  style=\"background-color:Ivory;\"><code>spacing_ratio: 1.2, rboundary: 2.82094791774e-05, Nx: 200, kPlus: 69.5192796178, kMinus: 77426368.2681</code></td><td  style=\"background-color:Ivory;\">4h 30m 32.20s</td><td  style=\"background-color:Ivory;\"><code>c96b085a9e3a</code></td><td  style=\"background-color:Ivory;\">annular17</td></tr><tr><td  style=\"background-color:AliceBlue;\"><code>5b0c1510dd04</code></td><td  style=\"background-color:AliceBlue;\">2013-08-28 18:50</td><td  style=\"background-color:AliceBlue;\"><code>spacing_ratio: 1.2, rboundary: 2.82094791774e-05, Nx: 200, kPlus: 69.5192796178, kMinus: 100000000.0</code></td><td  style=\"background-color:AliceBlue;\">4h 26m 37.96s</td><td  style=\"background-color:AliceBlue;\"><code>c96b085a9e3a</code></td><td  style=\"background-color:AliceBlue;\">annular17</td></tr><tr><td  style=\"background-color:Ivory;\"><code>4e056cd38668</code></td><td  style=\"background-color:Ivory;\">2013-08-28 18:46</td><td  style=\"background-color:Ivory;\"><code>spacing_ratio: 1.2, rboundary: 2.82094791774e-05, Nx: 200, kPlus: 69.5192796178, kMinus: 46415888.3361</code></td><td  style=\"background-color:Ivory;\">3h 35m 46.65s</td><td  style=\"background-color:Ivory;\"><code>c96b085a9e3a</code></td><td  style=\"background-color:Ivory;\">annular17</td></tr><tr><td  style=\"background-color:AliceBlue;\"><code>bdd65b3955f2</code></td><td  style=\"background-color:AliceBlue;\">2013-08-28 18:39</td><td  style=\"background-color:AliceBlue;\"><code>spacing_ratio: 1.2, rboundary: 2.82094791774e-05, Nx: 200, kPlus: 69.5192796178, kMinus: 35938136.638</code></td><td  style=\"background-color:AliceBlue;\">3h 55m 57.43s</td><td  style=\"background-color:AliceBlue;\"><code>c96b085a9e3a</code></td><td  style=\"background-color:AliceBlue;\">annular17</td></tr><tr><td  style=\"background-color:Ivory;\"><code>b4bc99c918b7</code></td><td  style=\"background-color:Ivory;\">2013-08-28 17:29</td><td  style=\"background-color:Ivory;\"><code>spacing_ratio: 1.2, rboundary: 2.82094791774e-05, Nx: 200, kPlus: 54.5559478117, kMinus: 27825594.0221</code></td><td  style=\"background-color:Ivory;\">4h 25m 42.78s</td><td  style=\"background-color:Ivory;\"><code>c96b085a9e3a</code></td><td  style=\"background-color:Ivory;\">annular17</td></tr><tr><td  style=\"background-color:AliceBlue;\"><code>df1ac6da68f4</code></td><td  style=\"background-color:AliceBlue;\">2013-08-28 17:29</td><td  style=\"background-color:AliceBlue;\"><code>spacing_ratio: 1.2, rboundary: 2.82094791774e-05, Nx: 200, kPlus: 54.5559478117, kMinus: 46415888.3361</code></td><td  style=\"background-color:AliceBlue;\">4h 8m 31.06s</td><td  style=\"background-color:AliceBlue;\"><code>c96b085a9e3a</code></td><td  style=\"background-color:AliceBlue;\">annular17</td></tr><tr><td  style=\"background-color:Ivory;\"><code>d7263d26f038</code></td><td  style=\"background-color:Ivory;\">2013-08-28 17:29</td><td  style=\"background-color:Ivory;\"><code>spacing_ratio: 1.2, rboundary: 2.82094791774e-05, Nx: 200, kPlus: 54.5559478117, kMinus: 16681005.372</code></td><td  style=\"background-color:Ivory;\">4h 50m 18.84s</td><td  style=\"background-color:Ivory;\"><code>c96b085a9e3a</code></td><td  style=\"background-color:Ivory;\">annular17</td></tr><tr><td  style=\"background-color:AliceBlue;\"><code>74516b89820c</code></td><td  style=\"background-color:AliceBlue;\">2013-08-28 17:29</td><td  style=\"background-color:AliceBlue;\"><code>spacing_ratio: 1.2, rboundary: 2.82094791774e-05, Nx: 200, kPlus: 54.5559478117, kMinus: 35938136.638</code></td><td  style=\"background-color:AliceBlue;\">4h 20m 0.29s</td><td  style=\"background-color:AliceBlue;\"><code>c96b085a9e3a</code></td><td  style=\"background-color:AliceBlue;\">annular17</td></tr><tr><td  style=\"background-color:Ivory;\"><code>1d236e5e073d</code></td><td  style=\"background-color:Ivory;\">2013-08-28 17:29</td><td  style=\"background-color:Ivory;\"><code>spacing_ratio: 1.2, rboundary: 2.82094791774e-05, Nx: 200, kPlus: 54.5559478117, kMinus: 77426368.2681</code></td><td  style=\"background-color:Ivory;\">3h 58m 43.94s</td><td  style=\"background-color:Ivory;\"><code>c96b085a9e3a</code></td><td  style=\"background-color:Ivory;\">annular17</td></tr><tr><td  style=\"background-color:AliceBlue;\"><code>8582f96f2898</code></td><td  style=\"background-color:AliceBlue;\">2013-08-28 17:29</td><td  style=\"background-color:AliceBlue;\"><code>spacing_ratio: 1.2, rboundary: 2.82094791774e-05, Nx: 200, kPlus: 54.5559478117, kMinus: 59948425.0319</code></td><td  style=\"background-color:AliceBlue;\">4h 6m 54.01s</td><td  style=\"background-color:AliceBlue;\"><code>c96b085a9e3a</code></td><td  style=\"background-color:AliceBlue;\">annular17</td></tr><tr><td  style=\"background-color:Ivory;\"><code>3eda512464e0</code></td><td  style=\"background-color:Ivory;\">2013-08-28 17:29</td><td  style=\"background-color:Ivory;\"><code>spacing_ratio: 1.2, rboundary: 2.82094791774e-05, Nx: 200, kPlus: 54.5559478117, kMinus: 21544346.9003</code></td><td  style=\"background-color:Ivory;\">4h 38m 57.18s</td><td  style=\"background-color:Ivory;\"><code>c96b085a9e3a</code></td><td  style=\"background-color:Ivory;\">annular17</td></tr><tr><td  style=\"background-color:AliceBlue;\"><code>e23cd847fdb0</code></td><td  style=\"background-color:AliceBlue;\">2013-08-28 17:29</td><td  style=\"background-color:AliceBlue;\"><code>spacing_ratio: 1.2, rboundary: 2.82094791774e-05, Nx: 200, kPlus: 54.5559478117, kMinus: 100000000.0</code></td><td  style=\"background-color:AliceBlue;\">3h 57m 0.52s</td><td  style=\"background-color:AliceBlue;\"><code>c96b085a9e3a</code></td><td  style=\"background-color:AliceBlue;\">annular17</td></tr><tr><td  style=\"background-color:Ivory;\"><code>5c0bd54c29d8</code></td><td  style=\"background-color:Ivory;\">2013-08-28 16:08</td><td  style=\"background-color:Ivory;\"><code>spacing_ratio: 1.2, rboundary: 2.82094791774e-05, Nx: 200, kPlus: 33.5981828628, kMinus: 35938136.638</code></td><td  style=\"background-color:Ivory;\">4h 22m 42.58s</td><td  style=\"background-color:Ivory;\"><code>c96b085a9e3a</code></td><td  style=\"background-color:Ivory;\">annular17</td></tr><tr><td  style=\"background-color:AliceBlue;\"><code>80f5c399b5ba</code></td><td  style=\"background-color:AliceBlue;\">2013-08-28 16:05</td><td  style=\"background-color:AliceBlue;\"><code>spacing_ratio: 1.2, rboundary: 2.82094791774e-05, Nx: 200, kPlus: 33.5981828628, kMinus: 27825594.0221</code></td><td  style=\"background-color:AliceBlue;\">4h 45m 56.28s</td><td  style=\"background-color:AliceBlue;\"><code>c96b085a9e3a</code></td><td  style=\"background-color:AliceBlue;\">annular17</td></tr><tr><td  style=\"background-color:Ivory;\"><code>d621a862cbc5</code></td><td  style=\"background-color:Ivory;\">2013-08-28 15:34</td><td  style=\"background-color:Ivory;\"><code>spacing_ratio: 1.2, rboundary: 2.82094791774e-05, Nx: 200, kPlus: 26.3665089873, kMinus: 77426368.2681</code></td><td  style=\"background-color:Ivory;\">5h 54.57s</td><td  style=\"background-color:Ivory;\"><code>c96b085a9e3a</code></td><td  style=\"background-color:Ivory;\">annular17</td></tr><tr><td  style=\"background-color:AliceBlue;\"><code>b22af3671bb3</code></td><td  style=\"background-color:AliceBlue;\">2013-08-28 15:34</td><td  style=\"background-color:AliceBlue;\"><code>spacing_ratio: 1.2, rboundary: 2.82094791774e-05, Nx: 200, kPlus: 26.3665089873, kMinus: 10000000.0</code></td><td  style=\"background-color:AliceBlue;\">6h 22m 48.87s</td><td  style=\"background-color:AliceBlue;\"><code>c96b085a9e3a</code></td><td  style=\"background-color:AliceBlue;\">annular17</td></tr><tr><td  style=\"background-color:Ivory;\"><code>660483936238</code></td><td  style=\"background-color:Ivory;\">2013-08-28 15:34</td><td  style=\"background-color:Ivory;\"><code>spacing_ratio: 1.2, rboundary: 2.82094791774e-05, Nx: 200, kPlus: 20.6913808111, kMinus: 16681005.372</code></td><td  style=\"background-color:Ivory;\">5h 33m 5.79s</td><td  style=\"background-color:Ivory;\"><code>c96b085a9e3a</code></td><td  style=\"background-color:Ivory;\">annular17</td></tr><tr><td  style=\"background-color:AliceBlue;\"><code>66b54927c554</code></td><td  style=\"background-color:AliceBlue;\">2013-08-28 15:34</td><td  style=\"background-color:AliceBlue;\"><code>spacing_ratio: 1.2, rboundary: 2.82094791774e-05, Nx: 200, kPlus: 16.2377673919, kMinus: 100000000.0</code></td><td  style=\"background-color:AliceBlue;\">4h 43m 47.08s</td><td  style=\"background-color:AliceBlue;\"><code>c96b085a9e3a</code></td><td  style=\"background-color:AliceBlue;\">annular17</td></tr><tr><td  style=\"background-color:Ivory;\"><code>fd071f70b57e</code></td><td  style=\"background-color:Ivory;\">2013-08-28 15:34</td><td  style=\"background-color:Ivory;\"><code>spacing_ratio: 1.2, rboundary: 2.82094791774e-05, Nx: 200, kPlus: 26.3665089873, kMinus: 27825594.0221</code></td><td  style=\"background-color:Ivory;\">5h 24m 5.01s</td><td  style=\"background-color:Ivory;\"><code>c96b085a9e3a</code></td><td  style=\"background-color:Ivory;\">annular17</td></tr><tr><td  style=\"background-color:AliceBlue;\"><code>827d6ae02cee</code></td><td  style=\"background-color:AliceBlue;\">2013-08-28 15:34</td><td  style=\"background-color:AliceBlue;\"><code>spacing_ratio: 1.2, rboundary: 2.82094791774e-05, Nx: 200, kPlus: 20.6913808111, kMinus: 46415888.3361</code></td><td  style=\"background-color:AliceBlue;\">5h 19m 50.56s</td><td  style=\"background-color:AliceBlue;\"><code>c96b085a9e3a</code></td><td  style=\"background-color:AliceBlue;\">annular17</td></tr><tr><td  style=\"background-color:Ivory;\"><code>9ee0b6f79a3e</code></td><td  style=\"background-color:Ivory;\">2013-08-28 15:34</td><td  style=\"background-color:Ivory;\"><code>spacing_ratio: 1.2, rboundary: 2.82094791774e-05, Nx: 200, kPlus: 33.5981828628, kMinus: 12915496.6501</code></td><td  style=\"background-color:Ivory;\">5h 13m 26.01s</td><td  style=\"background-color:Ivory;\"><code>c96b085a9e3a</code></td><td  style=\"background-color:Ivory;\">annular17</td></tr><tr><td  style=\"background-color:AliceBlue;\"><code>103a45c2cfbd</code></td><td  style=\"background-color:AliceBlue;\">2013-08-28 15:34</td><td  style=\"background-color:AliceBlue;\"><code>spacing_ratio: 1.2, rboundary: 2.82094791774e-05, Nx: 200, kPlus: 20.6913808111, kMinus: 59948425.0319</code></td><td  style=\"background-color:AliceBlue;\">4h 4m 20.35s</td><td  style=\"background-color:AliceBlue;\"><code>c96b085a9e3a</code></td><td  style=\"background-color:AliceBlue;\">annular17</td></tr><tr><td  style=\"background-color:Ivory;\"><code>086beab999d7</code></td><td  style=\"background-color:Ivory;\">2013-08-28 15:34</td><td  style=\"background-color:Ivory;\"><code>spacing_ratio: 1.2, rboundary: 2.82094791774e-05, Nx: 200, kPlus: 16.2377673919, kMinus: 16681005.372</code></td><td  style=\"background-color:Ivory;\">4h 19m 6.89s</td><td  style=\"background-color:Ivory;\"><code>c96b085a9e3a</code></td><td  style=\"background-color:Ivory;\">annular17</td></tr><tr><td  style=\"background-color:AliceBlue;\"><code>76d7cfb43f20</code></td><td  style=\"background-color:AliceBlue;\">2013-08-28 15:34</td><td  style=\"background-color:AliceBlue;\"><code>spacing_ratio: 1.2, rboundary: 2.82094791774e-05, Nx: 200, kPlus: 16.2377673919, kMinus: 27825594.0221</code></td><td  style=\"background-color:AliceBlue;\">3h 52m 9.26s</td><td  style=\"background-color:AliceBlue;\"><code>c96b085a9e3a</code></td><td  style=\"background-color:AliceBlue;\">annular17</td></tr><tr><td  style=\"background-color:Ivory;\"><code>be36b07210a7</code></td><td  style=\"background-color:Ivory;\">2013-08-28 15:34</td><td  style=\"background-color:Ivory;\"><code>spacing_ratio: 1.2, rboundary: 2.82094791774e-05, Nx: 200, kPlus: 12.742749857, kMinus: 77426368.2681</code></td><td  style=\"background-color:Ivory;\">3h 4m 36.02s</td><td  style=\"background-color:Ivory;\"><code>c96b085a9e3a</code></td><td  style=\"background-color:Ivory;\">annular17</td></tr><tr><td  style=\"background-color:AliceBlue;\"><code>2c93bc678b29</code></td><td  style=\"background-color:AliceBlue;\">2013-08-28 15:34</td><td  style=\"background-color:AliceBlue;\"><code>spacing_ratio: 1.2, rboundary: 2.82094791774e-05, Nx: 200, kPlus: 20.6913808111, kMinus: 27825594.0221</code></td><td  style=\"background-color:AliceBlue;\">4h 23m 59.15s</td><td  style=\"background-color:AliceBlue;\"><code>c96b085a9e3a</code></td><td  style=\"background-color:AliceBlue;\">annular17</td></tr><tr><td  style=\"background-color:Ivory;\"><code>6108c35eda85</code></td><td  style=\"background-color:Ivory;\">2013-08-28 15:34</td><td  style=\"background-color:Ivory;\"><code>spacing_ratio: 1.2, rboundary: 2.82094791774e-05, Nx: 200, kPlus: 16.2377673919, kMinus: 12915496.6501</code></td><td  style=\"background-color:Ivory;\">4h 22m 4.29s</td><td  style=\"background-color:Ivory;\"><code>c96b085a9e3a</code></td><td  style=\"background-color:Ivory;\">annular17</td></tr><tr><td  style=\"background-color:AliceBlue;\"><code>9a0318c9ee63</code></td><td  style=\"background-color:AliceBlue;\">2013-08-28 15:34</td><td  style=\"background-color:AliceBlue;\"><code>spacing_ratio: 1.2, rboundary: 2.82094791774e-05, Nx: 200, kPlus: 16.2377673919, kMinus: 46415888.3361</code></td><td  style=\"background-color:AliceBlue;\">3h 36m 16.43s</td><td  style=\"background-color:AliceBlue;\"><code>c96b085a9e3a</code></td><td  style=\"background-color:AliceBlue;\">annular17</td></tr><tr><td  style=\"background-color:Ivory;\"><code>77108b04429d</code></td><td  style=\"background-color:Ivory;\">2013-08-28 15:34</td><td  style=\"background-color:Ivory;\"><code>spacing_ratio: 1.2, rboundary: 2.82094791774e-05, Nx: 200, kPlus: 26.3665089873, kMinus: 12915496.6501</code></td><td  style=\"background-color:Ivory;\">5h 22m 22.63s</td><td  style=\"background-color:Ivory;\"><code>c96b085a9e3a</code></td><td  style=\"background-color:Ivory;\">annular17</td></tr><tr><td  style=\"background-color:AliceBlue;\"><code>256653e1e84f</code></td><td  style=\"background-color:AliceBlue;\">2013-08-28 15:34</td><td  style=\"background-color:AliceBlue;\"><code>spacing_ratio: 1.2, rboundary: 2.82094791774e-05, Nx: 200, kPlus: 26.3665089873, kMinus: 46415888.3361</code></td><td  style=\"background-color:AliceBlue;\">4h 22m 48.07s</td><td  style=\"background-color:AliceBlue;\"><code>c96b085a9e3a</code></td><td  style=\"background-color:AliceBlue;\">annular17</td></tr><tr><td  style=\"background-color:Ivory;\"><code>0992fd17ba93</code></td><td  style=\"background-color:Ivory;\">2013-08-28 15:34</td><td  style=\"background-color:Ivory;\"><code>spacing_ratio: 1.2, rboundary: 2.82094791774e-05, Nx: 200, kPlus: 20.6913808111, kMinus: 10000000.0</code></td><td  style=\"background-color:Ivory;\">5h 15m 30.95s</td><td  style=\"background-color:Ivory;\"><code>c96b085a9e3a</code></td><td  style=\"background-color:Ivory;\">annular17</td></tr><tr><td  style=\"background-color:AliceBlue;\"><code>4d770219b51b</code></td><td  style=\"background-color:AliceBlue;\">2013-08-28 15:34</td><td  style=\"background-color:AliceBlue;\"><code>spacing_ratio: 1.2, rboundary: 2.82094791774e-05, Nx: 200, kPlus: 12.742749857, kMinus: 21544346.9003</code></td><td  style=\"background-color:AliceBlue;\">3h 55m 46.61s</td><td  style=\"background-color:AliceBlue;\"><code>c96b085a9e3a</code></td><td  style=\"background-color:AliceBlue;\">annular17</td></tr><tr><td  style=\"background-color:Ivory;\"><code>dabbb1c49086</code></td><td  style=\"background-color:Ivory;\">2013-08-28 15:34</td><td  style=\"background-color:Ivory;\"><code>spacing_ratio: 1.2, rboundary: 2.82094791774e-05, Nx: 200, kPlus: 12.742749857, kMinus: 59948425.0319</code></td><td  style=\"background-color:Ivory;\">3h 25m 24.91s</td><td  style=\"background-color:Ivory;\"><code>c96b085a9e3a</code></td><td  style=\"background-color:Ivory;\">annular17</td></tr><tr><td  style=\"background-color:AliceBlue;\"><code>8a2e2ee92395</code></td><td  style=\"background-color:AliceBlue;\">2013-08-28 15:34</td><td  style=\"background-color:AliceBlue;\"><code>spacing_ratio: 1.2, rboundary: 2.82094791774e-05, Nx: 200, kPlus: 10.0, kMinus: 35938136.638</code></td><td  style=\"background-color:AliceBlue;\">3h 27m 24.73s</td><td  style=\"background-color:AliceBlue;\"><code>c96b085a9e3a</code></td><td  style=\"background-color:AliceBlue;\">annular17</td></tr><tr><td  style=\"background-color:Ivory;\"><code>3402a8965c94</code></td><td  style=\"background-color:Ivory;\">2013-08-28 15:34</td><td  style=\"background-color:Ivory;\"><code>spacing_ratio: 1.2, rboundary: 2.82094791774e-05, Nx: 200, kPlus: 12.742749857, kMinus: 10000000.0</code></td><td  style=\"background-color:Ivory;\">4h 1m 53.95s</td><td  style=\"background-color:Ivory;\"><code>c96b085a9e3a</code></td><td  style=\"background-color:Ivory;\">annular17</td></tr><tr><td  style=\"background-color:AliceBlue;\"><code>165c53e1d32d</code></td><td  style=\"background-color:AliceBlue;\">2013-08-28 15:34</td><td  style=\"background-color:AliceBlue;\"><code>spacing_ratio: 1.2, rboundary: 2.82094791774e-05, Nx: 200, kPlus: 10.0, kMinus: 59948425.0319</code></td><td  style=\"background-color:AliceBlue;\">3h 25m 24.97s</td><td  style=\"background-color:AliceBlue;\"><code>c96b085a9e3a</code></td><td  style=\"background-color:AliceBlue;\">annular17</td></tr><tr><td  style=\"background-color:Ivory;\"><code>1ee30a9bf6ab</code></td><td  style=\"background-color:Ivory;\">2013-08-28 15:34</td><td  style=\"background-color:Ivory;\"><code>spacing_ratio: 1.2, rboundary: 2.82094791774e-05, Nx: 200, kPlus: 12.742749857, kMinus: 46415888.3361</code></td><td  style=\"background-color:Ivory;\">3h 28m 25.82s</td><td  style=\"background-color:Ivory;\"><code>c96b085a9e3a</code></td><td  style=\"background-color:Ivory;\">annular17</td></tr><tr><td  style=\"background-color:AliceBlue;\"><code>a48265255728</code></td><td  style=\"background-color:AliceBlue;\">2013-08-28 15:34</td><td  style=\"background-color:AliceBlue;\"><code>spacing_ratio: 1.2, rboundary: 2.82094791774e-05, Nx: 200, kPlus: 10.0, kMinus: 100000000.0</code></td><td  style=\"background-color:AliceBlue;\">3h 28m 28.15s</td><td  style=\"background-color:AliceBlue;\"><code>c96b085a9e3a</code></td><td  style=\"background-color:AliceBlue;\">annular17</td></tr><tr><td  style=\"background-color:Ivory;\"><code>3fe53cdc956e</code></td><td  style=\"background-color:Ivory;\">2013-08-28 15:34</td><td  style=\"background-color:Ivory;\"><code>spacing_ratio: 1.2, rboundary: 2.82094791774e-05, Nx: 200, kPlus: 10.0, kMinus: 21544346.9003</code></td><td  style=\"background-color:Ivory;\">3h 43m 43.39s</td><td  style=\"background-color:Ivory;\"><code>c96b085a9e3a</code></td><td  style=\"background-color:Ivory;\">annular17</td></tr><tr><td  style=\"background-color:AliceBlue;\"><code>c2401e249a0f</code></td><td  style=\"background-color:AliceBlue;\">2013-08-28 15:34</td><td  style=\"background-color:AliceBlue;\"><code>spacing_ratio: 1.2, rboundary: 2.82094791774e-05, Nx: 200, kPlus: 10.0, kMinus: 10000000.0</code></td><td  style=\"background-color:AliceBlue;\">4h 19m 36.03s</td><td  style=\"background-color:AliceBlue;\"><code>c96b085a9e3a</code></td><td  style=\"background-color:AliceBlue;\">annular17</td></tr><tr><td  style=\"background-color:Ivory;\"><code>b06cd5528b45</code></td><td  style=\"background-color:Ivory;\">2013-08-28 15:34</td><td  style=\"background-color:Ivory;\"><code>spacing_ratio: 1.2, rboundary: 2.82094791774e-05, Nx: 200, kPlus: 10.0, kMinus: 12915496.6501</code></td><td  style=\"background-color:Ivory;\">3h 50m 3.00s</td><td  style=\"background-color:Ivory;\"><code>c96b085a9e3a</code></td><td  style=\"background-color:Ivory;\">annular17</td></tr><tr><td  style=\"background-color:AliceBlue;\"><code>fa5d46f8e032</code></td><td  style=\"background-color:AliceBlue;\">2013-08-28 15:34</td><td  style=\"background-color:AliceBlue;\"><code>spacing_ratio: 1.2, rboundary: 2.82094791774e-05, Nx: 200, kPlus: 12.742749857, kMinus: 16681005.372</code></td><td  style=\"background-color:AliceBlue;\">3h 45m 7.08s</td><td  style=\"background-color:AliceBlue;\"><code>c96b085a9e3a</code></td><td  style=\"background-color:AliceBlue;\">annular17</td></tr><tr><td  style=\"background-color:Ivory;\"><code>468177a04bef</code></td><td  style=\"background-color:Ivory;\">2013-08-28 15:34</td><td  style=\"background-color:Ivory;\"><code>spacing_ratio: 1.2, rboundary: 2.82094791774e-05, Nx: 200, kPlus: 10.0, kMinus: 27825594.0221</code></td><td  style=\"background-color:Ivory;\">3h 35m 2.20s</td><td  style=\"background-color:Ivory;\"><code>c96b085a9e3a</code></td><td  style=\"background-color:Ivory;\">annular17</td></tr><tr><td  style=\"background-color:AliceBlue;\"><code>7c81579871d5</code></td><td  style=\"background-color:AliceBlue;\">2013-08-28 15:34</td><td  style=\"background-color:AliceBlue;\"><code>spacing_ratio: 1.2, rboundary: 2.82094791774e-05, Nx: 200, kPlus: 16.2377673919, kMinus: 35938136.638</code></td><td  style=\"background-color:AliceBlue;\">3h 40m 54.95s</td><td  style=\"background-color:AliceBlue;\"><code>c96b085a9e3a</code></td><td  style=\"background-color:AliceBlue;\">annular17</td></tr><tr><td  style=\"background-color:Ivory;\"><code>70a3bcf825cd</code></td><td  style=\"background-color:Ivory;\">2013-08-28 15:34</td><td  style=\"background-color:Ivory;\"><code>spacing_ratio: 1.2, rboundary: 2.82094791774e-05, Nx: 200, kPlus: 16.2377673919, kMinus: 21544346.9003</code></td><td  style=\"background-color:Ivory;\">4h 7m 36.97s</td><td  style=\"background-color:Ivory;\"><code>c96b085a9e3a</code></td><td  style=\"background-color:Ivory;\">annular17</td></tr><tr><td  style=\"background-color:AliceBlue;\"><code>d4963af4b822</code></td><td  style=\"background-color:AliceBlue;\">2013-08-28 15:34</td><td  style=\"background-color:AliceBlue;\"><code>spacing_ratio: 1.2, rboundary: 2.82094791774e-05, Nx: 200, kPlus: 12.742749857, kMinus: 27825594.0221</code></td><td  style=\"background-color:AliceBlue;\">3h 55m 59.42s</td><td  style=\"background-color:AliceBlue;\"><code>c96b085a9e3a</code></td><td  style=\"background-color:AliceBlue;\">annular17</td></tr><tr><td  style=\"background-color:Ivory;\"><code>a1dc0138317c</code></td><td  style=\"background-color:Ivory;\">2013-08-28 15:34</td><td  style=\"background-color:Ivory;\"><code>spacing_ratio: 1.2, rboundary: 2.82094791774e-05, Nx: 200, kPlus: 12.742749857, kMinus: 100000000.0</code></td><td  style=\"background-color:Ivory;\">3h 11m 22.84s</td><td  style=\"background-color:Ivory;\"><code>c96b085a9e3a</code></td><td  style=\"background-color:Ivory;\">annular17</td></tr><tr><td  style=\"background-color:AliceBlue;\"><code>2af4685d9462</code></td><td  style=\"background-color:AliceBlue;\">2013-08-28 15:34</td><td  style=\"background-color:AliceBlue;\"><code>spacing_ratio: 1.2, rboundary: 2.82094791774e-05, Nx: 200, kPlus: 10.0, kMinus: 16681005.372</code></td><td  style=\"background-color:AliceBlue;\">4h 18.49s</td><td  style=\"background-color:AliceBlue;\"><code>c96b085a9e3a</code></td><td  style=\"background-color:AliceBlue;\">annular17</td></tr><tr><td  style=\"background-color:Ivory;\"><code>080f969bcaf9</code></td><td  style=\"background-color:Ivory;\">2013-08-28 15:34</td><td  style=\"background-color:Ivory;\"><code>spacing_ratio: 1.2, rboundary: 2.82094791774e-05, Nx: 200, kPlus: 12.742749857, kMinus: 12915496.6501</code></td><td  style=\"background-color:Ivory;\">3h 49m 36.56s</td><td  style=\"background-color:Ivory;\"><code>c96b085a9e3a</code></td><td  style=\"background-color:Ivory;\">annular17</td></tr><tr><td  style=\"background-color:AliceBlue;\"><code>f550016e35ed</code></td><td  style=\"background-color:AliceBlue;\">2013-08-28 15:34</td><td  style=\"background-color:AliceBlue;\"><code>spacing_ratio: 1.2, rboundary: 2.82094791774e-05, Nx: 200, kPlus: 10.0, kMinus: 46415888.3361</code></td><td  style=\"background-color:AliceBlue;\">3h 25m 57.96s</td><td  style=\"background-color:AliceBlue;\"><code>c96b085a9e3a</code></td><td  style=\"background-color:AliceBlue;\">annular17</td></tr><tr><td  style=\"background-color:Ivory;\"><code>e5bdf79ebb4d</code></td><td  style=\"background-color:Ivory;\">2013-08-28 15:34</td><td  style=\"background-color:Ivory;\"><code>spacing_ratio: 1.2, rboundary: 2.82094791774e-05, Nx: 200, kPlus: 10.0, kMinus: 77426368.2681</code></td><td  style=\"background-color:Ivory;\">3h 29m 33.05s</td><td  style=\"background-color:Ivory;\"><code>c96b085a9e3a</code></td><td  style=\"background-color:Ivory;\">annular17</td></tr><tr><td  style=\"background-color:AliceBlue;\"><code>2e405844d332</code></td><td  style=\"background-color:AliceBlue;\">2013-08-28 15:34</td><td  style=\"background-color:AliceBlue;\"><code>spacing_ratio: 1.2, rboundary: 2.82094791774e-05, Nx: 200, kPlus: 12.742749857, kMinus: 35938136.638</code></td><td  style=\"background-color:AliceBlue;\">3h 48m 22.13s</td><td  style=\"background-color:AliceBlue;\"><code>c96b085a9e3a</code></td><td  style=\"background-color:AliceBlue;\">annular17</td></tr><tr><td  style=\"background-color:Ivory;\"><code>bd7d69aa6294</code></td><td  style=\"background-color:Ivory;\">2013-08-28 15:34</td><td  style=\"background-color:Ivory;\"><code>spacing_ratio: 1.2, rboundary: 2.82094791774e-05, Nx: 200, kPlus: 16.2377673919, kMinus: 10000000.0</code></td><td  style=\"background-color:Ivory;\">4h 18m 30.74s</td><td  style=\"background-color:Ivory;\"><code>c96b085a9e3a</code></td><td  style=\"background-color:Ivory;\">annular17</td></tr></table>"
       ],
       "output_type": "pyout",
       "prompt_number": 8,
       "text": [
        "<IPython.core.display.HTML at 0x3ff62d0>"
       ]
      }
     ],
     "prompt_number": 8
    },
    {
     "cell_type": "code",
     "collapsed": false,
     "input": [
      "import os.path\n",
      "from dicttable import DictTable\n",
      "\n",
      "def getDepositionRates(record):\n",
      "    datafile = os.path.join(record.datastore.root, record.output_data[0].path)\n",
      "    data = DictTable(datafile, 'r')\n",
      "    latestIndex = data.getLatestIndex()\n",
      "    indexJump = 10\n",
      "    index = 0\n",
      "    elapsedTimes = []\n",
      "    depositionRates = []\n",
      "    while index <= latestIndex:\n",
      "        d = data[index]\n",
      "        elapsedTimes.append(d['elapsedTime'])\n",
      "        depositionRates.append(d['extensionGlobalValue'])\n",
      "        index += indexJump\n",
      "    return elapsedTimes, depositionRates"
     ],
     "language": "python",
     "metadata": {},
     "outputs": [],
     "prompt_number": 4
    },
    {
     "cell_type": "code",
     "collapsed": false,
     "input": [
      "record = getSMTRecords(records=annular17Records, parameters={'kPlus' : 1000., 'kMinus' : 21544346.9003})[0]"
     ],
     "language": "python",
     "metadata": {},
     "outputs": [],
     "prompt_number": 10
    },
    {
     "cell_type": "code",
     "collapsed": false,
     "input": [
      "print record.label"
     ],
     "language": "python",
     "metadata": {},
     "outputs": [
      {
       "output_type": "stream",
       "stream": "stdout",
       "text": [
        "c11bf0602c9e\n"
       ]
      }
     ],
     "prompt_number": 11
    },
    {
     "cell_type": "code",
     "collapsed": false,
     "input": [
      "t, d = getDepositionRates(record)\n",
      "pylab.semilogy(t, d)"
     ],
     "language": "python",
     "metadata": {},
     "outputs": [
      {
       "output_type": "pyout",
       "prompt_number": 13,
       "text": [
        "[<matplotlib.lines.Line2D at 0x8a3a8790>]"
       ]
      },
      {
       "output_type": "display_data",
       "png": "[encoded data removed]"
      }
     ],
     "prompt_number": 13
    },
    {
     "cell_type": "code",
     "collapsed": false,
     "input": [
      "from tools import getSMTRecords\n",
      "import numpy as np\n",
      "from multiViewer import MultiViewer\n",
      "import pandas as pd\n",
      "\n",
      "def plotkpvkm(kPluses=np.logspace(1, 3, 20), kMinuses=np.logspace(7, 8, 10), times=np.arange(10) * 100. / 9.):\n",
      "\n",
      "    def getrecord(kPlus, kMinus):\n",
      "        rs = getSMTRecords(records=annular25Records, parameters={'kPlus' : kPlus, 'kMinus' : kMinus}, rtol=1e-5)\n",
      "        if len(rs) > 0:\n",
      "            return rs[0]\n",
      "        else:\n",
      "            return None\n",
      "    records = [[getrecord(kPlus, kMinus) for kMinus in kMinuses] for kPlus in kPluses]\n",
      "    print records\n",
      "    viewer = MultiViewer(records,\n",
      "                         columntitle=lambda r: r'$k^+$={0}'.format(r.parameters['kPlus']),\n",
      "                         rowtitle=lambda r: r'$k^-$={0}'.format(r.parameters['kMinus']),\n",
      "                         figsize=(1.5, 6))\n",
      "    viewer.plot(times=times)\n",
      "    return smt_ipy_table([j for i in tmp for j in i if j], fields=['label', 'timestamp', 'parameters', 'duration', 'version', 'tags'], parameters=['kPlus', 'kMinus'])"
     ],
     "language": "python",
     "metadata": {},
     "outputs": [],
     "prompt_number": 1
    },
    {
     "cell_type": "code",
     "collapsed": false,
     "input": [
      "plotkpvkm()"
     ],
     "language": "python",
     "metadata": {},
     "outputs": [
      {
       "ename": "NameError",
       "evalue": "global name 'annular25Records' is not defined",
       "output_type": "pyerr",
       "traceback": [
        "\u001b[1;31m---------------------------------------------------------------------------\u001b[0m\n\u001b[1;31mNameError\u001b[0m                                 Traceback (most recent call last)",
        "\u001b[1;32m<ipython-input-2-94fa126d2c36>\u001b[0m in \u001b[0;36m<module>\u001b[1;34m()\u001b[0m\n\u001b[1;32m----> 1\u001b[1;33m \u001b[0mplotkpvkm\u001b[0m\u001b[1;33m(\u001b[0m\u001b[1;33m)\u001b[0m\u001b[1;33m\u001b[0m\u001b[0m\n\u001b[0m",
        "\u001b[1;32m<ipython-input-1-09b96f98be88>\u001b[0m in \u001b[0;36mplotkpvkm\u001b[1;34m(kPluses, kMinuses, times)\u001b[0m\n\u001b[0;32m     12\u001b[0m         \u001b[1;32melse\u001b[0m\u001b[1;33m:\u001b[0m\u001b[1;33m\u001b[0m\u001b[0m\n\u001b[0;32m     13\u001b[0m             \u001b[1;32mreturn\u001b[0m \u001b[0mNone\u001b[0m\u001b[1;33m\u001b[0m\u001b[0m\n\u001b[1;32m---> 14\u001b[1;33m     \u001b[0mrecords\u001b[0m \u001b[1;33m=\u001b[0m \u001b[1;33m[\u001b[0m\u001b[1;33m[\u001b[0m\u001b[0mgetrecord\u001b[0m\u001b[1;33m(\u001b[0m\u001b[0mkPlus\u001b[0m\u001b[1;33m,\u001b[0m \u001b[0mkMinus\u001b[0m\u001b[1;33m)\u001b[0m \u001b[1;32mfor\u001b[0m \u001b[0mkMinus\u001b[0m \u001b[1;32min\u001b[0m \u001b[0mkMinuses\u001b[0m\u001b[1;33m]\u001b[0m \u001b[1;32mfor\u001b[0m \u001b[0mkPlus\u001b[0m \u001b[1;32min\u001b[0m \u001b[0mkPluses\u001b[0m\u001b[1;33m]\u001b[0m\u001b[1;33m\u001b[0m\u001b[0m\n\u001b[0m\u001b[0;32m     15\u001b[0m     \u001b[1;32mprint\u001b[0m \u001b[0mrecords\u001b[0m\u001b[1;33m\u001b[0m\u001b[0m\n\u001b[0;32m     16\u001b[0m     viewer = MultiViewer(records,\n",
        "\u001b[1;32m<ipython-input-1-09b96f98be88>\u001b[0m in \u001b[0;36mgetrecord\u001b[1;34m(kPlus, kMinus)\u001b[0m\n\u001b[0;32m      7\u001b[0m \u001b[1;33m\u001b[0m\u001b[0m\n\u001b[0;32m      8\u001b[0m     \u001b[1;32mdef\u001b[0m \u001b[0mgetrecord\u001b[0m\u001b[1;33m(\u001b[0m\u001b[0mkPlus\u001b[0m\u001b[1;33m,\u001b[0m \u001b[0mkMinus\u001b[0m\u001b[1;33m)\u001b[0m\u001b[1;33m:\u001b[0m\u001b[1;33m\u001b[0m\u001b[0m\n\u001b[1;32m----> 9\u001b[1;33m         \u001b[0mrs\u001b[0m \u001b[1;33m=\u001b[0m \u001b[0mgetSMTRecords\u001b[0m\u001b[1;33m(\u001b[0m\u001b[0mrecords\u001b[0m\u001b[1;33m=\u001b[0m\u001b[0mannular25Records\u001b[0m\u001b[1;33m,\u001b[0m \u001b[0mparameters\u001b[0m\u001b[1;33m=\u001b[0m\u001b[1;33m{\u001b[0m\u001b[1;34m'kPlus'\u001b[0m \u001b[1;33m:\u001b[0m \u001b[0mkPlus\u001b[0m\u001b[1;33m,\u001b[0m \u001b[1;34m'kMinus'\u001b[0m \u001b[1;33m:\u001b[0m \u001b[0mkMinus\u001b[0m\u001b[1;33m}\u001b[0m\u001b[1;33m,\u001b[0m \u001b[0mrtol\u001b[0m\u001b[1;33m=\u001b[0m\u001b[1;36m1e-5\u001b[0m\u001b[1;33m)\u001b[0m\u001b[1;33m\u001b[0m\u001b[0m\n\u001b[0m\u001b[0;32m     10\u001b[0m         \u001b[1;32mif\u001b[0m \u001b[0mlen\u001b[0m\u001b[1;33m(\u001b[0m\u001b[0mrs\u001b[0m\u001b[1;33m)\u001b[0m \u001b[1;33m>\u001b[0m \u001b[1;36m0\u001b[0m\u001b[1;33m:\u001b[0m\u001b[1;33m\u001b[0m\u001b[0m\n\u001b[0;32m     11\u001b[0m             \u001b[1;32mreturn\u001b[0m \u001b[0mrs\u001b[0m\u001b[1;33m[\u001b[0m\u001b[1;36m0\u001b[0m\u001b[1;33m]\u001b[0m\u001b[1;33m\u001b[0m\u001b[0m\n",
        "\u001b[1;31mNameError\u001b[0m: global name 'annular25Records' is not defined"
       ]
      }
     ],
     "prompt_number": 2
    },
    {
     "cell_type": "code",
     "collapsed": false,
     "input": [
      "print np.logspace(1, 3, 20)[5]\n",
      "print np.logspace(7, 8, 10)[0]"
     ],
     "language": "python",
     "metadata": {},
     "outputs": [
      {
       "output_type": "stream",
       "stream": "stdout",
       "text": [
        "33.5981828628\n",
        "10000000.0\n"
       ]
      }
     ],
     "prompt_number": 29
    },
    {
     "cell_type": "code",
     "collapsed": false,
     "input": [
      "getSMTRecords(records=annular17Records, parameters={'kPlus' : 33.5981828628, 'kMinus' : 10000000.0}, atol=1e-5, rtol=1e-5)"
     ],
     "language": "python",
     "metadata": {},
     "outputs": [
      {
       "output_type": "pyout",
       "prompt_number": 34,
       "text": [
        "[]"
       ]
      }
     ],
     "prompt_number": 34
    },
    {
     "cell_type": "code",
     "collapsed": false,
     "input": [
      "print len(annular17Records)"
     ],
     "language": "python",
     "metadata": {},
     "outputs": [
      {
       "output_type": "stream",
       "stream": "stdout",
       "text": [
        "133\n"
       ]
      }
     ],
     "prompt_number": 35
    },
    {
     "cell_type": "markdown",
     "metadata": {},
     "source": [
      "# Sumatra Issues\n",
      "\n",
      "Only 133 records out of 200 were saved. It seems like Sumatra is throwing the following error under some circumstaces \n",
      "\n",
      "    $ tail -1000 .qsub/launcher.e1686526\n",
      "    \n",
      "    /users/wd15/.virtualenvs/default/lib/python2.6/site-packages/matplotlib/__init__.py:428: UserWarning: matplotlibrc text.usetex option can not be used unless TeX-3.1415 or later is installed on your system\n",
      "      'installed on your system') % tex_req)\n",
      "    /users/wd15/.virtualenvs/default/lib/python2.6/site-packages/matplotlib/__init__.py:434: UserWarning: matplotlibrc text.usetex can not be used with *Agg backend unless dvipng-1.5 or later is installed on your system\n",
      "      warnings.warn( 'matplotlibrc text.usetex can not be used with *Agg '\n",
      "    /usr/lib/pymodules/python2.6/gtk-2.0/gtk/__init__.py:57: GtkWarning: could not open display\n",
      "      warnings.warn(str(e), _gtk.Warning)\n",
      "    Traceback (most recent call last):\n",
      "      File \"/users/wd15/.virtualenvs/default/bin/smt\", line 7, in <module>\n",
      "        execfile(__file__)\n",
      "      File \"/users/wd15/hg/sumatra/bin/smt\", line 31, in <module>\n",
      "        main(sys.argv[2:])\n",
      "      File \"/users/wd15/hg/sumatra/sumatra/commands.py\", line 369, in run\n",
      "        version=args.version or 'current')\n",
      "      File \"/users/wd15/hg/sumatra/sumatra/projects.py\", line 192, in launch\n",
      "        self.add_record(record)\n",
      "      File \"/users/wd15/hg/sumatra/sumatra/projects.py\", line 225, in add_record\n",
      "        self.record_store.save(self.name, record)\n",
      "      File \"/users/wd15/hg/sumatra/sumatra/recordstore/django_store/__init__.py\", line 221, in save\n",
      "        db_record.platforms.add(self._get_db_obj('PlatformInformation', pi))\n",
      "      File \"/users/wd15/hg/sumatra/sumatra/recordstore/django_store/__init__.py\", line 176, in _get_db_obj\n",
      "        db_obj, created = cls.objects.get_or_create_from_sumatra_object(obj, using=self._db_label)\n",
      "      File \"/users/wd15/hg/sumatra/sumatra/recordstore/django_store/models.py\", line 40, in get_or_create_from_sumatra_object\n",
      "        return self.using(using).get_or_create(**attributes)            \n",
      "      File \"/users/wd15/.virtualenvs/default/lib/python2.6/site-packages/django/db/models/query.py\", line 445, in get_or_create\n",
      "        return self.get(**lookup), False\n",
      "      File \"/users/wd15/.virtualenvs/default/lib/python2.6/site-packages/django/db/models/query.py\", line 368, in get\n",
      "        % (self.model._meta.object_name, num, kwargs))\n",
      "    sumatra.recordstore.django_store.models.MultipleObjectsReturned: get() returned more than one PlatformInformation -- it returned 7! Lookup parameters were {'system_name': 'Linux', 'ip_addr': '127.0.0.1', 'architecture_bits': '64bit', 'machine': 'x86_64', 'architecture_linkage': 'ELF', 'version': '#1 SMP Fri May 10 08:43:19 UTC 2013', 'release': '2.6.32-5-amd64', 'network_name': 'r034', 'processor': ''}\n",
      "\n",
      "The right way to deal with this is to check for the exception and then use filter if get doesn't work.\n",
      "\n",
      "http://stackoverflow.com/questions/14526355/why-am-getting-a-multipleobjectsreturned-error-inside-a-try-block\n",
      "\n",
      "Let's run all the simulations again to confirm the error."
     ]
    },
    {
     "cell_type": "code",
     "collapsed": false,
     "input": [
      "from tools import batch_launch\n",
      "    \n",
      "reason = \"Finding a value of kPlus and kMinus that fills the annulus feature.\"\n",
      "kPluses = np.logspace(1, 3, 20)\n",
      "kMinuses = np.logspace(7, 8, 10)\n",
      "rboundary = 50e-6 / np.sqrt(np.pi)\n",
      "for kPlus in kPluses:\n",
      "    for kMinus in kMinuses:\n",
      "        batch_launch(reason=reason, tags=['annular18'], kPlus=kPlus, kMinus=kMinus, rboundary=rboundary, Nx=200, spacing_ratio=1.2, totalSteps=1)\n",
      "        \n",
      "        \n",
      "!qstat"
     ],
     "language": "python",
     "metadata": {},
     "outputs": [
      {
       "output_type": "stream",
       "stream": "stdout",
       "text": [
        "job-ID  prior   name       user         state submit/start at     queue                          slots ja-task-ID \r\n",
        "-----------------------------------------------------------------------------------------------------------------\r\n",
        "1686033 0.03232 launcher   wd15         r     08/27/2013 15:26:52 wide64@r037                        1        \r\n",
        "1686034 0.03232 launcher   wd15         r     08/27/2013 15:26:52 wide64@r033                        1        \r\n",
        "1686035 0.03232 launcher   wd15         r     08/27/2013 15:26:52 wide64@r037                        1        \r\n",
        "1686036 0.03232 launcher   wd15         r     08/27/2013 15:26:52 wide64@r033                        1        \r\n",
        "1686037 0.03232 launcher   wd15         r     08/27/2013 15:26:52 wide64@r037                        1        \r\n",
        "1686038 0.03232 launcher   wd15         r     08/27/2013 15:26:52 wide64@r033                        1        \r\n",
        "1686039 0.03232 launcher   wd15         r     08/27/2013 15:26:52 ctcms@r016                         1        \r\n",
        "1686040 0.03232 launcher   wd15         r     08/27/2013 15:26:52 wide64@r037                        1        \r\n",
        "1686041 0.03232 launcher   wd15         r     08/27/2013 15:26:52 ctcms@r019                         1        \r\n",
        "1686042 0.03232 launcher   wd15         r     08/27/2013 15:26:52 wide64@r033                        1        \r\n",
        "1686540 0.01702 launcher   wd15         r     08/29/2013 11:50:07 ctcms@r017                         1        \r\n",
        "1686541 0.01702 launcher   wd15         r     08/29/2013 11:50:07 ctcms@r015                         1        \r\n",
        "1686542 0.01702 launcher   wd15         r     08/29/2013 11:50:07 ctcms@r015                         1        \r\n",
        "1686543 0.01702 launcher   wd15         r     08/29/2013 11:50:07 ctcms@r017                         1        \r\n",
        "1686544 0.01702 launcher   wd15         r     08/29/2013 11:50:07 ctcms@r017                         1        \r\n",
        "1686545 0.01701 launcher   wd15         r     08/29/2013 11:50:07 ctcms@r015                         1        \r\n",
        "1686548 0.01701 launcher   wd15         r     08/29/2013 11:50:07 ctcms@r015                         1        \r\n",
        "1686549 0.01701 launcher   wd15         r     08/29/2013 11:50:07 ctcms@r017                         1        \r\n",
        "1686550 0.01701 launcher   wd15         r     08/29/2013 11:50:07 ctcms@r017                         1        \r\n",
        "1686551 0.01701 launcher   wd15         r     08/29/2013 11:50:07 ctcms@r015                         1        \r\n",
        "1686555 0.01701 launcher   wd15         r     08/29/2013 11:50:07 ctcms@r015                         1        \r\n",
        "1686556 0.01701 launcher   wd15         r     08/29/2013 11:50:07 ctcms@r017                         1        \r\n",
        "1686558 0.01701 launcher   wd15         r     08/29/2013 11:50:07 wide64@r033                        1        \r\n",
        "1686559 0.01701 launcher   wd15         r     08/29/2013 11:50:07 wide64@r033                        1        \r\n",
        "1686560 0.01701 launcher   wd15         r     08/29/2013 11:50:07 wide64@r033                        1        \r\n",
        "1686561 0.01701 launcher   wd15         r     08/29/2013 11:50:07 wide64@r033                        1        \r\n",
        "1686562 0.01701 launcher   wd15         r     08/29/2013 11:50:07 wide64@r033                        1        \r\n",
        "1686563 0.01701 launcher   wd15         r     08/29/2013 11:50:07 wide64@r033                        1        \r\n",
        "1686564 0.01701 launcher   wd15         r     08/29/2013 11:50:07 wide64@r033                        1        \r\n",
        "1686565 0.01701 launcher   wd15         r     08/29/2013 11:50:07 ctcms@r017                         1        \r\n",
        "1686566 0.01701 launcher   wd15         r     08/29/2013 11:50:07 ctcms@r015                         1        \r\n",
        "1686569 0.01701 launcher   wd15         r     08/29/2013 11:50:07 wide64@r033                        1        \r\n",
        "1686570 0.01701 launcher   wd15         r     08/29/2013 11:50:07 wide64@r033                        1        \r\n",
        "1686571 0.01701 launcher   wd15         r     08/29/2013 11:50:22 wide64@r033                        1        \r\n",
        "1686572 0.01701 launcher   wd15         r     08/29/2013 11:50:22 wide64@r033                        1        \r\n",
        "1686573 0.01701 launcher   wd15         r     08/29/2013 11:50:22 wide64@r033                        1        \r\n",
        "1686574 0.01701 launcher   wd15         r     08/29/2013 11:50:22 wide64@r033                        1        \r\n",
        "1686575 0.01701 launcher   wd15         r     08/29/2013 11:50:22 ctcms@r017                         1        \r\n",
        "1686576 0.01701 launcher   wd15         r     08/29/2013 11:50:22 ctcms@r015                         1        \r\n",
        "1686578 0.01701 launcher   wd15         r     08/29/2013 11:50:22 wide64@r033                        1        \r\n",
        "1686579 0.01701 launcher   wd15         r     08/29/2013 11:50:22 wide64@r033                        1        \r\n",
        "1686581 0.01701 launcher   wd15         r     08/29/2013 11:50:22 wide64@r033                        1        \r\n",
        "1686582 0.01701 launcher   wd15         r     08/29/2013 11:50:22 wide64@r033                        1        \r\n",
        "1686583 0.01701 launcher   wd15         r     08/29/2013 11:50:22 wide64@r033                        1        \r\n",
        "1686584 0.01701 launcher   wd15         r     08/29/2013 11:50:22 wide64@r033                        1        \r\n",
        "1686585 0.01701 launcher   wd15         r     08/29/2013 11:50:22 wide64@r033                        1        \r\n",
        "1686586 0.01701 launcher   wd15         r     08/29/2013 11:50:22 wide64@r033                        1        \r\n",
        "1686588 0.01701 launcher   wd15         r     08/29/2013 11:50:22 wide64@r033                        1        \r\n",
        "1686589 0.01701 launcher   wd15         r     08/29/2013 11:50:22 wide64@r033                        1        \r\n",
        "1686594 0.01701 launcher   wd15         r     08/29/2013 11:50:22 wide64@r033                        1        \r\n",
        "1686595 0.01701 launcher   wd15         r     08/29/2013 11:50:22 wide64@r033                        1        \r\n",
        "1686596 0.01701 launcher   wd15         r     08/29/2013 11:50:22 wide64@r033                        1        \r\n",
        "1686597 0.01701 launcher   wd15         r     08/29/2013 11:50:22 wide64@r033                        1        \r\n",
        "1686598 0.01701 launcher   wd15         r     08/29/2013 11:50:22 wide64@r033                        1        \r\n",
        "1686599 0.01701 launcher   wd15         r     08/29/2013 11:50:22 wide64@r033                        1        \r\n",
        "1686601 0.01701 launcher   wd15         r     08/29/2013 11:50:37 wide64@r033                        1        \r\n",
        "1686602 0.01701 launcher   wd15         r     08/29/2013 11:50:37 wide64@r033                        1        \r\n",
        "1686603 0.01701 launcher   wd15         r     08/29/2013 11:50:37 ctcms@r019                         1        \r\n",
        "1686604 0.01701 launcher   wd15         r     08/29/2013 11:50:37 wide64@r033                        1        \r\n",
        "1686605 0.01701 launcher   wd15         r     08/29/2013 11:50:37 wide64@r033                        1        \r\n",
        "1686606 0.01701 launcher   wd15         r     08/29/2013 11:50:37 wide64@r033                        1        \r\n",
        "1686607 0.01701 launcher   wd15         r     08/29/2013 11:50:37 wide64@r033                        1        \r\n",
        "1686608 0.01701 launcher   wd15         r     08/29/2013 11:50:37 wide64@r033                        1        \r\n",
        "1686609 0.01701 launcher   wd15         r     08/29/2013 11:50:37 wide64@r033                        1        \r\n",
        "1686610 0.01701 launcher   wd15         r     08/29/2013 11:50:37 wide64@r033                        1        \r\n",
        "1686611 0.01701 launcher   wd15         r     08/29/2013 11:50:37 wide64@r033                        1        \r\n",
        "1686612 0.01701 launcher   wd15         r     08/29/2013 11:50:37 ctcms@r019                         1        \r\n",
        "1686613 0.01701 launcher   wd15         r     08/29/2013 11:50:37 wide64@r033                        1        \r\n",
        "1686614 0.01701 launcher   wd15         r     08/29/2013 11:50:37 wide64@r033                        1        \r\n",
        "1686615 0.01701 launcher   wd15         r     08/29/2013 11:50:37 wide64@r033                        1        \r\n",
        "1686616 0.01701 launcher   wd15         r     08/29/2013 11:50:37 ctcms@r019                         1        \r\n",
        "1686617 0.01701 launcher   wd15         r     08/29/2013 11:50:37 wide64@r039                        1        \r\n",
        "1686618 0.01701 launcher   wd15         r     08/29/2013 11:50:37 wide64@r039                        1        \r\n",
        "1686619 0.01701 launcher   wd15         r     08/29/2013 11:50:37 wide64@r039                        1        \r\n",
        "1686620 0.01701 launcher   wd15         r     08/29/2013 11:50:37 wide64@r034                        1        \r\n",
        "1686621 0.01701 launcher   wd15         r     08/29/2013 11:50:37 wide64@r034                        1        \r\n",
        "1686622 0.01701 launcher   wd15         r     08/29/2013 11:50:37 wide64@r039                        1        \r\n",
        "1686623 0.01701 launcher   wd15         r     08/29/2013 11:50:37 wide3@r002                         1        \r\n",
        "1686624 0.01701 launcher   wd15         r     08/29/2013 11:50:37 wide64@r039                        1        \r\n",
        "1686625 0.01701 launcher   wd15         r     08/29/2013 11:50:37 wide64@r034                        1        \r\n",
        "1686626 0.01701 launcher   wd15         r     08/29/2013 11:50:37 wide64@r037                        1        \r\n",
        "1686627 0.01701 launcher   wd15         r     08/29/2013 11:50:37 wide64@r034                        1        \r\n",
        "1686628 0.01701 launcher   wd15         r     08/29/2013 11:50:37 wide64@r039                        1        \r\n",
        "1686629 0.01701 launcher   wd15         r     08/29/2013 11:50:37 wide64@r037                        1        \r\n",
        "1686630 0.01701 launcher   wd15         r     08/29/2013 11:50:37 wide3@r002                         1        \r\n",
        "1686631 0.01701 launcher   wd15         r     08/29/2013 11:50:37 wide64@r039                        1        \r\n",
        "1686632 0.01701 launcher   wd15         r     08/29/2013 11:50:37 wide64@r034                        1        \r\n",
        "1686633 0.01701 launcher   wd15         r     08/29/2013 11:50:52 wide64@r037                        1        \r\n",
        "1686634 0.01701 launcher   wd15         r     08/29/2013 11:50:52 wide64@r034                        1        \r\n",
        "1686635 0.01701 launcher   wd15         r     08/29/2013 11:50:52 wide64@r037                        1        \r\n",
        "1686636 0.01701 launcher   wd15         r     08/29/2013 11:50:52 wide64@r039                        1        \r\n",
        "1686637 0.01701 launcher   wd15         r     08/29/2013 11:50:52 wide64@r034                        1        \r\n",
        "1686638 0.01701 launcher   wd15         r     08/29/2013 11:50:52 wide3@r002                         1        \r\n",
        "1686639 0.01701 launcher   wd15         r     08/29/2013 11:50:52 wide64@r037                        1        \r\n",
        "1686640 0.01701 launcher   wd15         r     08/29/2013 11:50:52 wide64@r039                        1        \r\n",
        "1686641 0.01701 launcher   wd15         r     08/29/2013 11:50:52 wide64@r034                        1        \r\n",
        "1686642 0.01701 launcher   wd15         r     08/29/2013 11:50:52 wide64@r037                        1        \r\n",
        "1686643 0.01701 launcher   wd15         r     08/29/2013 11:50:52 wide64@r039                        1        \r\n",
        "1686644 0.01701 launcher   wd15         r     08/29/2013 11:50:52 wide64@r034                        1        \r\n",
        "1686645 0.01701 launcher   wd15         r     08/29/2013 11:50:52 wide3@r002                         1        \r\n",
        "1686646 0.01701 launcher   wd15         r     08/29/2013 11:50:52 wide64@r037                        1        \r\n",
        "1686647 0.01701 launcher   wd15         r     08/29/2013 11:50:52 wide64@r039                        1        \r\n",
        "1686648 0.01701 launcher   wd15         r     08/29/2013 11:50:52 wide2@r013                         1        \r\n",
        "1686649 0.01701 launcher   wd15         r     08/29/2013 11:50:52 wide64@r034                        1        \r\n",
        "1686650 0.01701 launcher   wd15         r     08/29/2013 11:50:52 wide64@r037                        1        \r\n",
        "1686651 0.01701 launcher   wd15         r     08/29/2013 11:50:52 wide64@r039                        1        \r\n",
        "1686652 0.01701 launcher   wd15         r     08/29/2013 11:50:52 wide64@r034                        1        \r\n",
        "1686653 0.01701 launcher   wd15         r     08/29/2013 11:50:52 wide3@r002                         1        \r\n",
        "1686654 0.01701 launcher   wd15         r     08/29/2013 11:50:52 wide2@r013                         1        \r\n",
        "1686655 0.01701 launcher   wd15         r     08/29/2013 11:50:52 wide64@r037                        1        \r\n",
        "1686656 0.01701 launcher   wd15         r     08/29/2013 11:50:52 wide64@r039                        1        \r\n",
        "1686657 0.01701 launcher   wd15         r     08/29/2013 11:50:52 wide64@r034                        1        \r\n",
        "1686658 0.01701 launcher   wd15         r     08/29/2013 11:50:52 wide64@r037                        1        \r\n",
        "1686659 0.01701 launcher   wd15         r     08/29/2013 11:50:52 wide64@r039                        1        \r\n",
        "1686660 0.01701 launcher   wd15         r     08/29/2013 11:50:52 wide2@r013                         1        \r\n",
        "1686661 0.01701 launcher   wd15         r     08/29/2013 11:50:52 wide64@r034                        1        \r\n",
        "1686662 0.01701 launcher   wd15         r     08/29/2013 11:50:52 wide3@r002                         1        \r\n",
        "1686663 0.01701 launcher   wd15         r     08/29/2013 11:51:07 ctcms@r018                         1        \r\n",
        "1686664 0.01701 launcher   wd15         r     08/29/2013 11:51:07 ctcms@r018                         1        \r\n",
        "1686665 0.01701 launcher   wd15         r     08/29/2013 11:51:07 ctcms@r016                         1        \r\n",
        "1686666 0.01701 launcher   wd15         r     08/29/2013 11:51:07 ctcms@r018                         1        \r\n",
        "1686667 0.01701 launcher   wd15         r     08/29/2013 11:51:07 ctcms@r016                         1        \r\n",
        "1686668 0.01701 launcher   wd15         r     08/29/2013 11:51:07 ctcms@r018                         1        \r\n",
        "1686669 0.01701 launcher   wd15         r     08/29/2013 11:51:07 ctcms@r016                         1        \r\n",
        "1686670 0.01701 launcher   wd15         r     08/29/2013 11:51:07 ctcms@r018                         1        \r\n",
        "1686671 0.01701 launcher   wd15         r     08/29/2013 11:51:07 ctcms@r016                         1        \r\n",
        "1686672 0.01701 launcher   wd15         r     08/29/2013 11:51:07 ctcms@r018                         1        \r\n",
        "1686673 0.01701 launcher   wd15         r     08/29/2013 11:51:07 ctcms@r016                         1        \r\n",
        "1686674 0.01701 launcher   wd15         r     08/29/2013 11:51:07 ctcms@r018                         1        \r\n",
        "1686675 0.01701 launcher   wd15         r     08/29/2013 11:51:07 ctcms@r016                         1        \r\n",
        "1686676 0.01701 launcher   wd15         r     08/29/2013 11:51:07 wide64@r033                        1        \r\n",
        "1686677 0.01701 launcher   wd15         r     08/29/2013 11:51:07 wide64@r033                        1        \r\n",
        "1686678 0.01701 launcher   wd15         r     08/29/2013 11:51:07 wide64@r039                        1        \r\n",
        "1686679 0.01701 launcher   wd15         r     08/29/2013 11:51:07 wide64@r037                        1        \r\n",
        "1686680 0.01701 launcher   wd15         r     08/29/2013 11:51:07 wide2@r013                         1        \r\n",
        "1686681 0.01701 launcher   wd15         r     08/29/2013 11:51:07 wide64@r039                        1        \r\n",
        "1686682 0.01701 launcher   wd15         r     08/29/2013 11:51:07 wide64@r037                        1        \r\n",
        "1686683 0.01701 launcher   wd15         r     08/29/2013 11:51:07 wide3@r002                         1        \r\n",
        "1686684 0.01701 launcher   wd15         r     08/29/2013 11:51:07 wide64@r037                        1        \r\n",
        "1686685 0.01701 launcher   wd15         r     08/29/2013 11:51:07 wide2@r013                         1        \r\n",
        "1686686 0.01701 launcher   wd15         r     08/29/2013 11:51:07 wide64@r030                        1        \r\n",
        "1686687 0.01701 launcher   wd15         r     08/29/2013 11:51:07 wide64@r034                        1        \r\n",
        "1686688 0.01701 launcher   wd15         r     08/29/2013 11:51:07 wide64@r037                        1        \r\n",
        "1686689 0.01701 launcher   wd15         r     08/29/2013 11:51:07 wide64@r030                        1        \r\n",
        "1686690 0.01701 launcher   wd15         r     08/29/2013 11:51:07 wide2@r013                         1        \r\n",
        "1686691 0.01701 launcher   wd15         r     08/29/2013 11:51:07 wide64@r034                        1        \r\n",
        "1686692 0.01701 launcher   wd15         r     08/29/2013 11:51:07 wide3@r002                         1        \r\n",
        "1686693 0.00422 launcher   wd15         r     08/29/2013 11:51:22 ctcms@r019                         1        \r\n",
        "1686694 0.00420 launcher   wd15         r     08/29/2013 11:51:22 wide64@r030                        1        \r\n",
        "1686695 0.00417 launcher   wd15         r     08/29/2013 11:51:22 wide2@r013                         1        \r\n",
        "1686696 0.00414 launcher   wd15         r     08/29/2013 11:51:22 wide64@r030                        1        \r\n",
        "1686697 0.00411 launcher   wd15         r     08/29/2013 11:51:22 wide2@r013                         1        \r\n",
        "1686698 0.00409 launcher   wd15         r     08/29/2013 11:51:22 wide64@r030                        1        \r\n",
        "1686699 0.00406 launcher   wd15         r     08/29/2013 11:51:22 wide64@r030                        1        \r\n",
        "1686700 0.00403 launcher   wd15         r     08/29/2013 11:51:22 wide64@r030                        1        \r\n",
        "1686701 0.00401 launcher   wd15         r     08/29/2013 11:51:22 wide64@r030                        1        \r\n",
        "1686702 0.00398 launcher   wd15         qw    08/29/2013 11:51:11                                    1        \r\n",
        "1686703 0.00396 launcher   wd15         qw    08/29/2013 11:51:12                                    1        \r\n",
        "1686704 0.00393 launcher   wd15         qw    08/29/2013 11:51:12                                    1        \r\n",
        "1686705 0.00391 launcher   wd15         qw    08/29/2013 11:51:13                                    1        \r\n",
        "1686706 0.00388 launcher   wd15         qw    08/29/2013 11:51:13                                    1        \r\n",
        "1686707 0.00386 launcher   wd15         qw    08/29/2013 11:51:14                                    1        \r\n",
        "1686708 0.00384 launcher   wd15         qw    08/29/2013 11:51:14                                    1        \r\n",
        "1686709 0.00381 launcher   wd15         qw    08/29/2013 11:51:15                                    1        \r\n",
        "1686710 0.00379 launcher   wd15         qw    08/29/2013 11:51:15                                    1        \r\n",
        "1686711 0.00377 launcher   wd15         qw    08/29/2013 11:51:16                                    1        \r\n",
        "1686712 0.00374 launcher   wd15         qw    08/29/2013 11:51:16                                    1        \r\n",
        "1686713 0.00372 launcher   wd15         qw    08/29/2013 11:51:17                                    1        \r\n",
        "1686714 0.00370 launcher   wd15         qw    08/29/2013 11:51:18                                    1        \r\n",
        "1686715 0.00368 launcher   wd15         qw    08/29/2013 11:51:18                                    1        \r\n",
        "1686716 0.00366 launcher   wd15         qw    08/29/2013 11:51:19                                    1        \r\n",
        "1686717 0.00363 launcher   wd15         qw    08/29/2013 11:51:19                                    1        \r\n",
        "1686718 0.00361 launcher   wd15         qw    08/29/2013 11:51:20                                    1        \r\n",
        "1686719 0.00359 launcher   wd15         qw    08/29/2013 11:51:20                                    1        \r\n",
        "1686720 0.00357 launcher   wd15         qw    08/29/2013 11:51:21                                    1        \r\n",
        "1686721 0.00355 launcher   wd15         qw    08/29/2013 11:51:21                                    1        \r\n",
        "1686722 0.00000 launcher   wd15         qw    08/29/2013 11:51:22                                    1        \r\n",
        "1686723 0.00000 launcher   wd15         qw    08/29/2013 11:51:22                                    1        \r\n",
        "1686724 0.00000 launcher   wd15         qw    08/29/2013 11:51:23                                    1        \r\n",
        "1686725 0.00000 launcher   wd15         qw    08/29/2013 11:51:23                                    1        \r\n",
        "1686726 0.00000 launcher   wd15         qw    08/29/2013 11:51:24                                    1        \r\n",
        "1686727 0.00000 launcher   wd15         qw    08/29/2013 11:51:25                                    1        \r\n",
        "1686728 0.00000 launcher   wd15         qw    08/29/2013 11:51:25                                    1        \r\n",
        "1686729 0.00000 launcher   wd15         qw    08/29/2013 11:51:25                                    1        \r\n",
        "1686730 0.00000 launcher   wd15         qw    08/29/2013 11:51:26                                    1        \r\n",
        "1686731 0.00000 launcher   wd15         qw    08/29/2013 11:51:26                                    1        \r\n",
        "1686732 0.00000 launcher   wd15         qw    08/29/2013 11:51:27                                    1        \r\n",
        "1686733 0.00000 launcher   wd15         qw    08/29/2013 11:51:27                                    1        \r\n",
        "1686734 0.00000 launcher   wd15         qw    08/29/2013 11:51:28                                    1        \r\n",
        "1686735 0.00000 launcher   wd15         qw    08/29/2013 11:51:28                                    1        \r\n",
        "1686736 0.00000 launcher   wd15         qw    08/29/2013 11:51:29                                    1        \r\n",
        "1686737 0.00000 launcher   wd15         qw    08/29/2013 11:51:29                                    1        \r\n",
        "1686738 0.00000 launcher   wd15         qw    08/29/2013 11:51:30                                    1        \r\n",
        "1686739 0.00000 launcher   wd15         qw    08/29/2013 11:51:31                                    1        \r\n"
       ]
      }
     ],
     "prompt_number": 41
    },
    {
     "cell_type": "code",
     "collapsed": false,
     "input": [
      "!qstat"
     ],
     "language": "python",
     "metadata": {},
     "outputs": [
      {
       "output_type": "stream",
       "stream": "stdout",
       "text": [
        "job-ID  prior   name       user         state submit/start at     queue                          slots ja-task-ID \r\n",
        "-----------------------------------------------------------------------------------------------------------------\r\n",
        "1686033 0.25946 launcher   wd15         r     08/27/2013 15:26:52 wide64@r037                        1        \r\n",
        "1686034 0.25946 launcher   wd15         r     08/27/2013 15:26:52 wide64@r033                        1        \r\n",
        "1686035 0.25946 launcher   wd15         r     08/27/2013 15:26:52 wide64@r037                        1        \r\n",
        "1686036 0.25946 launcher   wd15         r     08/27/2013 15:26:52 wide64@r033                        1        \r\n",
        "1686037 0.25946 launcher   wd15         r     08/27/2013 15:26:52 wide64@r037                        1        \r\n",
        "1686038 0.25946 launcher   wd15         r     08/27/2013 15:26:52 wide64@r033                        1        \r\n",
        "1686039 0.25946 launcher   wd15         r     08/27/2013 15:26:52 ctcms@r016                         1        \r\n",
        "1686040 0.25946 launcher   wd15         r     08/27/2013 15:26:52 wide64@r037                        1        \r\n",
        "1686041 0.25946 launcher   wd15         r     08/27/2013 15:26:52 ctcms@r019                         1        \r\n",
        "1686042 0.25946 launcher   wd15         r     08/27/2013 15:26:52 wide64@r033                        1        \r\n"
       ]
      }
     ],
     "prompt_number": 51
    },
    {
     "cell_type": "code",
     "collapsed": false,
     "input": [
      "%load_ext autoreload\n",
      "%autoreload 2\n",
      "from tools import getSMTRecords, smt_ipy_table\n",
      "records = getSMTRecords()\n",
      "annular18Records = getSMTRecords(records=records, tags=['annular18'])"
     ],
     "language": "python",
     "metadata": {},
     "outputs": [
      {
       "output_type": "stream",
       "stream": "stdout",
       "text": [
        "Created Django record store using PostgreSQL\n"
       ]
      },
      {
       "output_type": "stream",
       "stream": "stderr",
       "text": [
        "/users/wd15/hg/sumatra/sumatra/programs.py:57: Warning: Python could not be found. Please supply the path to the /users/wd15/.virtualenvs/fipy/bin/python executable.\n",
        "  warnings.warn(errmsg)\n"
       ]
      }
     ],
     "prompt_number": 1
    },
    {
     "cell_type": "code",
     "collapsed": false,
     "input": [
      "print len(annular18Records)"
     ],
     "language": "python",
     "metadata": {},
     "outputs": [
      {
       "output_type": "stream",
       "stream": "stdout",
       "text": [
        "117\n"
       ]
      }
     ],
     "prompt_number": 2
    },
    {
     "cell_type": "markdown",
     "metadata": {},
     "source": [
      "Not 200 records! The last record should correspond to job `1686739`."
     ]
    },
    {
     "cell_type": "code",
     "collapsed": false,
     "input": [
      "from tools import getSMTRecords, smt_ipy_table\n",
      "kPluses = np.logspace(1, 3, 20)\n",
      "kMinuses = np.logspace(7, 8, 10)\n",
      "records = []\n",
      "for kPlus in kPluses:\n",
      "    for kMinus in kMinuses:\n",
      "        rs = getSMTRecords(records=annular18Records, parameters={'kPlus' : kPlus, 'kMinus' : kMinus})\n",
      "        print kPlus, kMinus, len(rs)\n",
      "        if len(rs) > 0:\n",
      "            records.append(rs[0])\n",
      "\n",
      "smt_ipy_table(records, fields=['label', 'timestamp', 'parameters', 'duration', 'version', 'tags'], parameters=['kPlus', 'kMinus'])"
     ],
     "language": "python",
     "metadata": {},
     "outputs": [
      {
       "output_type": "stream",
       "stream": "stdout",
       "text": [
        "10.0 10000000.0 1\n",
        "10.0 12915496.6501 1\n",
        "10.0 16681005.372 1\n",
        "10.0 21544346.9003 1\n",
        "10.0"
       ]
      },
      {
       "output_type": "stream",
       "stream": "stdout",
       "text": [
        " 27825594.0221 1\n",
        "10.0 35938136.638 1\n",
        "10.0 46415888.3361 1\n",
        "10.0 59948425.0319 1\n",
        "10.0"
       ]
      },
      {
       "output_type": "stream",
       "stream": "stdout",
       "text": [
        " 77426368.2681 1\n",
        "10.0 100000000.0 1\n",
        "12.742749857 10000000.0 1\n",
        "12.742749857 12915496.6501 1\n",
        "12.742749857"
       ]
      },
      {
       "output_type": "stream",
       "stream": "stdout",
       "text": [
        " 16681005.372 1\n",
        "12.742749857 21544346.9003 1\n",
        "12.742749857 27825594.0221 1\n",
        "12.742749857 35938136.638 1\n",
        "12.742749857"
       ]
      },
      {
       "output_type": "stream",
       "stream": "stdout",
       "text": [
        " 46415888.3361 1\n",
        "12.742749857 59948425.0319 1\n",
        "12.742749857 77426368.2681 0\n",
        "12.742749857 100000000.0 0\n",
        "16.2377673919"
       ]
      },
      {
       "output_type": "stream",
       "stream": "stdout",
       "text": [
        " 10000000.0 0\n",
        "16.2377673919 12915496.6501 0\n",
        "16.2377673919 16681005.372 0\n",
        "16.2377673919 21544346.9003 0\n",
        "16.2377673919"
       ]
      },
      {
       "output_type": "stream",
       "stream": "stdout",
       "text": [
        " 27825594.0221 0\n",
        "16.2377673919 35938136.638 1\n",
        "16.2377673919 46415888.3361 1\n",
        "16.2377673919 59948425.0319 1\n",
        "16.2377673919"
       ]
      },
      {
       "output_type": "stream",
       "stream": "stdout",
       "text": [
        " 77426368.2681 1\n",
        "16.2377673919 100000000.0 0\n",
        "20.6913808111 10000000.0 0\n",
        "20.6913808111 12915496.6501 0\n",
        "20.6913808111"
       ]
      },
      {
       "output_type": "stream",
       "stream": "stdout",
       "text": [
        " 16681005.372 0\n",
        "20.6913808111 21544346.9003 0\n",
        "20.6913808111 27825594.0221 0\n",
        "20.6913808111 35938136.638 1\n",
        "20.6913808111"
       ]
      },
      {
       "output_type": "stream",
       "stream": "stdout",
       "text": [
        " 46415888.3361 1\n",
        "20.6913808111 59948425.0319 1\n",
        "20.6913808111 77426368.2681 0\n",
        "20.6913808111 100000000.0 0\n",
        "26.3665089873"
       ]
      },
      {
       "output_type": "stream",
       "stream": "stdout",
       "text": [
        " 10000000.0 1\n",
        "26.3665089873 12915496.6501 0\n",
        "26.3665089873 16681005.372 0\n",
        "26.3665089873 21544346.9003 0\n",
        "26.3665089873"
       ]
      },
      {
       "output_type": "stream",
       "stream": "stdout",
       "text": [
        " 27825594.0221 0\n",
        "26.3665089873 35938136.638 0\n",
        "26.3665089873 46415888.3361 0\n",
        "26.3665089873 59948425.0319 1\n",
        "26.3665089873"
       ]
      },
      {
       "output_type": "stream",
       "stream": "stdout",
       "text": [
        " 77426368.2681 0\n",
        "26.3665089873 100000000.0 0\n",
        "33.5981828628 10000000.0 1\n",
        "33.5981828628 12915496.6501 1\n",
        "33.5981828628"
       ]
      },
      {
       "output_type": "stream",
       "stream": "stdout",
       "text": [
        " 16681005.372 0\n",
        "33.5981828628 21544346.9003 0\n",
        "33.5981828628 27825594.0221 0\n",
        "33.5981828628 35938136.638 0\n",
        "33.5981828628"
       ]
      },
      {
       "output_type": "stream",
       "stream": "stdout",
       "text": [
        " 46415888.3361 0\n",
        "33.5981828628 59948425.0319 0\n",
        "33.5981828628 77426368.2681 0\n",
        "33.5981828628 100000000.0 0\n",
        "42.8133239872"
       ]
      },
      {
       "output_type": "stream",
       "stream": "stdout",
       "text": [
        " 10000000.0 1\n",
        "42.8133239872 12915496.6501 0\n",
        "42.8133239872 16681005.372 0\n",
        "42.8133239872 21544346.9003 1\n",
        "42.8133239872"
       ]
      },
      {
       "output_type": "stream",
       "stream": "stdout",
       "text": [
        " 27825594.0221 0\n",
        "42.8133239872 35938136.638 0\n",
        "42.8133239872 46415888.3361 0\n",
        "42.8133239872 59948425.0319 0\n",
        "42.8133239872"
       ]
      },
      {
       "output_type": "stream",
       "stream": "stdout",
       "text": [
        " 77426368.2681 0\n",
        "42.8133239872 100000000.0 0\n",
        "54.5559478117 10000000.0 0\n",
        "54.5559478117 12915496.6501 0\n",
        "54.5559478117"
       ]
      },
      {
       "output_type": "stream",
       "stream": "stdout",
       "text": [
        " 16681005.372 1\n",
        "54.5559478117 21544346.9003 0\n",
        "54.5559478117 27825594.0221 0\n",
        "54.5559478117 35938136.638 0\n",
        "54.5559478117"
       ]
      },
      {
       "output_type": "stream",
       "stream": "stdout",
       "text": [
        " 46415888.3361 1\n",
        "54.5559478117 59948425.0319 1\n",
        "54.5559478117 77426368.2681 1\n",
        "54.5559478117 100000000.0 1\n",
        "69.5192796178"
       ]
      },
      {
       "output_type": "stream",
       "stream": "stdout",
       "text": [
        " 10000000.0 0\n",
        "69.5192796178 12915496.6501 0\n",
        "69.5192796178 16681005.372 1\n",
        "69.5192796178 21544346.9003 1\n",
        "69.5192796178"
       ]
      },
      {
       "output_type": "stream",
       "stream": "stdout",
       "text": [
        " 27825594.0221 1\n",
        "69.5192796178 35938136.638 0\n",
        "69.5192796178 46415888.3361 1\n",
        "69.5192796178 59948425.0319 0\n",
        "69.5192796178"
       ]
      },
      {
       "output_type": "stream",
       "stream": "stdout",
       "text": [
        " 77426368.2681 1\n",
        "69.5192796178 100000000.0 1\n",
        "88.586679041 10000000.0 1\n",
        "88.586679041 12915496.6501 1\n",
        "88.586679041"
       ]
      },
      {
       "output_type": "stream",
       "stream": "stdout",
       "text": [
        " 16681005.372 0\n",
        "88.586679041 21544346.9003 1\n",
        "88.586679041 27825594.0221 0\n",
        "88.586679041 35938136.638 1\n",
        "88.586679041"
       ]
      },
      {
       "output_type": "stream",
       "stream": "stdout",
       "text": [
        " 46415888.3361 1\n",
        "88.586679041 59948425.0319 0\n",
        "88.586679041 77426368.2681 1\n",
        "88.586679041 100000000.0 1\n",
        "112.883789168"
       ]
      },
      {
       "output_type": "stream",
       "stream": "stdout",
       "text": [
        " 10000000.0 1\n",
        "112.883789168 12915496.6501 0\n",
        "112.883789168 16681005.372 1\n",
        "112.883789168 21544346.9003 1\n",
        "112.883789168"
       ]
      },
      {
       "output_type": "stream",
       "stream": "stdout",
       "text": [
        " 27825594.0221 0\n",
        "112.883789168 35938136.638 1\n",
        "112.883789168 46415888.3361 1\n",
        "112.883789168 59948425.0319 1\n",
        "112.883789168"
       ]
      },
      {
       "output_type": "stream",
       "stream": "stdout",
       "text": [
        " 77426368.2681 0\n",
        "112.883789168 100000000.0 0\n",
        "143.844988829 10000000.0 1\n",
        "143.844988829 12915496.6501 1\n",
        "143.844988829"
       ]
      },
      {
       "output_type": "stream",
       "stream": "stdout",
       "text": [
        " 16681005.372 0\n",
        "143.844988829 21544346.9003 1\n",
        "143.844988829 27825594.0221 0\n",
        "143.844988829 35938136.638 1\n",
        "143.844988829"
       ]
      },
      {
       "output_type": "stream",
       "stream": "stdout",
       "text": [
        " 46415888.3361 1\n",
        "143.844988829 59948425.0319 0\n",
        "143.844988829 77426368.2681 1\n",
        "143.844988829 100000000.0 1\n",
        "183.298071083"
       ]
      },
      {
       "output_type": "stream",
       "stream": "stdout",
       "text": [
        " 10000000.0 0\n",
        "183.298071083 12915496.6501 0\n",
        "183.298071083 16681005.372 1\n",
        "183.298071083 21544346.9003 1\n",
        "183.298071083"
       ]
      },
      {
       "output_type": "stream",
       "stream": "stdout",
       "text": [
        " 27825594.0221 1\n",
        "183.298071083 35938136.638 1\n",
        "183.298071083 46415888.3361 1\n",
        "183.298071083 59948425.0319 1\n",
        "183.298071083"
       ]
      },
      {
       "output_type": "stream",
       "stream": "stdout",
       "text": [
        " 77426368.2681 1\n",
        "183.298071083 100000000.0 1\n",
        "233.572146909 10000000.0 1\n",
        "233.572146909 12915496.6501 1\n",
        "233.572146909"
       ]
      },
      {
       "output_type": "stream",
       "stream": "stdout",
       "text": [
        " 16681005.372 1\n",
        "233.572146909 21544346.9003 1\n",
        "233.572146909 27825594.0221 1\n",
        "233.572146909 35938136.638 1\n",
        "233.572146909"
       ]
      },
      {
       "output_type": "stream",
       "stream": "stdout",
       "text": [
        " 46415888.3361 0\n",
        "233.572146909 59948425.0319 0\n",
        "233.572146909 77426368.2681 1\n",
        "233.572146909 100000000.0 1\n",
        "297.635144163"
       ]
      },
      {
       "output_type": "stream",
       "stream": "stdout",
       "text": [
        " 10000000.0 0\n",
        "297.635144163 12915496.6501 1\n",
        "297.635144163 16681005.372 1\n",
        "297.635144163 21544346.9003 1\n",
        "297.635144163"
       ]
      },
      {
       "output_type": "stream",
       "stream": "stdout",
       "text": [
        " 27825594.0221 1\n",
        "297.635144163 35938136.638 0\n",
        "297.635144163 46415888.3361 1\n",
        "297.635144163 59948425.0319 0\n",
        "297.635144163"
       ]
      },
      {
       "output_type": "stream",
       "stream": "stdout",
       "text": [
        " 77426368.2681 1\n",
        "297.635144163 100000000.0 1\n",
        "379.269019073 10000000.0 0\n",
        "379.269019073 12915496.6501 0\n",
        "379.269019073"
       ]
      },
      {
       "output_type": "stream",
       "stream": "stdout",
       "text": [
        " 16681005.372 1\n",
        "379.269019073 21544346.9003 1\n",
        "379.269019073 27825594.0221 0\n",
        "379.269019073 35938136.638 0\n",
        "379.269019073"
       ]
      },
      {
       "output_type": "stream",
       "stream": "stdout",
       "text": [
        " 46415888.3361 0\n",
        "379.269019073 59948425.0319 0\n",
        "379.269019073 77426368.2681 0\n",
        "379.269019073 100000000.0 1\n",
        "483.293023857"
       ]
      },
      {
       "output_type": "stream",
       "stream": "stdout",
       "text": [
        " 10000000.0 1\n",
        "483.293023857 12915496.6501 0\n",
        "483.293023857 16681005.372 1\n",
        "483.293023857 21544346.9003 1\n",
        "483.293023857"
       ]
      },
      {
       "output_type": "stream",
       "stream": "stdout",
       "text": [
        " 27825594.0221 1\n",
        "483.293023857 35938136.638 1\n",
        "483.293023857 46415888.3361 1\n",
        "483.293023857 59948425.0319 0\n",
        "483.293023857"
       ]
      },
      {
       "output_type": "stream",
       "stream": "stdout",
       "text": [
        " 77426368.2681 1\n",
        "483.293023857 100000000.0 0\n",
        "615.848211066 10000000.0 0\n",
        "615.848211066 12915496.6501 1\n",
        "615.848211066"
       ]
      },
      {
       "output_type": "stream",
       "stream": "stdout",
       "text": [
        " 16681005.372 1\n",
        "615.848211066 21544346.9003 1\n",
        "615.848211066 27825594.0221 1\n",
        "615.848211066 35938136.638 0\n",
        "615.848211066"
       ]
      },
      {
       "output_type": "stream",
       "stream": "stdout",
       "text": [
        " 46415888.3361 1\n",
        "615.848211066 59948425.0319 0\n",
        "615.848211066 77426368.2681 1\n",
        "615.848211066 100000000.0 0\n",
        "784.759970351"
       ]
      },
      {
       "output_type": "stream",
       "stream": "stdout",
       "text": [
        " 10000000.0 0\n",
        "784.759970351 12915496.6501 0\n",
        "784.759970351 16681005.372 1\n",
        "784.759970351 21544346.9003 1\n",
        "784.759970351"
       ]
      },
      {
       "output_type": "stream",
       "stream": "stdout",
       "text": [
        " 27825594.0221 1\n",
        "784.759970351 35938136.638 1\n",
        "784.759970351 46415888.3361 1\n",
        "784.759970351 59948425.0319 1\n",
        "784.759970351"
       ]
      },
      {
       "output_type": "stream",
       "stream": "stdout",
       "text": [
        " 77426368.2681 0\n",
        "784.759970351 100000000.0 0\n",
        "1000.0 10000000.0 1\n",
        "1000.0 12915496.6501 1\n",
        "1000.0"
       ]
      },
      {
       "output_type": "stream",
       "stream": "stdout",
       "text": [
        " 16681005.372 1\n",
        "1000.0 21544346.9003 1\n",
        "1000.0 27825594.0221 1\n",
        "1000.0 35938136.638 1\n",
        "1000.0"
       ]
      },
      {
       "output_type": "stream",
       "stream": "stdout",
       "text": [
        " 46415888.3361 1\n",
        "1000.0 59948425.0319 1\n",
        "1000.0 77426368.2681 1\n",
        "1000.0 100000000.0 1\n"
       ]
      },
      {
       "html": [
        "<table border=\"1\" cellpadding=\"3\" cellspacing=\"0\"  style=\"border:1px solid black;border-collapse:collapse;\"><tr><td  style=\"background-color:LightGray;\"><b>Label</b></td><td  style=\"background-color:LightGray;\"><b>Timestamp</b></td><td  style=\"background-color:LightGray;\"><b>Parameters</b></td><td  style=\"background-color:LightGray;\"><b>Duration</b></td><td  style=\"background-color:LightGray;\"><b>Version</b></td><td  style=\"background-color:LightGray;\"><b>Tags</b></td></tr><tr><td  style=\"background-color:Ivory;\"><code>e8d8a8b65ada</code></td><td  style=\"background-color:Ivory;\">2013-08-29 11:50</td><td  style=\"background-color:Ivory;\"><code>kPlus: 10.0, kMinus: 10000000.0</code></td><td  style=\"background-color:Ivory;\">10.97s</td><td  style=\"background-color:Ivory;\"><code>c96b085a9e3a</code></td><td  style=\"background-color:Ivory;\">annular18</td></tr><tr><td  style=\"background-color:AliceBlue;\"><code>d19144b939e0</code></td><td  style=\"background-color:AliceBlue;\">2013-08-29 11:50</td><td  style=\"background-color:AliceBlue;\"><code>kPlus: 10.0, kMinus: 12915496.6501</code></td><td  style=\"background-color:AliceBlue;\">12.36s</td><td  style=\"background-color:AliceBlue;\"><code>c96b085a9e3a</code></td><td  style=\"background-color:AliceBlue;\">annular18</td></tr><tr><td  style=\"background-color:Ivory;\"><code>3b2992e22a21</code></td><td  style=\"background-color:Ivory;\">2013-08-29 11:50</td><td  style=\"background-color:Ivory;\"><code>kPlus: 10.0, kMinus: 16681005.372</code></td><td  style=\"background-color:Ivory;\">12.02s</td><td  style=\"background-color:Ivory;\"><code>c96b085a9e3a</code></td><td  style=\"background-color:Ivory;\">annular18</td></tr><tr><td  style=\"background-color:AliceBlue;\"><code>1461fe1a89d9</code></td><td  style=\"background-color:AliceBlue;\">2013-08-29 11:50</td><td  style=\"background-color:AliceBlue;\"><code>kPlus: 10.0, kMinus: 21544346.9003</code></td><td  style=\"background-color:AliceBlue;\">11.04s</td><td  style=\"background-color:AliceBlue;\"><code>c96b085a9e3a</code></td><td  style=\"background-color:AliceBlue;\">annular18</td></tr><tr><td  style=\"background-color:Ivory;\"><code>9143fcb63889</code></td><td  style=\"background-color:Ivory;\">2013-08-29 11:50</td><td  style=\"background-color:Ivory;\"><code>kPlus: 10.0, kMinus: 27825594.0221</code></td><td  style=\"background-color:Ivory;\">12.05s</td><td  style=\"background-color:Ivory;\"><code>c96b085a9e3a</code></td><td  style=\"background-color:Ivory;\">annular18</td></tr><tr><td  style=\"background-color:AliceBlue;\"><code>ee55651ffe83</code></td><td  style=\"background-color:AliceBlue;\">2013-08-29 11:50</td><td  style=\"background-color:AliceBlue;\"><code>kPlus: 10.0, kMinus: 35938136.638</code></td><td  style=\"background-color:AliceBlue;\">10.89s</td><td  style=\"background-color:AliceBlue;\"><code>c96b085a9e3a</code></td><td  style=\"background-color:AliceBlue;\">annular18</td></tr><tr><td  style=\"background-color:Ivory;\"><code>332522170381</code></td><td  style=\"background-color:Ivory;\">2013-08-29 11:50</td><td  style=\"background-color:Ivory;\"><code>kPlus: 10.0, kMinus: 46415888.3361</code></td><td  style=\"background-color:Ivory;\">5.12s</td><td  style=\"background-color:Ivory;\"><code>c96b085a9e3a</code></td><td  style=\"background-color:Ivory;\">annular18</td></tr><tr><td  style=\"background-color:AliceBlue;\"><code>0178d388a95d</code></td><td  style=\"background-color:AliceBlue;\">2013-08-29 11:50</td><td  style=\"background-color:AliceBlue;\"><code>kPlus: 10.0, kMinus: 59948425.0319</code></td><td  style=\"background-color:AliceBlue;\">5.58s</td><td  style=\"background-color:AliceBlue;\"><code>c96b085a9e3a</code></td><td  style=\"background-color:AliceBlue;\">annular18</td></tr><tr><td  style=\"background-color:Ivory;\"><code>2cc354d34819</code></td><td  style=\"background-color:Ivory;\">2013-08-29 11:50</td><td  style=\"background-color:Ivory;\"><code>kPlus: 10.0, kMinus: 77426368.2681</code></td><td  style=\"background-color:Ivory;\">11.05s</td><td  style=\"background-color:Ivory;\"><code>c96b085a9e3a</code></td><td  style=\"background-color:Ivory;\">annular18</td></tr><tr><td  style=\"background-color:AliceBlue;\"><code>e373b991b590</code></td><td  style=\"background-color:AliceBlue;\">2013-08-29 11:50</td><td  style=\"background-color:AliceBlue;\"><code>kPlus: 10.0, kMinus: 100000000.0</code></td><td  style=\"background-color:AliceBlue;\">11.46s</td><td  style=\"background-color:AliceBlue;\"><code>c96b085a9e3a</code></td><td  style=\"background-color:AliceBlue;\">annular18</td></tr><tr><td  style=\"background-color:Ivory;\"><code>31fb0c0e627f</code></td><td  style=\"background-color:Ivory;\">2013-08-29 11:50</td><td  style=\"background-color:Ivory;\"><code>kPlus: 12.742749857, kMinus: 10000000.0</code></td><td  style=\"background-color:Ivory;\">12.13s</td><td  style=\"background-color:Ivory;\"><code>c96b085a9e3a</code></td><td  style=\"background-color:Ivory;\">annular18</td></tr><tr><td  style=\"background-color:AliceBlue;\"><code>c39633293fff</code></td><td  style=\"background-color:AliceBlue;\">2013-08-29 11:50</td><td  style=\"background-color:AliceBlue;\"><code>kPlus: 12.742749857, kMinus: 12915496.6501</code></td><td  style=\"background-color:AliceBlue;\">11.27s</td><td  style=\"background-color:AliceBlue;\"><code>c96b085a9e3a</code></td><td  style=\"background-color:AliceBlue;\">annular18</td></tr><tr><td  style=\"background-color:Ivory;\"><code>e2f71e0b40b2</code></td><td  style=\"background-color:Ivory;\">2013-08-29 11:50</td><td  style=\"background-color:Ivory;\"><code>kPlus: 12.742749857, kMinus: 16681005.372</code></td><td  style=\"background-color:Ivory;\">5.09s</td><td  style=\"background-color:Ivory;\"><code>c96b085a9e3a</code></td><td  style=\"background-color:Ivory;\">annular18</td></tr><tr><td  style=\"background-color:AliceBlue;\"><code>ea984e430406</code></td><td  style=\"background-color:AliceBlue;\">2013-08-29 11:50</td><td  style=\"background-color:AliceBlue;\"><code>kPlus: 12.742749857, kMinus: 21544346.9003</code></td><td  style=\"background-color:AliceBlue;\">5.60s</td><td  style=\"background-color:AliceBlue;\"><code>c96b085a9e3a</code></td><td  style=\"background-color:AliceBlue;\">annular18</td></tr><tr><td  style=\"background-color:Ivory;\"><code>e347ec064395</code></td><td  style=\"background-color:Ivory;\">2013-08-29 11:50</td><td  style=\"background-color:Ivory;\"><code>kPlus: 12.742749857, kMinus: 27825594.0221</code></td><td  style=\"background-color:Ivory;\">5.23s</td><td  style=\"background-color:Ivory;\"><code>c96b085a9e3a</code></td><td  style=\"background-color:Ivory;\">annular18</td></tr><tr><td  style=\"background-color:AliceBlue;\"><code>2bd1c3ae8621</code></td><td  style=\"background-color:AliceBlue;\">2013-08-29 11:50</td><td  style=\"background-color:AliceBlue;\"><code>kPlus: 12.742749857, kMinus: 35938136.638</code></td><td  style=\"background-color:AliceBlue;\">11.10s</td><td  style=\"background-color:AliceBlue;\"><code>c96b085a9e3a</code></td><td  style=\"background-color:AliceBlue;\">annular18</td></tr><tr><td  style=\"background-color:Ivory;\"><code>55310d6b2b4d</code></td><td  style=\"background-color:Ivory;\">2013-08-29 11:50</td><td  style=\"background-color:Ivory;\"><code>kPlus: 12.742749857, kMinus: 46415888.3361</code></td><td  style=\"background-color:Ivory;\">11.72s</td><td  style=\"background-color:Ivory;\"><code>c96b085a9e3a</code></td><td  style=\"background-color:Ivory;\">annular18</td></tr><tr><td  style=\"background-color:AliceBlue;\"><code>15b00418f400</code></td><td  style=\"background-color:AliceBlue;\">2013-08-29 11:50</td><td  style=\"background-color:AliceBlue;\"><code>kPlus: 12.742749857, kMinus: 59948425.0319</code></td><td  style=\"background-color:AliceBlue;\">5.35s</td><td  style=\"background-color:AliceBlue;\"><code>c96b085a9e3a</code></td><td  style=\"background-color:AliceBlue;\">annular18</td></tr><tr><td  style=\"background-color:Ivory;\"><code>ac07f73aa20e</code></td><td  style=\"background-color:Ivory;\">2013-08-29 11:50</td><td  style=\"background-color:Ivory;\"><code>kPlus: 16.2377673919, kMinus: 35938136.638</code></td><td  style=\"background-color:Ivory;\">11.23s</td><td  style=\"background-color:Ivory;\"><code>c96b085a9e3a</code></td><td  style=\"background-color:Ivory;\">annular18</td></tr><tr><td  style=\"background-color:AliceBlue;\"><code>3dad6d86d3b7</code></td><td  style=\"background-color:AliceBlue;\">2013-08-29 11:50</td><td  style=\"background-color:AliceBlue;\"><code>kPlus: 16.2377673919, kMinus: 46415888.3361</code></td><td  style=\"background-color:AliceBlue;\">10.83s</td><td  style=\"background-color:AliceBlue;\"><code>c96b085a9e3a</code></td><td  style=\"background-color:AliceBlue;\">annular18</td></tr><tr><td  style=\"background-color:Ivory;\"><code>d4ab69456bcf</code></td><td  style=\"background-color:Ivory;\">2013-08-29 11:50</td><td  style=\"background-color:Ivory;\"><code>kPlus: 16.2377673919, kMinus: 59948425.0319</code></td><td  style=\"background-color:Ivory;\">6.21s</td><td  style=\"background-color:Ivory;\"><code>c96b085a9e3a</code></td><td  style=\"background-color:Ivory;\">annular18</td></tr><tr><td  style=\"background-color:AliceBlue;\"><code>2affbd987ce1</code></td><td  style=\"background-color:AliceBlue;\">2013-08-29 11:50</td><td  style=\"background-color:AliceBlue;\"><code>kPlus: 16.2377673919, kMinus: 77426368.2681</code></td><td  style=\"background-color:AliceBlue;\">5.24s</td><td  style=\"background-color:AliceBlue;\"><code>c96b085a9e3a</code></td><td  style=\"background-color:AliceBlue;\">annular18</td></tr><tr><td  style=\"background-color:Ivory;\"><code>13e16db5aff1</code></td><td  style=\"background-color:Ivory;\">2013-08-29 11:50</td><td  style=\"background-color:Ivory;\"><code>kPlus: 20.6913808111, kMinus: 35938136.638</code></td><td  style=\"background-color:Ivory;\">10.75s</td><td  style=\"background-color:Ivory;\"><code>c96b085a9e3a</code></td><td  style=\"background-color:Ivory;\">annular18</td></tr><tr><td  style=\"background-color:AliceBlue;\"><code>362e5d57e1d2</code></td><td  style=\"background-color:AliceBlue;\">2013-08-29 11:50</td><td  style=\"background-color:AliceBlue;\"><code>kPlus: 20.6913808111, kMinus: 46415888.3361</code></td><td  style=\"background-color:AliceBlue;\">11.58s</td><td  style=\"background-color:AliceBlue;\"><code>c96b085a9e3a</code></td><td  style=\"background-color:AliceBlue;\">annular18</td></tr><tr><td  style=\"background-color:Ivory;\"><code>7438d9096710</code></td><td  style=\"background-color:Ivory;\">2013-08-29 11:50</td><td  style=\"background-color:Ivory;\"><code>kPlus: 20.6913808111, kMinus: 59948425.0319</code></td><td  style=\"background-color:Ivory;\">5.30s</td><td  style=\"background-color:Ivory;\"><code>c96b085a9e3a</code></td><td  style=\"background-color:Ivory;\">annular18</td></tr><tr><td  style=\"background-color:AliceBlue;\"><code>2fd3c04dbbf7</code></td><td  style=\"background-color:AliceBlue;\">2013-08-29 11:50</td><td  style=\"background-color:AliceBlue;\"><code>kPlus: 26.3665089873, kMinus: 10000000.0</code></td><td  style=\"background-color:AliceBlue;\">5.01s</td><td  style=\"background-color:AliceBlue;\"><code>c96b085a9e3a</code></td><td  style=\"background-color:AliceBlue;\">annular18</td></tr><tr><td  style=\"background-color:Ivory;\"><code>6773007cc2f8</code></td><td  style=\"background-color:Ivory;\">2013-08-29 11:50</td><td  style=\"background-color:Ivory;\"><code>kPlus: 26.3665089873, kMinus: 59948425.0319</code></td><td  style=\"background-color:Ivory;\">5.15s</td><td  style=\"background-color:Ivory;\"><code>c96b085a9e3a</code></td><td  style=\"background-color:Ivory;\">annular18</td></tr><tr><td  style=\"background-color:AliceBlue;\"><code>64bdaa185dfd</code></td><td  style=\"background-color:AliceBlue;\">2013-08-29 11:50</td><td  style=\"background-color:AliceBlue;\"><code>kPlus: 33.5981828628, kMinus: 10000000.0</code></td><td  style=\"background-color:AliceBlue;\">4.82s</td><td  style=\"background-color:AliceBlue;\"><code>c96b085a9e3a</code></td><td  style=\"background-color:AliceBlue;\">annular18</td></tr><tr><td  style=\"background-color:Ivory;\"><code>5876fd10cd8a</code></td><td  style=\"background-color:Ivory;\">2013-08-29 11:50</td><td  style=\"background-color:Ivory;\"><code>kPlus: 33.5981828628, kMinus: 12915496.6501</code></td><td  style=\"background-color:Ivory;\">5.31s</td><td  style=\"background-color:Ivory;\"><code>c96b085a9e3a</code></td><td  style=\"background-color:Ivory;\">annular18</td></tr><tr><td  style=\"background-color:AliceBlue;\"><code>e5f51f2a3aff</code></td><td  style=\"background-color:AliceBlue;\">2013-08-29 11:50</td><td  style=\"background-color:AliceBlue;\"><code>kPlus: 42.8133239872, kMinus: 10000000.0</code></td><td  style=\"background-color:AliceBlue;\">4.54s</td><td  style=\"background-color:AliceBlue;\"><code>c96b085a9e3a</code></td><td  style=\"background-color:AliceBlue;\">annular18</td></tr><tr><td  style=\"background-color:Ivory;\"><code>3f98e250ae4e</code></td><td  style=\"background-color:Ivory;\">2013-08-29 11:50</td><td  style=\"background-color:Ivory;\"><code>kPlus: 42.8133239872, kMinus: 21544346.9003</code></td><td  style=\"background-color:Ivory;\">12.66s</td><td  style=\"background-color:Ivory;\"><code>c96b085a9e3a</code></td><td  style=\"background-color:Ivory;\">annular18</td></tr><tr><td  style=\"background-color:AliceBlue;\"><code>4169f6260328</code></td><td  style=\"background-color:AliceBlue;\">2013-08-29 11:50</td><td  style=\"background-color:AliceBlue;\"><code>kPlus: 54.5559478117, kMinus: 16681005.372</code></td><td  style=\"background-color:AliceBlue;\">13.57s</td><td  style=\"background-color:AliceBlue;\"><code>c96b085a9e3a</code></td><td  style=\"background-color:AliceBlue;\">annular18</td></tr><tr><td  style=\"background-color:Ivory;\"><code>d6fd2f648dce</code></td><td  style=\"background-color:Ivory;\">2013-08-29 11:50</td><td  style=\"background-color:Ivory;\"><code>kPlus: 54.5559478117, kMinus: 46415888.3361</code></td><td  style=\"background-color:Ivory;\">12.50s</td><td  style=\"background-color:Ivory;\"><code>c96b085a9e3a</code></td><td  style=\"background-color:Ivory;\">annular18</td></tr><tr><td  style=\"background-color:AliceBlue;\"><code>fc21d835ca04</code></td><td  style=\"background-color:AliceBlue;\">2013-08-29 11:50</td><td  style=\"background-color:AliceBlue;\"><code>kPlus: 54.5559478117, kMinus: 59948425.0319</code></td><td  style=\"background-color:AliceBlue;\">14.76s</td><td  style=\"background-color:AliceBlue;\"><code>c96b085a9e3a</code></td><td  style=\"background-color:AliceBlue;\">annular18</td></tr><tr><td  style=\"background-color:Ivory;\"><code>8f967949620c</code></td><td  style=\"background-color:Ivory;\">2013-08-29 11:50</td><td  style=\"background-color:Ivory;\"><code>kPlus: 54.5559478117, kMinus: 77426368.2681</code></td><td  style=\"background-color:Ivory;\">13.32s</td><td  style=\"background-color:Ivory;\"><code>c96b085a9e3a</code></td><td  style=\"background-color:Ivory;\">annular18</td></tr><tr><td  style=\"background-color:AliceBlue;\"><code>18c3c2544795</code></td><td  style=\"background-color:AliceBlue;\">2013-08-29 11:50</td><td  style=\"background-color:AliceBlue;\"><code>kPlus: 54.5559478117, kMinus: 100000000.0</code></td><td  style=\"background-color:AliceBlue;\">14.17s</td><td  style=\"background-color:AliceBlue;\"><code>c96b085a9e3a</code></td><td  style=\"background-color:AliceBlue;\">annular18</td></tr><tr><td  style=\"background-color:Ivory;\"><code>528a3b89859f</code></td><td  style=\"background-color:Ivory;\">2013-08-29 11:50</td><td  style=\"background-color:Ivory;\"><code>kPlus: 69.5192796178, kMinus: 16681005.372</code></td><td  style=\"background-color:Ivory;\">15.13s</td><td  style=\"background-color:Ivory;\"><code>c96b085a9e3a</code></td><td  style=\"background-color:Ivory;\">annular18</td></tr><tr><td  style=\"background-color:AliceBlue;\"><code>2930e05feca2</code></td><td  style=\"background-color:AliceBlue;\">2013-08-29 11:50</td><td  style=\"background-color:AliceBlue;\"><code>kPlus: 69.5192796178, kMinus: 21544346.9003</code></td><td  style=\"background-color:AliceBlue;\">5.06s</td><td  style=\"background-color:AliceBlue;\"><code>c96b085a9e3a</code></td><td  style=\"background-color:AliceBlue;\">annular18</td></tr><tr><td  style=\"background-color:Ivory;\"><code>6eb4ab24e3f0</code></td><td  style=\"background-color:Ivory;\">2013-08-29 11:50</td><td  style=\"background-color:Ivory;\"><code>kPlus: 69.5192796178, kMinus: 27825594.0221</code></td><td  style=\"background-color:Ivory;\">13.32s</td><td  style=\"background-color:Ivory;\"><code>c96b085a9e3a</code></td><td  style=\"background-color:Ivory;\">annular18</td></tr><tr><td  style=\"background-color:AliceBlue;\"><code>9e29a035873b</code></td><td  style=\"background-color:AliceBlue;\">2013-08-29 11:50</td><td  style=\"background-color:AliceBlue;\"><code>kPlus: 69.5192796178, kMinus: 46415888.3361</code></td><td  style=\"background-color:AliceBlue;\">10.07s</td><td  style=\"background-color:AliceBlue;\"><code>c96b085a9e3a</code></td><td  style=\"background-color:AliceBlue;\">annular18</td></tr><tr><td  style=\"background-color:Ivory;\"><code>7b2da39ac4e7</code></td><td  style=\"background-color:Ivory;\">2013-08-29 11:50</td><td  style=\"background-color:Ivory;\"><code>kPlus: 69.5192796178, kMinus: 77426368.2681</code></td><td  style=\"background-color:Ivory;\">14.62s</td><td  style=\"background-color:Ivory;\"><code>c96b085a9e3a</code></td><td  style=\"background-color:Ivory;\">annular18</td></tr><tr><td  style=\"background-color:AliceBlue;\"><code>76aa3520f068</code></td><td  style=\"background-color:AliceBlue;\">2013-08-29 11:50</td><td  style=\"background-color:AliceBlue;\"><code>kPlus: 69.5192796178, kMinus: 100000000.0</code></td><td  style=\"background-color:AliceBlue;\">9.88s</td><td  style=\"background-color:AliceBlue;\"><code>c96b085a9e3a</code></td><td  style=\"background-color:AliceBlue;\">annular18</td></tr><tr><td  style=\"background-color:Ivory;\"><code>af5ce82757ee</code></td><td  style=\"background-color:Ivory;\">2013-08-29 11:50</td><td  style=\"background-color:Ivory;\"><code>kPlus: 88.586679041, kMinus: 10000000.0</code></td><td  style=\"background-color:Ivory;\">4.90s</td><td  style=\"background-color:Ivory;\"><code>c96b085a9e3a</code></td><td  style=\"background-color:Ivory;\">annular18</td></tr><tr><td  style=\"background-color:AliceBlue;\"><code>f537a4dfcaa2</code></td><td  style=\"background-color:AliceBlue;\">2013-08-29 11:50</td><td  style=\"background-color:AliceBlue;\"><code>kPlus: 88.586679041, kMinus: 12915496.6501</code></td><td  style=\"background-color:AliceBlue;\">13.01s</td><td  style=\"background-color:AliceBlue;\"><code>c96b085a9e3a</code></td><td  style=\"background-color:AliceBlue;\">annular18</td></tr><tr><td  style=\"background-color:Ivory;\"><code>15fb01986cbe</code></td><td  style=\"background-color:Ivory;\">2013-08-29 11:51</td><td  style=\"background-color:Ivory;\"><code>kPlus: 88.586679041, kMinus: 21544346.9003</code></td><td  style=\"background-color:Ivory;\">19.37s</td><td  style=\"background-color:Ivory;\"><code>c96b085a9e3a</code></td><td  style=\"background-color:Ivory;\">annular18</td></tr><tr><td  style=\"background-color:AliceBlue;\"><code>df204df9d3eb</code></td><td  style=\"background-color:AliceBlue;\">2013-08-29 11:51</td><td  style=\"background-color:AliceBlue;\"><code>kPlus: 88.586679041, kMinus: 35938136.638</code></td><td  style=\"background-color:AliceBlue;\">17.47s</td><td  style=\"background-color:AliceBlue;\"><code>c96b085a9e3a</code></td><td  style=\"background-color:AliceBlue;\">annular18</td></tr><tr><td  style=\"background-color:Ivory;\"><code>2a14581736d1</code></td><td  style=\"background-color:Ivory;\">2013-08-29 11:51</td><td  style=\"background-color:Ivory;\"><code>kPlus: 88.586679041, kMinus: 46415888.3361</code></td><td  style=\"background-color:Ivory;\">11.71s</td><td  style=\"background-color:Ivory;\"><code>c96b085a9e3a</code></td><td  style=\"background-color:Ivory;\">annular18</td></tr><tr><td  style=\"background-color:AliceBlue;\"><code>d654d20e14f2</code></td><td  style=\"background-color:AliceBlue;\">2013-08-29 11:50</td><td  style=\"background-color:AliceBlue;\"><code>kPlus: 88.586679041, kMinus: 77426368.2681</code></td><td  style=\"background-color:AliceBlue;\">9.84s</td><td  style=\"background-color:AliceBlue;\"><code>c96b085a9e3a</code></td><td  style=\"background-color:AliceBlue;\">annular18</td></tr><tr><td  style=\"background-color:Ivory;\"><code>4950e9b6aca4</code></td><td  style=\"background-color:Ivory;\">2013-08-29 11:51</td><td  style=\"background-color:Ivory;\"><code>kPlus: 88.586679041, kMinus: 100000000.0</code></td><td  style=\"background-color:Ivory;\">24.91s</td><td  style=\"background-color:Ivory;\"><code>c96b085a9e3a</code></td><td  style=\"background-color:Ivory;\">annular18</td></tr><tr><td  style=\"background-color:AliceBlue;\"><code>cbde15bc1e82</code></td><td  style=\"background-color:AliceBlue;\">2013-08-29 11:51</td><td  style=\"background-color:AliceBlue;\"><code>kPlus: 112.883789168, kMinus: 10000000.0</code></td><td  style=\"background-color:AliceBlue;\">11.67s</td><td  style=\"background-color:AliceBlue;\"><code>c96b085a9e3a</code></td><td  style=\"background-color:AliceBlue;\">annular18</td></tr><tr><td  style=\"background-color:Ivory;\"><code>65c5e390d983</code></td><td  style=\"background-color:Ivory;\">2013-08-29 11:51</td><td  style=\"background-color:Ivory;\"><code>kPlus: 112.883789168, kMinus: 16681005.372</code></td><td  style=\"background-color:Ivory;\">16.81s</td><td  style=\"background-color:Ivory;\"><code>c96b085a9e3a</code></td><td  style=\"background-color:Ivory;\">annular18</td></tr><tr><td  style=\"background-color:AliceBlue;\"><code>c6b5e31fe7c2</code></td><td  style=\"background-color:AliceBlue;\">2013-08-29 11:51</td><td  style=\"background-color:AliceBlue;\"><code>kPlus: 112.883789168, kMinus: 21544346.9003</code></td><td  style=\"background-color:AliceBlue;\">13.60s</td><td  style=\"background-color:AliceBlue;\"><code>c96b085a9e3a</code></td><td  style=\"background-color:AliceBlue;\">annular18</td></tr><tr><td  style=\"background-color:Ivory;\"><code>9d75fc4283c1</code></td><td  style=\"background-color:Ivory;\">2013-08-29 11:50</td><td  style=\"background-color:Ivory;\"><code>kPlus: 112.883789168, kMinus: 35938136.638</code></td><td  style=\"background-color:Ivory;\">8.29s</td><td  style=\"background-color:Ivory;\"><code>c96b085a9e3a</code></td><td  style=\"background-color:Ivory;\">annular18</td></tr><tr><td  style=\"background-color:AliceBlue;\"><code>1652109f0ed2</code></td><td  style=\"background-color:AliceBlue;\">2013-08-29 11:51</td><td  style=\"background-color:AliceBlue;\"><code>kPlus: 112.883789168, kMinus: 46415888.3361</code></td><td  style=\"background-color:AliceBlue;\">25.23s</td><td  style=\"background-color:AliceBlue;\"><code>c96b085a9e3a</code></td><td  style=\"background-color:AliceBlue;\">annular18</td></tr><tr><td  style=\"background-color:Ivory;\"><code>41a82e8622fc</code></td><td  style=\"background-color:Ivory;\">2013-08-29 11:51</td><td  style=\"background-color:Ivory;\"><code>kPlus: 112.883789168, kMinus: 59948425.0319</code></td><td  style=\"background-color:Ivory;\">12.29s</td><td  style=\"background-color:Ivory;\"><code>c96b085a9e3a</code></td><td  style=\"background-color:Ivory;\">annular18</td></tr><tr><td  style=\"background-color:AliceBlue;\"><code>42988287cf49</code></td><td  style=\"background-color:AliceBlue;\">2013-08-29 11:51</td><td  style=\"background-color:AliceBlue;\"><code>kPlus: 143.844988829, kMinus: 10000000.0</code></td><td  style=\"background-color:AliceBlue;\">16.96s</td><td  style=\"background-color:AliceBlue;\"><code>c96b085a9e3a</code></td><td  style=\"background-color:AliceBlue;\">annular18</td></tr><tr><td  style=\"background-color:Ivory;\"><code>1657f592e3a2</code></td><td  style=\"background-color:Ivory;\">2013-08-29 11:51</td><td  style=\"background-color:Ivory;\"><code>kPlus: 143.844988829, kMinus: 12915496.6501</code></td><td  style=\"background-color:Ivory;\">14.54s</td><td  style=\"background-color:Ivory;\"><code>c96b085a9e3a</code></td><td  style=\"background-color:Ivory;\">annular18</td></tr><tr><td  style=\"background-color:AliceBlue;\"><code>53a24e9f4592</code></td><td  style=\"background-color:AliceBlue;\">2013-08-29 11:50</td><td  style=\"background-color:AliceBlue;\"><code>kPlus: 143.844988829, kMinus: 21544346.9003</code></td><td  style=\"background-color:AliceBlue;\">8.69s</td><td  style=\"background-color:AliceBlue;\"><code>c96b085a9e3a</code></td><td  style=\"background-color:AliceBlue;\">annular18</td></tr><tr><td  style=\"background-color:Ivory;\"><code>fba8418dabf0</code></td><td  style=\"background-color:Ivory;\">2013-08-29 11:51</td><td  style=\"background-color:Ivory;\"><code>kPlus: 143.844988829, kMinus: 35938136.638</code></td><td  style=\"background-color:Ivory;\">16.80s</td><td  style=\"background-color:Ivory;\"><code>c96b085a9e3a</code></td><td  style=\"background-color:Ivory;\">annular18</td></tr><tr><td  style=\"background-color:AliceBlue;\"><code>030cc7b87cb7</code></td><td  style=\"background-color:AliceBlue;\">2013-08-29 11:51</td><td  style=\"background-color:AliceBlue;\"><code>kPlus: 143.844988829, kMinus: 46415888.3361</code></td><td  style=\"background-color:AliceBlue;\">14.23s</td><td  style=\"background-color:AliceBlue;\"><code>c96b085a9e3a</code></td><td  style=\"background-color:AliceBlue;\">annular18</td></tr><tr><td  style=\"background-color:Ivory;\"><code>7de64da396a2</code></td><td  style=\"background-color:Ivory;\">2013-08-29 11:51</td><td  style=\"background-color:Ivory;\"><code>kPlus: 143.844988829, kMinus: 77426368.2681</code></td><td  style=\"background-color:Ivory;\">17.79s</td><td  style=\"background-color:Ivory;\"><code>c96b085a9e3a</code></td><td  style=\"background-color:Ivory;\">annular18</td></tr><tr><td  style=\"background-color:AliceBlue;\"><code>3bf4c989e67a</code></td><td  style=\"background-color:AliceBlue;\">2013-08-29 11:51</td><td  style=\"background-color:AliceBlue;\"><code>kPlus: 143.844988829, kMinus: 100000000.0</code></td><td  style=\"background-color:AliceBlue;\">11.67s</td><td  style=\"background-color:AliceBlue;\"><code>c96b085a9e3a</code></td><td  style=\"background-color:AliceBlue;\">annular18</td></tr><tr><td  style=\"background-color:Ivory;\"><code>8214aa1040ca</code></td><td  style=\"background-color:Ivory;\">2013-08-29 11:51</td><td  style=\"background-color:Ivory;\"><code>kPlus: 183.298071083, kMinus: 16681005.372</code></td><td  style=\"background-color:Ivory;\">9.02s</td><td  style=\"background-color:Ivory;\"><code>c96b085a9e3a</code></td><td  style=\"background-color:Ivory;\">annular18</td></tr><tr><td  style=\"background-color:AliceBlue;\"><code>ddeda90727f2</code></td><td  style=\"background-color:AliceBlue;\">2013-08-29 11:51</td><td  style=\"background-color:AliceBlue;\"><code>kPlus: 183.298071083, kMinus: 21544346.9003</code></td><td  style=\"background-color:AliceBlue;\">11.58s</td><td  style=\"background-color:AliceBlue;\"><code>c96b085a9e3a</code></td><td  style=\"background-color:AliceBlue;\">annular18</td></tr><tr><td  style=\"background-color:Ivory;\"><code>dc5599f286a8</code></td><td  style=\"background-color:Ivory;\">2013-08-29 11:51</td><td  style=\"background-color:Ivory;\"><code>kPlus: 183.298071083, kMinus: 27825594.0221</code></td><td  style=\"background-color:Ivory;\">11.45s</td><td  style=\"background-color:Ivory;\"><code>c96b085a9e3a</code></td><td  style=\"background-color:Ivory;\">annular18</td></tr><tr><td  style=\"background-color:AliceBlue;\"><code>73d2e22bbb21</code></td><td  style=\"background-color:AliceBlue;\">2013-08-29 11:51</td><td  style=\"background-color:AliceBlue;\"><code>kPlus: 183.298071083, kMinus: 35938136.638</code></td><td  style=\"background-color:AliceBlue;\">13.47s</td><td  style=\"background-color:AliceBlue;\"><code>c96b085a9e3a</code></td><td  style=\"background-color:AliceBlue;\">annular18</td></tr><tr><td  style=\"background-color:Ivory;\"><code>e6a001a60c80</code></td><td  style=\"background-color:Ivory;\">2013-08-29 11:51</td><td  style=\"background-color:Ivory;\"><code>kPlus: 183.298071083, kMinus: 46415888.3361</code></td><td  style=\"background-color:Ivory;\">14.14s</td><td  style=\"background-color:Ivory;\"><code>c96b085a9e3a</code></td><td  style=\"background-color:Ivory;\">annular18</td></tr><tr><td  style=\"background-color:AliceBlue;\"><code>1c37c0501027</code></td><td  style=\"background-color:AliceBlue;\">2013-08-29 11:51</td><td  style=\"background-color:AliceBlue;\"><code>kPlus: 183.298071083, kMinus: 59948425.0319</code></td><td  style=\"background-color:AliceBlue;\">12.96s</td><td  style=\"background-color:AliceBlue;\"><code>c96b085a9e3a</code></td><td  style=\"background-color:AliceBlue;\">annular18</td></tr><tr><td  style=\"background-color:Ivory;\"><code>5ae06db41cde</code></td><td  style=\"background-color:Ivory;\">2013-08-29 11:51</td><td  style=\"background-color:Ivory;\"><code>kPlus: 183.298071083, kMinus: 77426368.2681</code></td><td  style=\"background-color:Ivory;\">13.74s</td><td  style=\"background-color:Ivory;\"><code>c96b085a9e3a</code></td><td  style=\"background-color:Ivory;\">annular18</td></tr><tr><td  style=\"background-color:AliceBlue;\"><code>245e0b5f6f5c</code></td><td  style=\"background-color:AliceBlue;\">2013-08-29 11:51</td><td  style=\"background-color:AliceBlue;\"><code>kPlus: 183.298071083, kMinus: 100000000.0</code></td><td  style=\"background-color:AliceBlue;\">12.82s</td><td  style=\"background-color:AliceBlue;\"><code>c96b085a9e3a</code></td><td  style=\"background-color:AliceBlue;\">annular18</td></tr><tr><td  style=\"background-color:Ivory;\"><code>cb3823337980</code></td><td  style=\"background-color:Ivory;\">2013-08-29 11:51</td><td  style=\"background-color:Ivory;\"><code>kPlus: 233.572146909, kMinus: 10000000.0</code></td><td  style=\"background-color:Ivory;\">14.28s</td><td  style=\"background-color:Ivory;\"><code>c96b085a9e3a</code></td><td  style=\"background-color:Ivory;\">annular18</td></tr><tr><td  style=\"background-color:AliceBlue;\"><code>91dcf8077776</code></td><td  style=\"background-color:AliceBlue;\">2013-08-29 11:51</td><td  style=\"background-color:AliceBlue;\"><code>kPlus: 233.572146909, kMinus: 12915496.6501</code></td><td  style=\"background-color:AliceBlue;\">13.11s</td><td  style=\"background-color:AliceBlue;\"><code>c96b085a9e3a</code></td><td  style=\"background-color:AliceBlue;\">annular18</td></tr><tr><td  style=\"background-color:Ivory;\"><code>376d3ddb874b</code></td><td  style=\"background-color:Ivory;\">2013-08-29 11:51</td><td  style=\"background-color:Ivory;\"><code>kPlus: 233.572146909, kMinus: 16681005.372</code></td><td  style=\"background-color:Ivory;\">13.65s</td><td  style=\"background-color:Ivory;\"><code>c96b085a9e3a</code></td><td  style=\"background-color:Ivory;\">annular18</td></tr><tr><td  style=\"background-color:AliceBlue;\"><code>b8356d395f11</code></td><td  style=\"background-color:AliceBlue;\">2013-08-29 11:51</td><td  style=\"background-color:AliceBlue;\"><code>kPlus: 233.572146909, kMinus: 21544346.9003</code></td><td  style=\"background-color:AliceBlue;\">12.70s</td><td  style=\"background-color:AliceBlue;\"><code>c96b085a9e3a</code></td><td  style=\"background-color:AliceBlue;\">annular18</td></tr><tr><td  style=\"background-color:Ivory;\"><code>8e94df94de80</code></td><td  style=\"background-color:Ivory;\">2013-08-29 11:51</td><td  style=\"background-color:Ivory;\"><code>kPlus: 233.572146909, kMinus: 27825594.0221</code></td><td  style=\"background-color:Ivory;\">11.59s</td><td  style=\"background-color:Ivory;\"><code>c96b085a9e3a</code></td><td  style=\"background-color:Ivory;\">annular18</td></tr><tr><td  style=\"background-color:AliceBlue;\"><code>1634e0265a55</code></td><td  style=\"background-color:AliceBlue;\">2013-08-29 11:51</td><td  style=\"background-color:AliceBlue;\"><code>kPlus: 233.572146909, kMinus: 35938136.638</code></td><td  style=\"background-color:AliceBlue;\">12.85s</td><td  style=\"background-color:AliceBlue;\"><code>c96b085a9e3a</code></td><td  style=\"background-color:AliceBlue;\">annular18</td></tr><tr><td  style=\"background-color:Ivory;\"><code>bfc83dc1e077</code></td><td  style=\"background-color:Ivory;\">2013-08-29 11:51</td><td  style=\"background-color:Ivory;\"><code>kPlus: 233.572146909, kMinus: 77426368.2681</code></td><td  style=\"background-color:Ivory;\">12.09s</td><td  style=\"background-color:Ivory;\"><code>c96b085a9e3a</code></td><td  style=\"background-color:Ivory;\">annular18</td></tr><tr><td  style=\"background-color:AliceBlue;\"><code>18050d08c268</code></td><td  style=\"background-color:AliceBlue;\">2013-08-29 11:51</td><td  style=\"background-color:AliceBlue;\"><code>kPlus: 233.572146909, kMinus: 100000000.0</code></td><td  style=\"background-color:AliceBlue;\">6.43s</td><td  style=\"background-color:AliceBlue;\"><code>c96b085a9e3a</code></td><td  style=\"background-color:AliceBlue;\">annular18</td></tr><tr><td  style=\"background-color:Ivory;\"><code>33aad4dd1ddd</code></td><td  style=\"background-color:Ivory;\">2013-08-29 11:51</td><td  style=\"background-color:Ivory;\"><code>kPlus: 297.635144163, kMinus: 12915496.6501</code></td><td  style=\"background-color:Ivory;\">13.14s</td><td  style=\"background-color:Ivory;\"><code>c96b085a9e3a</code></td><td  style=\"background-color:Ivory;\">annular18</td></tr><tr><td  style=\"background-color:AliceBlue;\"><code>84b4c805375f</code></td><td  style=\"background-color:AliceBlue;\">2013-08-29 11:51</td><td  style=\"background-color:AliceBlue;\"><code>kPlus: 297.635144163, kMinus: 16681005.372</code></td><td  style=\"background-color:AliceBlue;\">6.33s</td><td  style=\"background-color:AliceBlue;\"><code>c96b085a9e3a</code></td><td  style=\"background-color:AliceBlue;\">annular18</td></tr><tr><td  style=\"background-color:Ivory;\"><code>5bd383596aa8</code></td><td  style=\"background-color:Ivory;\">2013-08-29 11:51</td><td  style=\"background-color:Ivory;\"><code>kPlus: 297.635144163, kMinus: 21544346.9003</code></td><td  style=\"background-color:Ivory;\">14.56s</td><td  style=\"background-color:Ivory;\"><code>c96b085a9e3a</code></td><td  style=\"background-color:Ivory;\">annular18</td></tr><tr><td  style=\"background-color:AliceBlue;\"><code>153b7dd93538</code></td><td  style=\"background-color:AliceBlue;\">2013-08-29 11:51</td><td  style=\"background-color:AliceBlue;\"><code>kPlus: 297.635144163, kMinus: 27825594.0221</code></td><td  style=\"background-color:AliceBlue;\">6.64s</td><td  style=\"background-color:AliceBlue;\"><code>c96b085a9e3a</code></td><td  style=\"background-color:AliceBlue;\">annular18</td></tr><tr><td  style=\"background-color:Ivory;\"><code>b77747171dba</code></td><td  style=\"background-color:Ivory;\">2013-08-29 11:51</td><td  style=\"background-color:Ivory;\"><code>kPlus: 297.635144163, kMinus: 46415888.3361</code></td><td  style=\"background-color:Ivory;\">16.20s</td><td  style=\"background-color:Ivory;\"><code>c96b085a9e3a</code></td><td  style=\"background-color:Ivory;\">annular18</td></tr><tr><td  style=\"background-color:AliceBlue;\"><code>1cafcc74b435</code></td><td  style=\"background-color:AliceBlue;\">2013-08-29 11:51</td><td  style=\"background-color:AliceBlue;\"><code>kPlus: 297.635144163, kMinus: 77426368.2681</code></td><td  style=\"background-color:AliceBlue;\">6.99s</td><td  style=\"background-color:AliceBlue;\"><code>c96b085a9e3a</code></td><td  style=\"background-color:AliceBlue;\">annular18</td></tr><tr><td  style=\"background-color:Ivory;\"><code>b0b0246caf4b</code></td><td  style=\"background-color:Ivory;\">2013-08-29 11:51</td><td  style=\"background-color:Ivory;\"><code>kPlus: 297.635144163, kMinus: 100000000.0</code></td><td  style=\"background-color:Ivory;\">16.13s</td><td  style=\"background-color:Ivory;\"><code>c96b085a9e3a</code></td><td  style=\"background-color:Ivory;\">annular18</td></tr><tr><td  style=\"background-color:AliceBlue;\"><code>e4c80109b266</code></td><td  style=\"background-color:AliceBlue;\">2013-08-29 11:51</td><td  style=\"background-color:AliceBlue;\"><code>kPlus: 379.269019073, kMinus: 16681005.372</code></td><td  style=\"background-color:AliceBlue;\">14.27s</td><td  style=\"background-color:AliceBlue;\"><code>c96b085a9e3a</code></td><td  style=\"background-color:AliceBlue;\">annular18</td></tr><tr><td  style=\"background-color:Ivory;\"><code>2ec541d928ed</code></td><td  style=\"background-color:Ivory;\">2013-08-29 11:51</td><td  style=\"background-color:Ivory;\"><code>kPlus: 379.269019073, kMinus: 21544346.9003</code></td><td  style=\"background-color:Ivory;\">5.74s</td><td  style=\"background-color:Ivory;\"><code>c96b085a9e3a</code></td><td  style=\"background-color:Ivory;\">annular18</td></tr><tr><td  style=\"background-color:AliceBlue;\"><code>0ca0139b4261</code></td><td  style=\"background-color:AliceBlue;\">2013-08-29 11:51</td><td  style=\"background-color:AliceBlue;\"><code>kPlus: 379.269019073, kMinus: 100000000.0</code></td><td  style=\"background-color:AliceBlue;\">4.14s</td><td  style=\"background-color:AliceBlue;\"><code>c96b085a9e3a</code></td><td  style=\"background-color:AliceBlue;\">annular18</td></tr><tr><td  style=\"background-color:Ivory;\"><code>1d2695b8754d</code></td><td  style=\"background-color:Ivory;\">2013-08-29 11:51</td><td  style=\"background-color:Ivory;\"><code>kPlus: 483.293023857, kMinus: 10000000.0</code></td><td  style=\"background-color:Ivory;\">4.01s</td><td  style=\"background-color:Ivory;\"><code>c96b085a9e3a</code></td><td  style=\"background-color:Ivory;\">annular18</td></tr><tr><td  style=\"background-color:AliceBlue;\"><code>efbae45c2260</code></td><td  style=\"background-color:AliceBlue;\">2013-08-29 11:52</td><td  style=\"background-color:AliceBlue;\"><code>kPlus: 483.293023857, kMinus: 16681005.372</code></td><td  style=\"background-color:AliceBlue;\">2.69s</td><td  style=\"background-color:AliceBlue;\"><code>c96b085a9e3a</code></td><td  style=\"background-color:AliceBlue;\">annular18</td></tr><tr><td  style=\"background-color:Ivory;\"><code>224cc5e3df71</code></td><td  style=\"background-color:Ivory;\">2013-08-29 11:52</td><td  style=\"background-color:Ivory;\"><code>kPlus: 483.293023857, kMinus: 21544346.9003</code></td><td  style=\"background-color:Ivory;\">3.14s</td><td  style=\"background-color:Ivory;\"><code>c96b085a9e3a</code></td><td  style=\"background-color:Ivory;\">annular18</td></tr><tr><td  style=\"background-color:AliceBlue;\"><code>1e1a5740ac7c</code></td><td  style=\"background-color:AliceBlue;\">2013-08-29 11:52</td><td  style=\"background-color:AliceBlue;\"><code>kPlus: 483.293023857, kMinus: 27825594.0221</code></td><td  style=\"background-color:AliceBlue;\">7.93s</td><td  style=\"background-color:AliceBlue;\"><code>c96b085a9e3a</code></td><td  style=\"background-color:AliceBlue;\">annular18</td></tr><tr><td  style=\"background-color:Ivory;\"><code>2af2871a1c60</code></td><td  style=\"background-color:Ivory;\">2013-08-29 11:52</td><td  style=\"background-color:Ivory;\"><code>kPlus: 483.293023857, kMinus: 35938136.638</code></td><td  style=\"background-color:Ivory;\">8.10s</td><td  style=\"background-color:Ivory;\"><code>c96b085a9e3a</code></td><td  style=\"background-color:Ivory;\">annular18</td></tr><tr><td  style=\"background-color:AliceBlue;\"><code>3f6f4363a229</code></td><td  style=\"background-color:AliceBlue;\">2013-08-29 11:52</td><td  style=\"background-color:AliceBlue;\"><code>kPlus: 483.293023857, kMinus: 46415888.3361</code></td><td  style=\"background-color:AliceBlue;\">8.09s</td><td  style=\"background-color:AliceBlue;\"><code>c96b085a9e3a</code></td><td  style=\"background-color:AliceBlue;\">annular18</td></tr><tr><td  style=\"background-color:Ivory;\"><code>7d915d806967</code></td><td  style=\"background-color:Ivory;\">2013-08-29 11:52</td><td  style=\"background-color:Ivory;\"><code>kPlus: 483.293023857, kMinus: 77426368.2681</code></td><td  style=\"background-color:Ivory;\">6.90s</td><td  style=\"background-color:Ivory;\"><code>c96b085a9e3a</code></td><td  style=\"background-color:Ivory;\">annular18</td></tr><tr><td  style=\"background-color:AliceBlue;\"><code>0c3e8835e994</code></td><td  style=\"background-color:AliceBlue;\">2013-08-29 11:52</td><td  style=\"background-color:AliceBlue;\"><code>kPlus: 615.848211066, kMinus: 12915496.6501</code></td><td  style=\"background-color:AliceBlue;\">5.47s</td><td  style=\"background-color:AliceBlue;\"><code>c96b085a9e3a</code></td><td  style=\"background-color:AliceBlue;\">annular18</td></tr><tr><td  style=\"background-color:Ivory;\"><code>acb82a1f82bb</code></td><td  style=\"background-color:Ivory;\">2013-08-29 11:52</td><td  style=\"background-color:Ivory;\"><code>kPlus: 615.848211066, kMinus: 16681005.372</code></td><td  style=\"background-color:Ivory;\">3.46s</td><td  style=\"background-color:Ivory;\"><code>c96b085a9e3a</code></td><td  style=\"background-color:Ivory;\">annular18</td></tr><tr><td  style=\"background-color:AliceBlue;\"><code>f210f6a25e43</code></td><td  style=\"background-color:AliceBlue;\">2013-08-29 11:52</td><td  style=\"background-color:AliceBlue;\"><code>kPlus: 615.848211066, kMinus: 21544346.9003</code></td><td  style=\"background-color:AliceBlue;\">6.90s</td><td  style=\"background-color:AliceBlue;\"><code>c96b085a9e3a</code></td><td  style=\"background-color:AliceBlue;\">annular18</td></tr><tr><td  style=\"background-color:Ivory;\"><code>502630974ca9</code></td><td  style=\"background-color:Ivory;\">2013-08-29 11:52</td><td  style=\"background-color:Ivory;\"><code>kPlus: 615.848211066, kMinus: 27825594.0221</code></td><td  style=\"background-color:Ivory;\">7.12s</td><td  style=\"background-color:Ivory;\"><code>c96b085a9e3a</code></td><td  style=\"background-color:Ivory;\">annular18</td></tr><tr><td  style=\"background-color:AliceBlue;\"><code>dcf963fd9c61</code></td><td  style=\"background-color:AliceBlue;\">2013-08-29 11:52</td><td  style=\"background-color:AliceBlue;\"><code>kPlus: 615.848211066, kMinus: 46415888.3361</code></td><td  style=\"background-color:AliceBlue;\">7.08s</td><td  style=\"background-color:AliceBlue;\"><code>c96b085a9e3a</code></td><td  style=\"background-color:AliceBlue;\">annular18</td></tr><tr><td  style=\"background-color:Ivory;\"><code>95e08d30ca7f</code></td><td  style=\"background-color:Ivory;\">2013-08-29 11:52</td><td  style=\"background-color:Ivory;\"><code>kPlus: 615.848211066, kMinus: 77426368.2681</code></td><td  style=\"background-color:Ivory;\">5.41s</td><td  style=\"background-color:Ivory;\"><code>c96b085a9e3a</code></td><td  style=\"background-color:Ivory;\">annular18</td></tr><tr><td  style=\"background-color:AliceBlue;\"><code>94f1cda3894d</code></td><td  style=\"background-color:AliceBlue;\">2013-08-29 11:52</td><td  style=\"background-color:AliceBlue;\"><code>kPlus: 784.759970351, kMinus: 16681005.372</code></td><td  style=\"background-color:AliceBlue;\">5.89s</td><td  style=\"background-color:AliceBlue;\"><code>c96b085a9e3a</code></td><td  style=\"background-color:AliceBlue;\">annular18</td></tr><tr><td  style=\"background-color:Ivory;\"><code>7857c45096bc</code></td><td  style=\"background-color:Ivory;\">2013-08-29 11:52</td><td  style=\"background-color:Ivory;\"><code>kPlus: 784.759970351, kMinus: 21544346.9003</code></td><td  style=\"background-color:Ivory;\">5.93s</td><td  style=\"background-color:Ivory;\"><code>c96b085a9e3a</code></td><td  style=\"background-color:Ivory;\">annular18</td></tr><tr><td  style=\"background-color:AliceBlue;\"><code>9b6000957d9f</code></td><td  style=\"background-color:AliceBlue;\">2013-08-29 11:52</td><td  style=\"background-color:AliceBlue;\"><code>kPlus: 784.759970351, kMinus: 27825594.0221</code></td><td  style=\"background-color:AliceBlue;\">6.06s</td><td  style=\"background-color:AliceBlue;\"><code>c96b085a9e3a</code></td><td  style=\"background-color:AliceBlue;\">annular18</td></tr><tr><td  style=\"background-color:Ivory;\"><code>85b8c59a060a</code></td><td  style=\"background-color:Ivory;\">2013-08-29 11:52</td><td  style=\"background-color:Ivory;\"><code>kPlus: 784.759970351, kMinus: 35938136.638</code></td><td  style=\"background-color:Ivory;\">7.36s</td><td  style=\"background-color:Ivory;\"><code>c96b085a9e3a</code></td><td  style=\"background-color:Ivory;\">annular18</td></tr><tr><td  style=\"background-color:AliceBlue;\"><code>f05cdb68fbd9</code></td><td  style=\"background-color:AliceBlue;\">2013-08-29 11:52</td><td  style=\"background-color:AliceBlue;\"><code>kPlus: 784.759970351, kMinus: 46415888.3361</code></td><td  style=\"background-color:AliceBlue;\">9.06s</td><td  style=\"background-color:AliceBlue;\"><code>c96b085a9e3a</code></td><td  style=\"background-color:AliceBlue;\">annular18</td></tr><tr><td  style=\"background-color:Ivory;\"><code>24441be47615</code></td><td  style=\"background-color:Ivory;\">2013-08-29 11:52</td><td  style=\"background-color:Ivory;\"><code>kPlus: 784.759970351, kMinus: 59948425.0319</code></td><td  style=\"background-color:Ivory;\">7.80s</td><td  style=\"background-color:Ivory;\"><code>c96b085a9e3a</code></td><td  style=\"background-color:Ivory;\">annular18</td></tr><tr><td  style=\"background-color:AliceBlue;\"><code>977a35c8d851</code></td><td  style=\"background-color:AliceBlue;\">2013-08-29 11:52</td><td  style=\"background-color:AliceBlue;\"><code>kPlus: 1000.0, kMinus: 10000000.0</code></td><td  style=\"background-color:AliceBlue;\">3.65s</td><td  style=\"background-color:AliceBlue;\"><code>c96b085a9e3a</code></td><td  style=\"background-color:AliceBlue;\">annular18</td></tr><tr><td  style=\"background-color:Ivory;\"><code>2112dfe99ea6</code></td><td  style=\"background-color:Ivory;\">2013-08-29 11:52</td><td  style=\"background-color:Ivory;\"><code>kPlus: 1000.0, kMinus: 12915496.6501</code></td><td  style=\"background-color:Ivory;\">6.82s</td><td  style=\"background-color:Ivory;\"><code>c96b085a9e3a</code></td><td  style=\"background-color:Ivory;\">annular18</td></tr><tr><td  style=\"background-color:AliceBlue;\"><code>668601a7ec31</code></td><td  style=\"background-color:AliceBlue;\">2013-08-29 11:52</td><td  style=\"background-color:AliceBlue;\"><code>kPlus: 1000.0, kMinus: 16681005.372</code></td><td  style=\"background-color:AliceBlue;\">6.54s</td><td  style=\"background-color:AliceBlue;\"><code>c96b085a9e3a</code></td><td  style=\"background-color:AliceBlue;\">annular18</td></tr><tr><td  style=\"background-color:Ivory;\"><code>08f60ffa7f4b</code></td><td  style=\"background-color:Ivory;\">2013-08-29 11:52</td><td  style=\"background-color:Ivory;\"><code>kPlus: 1000.0, kMinus: 21544346.9003</code></td><td  style=\"background-color:Ivory;\">3.91s</td><td  style=\"background-color:Ivory;\"><code>c96b085a9e3a</code></td><td  style=\"background-color:Ivory;\">annular18</td></tr><tr><td  style=\"background-color:AliceBlue;\"><code>1bd4f1ad2cb9</code></td><td  style=\"background-color:AliceBlue;\">2013-08-29 11:52</td><td  style=\"background-color:AliceBlue;\"><code>kPlus: 1000.0, kMinus: 27825594.0221</code></td><td  style=\"background-color:AliceBlue;\">6.79s</td><td  style=\"background-color:AliceBlue;\"><code>c96b085a9e3a</code></td><td  style=\"background-color:AliceBlue;\">annular18</td></tr><tr><td  style=\"background-color:Ivory;\"><code>bf0adde2ad42</code></td><td  style=\"background-color:Ivory;\">2013-08-29 11:52</td><td  style=\"background-color:Ivory;\"><code>kPlus: 1000.0, kMinus: 35938136.638</code></td><td  style=\"background-color:Ivory;\">4.28s</td><td  style=\"background-color:Ivory;\"><code>c96b085a9e3a</code></td><td  style=\"background-color:Ivory;\">annular18</td></tr><tr><td  style=\"background-color:AliceBlue;\"><code>1abf8c90288d</code></td><td  style=\"background-color:AliceBlue;\">2013-08-29 11:52</td><td  style=\"background-color:AliceBlue;\"><code>kPlus: 1000.0, kMinus: 46415888.3361</code></td><td  style=\"background-color:AliceBlue;\">6.92s</td><td  style=\"background-color:AliceBlue;\"><code>c96b085a9e3a</code></td><td  style=\"background-color:AliceBlue;\">annular18</td></tr><tr><td  style=\"background-color:Ivory;\"><code>8c8808dfbc8b</code></td><td  style=\"background-color:Ivory;\">2013-08-29 11:52</td><td  style=\"background-color:Ivory;\"><code>kPlus: 1000.0, kMinus: 59948425.0319</code></td><td  style=\"background-color:Ivory;\">3.39s</td><td  style=\"background-color:Ivory;\"><code>c96b085a9e3a</code></td><td  style=\"background-color:Ivory;\">annular18</td></tr><tr><td  style=\"background-color:AliceBlue;\"><code>d95cb4fa2f2d</code></td><td  style=\"background-color:AliceBlue;\">2013-08-29 11:52</td><td  style=\"background-color:AliceBlue;\"><code>kPlus: 1000.0, kMinus: 77426368.2681</code></td><td  style=\"background-color:AliceBlue;\">4.40s</td><td  style=\"background-color:AliceBlue;\"><code>c96b085a9e3a</code></td><td  style=\"background-color:AliceBlue;\">annular18</td></tr><tr><td  style=\"background-color:Ivory;\"><code>658249511736</code></td><td  style=\"background-color:Ivory;\">2013-08-29 11:52</td><td  style=\"background-color:Ivory;\"><code>kPlus: 1000.0, kMinus: 100000000.0</code></td><td  style=\"background-color:Ivory;\">4.22s</td><td  style=\"background-color:Ivory;\"><code>c96b085a9e3a</code></td><td  style=\"background-color:Ivory;\">annular18</td></tr></table>"
       ],
       "output_type": "pyout",
       "prompt_number": 8,
       "text": [
        "<IPython.core.display.HTML at 0x82df4850>"
       ]
      }
     ],
     "prompt_number": 8
    },
    {
     "cell_type": "markdown",
     "metadata": {},
     "source": [
      "First simulation not to get added throws...\n",
      "\n",
      "    $ tail -1000 .qsub/launcher.e1686559\n",
      "\n",
      "    ...\n",
      "\n",
      "    sumatra.recordstore.django_store.models.MultipleObjectsReturned: get()"
     ]
    },
    {
     "cell_type": "code",
     "collapsed": false,
     "input": [
      "from tools import batch_launch\n",
      "    \n",
      "reason = \"Trying to fix issues with records not being added to database.\"\n",
      "kPluses = np.logspace(1, 3, 20)\n",
      "kMinuses = np.logspace(7, 8, 10)\n",
      "rboundary = 50e-6 / np.sqrt(np.pi)\n",
      "for kPlus in kPluses:\n",
      "    for kMinus in kMinuses:\n",
      "        batch_launch(reason=reason, tags=['annular24'], kPlus=kPlus, kMinus=kMinus, rboundary=rboundary, Nx=200, spacing_ratio=1.2, totalSteps=1)\n",
      "        \n",
      "!date   \n",
      "!qstat"
     ],
     "language": "python",
     "metadata": {},
     "outputs": [
      {
       "output_type": "stream",
       "stream": "stdout",
       "text": [
        "Thu Aug 29 16:03:25 EDT 2013\r\n"
       ]
      },
      {
       "output_type": "stream",
       "stream": "stdout",
       "text": [
        "job-ID  prior   name       user         state submit/start at     queue                          slots ja-task-ID \r\n",
        "-----------------------------------------------------------------------------------------------------------------\r\n",
        "1686033 0.05005 launcher   wd15         r     08/27/2013 15:26:52 wide64@r037                        1        \r\n",
        "1686034 0.05005 launcher   wd15         r     08/27/2013 15:26:52 wide64@r033                        1        \r\n",
        "1686035 0.05005 launcher   wd15         r     08/27/2013 15:26:52 wide64@r037                        1        \r\n",
        "1686036 0.05005 launcher   wd15         r     08/27/2013 15:26:52 wide64@r033                        1        \r\n",
        "1686037 0.05005 launcher   wd15         r     08/27/2013 15:26:52 wide64@r037                        1        \r\n",
        "1686038 0.05005 launcher   wd15         r     08/27/2013 15:26:52 wide64@r033                        1        \r\n",
        "1686039 0.05005 launcher   wd15         r     08/27/2013 15:26:52 ctcms@r016                         1        \r\n",
        "1686040 0.05005 launcher   wd15         r     08/27/2013 15:26:52 wide64@r037                        1        \r\n",
        "1686041 0.05005 launcher   wd15         r     08/27/2013 15:26:52 ctcms@r019                         1        \r\n",
        "1686042 0.05005 launcher   wd15         r     08/27/2013 15:26:52 wide64@r033                        1        \r\n",
        "1687795 0.03334 launcher   wd15         r     08/29/2013 16:01:52 ctcms@r018                         1        \r\n",
        "1687796 0.03334 launcher   wd15         r     08/29/2013 16:01:52 ctcms@r017                         1        \r\n",
        "1687797 0.03334 launcher   wd15         r     08/29/2013 16:01:52 ctcms@r015                         1        \r\n",
        "1687798 0.03334 launcher   wd15         r     08/29/2013 16:02:07 ctcms@r016                         1        \r\n",
        "1687799 0.03334 launcher   wd15         r     08/29/2013 16:02:07 ctcms@r017                         1        \r\n",
        "1687800 0.03334 launcher   wd15         r     08/29/2013 16:02:07 ctcms@r015             "
       ]
      },
      {
       "output_type": "stream",
       "stream": "stdout",
       "text": [
        "            1        \r\n",
        "1687801 0.03334 launcher   wd15         r     08/29/2013 16:02:07 ctcms@r017                         1        \r\n",
        "1687802 0.03334 launcher   wd15         r     08/29/2013 16:02:07 ctcms@r015                         1        \r\n",
        "1687803 0.03334 launcher   wd15         r     08/29/2013 16:02:07 ctcms@r015                         1        \r\n",
        "1687804 0.03334 launcher   wd15         r     08/29/2013 16:02:07 ctcms@r018                         1        \r\n",
        "1687805 0.03334 launcher   wd15         r     08/29/2013 16:02:07 ctcms@r017                         1        \r\n",
        "1687806 0.03334 launcher   wd15         r     08/29/2013 16:02:07 ctcms@r018                         1        \r\n",
        "1687807 0.03334 launcher   wd15         r     08/29/2013 16:02:07 ctcms@r017                         1        \r\n",
        "1687808 0.03334 launcher   wd15         r     08/29/2013 16:02:07 ctcms@r015                         1        \r\n",
        "1687809 0.03334 launcher   wd15         r     08/29/2013 16:02:07 ctcms@r018                         1        \r\n",
        "1687810 0.03334 launcher   wd15         r     08/29/2013 16:02:07 ctcms@r017                         1        \r\n",
        "1687811 0.03334 launcher   wd15         r     08/29/2013 16:02:07 ctcms@r016                         1        \r\n",
        "1687812 0.03334 launcher   wd15         r     08/29/2013 16:02:07 ctcms@r015                         1        \r\n",
        "1687813 0.03334 launcher   wd15         r     08/29/2013 16:02:07 ctcms@r018                         1        \r\n",
        "1687814 0.03334 launcher   wd15         r     08/29/2013 16:02:07 ctcms@r016                         1        \r\n",
        "1687815 0.03334 launcher   wd15         r     08/29/2013 16:02:07 ctcms@r017                         1        \r\n",
        "1687816 0.03334 launcher   wd15         r     08/29/2013 16:02:07 ctcms@r015                         1        \r\n",
        "1687817 0.03334 launcher   wd15         r     08/29/2013 16:02:07 ctcms@r018                         1        \r\n",
        "1687818 0.03334 launcher   wd15         r     08/29/2013 16:02:07 ctcms@r017                         1        \r\n",
        "1687819 0.03334 launcher   wd15         r     08/29/2013 16:02:07 ctcms@r016                         1        \r\n",
        "1687820 0.03334 launcher   wd15         r     08/29/2013 16:02:07 ctcms@r015                         1        \r\n",
        "1687821 0.03334 launcher   wd15         r     08/29/2013 16:02:07 ctcms@r019                         1        \r\n",
        "1687822 0.03334 launcher   wd15         r     08/29/2013 16:02:07 ctcms@r018                         1        \r\n",
        "1687823 0.03334 launcher   wd15         r     08/29/2013 16:02:07 ctcms@r016                         1        \r\n",
        "1687824 0.03334 launcher   wd15         r     08/29/2013 16:02:07 ctcms@r019                         1        \r\n",
        "1687825 0.03334 launcher   wd15         r     08/29/2013 16:02:07 ctcms@r016                         1        \r\n",
        "1687826 0.03334 launcher   wd15         r     08/29/2013 16:02:07 ctcms@r019                         1        \r\n",
        "1687827 0.03334 launcher   wd15         r     08/29/2013 16:02:07 ctcms@r019                         1        \r\n",
        "1687828 0.03334 launcher   wd15         r     08/29/2013 16:02:07 wide64@r034                        1        \r\n",
        "1687829 0.03334 launcher   wd15         r     08/29/2013 16:02:07 wide64@r034                        1        \r\n",
        "1687830 0.03334 launcher   wd15         r     08/29/2013 16:02:07 wide64@r037                        1        \r\n",
        "1687831 0.03334 launcher   wd15         r     08/29/2013 16:02:07 wide64@r034                        1        \r\n",
        "1687832 0.03334 launcher   wd15         r     08/29/2013 16:02:22 wide64@r033                        1        \r\n",
        "1687833 0.03334 launcher   wd15         r     08/29/2013 16:02:22 wide64@r037                        1        \r\n",
        "1687834 0.03334 launcher   wd15         r     08/29/2013 16:02:22 wide64@r034                        1        \r\n",
        "1687835 0.03334 launcher   wd15         r     08/29/2013 16:02:22 wide64@r037                        1        \r\n",
        "1687836 0.03334 launcher   wd15         r     08/29/2013 16:02:22 wide64@r034                        1        \r\n",
        "1687837 0.03334 launcher   wd15         r     08/29/2013 16:02:22 wide64@r037                        1        \r\n",
        "1687838 0.03334 launcher   wd15         r     08/29/2013 16:02:22 wide64@r034                        1        \r\n",
        "1687839 0.03334 launcher   wd15         r     08/29/2013 16:02:22 wide64@r037                        1        \r\n",
        "1687840 0.03334 launcher   wd15         r     08/29/2013 16:02:22 wide64@r034                        1        \r\n",
        "1687841 0.03334 launcher   wd15         r     08/29/2013 16:02:22 wide64@r037                        1        \r\n",
        "1687842 0.03334 launcher   wd15         r     08/29/2013 16:02:22 wide64@r033                        1        \r\n",
        "1687843 0.03334 launcher   wd15         r     08/29/2013 16:02:22 wide64@r033                        1        \r\n",
        "1687844 0.03334 launcher   wd15         r     08/29/2013 16:02:22 wide64@r033                        1        \r\n",
        "1687845 0.00820 launcher   wd15         qw    08/29/2013 16:02:13                                    1        \r\n",
        "1687846 0.00807 launcher   wd15         qw    08/29/2013 16:02:13                                    1        \r\n",
        "1687847 0.00794 launcher   wd15         qw    08/29/2013 16:02:14                                    1        \r\n",
        "1687848 0.00782 launcher   wd15         qw    08/29/2013 16:02:14                                    1        \r\n",
        "1687849 0.00770 launcher   wd15         qw    08/29/2013 16:02:15                                    1        \r\n",
        "1687850 0.00758 launcher   wd15         qw    08/29/2013 16:02:15                                    1        \r\n",
        "1687851 0.00747 launcher   wd15         qw    08/29/2013 16:02:16                                    1        \r\n",
        "1687852 0.00736 launcher   wd15         qw    08/29/2013 16:02:16                                    1        \r\n",
        "1687853 0.00725 launcher   wd15         qw    08/29/2013 16:02:17                                    1        \r\n",
        "1687854 0.00715 launcher   wd15         qw    08/29/2013 16:02:17                                    1        \r\n",
        "1687855 0.00705 launcher   wd15         qw    08/29/2013 16:02:18                                    1        \r\n",
        "1687856 0.00695 launcher   wd15         qw    08/29/2013 16:02:18                                    1        \r\n",
        "1687857 0.00686 launcher   wd15         qw    08/29/2013 16:02:18                                    1        \r\n",
        "1687858 0.00676 launcher   wd15         qw    08/29/2013 16:02:19                                    1        \r\n",
        "1687859 0.00667 launcher   wd15         qw    08/29/2013 16:02:19                                    1        \r\n",
        "1687860 0.00658 launcher   wd15         qw    08/29/2013 16:02:20                                    1        \r\n",
        "1687861 0.00650 launcher   wd15         qw    08/29/2013 16:02:20                                    1        \r\n",
        "1687862 0.00642 launcher   wd15         qw    08/29/2013 16:02:21                                    1        \r\n",
        "1687863 0.00633 launcher   wd15         qw    08/29/2013 16:02:21                                    1        \r\n",
        "1687864 0.00626 launcher   wd15         qw    08/29/2013 16:02:22                                    1        \r\n",
        "1687865 0.00618 launcher   wd15         qw    08/29/2013 16:02:23                                    1        \r\n",
        "1687866 0.00610 launcher   wd15         qw    08/29/2013 16:02:24                                    1        \r\n",
        "1687867 0.00603 launcher   wd15         qw    08/29/2013 16:02:24                                    1        \r\n",
        "1687868 0.00596 launcher   wd15         qw    08/29/2013 16:02:25                                    1        \r\n",
        "1687869 0.00589 launcher   wd15         qw    08/29/2013 16:02:25                                    1        \r\n",
        "1687870 0.00582 launcher   wd15         qw    08/29/2013 16:02:26                                    1        \r\n",
        "1687871 0.00575 launcher   wd15         qw    08/29/2013 16:02:26                                    1        \r\n",
        "1687872 0.00569 launcher   wd15         qw    08/29/2013 16:02:27                                    1        \r\n",
        "1687873 0.00562 launcher   wd15         qw    08/29/2013 16:02:27                                    1        \r\n",
        "1687874 0.00556 launcher   wd15         qw    08/29/2013 16:02:27                                    1        \r\n",
        "1687875 0.00550 launcher   wd15         qw    08/29/2013 16:02:28                                    1        \r\n",
        "1687876 0.00544 launcher   wd15         qw    08/29/2013 16:02:28                                    1        \r\n",
        "1687877 0.00538 launcher   wd15         qw    08/29/2013 16:02:29                                    1        \r\n",
        "1687878 0.00532 launcher   wd15         qw    08/29/2013 16:02:29                                    1        \r\n",
        "1687879 0.00527 launcher   wd15         qw    08/29/2013 16:02:30                                    1        \r\n",
        "1687880 0.00521 launcher   wd15         qw    08/29/2013 16:02:30                                    1        \r\n",
        "1687881 0.00516 launcher   wd15         qw    08/29/2013 16:02:31                                    1        \r\n",
        "1687882 0.00511 launcher   wd15         qw    08/29/2013 16:02:31                                    1        \r\n",
        "1687883 0.00506 launcher   wd15         qw    08/29/2013 16:02:32                                    1        \r\n",
        "1687884 0.00500 launcher   wd15         qw    08/29/2013 16:02:32                                    1        \r\n",
        "1687885 0.00496 launcher   wd15         qw    08/29/2013 16:02:33                                    1        \r\n",
        "1687886 0.00491 launcher   wd15         qw    08/29/2013 16:02:34                                    1        \r\n",
        "1687887 0.00486 launcher   wd15         qw    08/29/2013 16:02:34                                    1        \r\n",
        "1687888 0.00481 launcher   wd15         qw    08/29/2013 16:02:35                                    1        \r\n",
        "1687889 0.00477 launcher   wd15         qw    08/29/2013 16:02:35                                    1        \r\n",
        "1687890 0.00472 launcher   wd15         qw    08/29/2013 16:02:36                                    1        \r\n",
        "1687891 0.00468 launcher   wd15         qw    08/29/2013 16:02:36                                    1        \r\n",
        "1687892 0.00463 launcher   wd15         qw    08/29/2013 16:02:36                                    1        \r\n",
        "1687893 0.00459 launcher   wd15         qw    08/29/2013 16:02:37                                    1        \r\n",
        "1687894 0.00455 launcher   wd15         qw    08/29/2013 16:02:37                                    1        \r\n",
        "1687895 0.00451 launcher   wd15         qw    08/29/2013 16:02:38                                    1        \r\n",
        "1687896 0.00447 launcher   wd15         qw    08/29/2013 16:02:38                                    1        \r\n",
        "1687897 0.00443 launcher   wd15         qw    08/29/2013 16:02:39                                    1        \r\n",
        "1687898 0.00439 launcher   wd15         qw    08/29/2013 16:02:39                                    1        \r\n",
        "1687899 0.00435 launcher   wd15         qw    08/29/2013 16:02:40                                    1        \r\n",
        "1687900 0.00431 launcher   wd15         qw    08/29/2013 16:02:40                                    1        \r\n",
        "1687901 0.00428 launcher   wd15         qw    08/29/2013 16:02:40                                    1        \r\n",
        "1687902 0.00424 launcher   wd15         qw    08/29/2013 16:02:41                                    1        \r\n",
        "1687903 0.00421 launcher   wd15         qw    08/29/2013 16:02:41                                    1        \r\n",
        "1687904 0.00417 launcher   wd15         qw    08/29/2013 16:02:42                                    1        \r\n",
        "1687905 0.00414 launcher   wd15         qw    08/29/2013 16:02:43                                    1        \r\n",
        "1687906 0.00410 launcher   wd15         qw    08/29/2013 16:02:44                                    1        \r\n",
        "1687907 0.00407 launcher   wd15         qw    08/29/2013 16:02:44                                    1        \r\n",
        "1687908 0.00404 launcher   wd15         qw    08/29/2013 16:02:45                                    1        \r\n",
        "1687909 0.00400 launcher   wd15         qw    08/29/2013 16:02:45                                    1        \r\n",
        "1687910 0.00397 launcher   wd15         qw    08/29/2013 16:02:46                                    1        \r\n",
        "1687911 0.00394 launcher   wd15         qw    08/29/2013 16:02:46                                    1        \r\n",
        "1687912 0.00391 launcher   wd15         qw    08/29/2013 16:02:47                                    1        \r\n",
        "1687913 0.00388 launcher   wd15         qw    08/29/2013 16:02:47                                    1        \r\n",
        "1687914 0.00385 launcher   wd15         qw    08/29/2013 16:02:48                                    1        \r\n",
        "1687915 0.00382 launcher   wd15         qw    08/29/2013 16:02:48                                    1        \r\n",
        "1687916 0.00379 launcher   wd15         qw    08/29/2013 16:02:49                                    1        \r\n",
        "1687917 0.00376 launcher   wd15         qw    08/29/2013 16:02:49                                    1        \r\n",
        "1687918 0.00373 launcher   wd15         qw    08/29/2013 16:02:50                                    1        \r\n",
        "1687919 0.00371 launcher   wd15         qw    08/29/2013 16:02:50                                    1        \r\n",
        "1687920 0.00368 launcher   wd15         qw    08/29/2013 16:02:50                                    1        \r\n",
        "1687921 0.00365 launcher   wd15         qw    08/29/2013 16:02:51                                    1        \r\n",
        "1687922 0.00363 launcher   wd15         qw    08/29/2013 16:02:51                                    1        \r\n",
        "1687923 0.00360 launcher   wd15         qw    08/29/2013 16:02:52                                    1        \r\n",
        "1687924 0.00357 launcher   wd15         qw    08/29/2013 16:02:52                                    1        \r\n",
        "1687925 0.00355 launcher   wd15         qw    08/29/2013 16:02:53                                    1        \r\n",
        "1687926 0.00352 launcher   wd15         qw    08/29/2013 16:02:53                                    1        \r\n",
        "1687927 0.00350 launcher   wd15         qw    08/29/2013 16:02:54                                    1        \r\n",
        "1687928 0.00347 launcher   wd15         qw    08/29/2013 16:02:54                                    1        \r\n",
        "1687929 0.00345 launcher   wd15         qw    08/29/2013 16:02:55                                    1        \r\n",
        "1687930 0.00343 launcher   wd15         qw    08/29/2013 16:02:55                                    1        \r\n",
        "1687931 0.00340 launcher   wd15         qw    08/29/2013 16:02:55                                    1        \r\n",
        "1687932 0.00338 launcher   wd15         qw    08/29/2013 16:02:56                                    1        \r\n",
        "1687933 0.00336 launcher   wd15         qw    08/29/2013 16:02:56                                    1        \r\n",
        "1687934 0.00334 launcher   wd15         qw    08/29/2013 16:02:57                                    1        \r\n",
        "1687935 0.00331 launcher   wd15         qw    08/29/2013 16:02:57                                    1        \r\n",
        "1687936 0.00329 launcher   wd15         qw    08/29/2013 16:02:58                                    1        \r\n",
        "1687937 0.00327 launcher   wd15         qw    08/29/2013 16:02:58                                    1        \r\n",
        "1687938 0.00325 launcher   wd15         qw    08/29/2013 16:02:59                                    1        \r\n",
        "1687939 0.00323 launcher   wd15         qw    08/29/2013 16:02:59                                    1        \r\n",
        "1687940 0.00321 launcher   wd15         qw    08/29/2013 16:03:00                                    1        \r\n",
        "1687941 0.00319 launcher   wd15         qw    08/29/2013 16:03:00                                    1        \r\n",
        "1687942 0.00317 launcher   wd15         qw    08/29/2013 16:03:00                                    1        \r\n",
        "1687943 0.00315 launcher   wd15         qw    08/29/2013 16:03:01                                    1        \r\n",
        "1687944 0.00313 launcher   wd15         qw    08/29/2013 16:03:01                                    1        \r\n",
        "1687945 0.00311 launcher   wd15         qw    08/29/2013 16:03:02                                    1        \r\n",
        "1687946 0.00309 launcher   wd15         qw    08/29/2013 16:03:02                                    1        \r\n",
        "1687947 0.00307 launcher   wd15         qw    08/29/2013 16:03:03                                    1        \r\n",
        "1687948 0.00305 launcher   wd15         qw    08/29/2013 16:03:03                                    1        \r\n",
        "1687949 0.00303 launcher   wd15         qw    08/29/2013 16:03:04                                    1        \r\n",
        "1687950 0.00301 launcher   wd15         qw    08/29/2013 16:03:04                                    1        \r\n",
        "1687951 0.00300 launcher   wd15         qw    08/29/2013 16:03:05                                    1        \r\n",
        "1687952 0.00298 launcher   wd15         qw    08/29/2013 16:03:05                                    1        \r\n",
        "1687953 0.00296 launcher   wd15         qw    08/29/2013 16:03:06                                    1        \r\n",
        "1687954 0.00294 launcher   wd15         qw    08/29/2013 16:03:06                                    1        \r\n",
        "1687955 0.00293 launcher   wd15         qw    08/29/2013 16:03:06                                    1        \r\n",
        "1687956 0.00291 launcher   wd15         qw    08/29/2013 16:03:07                                    1        \r\n",
        "1687957 0.00289 launcher   wd15         qw    08/29/2013 16:03:08                                    1        \r\n",
        "1687958 0.00287 launcher   wd15         qw    08/29/2013 16:03:08                                    1        \r\n",
        "1687959 0.00286 launcher   wd15         qw    08/29/2013 16:03:08                                    1        \r\n",
        "1687960 0.00284 launcher   wd15         qw    08/29/2013 16:03:09                                    1        \r\n",
        "1687961 0.00283 launcher   wd15         qw    08/29/2013 16:03:09                                    1        \r\n",
        "1687962 0.00281 launcher   wd15         qw    08/29/2013 16:03:10                                    1        \r\n",
        "1687963 0.00279 launcher   wd15         qw    08/29/2013 16:03:10                                    1        \r\n",
        "1687964 0.00278 launcher   wd15         qw    08/29/2013 16:03:11                                    1        \r\n",
        "1687965 0.00276 launcher   wd15         qw    08/29/2013 16:03:11                                    1        \r\n",
        "1687966 0.00275 launcher   wd15         qw    08/29/2013 16:03:12                                    1        \r\n",
        "1687967 0.00273 launcher   wd15         qw    08/29/2013 16:03:12                                    1        \r\n",
        "1687968 0.00272 launcher   wd15         qw    08/29/2013 16:03:12                                    1        \r\n",
        "1687969 0.00270 launcher   wd15         qw    08/29/2013 16:03:13                                    1        \r\n",
        "1687970 0.00269 launcher   wd15         qw    08/29/2013 16:03:13                                    1        \r\n",
        "1687971 0.00267 launcher   wd15         qw    08/29/2013 16:03:14                                    1        \r\n",
        "1687972 0.00266 launcher   wd15         qw    08/29/2013 16:03:14                                    1        \r\n",
        "1687973 0.00265 launcher   wd15         qw    08/29/2013 16:03:15                                    1        \r\n",
        "1687974 0.00263 launcher   wd15         qw    08/29/2013 16:03:15                                    1        \r\n",
        "1687975 0.00262 launcher   wd15         qw    08/29/2013 16:03:16                                    1        \r\n",
        "1687976 0.00260 launcher   wd15         qw    08/29/2013 16:03:16                                    1        \r\n",
        "1687977 0.00259 launcher   wd15         qw    08/29/2013 16:03:16                                    1        \r\n",
        "1687978 0.00258 launcher   wd15         qw    08/29/2013 16:03:17                                    1        \r\n",
        "1687979 0.00256 launcher   wd15         qw    08/29/2013 16:03:17                                    1        \r\n",
        "1687980 0.00255 launcher   wd15         qw    08/29/2013 16:03:18                                    1        \r\n",
        "1687981 0.00254 launcher   wd15         qw    08/29/2013 16:03:18                                    1        \r\n",
        "1687982 0.00253 launcher   wd15         qw    08/29/2013 16:03:19                                    1        \r\n",
        "1687983 0.00251 launcher   wd15         qw    08/29/2013 16:03:19                                    1        \r\n",
        "1687984 0.00250 launcher   wd15         qw    08/29/2013 16:03:20                                    1        \r\n",
        "1687985 0.00249 launcher   wd15         qw    08/29/2013 16:03:20                                    1        \r\n",
        "1687986 0.00248 launcher   wd15         qw    08/29/2013 16:03:21                                    1        \r\n",
        "1687987 0.00246 launcher   wd15         qw    08/29/2013 16:03:21                                    1        \r\n",
        "1687988 0.00245 launcher   wd15         qw    08/29/2013 16:03:21                                    1        \r\n",
        "1687989 0.00000 launcher   wd15         qw    08/29/2013 16:03:22                                    1        \r\n",
        "1687990 0.00000 launcher   wd15         qw    08/29/2013 16:03:22                                    1        \r\n",
        "1687991 0.00000 launcher   wd15         qw    08/29/2013 16:03:23                                    1        \r\n",
        "1687992 0.00000 launcher   wd15         qw    08/29/2013 16:03:23                                    1        \r\n",
        "1687993 0.00000 launcher   wd15         qw    08/29/2013 16:03:24                                    1        \r\n",
        "1687994 0.00000 launcher   wd15         qw    08/29/2013 16:03:24                                    1        \r\n"
       ]
      }
     ],
     "prompt_number": 9
    },
    {
     "cell_type": "code",
     "collapsed": false,
     "input": [
      "!qstat"
     ],
     "language": "python",
     "metadata": {},
     "outputs": [
      {
       "output_type": "stream",
       "stream": "stdout",
       "text": [
        "job-ID  prior   name       user         state submit/start at     queue                          slots ja-task-ID \r\n",
        "-----------------------------------------------------------------------------------------------------------------\r\n",
        "1686033 0.21388 launcher   wd15         r     08/27/2013 15:26:52 wide64@r037                        1        \r\n",
        "1686034 0.21388 launcher   wd15         r     08/27/2013 15:26:52 wide64@r033                        1        \r\n",
        "1686035 0.21388 launcher   wd15         r     08/27/2013 15:26:52 wide64@r037                        1        \r\n",
        "1686036 0.21388 launcher   wd15         r     08/27/2013 15:26:52 wide64@r033                        1        \r\n",
        "1686037 0.21388 launcher   wd15         r     08/27/2013 15:26:52 wide64@r037                        1        \r\n",
        "1686038 0.21388 launcher   wd15         r     08/27/2013 15:26:52 wide64@r033                        1        \r\n",
        "1686039 0.21388 launcher   wd15         r     08/27/2013 15:26:52 ctcms@r016                         1        \r\n",
        "1686040 0.21388 launcher   wd15         r     08/27/2013 15:26:52 wide64@r037                        1        \r\n",
        "1686041 0.21388 launcher   wd15         r     08/27/2013 15:26:52 ctcms@r019                         1        \r\n",
        "1686042 0.21388 launcher   wd15         r     08/27/2013 15:26:52 wide64@r033                        1        \r\n"
       ]
      }
     ],
     "prompt_number": 4
    },
    {
     "cell_type": "code",
     "collapsed": false,
     "input": [
      "%load_ext autoreload\n",
      "%autoreload 2\n",
      "from tools import getSMTRecords, smt_ipy_table\n",
      "records = getSMTRecords()\n",
      "annular24Records = getSMTRecords(records=records, tags=['annular24'])\n",
      "print len(annular24Records)"
     ],
     "language": "python",
     "metadata": {},
     "outputs": [
      {
       "output_type": "stream",
       "stream": "stdout",
       "text": [
        "Created Django record store using PostgreSQL\n",
        "200"
       ]
      },
      {
       "output_type": "stream",
       "stream": "stdout",
       "text": [
        "\n"
       ]
      },
      {
       "output_type": "stream",
       "stream": "stderr",
       "text": [
        "/users/wd15/hg/sumatra/sumatra/programs.py:57: Warning: Python could not be found. Please supply the path to the /users/wd15/.virtualenvs/fipy/bin/python executable.\n",
        "  warnings.warn(errmsg)\n"
       ]
      }
     ],
     "prompt_number": 1
    },
    {
     "cell_type": "code",
     "collapsed": false,
     "input": [
      "from tools import getSMTRecords, smt_ipy_table\n",
      "kPluses = np.logspace(1, 3, 20)\n",
      "kMinuses = np.logspace(7, 8, 10)\n",
      "records = []\n",
      "for kPlus in kPluses:\n",
      "    for kMinus in kMinuses:\n",
      "        rs = getSMTRecords(records=annular24Records, parameters={'kPlus' : kPlus, 'kMinus' : kMinus})\n",
      "        print kPlus, kMinus, len(rs)\n",
      "        if len(rs) > 0:\n",
      "            records.append(rs[0])\n",
      "\n",
      "smt_ipy_table(records, fields=['label', 'timestamp', 'parameters', 'duration', 'version', 'tags'], parameters=['kPlus', 'kMinus'])"
     ],
     "language": "python",
     "metadata": {},
     "outputs": [
      {
       "output_type": "stream",
       "stream": "stdout",
       "text": [
        "10.0 10000000.0 1\n",
        "10.0 12915496.6501 1\n",
        "10.0"
       ]
      },
      {
       "output_type": "stream",
       "stream": "stdout",
       "text": [
        " 16681005.372 1\n",
        "10.0 21544346.9003 1\n",
        "10.0"
       ]
      },
      {
       "output_type": "stream",
       "stream": "stdout",
       "text": [
        " 27825594.0221 1\n",
        "10.0 35938136.638 1\n",
        "10.0"
       ]
      },
      {
       "output_type": "stream",
       "stream": "stdout",
       "text": [
        " 46415888.3361 1\n",
        "10.0 59948425.0319 1\n",
        "10.0"
       ]
      },
      {
       "output_type": "stream",
       "stream": "stdout",
       "text": [
        " 77426368.2681 1\n",
        "10.0 100000000.0 1\n",
        "12.742749857"
       ]
      },
      {
       "output_type": "stream",
       "stream": "stdout",
       "text": [
        " 10000000.0 1\n",
        "12.742749857 12915496.6501 1\n",
        "12.742749857"
       ]
      },
      {
       "output_type": "stream",
       "stream": "stdout",
       "text": [
        " 16681005.372 1\n",
        "12.742749857 21544346.9003 1\n",
        "12.742749857"
       ]
      },
      {
       "output_type": "stream",
       "stream": "stdout",
       "text": [
        " 27825594.0221 1\n",
        "12.742749857 35938136.638 1\n",
        "12.742749857"
       ]
      },
      {
       "output_type": "stream",
       "stream": "stdout",
       "text": [
        " 46415888.3361 1\n",
        "12.742749857 59948425.0319 1\n",
        "12.742749857"
       ]
      },
      {
       "output_type": "stream",
       "stream": "stdout",
       "text": [
        " 77426368.2681 1\n",
        "12.742749857 100000000.0 1\n",
        "16.2377673919"
       ]
      },
      {
       "output_type": "stream",
       "stream": "stdout",
       "text": [
        " 10000000.0 1\n",
        "16.2377673919 12915496.6501 1\n",
        "16.2377673919"
       ]
      },
      {
       "output_type": "stream",
       "stream": "stdout",
       "text": [
        " 16681005.372 1\n",
        "16.2377673919 21544346.9003 1\n",
        "16.2377673919"
       ]
      },
      {
       "output_type": "stream",
       "stream": "stdout",
       "text": [
        " 27825594.0221 1\n",
        "16.2377673919 35938136.638 1\n",
        "16.2377673919"
       ]
      },
      {
       "output_type": "stream",
       "stream": "stdout",
       "text": [
        " 46415888.3361 1\n",
        "16.2377673919 59948425.0319 1\n",
        "16.2377673919"
       ]
      },
      {
       "output_type": "stream",
       "stream": "stdout",
       "text": [
        " 77426368.2681 1\n",
        "16.2377673919 100000000.0 1\n",
        "20.6913808111"
       ]
      },
      {
       "output_type": "stream",
       "stream": "stdout",
       "text": [
        " 10000000.0 1\n",
        "20.6913808111 12915496.6501 1\n",
        "20.6913808111"
       ]
      },
      {
       "output_type": "stream",
       "stream": "stdout",
       "text": [
        " 16681005.372 1\n",
        "20.6913808111 21544346.9003 1\n",
        "20.6913808111"
       ]
      },
      {
       "output_type": "stream",
       "stream": "stdout",
       "text": [
        " 27825594.0221 1\n",
        "20.6913808111 35938136.638 1\n",
        "20.6913808111"
       ]
      },
      {
       "output_type": "stream",
       "stream": "stdout",
       "text": [
        " 46415888.3361 1\n",
        "20.6913808111 59948425.0319 1\n",
        "20.6913808111"
       ]
      },
      {
       "output_type": "stream",
       "stream": "stdout",
       "text": [
        " 77426368.2681 1\n",
        "20.6913808111 100000000.0 1\n",
        "26.3665089873"
       ]
      },
      {
       "output_type": "stream",
       "stream": "stdout",
       "text": [
        " 10000000.0 1\n",
        "26.3665089873 12915496.6501 1\n",
        "26.3665089873"
       ]
      },
      {
       "output_type": "stream",
       "stream": "stdout",
       "text": [
        " 16681005.372 1\n",
        "26.3665089873 21544346.9003 1\n",
        "26.3665089873"
       ]
      },
      {
       "output_type": "stream",
       "stream": "stdout",
       "text": [
        " 27825594.0221 1\n",
        "26.3665089873 35938136.638 1\n",
        "26.3665089873"
       ]
      },
      {
       "output_type": "stream",
       "stream": "stdout",
       "text": [
        " 46415888.3361 1\n",
        "26.3665089873 59948425.0319 1\n",
        "26.3665089873"
       ]
      },
      {
       "output_type": "stream",
       "stream": "stdout",
       "text": [
        " 77426368.2681 1\n",
        "26.3665089873 100000000.0 1\n",
        "33.5981828628"
       ]
      },
      {
       "output_type": "stream",
       "stream": "stdout",
       "text": [
        " 10000000.0 1\n",
        "33.5981828628 12915496.6501 1\n",
        "33.5981828628"
       ]
      },
      {
       "output_type": "stream",
       "stream": "stdout",
       "text": [
        " 16681005.372 1\n",
        "33.5981828628 21544346.9003 1\n",
        "33.5981828628"
       ]
      },
      {
       "output_type": "stream",
       "stream": "stdout",
       "text": [
        " 27825594.0221 1\n",
        "33.5981828628 35938136.638 1\n",
        "33.5981828628"
       ]
      },
      {
       "output_type": "stream",
       "stream": "stdout",
       "text": [
        " 46415888.3361 1\n",
        "33.5981828628 59948425.0319 1\n",
        "33.5981828628"
       ]
      },
      {
       "output_type": "stream",
       "stream": "stdout",
       "text": [
        " 77426368.2681 1\n",
        "33.5981828628 100000000.0 1\n",
        "42.8133239872"
       ]
      },
      {
       "output_type": "stream",
       "stream": "stdout",
       "text": [
        " 10000000.0 1\n",
        "42.8133239872 12915496.6501 1\n",
        "42.8133239872"
       ]
      },
      {
       "output_type": "stream",
       "stream": "stdout",
       "text": [
        " 16681005.372 1\n",
        "42.8133239872 21544346.9003 1\n",
        "42.8133239872"
       ]
      },
      {
       "output_type": "stream",
       "stream": "stdout",
       "text": [
        " 27825594.0221 1\n",
        "42.8133239872 35938136.638 1\n",
        "42.8133239872"
       ]
      },
      {
       "output_type": "stream",
       "stream": "stdout",
       "text": [
        " 46415888.3361 1\n",
        "42.8133239872 59948425.0319 1\n",
        "42.8133239872"
       ]
      },
      {
       "output_type": "stream",
       "stream": "stdout",
       "text": [
        " 77426368.2681 1\n",
        "42.8133239872 100000000.0 1\n",
        "54.5559478117"
       ]
      },
      {
       "output_type": "stream",
       "stream": "stdout",
       "text": [
        " 10000000.0 1\n",
        "54.5559478117 12915496.6501 1\n",
        "54.5559478117"
       ]
      },
      {
       "output_type": "stream",
       "stream": "stdout",
       "text": [
        " 16681005.372 1\n",
        "54.5559478117 21544346.9003 1\n",
        "54.5559478117"
       ]
      },
      {
       "output_type": "stream",
       "stream": "stdout",
       "text": [
        " 27825594.0221 1\n",
        "54.5559478117 35938136.638 1\n",
        "54.5559478117"
       ]
      },
      {
       "output_type": "stream",
       "stream": "stdout",
       "text": [
        " 46415888.3361 1\n",
        "54.5559478117 59948425.0319 1\n",
        "54.5559478117"
       ]
      },
      {
       "output_type": "stream",
       "stream": "stdout",
       "text": [
        " 77426368.2681 1\n",
        "54.5559478117 100000000.0 1\n",
        "69.5192796178"
       ]
      },
      {
       "output_type": "stream",
       "stream": "stdout",
       "text": [
        " 10000000.0 1\n",
        "69.5192796178 12915496.6501 1\n",
        "69.5192796178"
       ]
      },
      {
       "output_type": "stream",
       "stream": "stdout",
       "text": [
        " 16681005.372 1\n",
        "69.5192796178 21544346.9003 1\n",
        "69.5192796178"
       ]
      },
      {
       "output_type": "stream",
       "stream": "stdout",
       "text": [
        " 27825594.0221 1\n",
        "69.5192796178 35938136.638 1\n",
        "69.5192796178"
       ]
      },
      {
       "output_type": "stream",
       "stream": "stdout",
       "text": [
        " 46415888.3361 1\n",
        "69.5192796178 59948425.0319 1\n",
        "69.5192796178"
       ]
      },
      {
       "output_type": "stream",
       "stream": "stdout",
       "text": [
        " 77426368.2681 1\n",
        "69.5192796178 100000000.0 1\n",
        "88.586679041"
       ]
      },
      {
       "output_type": "stream",
       "stream": "stdout",
       "text": [
        " 10000000.0 1\n",
        "88.586679041 12915496.6501 1\n",
        "88.586679041"
       ]
      },
      {
       "output_type": "stream",
       "stream": "stdout",
       "text": [
        " 16681005.372 1\n",
        "88.586679041 21544346.9003 1\n",
        "88.586679041"
       ]
      },
      {
       "output_type": "stream",
       "stream": "stdout",
       "text": [
        " 27825594.0221 1\n",
        "88.586679041 35938136.638 1\n",
        "88.586679041"
       ]
      },
      {
       "output_type": "stream",
       "stream": "stdout",
       "text": [
        " 46415888.3361 1\n",
        "88.586679041 59948425.0319 1\n",
        "88.586679041"
       ]
      },
      {
       "output_type": "stream",
       "stream": "stdout",
       "text": [
        " 77426368.2681 1\n",
        "88.586679041 100000000.0 1\n",
        "112.883789168"
       ]
      },
      {
       "output_type": "stream",
       "stream": "stdout",
       "text": [
        " 10000000.0 1\n",
        "112.883789168 12915496.6501 1\n",
        "112.883789168"
       ]
      },
      {
       "output_type": "stream",
       "stream": "stdout",
       "text": [
        " 16681005.372 1\n",
        "112.883789168 21544346.9003 1\n",
        "112.883789168"
       ]
      },
      {
       "output_type": "stream",
       "stream": "stdout",
       "text": [
        " 27825594.0221 1\n",
        "112.883789168 35938136.638 1\n",
        "112.883789168"
       ]
      },
      {
       "output_type": "stream",
       "stream": "stdout",
       "text": [
        " 46415888.3361 1\n",
        "112.883789168 59948425.0319 1\n",
        "112.883789168"
       ]
      },
      {
       "output_type": "stream",
       "stream": "stdout",
       "text": [
        " 77426368.2681 1\n",
        "112.883789168 100000000.0 1\n",
        "143.844988829"
       ]
      },
      {
       "output_type": "stream",
       "stream": "stdout",
       "text": [
        " 10000000.0 1\n",
        "143.844988829 12915496.6501 1\n",
        "143.844988829"
       ]
      },
      {
       "output_type": "stream",
       "stream": "stdout",
       "text": [
        " 16681005.372 1\n",
        "143.844988829 21544346.9003 1\n",
        "143.844988829"
       ]
      },
      {
       "output_type": "stream",
       "stream": "stdout",
       "text": [
        " 27825594.0221 1\n",
        "143.844988829 35938136.638 1\n",
        "143.844988829"
       ]
      },
      {
       "output_type": "stream",
       "stream": "stdout",
       "text": [
        " 46415888.3361 1\n",
        "143.844988829 59948425.0319 1\n",
        "143.844988829"
       ]
      },
      {
       "output_type": "stream",
       "stream": "stdout",
       "text": [
        " 77426368.2681 1\n",
        "143.844988829 100000000.0 1\n",
        "183.298071083"
       ]
      },
      {
       "output_type": "stream",
       "stream": "stdout",
       "text": [
        " 10000000.0 1\n",
        "183.298071083 12915496.6501 1\n",
        "183.298071083"
       ]
      },
      {
       "output_type": "stream",
       "stream": "stdout",
       "text": [
        " 16681005.372 1\n",
        "183.298071083 21544346.9003 1\n",
        "183.298071083"
       ]
      },
      {
       "output_type": "stream",
       "stream": "stdout",
       "text": [
        " 27825594.0221 1\n",
        "183.298071083 35938136.638 1\n",
        "183.298071083"
       ]
      },
      {
       "output_type": "stream",
       "stream": "stdout",
       "text": [
        " 46415888.3361 1\n",
        "183.298071083 59948425.0319 1\n",
        "183.298071083"
       ]
      },
      {
       "output_type": "stream",
       "stream": "stdout",
       "text": [
        " 77426368.2681 1\n",
        "183.298071083 100000000.0 1\n",
        "233.572146909"
       ]
      },
      {
       "output_type": "stream",
       "stream": "stdout",
       "text": [
        " 10000000.0 1\n",
        "233.572146909 12915496.6501 1\n",
        "233.572146909"
       ]
      },
      {
       "output_type": "stream",
       "stream": "stdout",
       "text": [
        " 16681005.372 1\n",
        "233.572146909 21544346.9003 1\n",
        "233.572146909"
       ]
      },
      {
       "output_type": "stream",
       "stream": "stdout",
       "text": [
        " 27825594.0221 1\n",
        "233.572146909 35938136.638 1\n",
        "233.572146909"
       ]
      },
      {
       "output_type": "stream",
       "stream": "stdout",
       "text": [
        " 46415888.3361 1\n",
        "233.572146909 59948425.0319 1\n",
        "233.572146909"
       ]
      },
      {
       "output_type": "stream",
       "stream": "stdout",
       "text": [
        " 77426368.2681 1\n",
        "233.572146909 100000000.0 1\n",
        "297.635144163"
       ]
      },
      {
       "output_type": "stream",
       "stream": "stdout",
       "text": [
        " 10000000.0 1\n",
        "297.635144163 12915496.6501 1\n",
        "297.635144163"
       ]
      },
      {
       "output_type": "stream",
       "stream": "stdout",
       "text": [
        " 16681005.372 1\n",
        "297.635144163 21544346.9003 1\n",
        "297.635144163"
       ]
      },
      {
       "output_type": "stream",
       "stream": "stdout",
       "text": [
        " 27825594.0221 1\n",
        "297.635144163 35938136.638 1\n",
        "297.635144163"
       ]
      },
      {
       "output_type": "stream",
       "stream": "stdout",
       "text": [
        " 46415888.3361 1\n",
        "297.635144163 59948425.0319 1\n",
        "297.635144163"
       ]
      },
      {
       "output_type": "stream",
       "stream": "stdout",
       "text": [
        " 77426368.2681 1\n",
        "297.635144163 100000000.0 1\n",
        "379.269019073"
       ]
      },
      {
       "output_type": "stream",
       "stream": "stdout",
       "text": [
        " 10000000.0 1\n",
        "379.269019073 12915496.6501 1\n",
        "379.269019073"
       ]
      },
      {
       "output_type": "stream",
       "stream": "stdout",
       "text": [
        " 16681005.372 1\n",
        "379.269019073 21544346.9003 1\n",
        "379.269019073"
       ]
      },
      {
       "output_type": "stream",
       "stream": "stdout",
       "text": [
        " 27825594.0221 1\n",
        "379.269019073 35938136.638 1\n",
        "379.269019073"
       ]
      },
      {
       "output_type": "stream",
       "stream": "stdout",
       "text": [
        " 46415888.3361 1\n",
        "379.269019073 59948425.0319 1\n",
        "379.269019073"
       ]
      },
      {
       "output_type": "stream",
       "stream": "stdout",
       "text": [
        " 77426368.2681 1\n",
        "379.269019073 100000000.0 1\n",
        "483.293023857"
       ]
      },
      {
       "output_type": "stream",
       "stream": "stdout",
       "text": [
        " 10000000.0 1\n",
        "483.293023857 12915496.6501 1\n",
        "483.293023857"
       ]
      },
      {
       "output_type": "stream",
       "stream": "stdout",
       "text": [
        " 16681005.372 1\n",
        "483.293023857 21544346.9003 1\n",
        "483.293023857"
       ]
      },
      {
       "output_type": "stream",
       "stream": "stdout",
       "text": [
        " 27825594.0221 1\n",
        "483.293023857 35938136.638 1\n",
        "483.293023857"
       ]
      },
      {
       "output_type": "stream",
       "stream": "stdout",
       "text": [
        " 46415888.3361 1\n",
        "483.293023857 59948425.0319 1\n",
        "483.293023857"
       ]
      },
      {
       "output_type": "stream",
       "stream": "stdout",
       "text": [
        " 77426368.2681 1\n",
        "483.293023857 100000000.0 1\n",
        "615.848211066"
       ]
      },
      {
       "output_type": "stream",
       "stream": "stdout",
       "text": [
        " 10000000.0 1\n",
        "615.848211066 12915496.6501 1\n",
        "615.848211066"
       ]
      },
      {
       "output_type": "stream",
       "stream": "stdout",
       "text": [
        " 16681005.372 1\n",
        "615.848211066 21544346.9003 1\n",
        "615.848211066"
       ]
      },
      {
       "output_type": "stream",
       "stream": "stdout",
       "text": [
        " 27825594.0221 1\n",
        "615.848211066 35938136.638 1\n",
        "615.848211066"
       ]
      },
      {
       "output_type": "stream",
       "stream": "stdout",
       "text": [
        " 46415888.3361 1\n",
        "615.848211066 59948425.0319 1\n",
        "615.848211066"
       ]
      },
      {
       "output_type": "stream",
       "stream": "stdout",
       "text": [
        " 77426368.2681 1\n",
        "615.848211066 100000000.0 1\n",
        "784.759970351"
       ]
      },
      {
       "output_type": "stream",
       "stream": "stdout",
       "text": [
        " 10000000.0 1\n",
        "784.759970351 12915496.6501 1\n",
        "784.759970351"
       ]
      },
      {
       "output_type": "stream",
       "stream": "stdout",
       "text": [
        " 16681005.372 1\n",
        "784.759970351 21544346.9003 1\n",
        "784.759970351"
       ]
      },
      {
       "output_type": "stream",
       "stream": "stdout",
       "text": [
        " 27825594.0221 1\n",
        "784.759970351 35938136.638 1\n",
        "784.759970351"
       ]
      },
      {
       "output_type": "stream",
       "stream": "stdout",
       "text": [
        " 46415888.3361 1\n",
        "784.759970351 59948425.0319 1\n",
        "784.759970351"
       ]
      },
      {
       "output_type": "stream",
       "stream": "stdout",
       "text": [
        " 77426368.2681 1\n",
        "784.759970351 100000000.0 1\n",
        "1000.0"
       ]
      },
      {
       "output_type": "stream",
       "stream": "stdout",
       "text": [
        " 10000000.0 1\n",
        "1000.0 12915496.6501 1\n",
        "1000.0"
       ]
      },
      {
       "output_type": "stream",
       "stream": "stdout",
       "text": [
        " 16681005.372 1\n",
        "1000.0 21544346.9003 1\n",
        "1000.0"
       ]
      },
      {
       "output_type": "stream",
       "stream": "stdout",
       "text": [
        " 27825594.0221 1\n",
        "1000.0 35938136.638 1\n",
        "1000.0"
       ]
      },
      {
       "output_type": "stream",
       "stream": "stdout",
       "text": [
        " 46415888.3361 1\n",
        "1000.0 59948425.0319 1\n",
        "1000.0"
       ]
      },
      {
       "output_type": "stream",
       "stream": "stdout",
       "text": [
        " 77426368.2681 1\n",
        "1000.0 100000000.0 1\n"
       ]
      },
      {
       "html": [
        "<table border=\"1\" cellpadding=\"3\" cellspacing=\"0\"  style=\"border:1px solid black;border-collapse:collapse;\"><tr><td  style=\"background-color:LightGray;\"><b>Label</b></td><td  style=\"background-color:LightGray;\"><b>Timestamp</b></td><td  style=\"background-color:LightGray;\"><b>Parameters</b></td><td  style=\"background-color:LightGray;\"><b>Duration</b></td><td  style=\"background-color:LightGray;\"><b>Version</b></td><td  style=\"background-color:LightGray;\"><b>Tags</b></td></tr><tr><td  style=\"background-color:Ivory;\"><code>78778605ff92</code></td><td  style=\"background-color:Ivory;\">2013-08-29 16:01</td><td  style=\"background-color:Ivory;\"><code>kPlus: 10.0, kMinus: 10000000.0</code></td><td  style=\"background-color:Ivory;\">13.83s</td><td  style=\"background-color:Ivory;\"><code>c96b085a9e3a</code></td><td  style=\"background-color:Ivory;\">annular24</td></tr><tr><td  style=\"background-color:AliceBlue;\"><code>543488c83eb4</code></td><td  style=\"background-color:AliceBlue;\">2013-08-29 16:02</td><td  style=\"background-color:AliceBlue;\"><code>kPlus: 10.0, kMinus: 12915496.6501</code></td><td  style=\"background-color:AliceBlue;\">13.21s</td><td  style=\"background-color:AliceBlue;\"><code>c96b085a9e3a</code></td><td  style=\"background-color:AliceBlue;\">annular24</td></tr><tr><td  style=\"background-color:Ivory;\"><code>d22ba110dc3e</code></td><td  style=\"background-color:Ivory;\">2013-08-29 16:02</td><td  style=\"background-color:Ivory;\"><code>kPlus: 10.0, kMinus: 16681005.372</code></td><td  style=\"background-color:Ivory;\">15.53s</td><td  style=\"background-color:Ivory;\"><code>c96b085a9e3a</code></td><td  style=\"background-color:Ivory;\">annular24</td></tr><tr><td  style=\"background-color:AliceBlue;\"><code>473aa205d748</code></td><td  style=\"background-color:AliceBlue;\">2013-08-29 16:02</td><td  style=\"background-color:AliceBlue;\"><code>kPlus: 10.0, kMinus: 21544346.9003</code></td><td  style=\"background-color:AliceBlue;\">9.82s</td><td  style=\"background-color:AliceBlue;\"><code>c96b085a9e3a</code></td><td  style=\"background-color:AliceBlue;\">annular24</td></tr><tr><td  style=\"background-color:Ivory;\"><code>cf1beb33a3f4</code></td><td  style=\"background-color:Ivory;\">2013-08-29 16:02</td><td  style=\"background-color:Ivory;\"><code>kPlus: 10.0, kMinus: 27825594.0221</code></td><td  style=\"background-color:Ivory;\">13.75s</td><td  style=\"background-color:Ivory;\"><code>c96b085a9e3a</code></td><td  style=\"background-color:Ivory;\">annular24</td></tr><tr><td  style=\"background-color:AliceBlue;\"><code>b854ea10dcc2</code></td><td  style=\"background-color:AliceBlue;\">2013-08-29 16:02</td><td  style=\"background-color:AliceBlue;\"><code>kPlus: 10.0, kMinus: 35938136.638</code></td><td  style=\"background-color:AliceBlue;\">15.82s</td><td  style=\"background-color:AliceBlue;\"><code>c96b085a9e3a</code></td><td  style=\"background-color:AliceBlue;\">annular24</td></tr><tr><td  style=\"background-color:Ivory;\"><code>4c05e0895601</code></td><td  style=\"background-color:Ivory;\">2013-08-29 16:02</td><td  style=\"background-color:Ivory;\"><code>kPlus: 10.0, kMinus: 46415888.3361</code></td><td  style=\"background-color:Ivory;\">13.67s</td><td  style=\"background-color:Ivory;\"><code>c96b085a9e3a</code></td><td  style=\"background-color:Ivory;\">annular24</td></tr><tr><td  style=\"background-color:AliceBlue;\"><code>0ada6e227ca4</code></td><td  style=\"background-color:AliceBlue;\">2013-08-29 16:02</td><td  style=\"background-color:AliceBlue;\"><code>kPlus: 10.0, kMinus: 59948425.0319</code></td><td  style=\"background-color:AliceBlue;\">15.36s</td><td  style=\"background-color:AliceBlue;\"><code>c96b085a9e3a</code></td><td  style=\"background-color:AliceBlue;\">annular24</td></tr><tr><td  style=\"background-color:Ivory;\"><code>31988083536e</code></td><td  style=\"background-color:Ivory;\">2013-08-29 16:02</td><td  style=\"background-color:Ivory;\"><code>kPlus: 10.0, kMinus: 77426368.2681</code></td><td  style=\"background-color:Ivory;\">14.78s</td><td  style=\"background-color:Ivory;\"><code>c96b085a9e3a</code></td><td  style=\"background-color:Ivory;\">annular24</td></tr><tr><td  style=\"background-color:AliceBlue;\"><code>05c5ecf0ddef</code></td><td  style=\"background-color:AliceBlue;\">2013-08-29 16:02</td><td  style=\"background-color:AliceBlue;\"><code>kPlus: 10.0, kMinus: 100000000.0</code></td><td  style=\"background-color:AliceBlue;\">10.50s</td><td  style=\"background-color:AliceBlue;\"><code>c96b085a9e3a</code></td><td  style=\"background-color:AliceBlue;\">annular24</td></tr><tr><td  style=\"background-color:Ivory;\"><code>4c05c6292e3d</code></td><td  style=\"background-color:Ivory;\">2013-08-29 16:02</td><td  style=\"background-color:Ivory;\"><code>kPlus: 12.742749857, kMinus: 10000000.0</code></td><td  style=\"background-color:Ivory;\">13.82s</td><td  style=\"background-color:Ivory;\"><code>c96b085a9e3a</code></td><td  style=\"background-color:Ivory;\">annular24</td></tr><tr><td  style=\"background-color:AliceBlue;\"><code>9d98fde538cc</code></td><td  style=\"background-color:AliceBlue;\">2013-08-29 16:02</td><td  style=\"background-color:AliceBlue;\"><code>kPlus: 12.742749857, kMinus: 12915496.6501</code></td><td  style=\"background-color:AliceBlue;\">10.28s</td><td  style=\"background-color:AliceBlue;\"><code>c96b085a9e3a</code></td><td  style=\"background-color:AliceBlue;\">annular24</td></tr><tr><td  style=\"background-color:Ivory;\"><code>eca2b1bd9854</code></td><td  style=\"background-color:Ivory;\">2013-08-29 16:02</td><td  style=\"background-color:Ivory;\"><code>kPlus: 12.742749857, kMinus: 16681005.372</code></td><td  style=\"background-color:Ivory;\">13.46s</td><td  style=\"background-color:Ivory;\"><code>c96b085a9e3a</code></td><td  style=\"background-color:Ivory;\">annular24</td></tr><tr><td  style=\"background-color:AliceBlue;\"><code>97bf4b128997</code></td><td  style=\"background-color:AliceBlue;\">2013-08-29 16:02</td><td  style=\"background-color:AliceBlue;\"><code>kPlus: 12.742749857, kMinus: 21544346.9003</code></td><td  style=\"background-color:AliceBlue;\">14.63s</td><td  style=\"background-color:AliceBlue;\"><code>c96b085a9e3a</code></td><td  style=\"background-color:AliceBlue;\">annular24</td></tr><tr><td  style=\"background-color:Ivory;\"><code>16a53c4be364</code></td><td  style=\"background-color:Ivory;\">2013-08-29 16:02</td><td  style=\"background-color:Ivory;\"><code>kPlus: 12.742749857, kMinus: 27825594.0221</code></td><td  style=\"background-color:Ivory;\">10.19s</td><td  style=\"background-color:Ivory;\"><code>c96b085a9e3a</code></td><td  style=\"background-color:Ivory;\">annular24</td></tr><tr><td  style=\"background-color:AliceBlue;\"><code>513f12b862f1</code></td><td  style=\"background-color:AliceBlue;\">2013-08-29 16:02</td><td  style=\"background-color:AliceBlue;\"><code>kPlus: 12.742749857, kMinus: 35938136.638</code></td><td  style=\"background-color:AliceBlue;\">13.75s</td><td  style=\"background-color:AliceBlue;\"><code>c96b085a9e3a</code></td><td  style=\"background-color:AliceBlue;\">annular24</td></tr><tr><td  style=\"background-color:Ivory;\"><code>98a084552376</code></td><td  style=\"background-color:Ivory;\">2013-08-29 16:02</td><td  style=\"background-color:Ivory;\"><code>kPlus: 12.742749857, kMinus: 46415888.3361</code></td><td  style=\"background-color:Ivory;\">9.70s</td><td  style=\"background-color:Ivory;\"><code>c96b085a9e3a</code></td><td  style=\"background-color:Ivory;\">annular24</td></tr><tr><td  style=\"background-color:AliceBlue;\"><code>4894b77b0aa7</code></td><td  style=\"background-color:AliceBlue;\">2013-08-29 16:02</td><td  style=\"background-color:AliceBlue;\"><code>kPlus: 12.742749857, kMinus: 59948425.0319</code></td><td  style=\"background-color:AliceBlue;\">15.35s</td><td  style=\"background-color:AliceBlue;\"><code>c96b085a9e3a</code></td><td  style=\"background-color:AliceBlue;\">annular24</td></tr><tr><td  style=\"background-color:Ivory;\"><code>d65fbabefc59</code></td><td  style=\"background-color:Ivory;\">2013-08-29 16:02</td><td  style=\"background-color:Ivory;\"><code>kPlus: 12.742749857, kMinus: 77426368.2681</code></td><td  style=\"background-color:Ivory;\">10.46s</td><td  style=\"background-color:Ivory;\"><code>c96b085a9e3a</code></td><td  style=\"background-color:Ivory;\">annular24</td></tr><tr><td  style=\"background-color:AliceBlue;\"><code>4e2105f709a0</code></td><td  style=\"background-color:AliceBlue;\">2013-08-29 16:02</td><td  style=\"background-color:AliceBlue;\"><code>kPlus: 12.742749857, kMinus: 100000000.0</code></td><td  style=\"background-color:AliceBlue;\">9.95s</td><td  style=\"background-color:AliceBlue;\"><code>c96b085a9e3a</code></td><td  style=\"background-color:AliceBlue;\">annular24</td></tr><tr><td  style=\"background-color:Ivory;\"><code>1e5e00d3ada5</code></td><td  style=\"background-color:Ivory;\">2013-08-29 16:02</td><td  style=\"background-color:Ivory;\"><code>kPlus: 16.2377673919, kMinus: 10000000.0</code></td><td  style=\"background-color:Ivory;\">14.19s</td><td  style=\"background-color:Ivory;\"><code>c96b085a9e3a</code></td><td  style=\"background-color:Ivory;\">annular24</td></tr><tr><td  style=\"background-color:AliceBlue;\"><code>ae65590dfdce</code></td><td  style=\"background-color:AliceBlue;\">2013-08-29 16:02</td><td  style=\"background-color:AliceBlue;\"><code>kPlus: 16.2377673919, kMinus: 12915496.6501</code></td><td  style=\"background-color:AliceBlue;\">14.72s</td><td  style=\"background-color:AliceBlue;\"><code>c96b085a9e3a</code></td><td  style=\"background-color:AliceBlue;\">annular24</td></tr><tr><td  style=\"background-color:Ivory;\"><code>4199bab30125</code></td><td  style=\"background-color:Ivory;\">2013-08-29 16:02</td><td  style=\"background-color:Ivory;\"><code>kPlus: 16.2377673919, kMinus: 16681005.372</code></td><td  style=\"background-color:Ivory;\">11.42s</td><td  style=\"background-color:Ivory;\"><code>c96b085a9e3a</code></td><td  style=\"background-color:Ivory;\">annular24</td></tr><tr><td  style=\"background-color:AliceBlue;\"><code>73c96a34ac97</code></td><td  style=\"background-color:AliceBlue;\">2013-08-29 16:02</td><td  style=\"background-color:AliceBlue;\"><code>kPlus: 16.2377673919, kMinus: 21544346.9003</code></td><td  style=\"background-color:AliceBlue;\">13.89s</td><td  style=\"background-color:AliceBlue;\"><code>c96b085a9e3a</code></td><td  style=\"background-color:AliceBlue;\">annular24</td></tr><tr><td  style=\"background-color:Ivory;\"><code>baad9ac3f3ce</code></td><td  style=\"background-color:Ivory;\">2013-08-29 16:02</td><td  style=\"background-color:Ivory;\"><code>kPlus: 16.2377673919, kMinus: 27825594.0221</code></td><td  style=\"background-color:Ivory;\">9.79s</td><td  style=\"background-color:Ivory;\"><code>c96b085a9e3a</code></td><td  style=\"background-color:Ivory;\">annular24</td></tr><tr><td  style=\"background-color:AliceBlue;\"><code>3197589d63fb</code></td><td  style=\"background-color:AliceBlue;\">2013-08-29 16:02</td><td  style=\"background-color:AliceBlue;\"><code>kPlus: 16.2377673919, kMinus: 35938136.638</code></td><td  style=\"background-color:AliceBlue;\">15.12s</td><td  style=\"background-color:AliceBlue;\"><code>c96b085a9e3a</code></td><td  style=\"background-color:AliceBlue;\">annular24</td></tr><tr><td  style=\"background-color:Ivory;\"><code>8c7731f3bb26</code></td><td  style=\"background-color:Ivory;\">2013-08-29 16:02</td><td  style=\"background-color:Ivory;\"><code>kPlus: 16.2377673919, kMinus: 46415888.3361</code></td><td  style=\"background-color:Ivory;\">12.34s</td><td  style=\"background-color:Ivory;\"><code>c96b085a9e3a</code></td><td  style=\"background-color:Ivory;\">annular24</td></tr><tr><td  style=\"background-color:AliceBlue;\"><code>91e88b77df14</code></td><td  style=\"background-color:AliceBlue;\">2013-08-29 16:02</td><td  style=\"background-color:AliceBlue;\"><code>kPlus: 16.2377673919, kMinus: 59948425.0319</code></td><td  style=\"background-color:AliceBlue;\">10.44s</td><td  style=\"background-color:AliceBlue;\"><code>c96b085a9e3a</code></td><td  style=\"background-color:AliceBlue;\">annular24</td></tr><tr><td  style=\"background-color:Ivory;\"><code>223230f3dbf3</code></td><td  style=\"background-color:Ivory;\">2013-08-29 16:02</td><td  style=\"background-color:Ivory;\"><code>kPlus: 16.2377673919, kMinus: 77426368.2681</code></td><td  style=\"background-color:Ivory;\">9.76s</td><td  style=\"background-color:Ivory;\"><code>c96b085a9e3a</code></td><td  style=\"background-color:Ivory;\">annular24</td></tr><tr><td  style=\"background-color:AliceBlue;\"><code>cc5b48cdbf2a</code></td><td  style=\"background-color:AliceBlue;\">2013-08-29 16:02</td><td  style=\"background-color:AliceBlue;\"><code>kPlus: 16.2377673919, kMinus: 100000000.0</code></td><td  style=\"background-color:AliceBlue;\">12.14s</td><td  style=\"background-color:AliceBlue;\"><code>c96b085a9e3a</code></td><td  style=\"background-color:AliceBlue;\">annular24</td></tr><tr><td  style=\"background-color:Ivory;\"><code>e0f4bda40528</code></td><td  style=\"background-color:Ivory;\">2013-08-29 16:02</td><td  style=\"background-color:Ivory;\"><code>kPlus: 20.6913808111, kMinus: 10000000.0</code></td><td  style=\"background-color:Ivory;\">10.03s</td><td  style=\"background-color:Ivory;\"><code>c96b085a9e3a</code></td><td  style=\"background-color:Ivory;\">annular24</td></tr><tr><td  style=\"background-color:AliceBlue;\"><code>e4a648344c0b</code></td><td  style=\"background-color:AliceBlue;\">2013-08-29 16:02</td><td  style=\"background-color:AliceBlue;\"><code>kPlus: 20.6913808111, kMinus: 12915496.6501</code></td><td  style=\"background-color:AliceBlue;\">12.16s</td><td  style=\"background-color:AliceBlue;\"><code>c96b085a9e3a</code></td><td  style=\"background-color:AliceBlue;\">annular24</td></tr><tr><td  style=\"background-color:Ivory;\"><code>489158b9e64b</code></td><td  style=\"background-color:Ivory;\">2013-08-29 16:02</td><td  style=\"background-color:Ivory;\"><code>kPlus: 20.6913808111, kMinus: 16681005.372</code></td><td  style=\"background-color:Ivory;\">12.13s</td><td  style=\"background-color:Ivory;\"><code>c96b085a9e3a</code></td><td  style=\"background-color:Ivory;\">annular24</td></tr><tr><td  style=\"background-color:AliceBlue;\"><code>cae887f6af89</code></td><td  style=\"background-color:AliceBlue;\">2013-08-29 16:02</td><td  style=\"background-color:AliceBlue;\"><code>kPlus: 20.6913808111, kMinus: 21544346.9003</code></td><td  style=\"background-color:AliceBlue;\">15.62s</td><td  style=\"background-color:AliceBlue;\"><code>c96b085a9e3a</code></td><td  style=\"background-color:AliceBlue;\">annular24</td></tr><tr><td  style=\"background-color:Ivory;\"><code>d61de4ac5aff</code></td><td  style=\"background-color:Ivory;\">2013-08-29 16:02</td><td  style=\"background-color:Ivory;\"><code>kPlus: 20.6913808111, kMinus: 27825594.0221</code></td><td  style=\"background-color:Ivory;\">15.66s</td><td  style=\"background-color:Ivory;\"><code>c96b085a9e3a</code></td><td  style=\"background-color:Ivory;\">annular24</td></tr><tr><td  style=\"background-color:AliceBlue;\"><code>2a9906880917</code></td><td  style=\"background-color:AliceBlue;\">2013-08-29 16:02</td><td  style=\"background-color:AliceBlue;\"><code>kPlus: 20.6913808111, kMinus: 35938136.638</code></td><td  style=\"background-color:AliceBlue;\">14.96s</td><td  style=\"background-color:AliceBlue;\"><code>c96b085a9e3a</code></td><td  style=\"background-color:AliceBlue;\">annular24</td></tr><tr><td  style=\"background-color:Ivory;\"><code>923e770702e1</code></td><td  style=\"background-color:Ivory;\">2013-08-29 16:02</td><td  style=\"background-color:Ivory;\"><code>kPlus: 20.6913808111, kMinus: 46415888.3361</code></td><td  style=\"background-color:Ivory;\">15.91s</td><td  style=\"background-color:Ivory;\"><code>c96b085a9e3a</code></td><td  style=\"background-color:Ivory;\">annular24</td></tr><tr><td  style=\"background-color:AliceBlue;\"><code>50a3faf273a7</code></td><td  style=\"background-color:AliceBlue;\">2013-08-29 16:02</td><td  style=\"background-color:AliceBlue;\"><code>kPlus: 20.6913808111, kMinus: 59948425.0319</code></td><td  style=\"background-color:AliceBlue;\">18.06s</td><td  style=\"background-color:AliceBlue;\"><code>c96b085a9e3a</code></td><td  style=\"background-color:AliceBlue;\">annular24</td></tr><tr><td  style=\"background-color:Ivory;\"><code>725cefb2b977</code></td><td  style=\"background-color:Ivory;\">2013-08-29 16:02</td><td  style=\"background-color:Ivory;\"><code>kPlus: 20.6913808111, kMinus: 77426368.2681</code></td><td  style=\"background-color:Ivory;\">13.84s</td><td  style=\"background-color:Ivory;\"><code>c96b085a9e3a</code></td><td  style=\"background-color:Ivory;\">annular24</td></tr><tr><td  style=\"background-color:AliceBlue;\"><code>8c7e9169198e</code></td><td  style=\"background-color:AliceBlue;\">2013-08-29 16:02</td><td  style=\"background-color:AliceBlue;\"><code>kPlus: 20.6913808111, kMinus: 100000000.0</code></td><td  style=\"background-color:AliceBlue;\">14.44s</td><td  style=\"background-color:AliceBlue;\"><code>c96b085a9e3a</code></td><td  style=\"background-color:AliceBlue;\">annular24</td></tr><tr><td  style=\"background-color:Ivory;\"><code>cbc0b8f58ddc</code></td><td  style=\"background-color:Ivory;\">2013-08-29 16:02</td><td  style=\"background-color:Ivory;\"><code>kPlus: 26.3665089873, kMinus: 10000000.0</code></td><td  style=\"background-color:Ivory;\">14.40s</td><td  style=\"background-color:Ivory;\"><code>c96b085a9e3a</code></td><td  style=\"background-color:Ivory;\">annular24</td></tr><tr><td  style=\"background-color:AliceBlue;\"><code>2f9f6f6fc7f0</code></td><td  style=\"background-color:AliceBlue;\">2013-08-29 16:02</td><td  style=\"background-color:AliceBlue;\"><code>kPlus: 26.3665089873, kMinus: 12915496.6501</code></td><td  style=\"background-color:AliceBlue;\">15.01s</td><td  style=\"background-color:AliceBlue;\"><code>c96b085a9e3a</code></td><td  style=\"background-color:AliceBlue;\">annular24</td></tr><tr><td  style=\"background-color:Ivory;\"><code>1d7535764829</code></td><td  style=\"background-color:Ivory;\">2013-08-29 16:02</td><td  style=\"background-color:Ivory;\"><code>kPlus: 26.3665089873, kMinus: 16681005.372</code></td><td  style=\"background-color:Ivory;\">13.83s</td><td  style=\"background-color:Ivory;\"><code>c96b085a9e3a</code></td><td  style=\"background-color:Ivory;\">annular24</td></tr><tr><td  style=\"background-color:AliceBlue;\"><code>e7583b300c82</code></td><td  style=\"background-color:AliceBlue;\">2013-08-29 16:02</td><td  style=\"background-color:AliceBlue;\"><code>kPlus: 26.3665089873, kMinus: 21544346.9003</code></td><td  style=\"background-color:AliceBlue;\">14.86s</td><td  style=\"background-color:AliceBlue;\"><code>c96b085a9e3a</code></td><td  style=\"background-color:AliceBlue;\">annular24</td></tr><tr><td  style=\"background-color:Ivory;\"><code>5e6a2f3df68d</code></td><td  style=\"background-color:Ivory;\">2013-08-29 16:02</td><td  style=\"background-color:Ivory;\"><code>kPlus: 26.3665089873, kMinus: 27825594.0221</code></td><td  style=\"background-color:Ivory;\">15.17s</td><td  style=\"background-color:Ivory;\"><code>c96b085a9e3a</code></td><td  style=\"background-color:Ivory;\">annular24</td></tr><tr><td  style=\"background-color:AliceBlue;\"><code>6dcfd9ea6a49</code></td><td  style=\"background-color:AliceBlue;\">2013-08-29 16:02</td><td  style=\"background-color:AliceBlue;\"><code>kPlus: 26.3665089873, kMinus: 35938136.638</code></td><td  style=\"background-color:AliceBlue;\">14.33s</td><td  style=\"background-color:AliceBlue;\"><code>c96b085a9e3a</code></td><td  style=\"background-color:AliceBlue;\">annular24</td></tr><tr><td  style=\"background-color:Ivory;\"><code>4647b5736657</code></td><td  style=\"background-color:Ivory;\">2013-08-29 16:02</td><td  style=\"background-color:Ivory;\"><code>kPlus: 26.3665089873, kMinus: 46415888.3361</code></td><td  style=\"background-color:Ivory;\">14.11s</td><td  style=\"background-color:Ivory;\"><code>c96b085a9e3a</code></td><td  style=\"background-color:Ivory;\">annular24</td></tr><tr><td  style=\"background-color:AliceBlue;\"><code>6f4973ee1563</code></td><td  style=\"background-color:AliceBlue;\">2013-08-29 16:02</td><td  style=\"background-color:AliceBlue;\"><code>kPlus: 26.3665089873, kMinus: 59948425.0319</code></td><td  style=\"background-color:AliceBlue;\">16.21s</td><td  style=\"background-color:AliceBlue;\"><code>c96b085a9e3a</code></td><td  style=\"background-color:AliceBlue;\">annular24</td></tr><tr><td  style=\"background-color:Ivory;\"><code>3baf07464409</code></td><td  style=\"background-color:Ivory;\">2013-08-29 16:02</td><td  style=\"background-color:Ivory;\"><code>kPlus: 26.3665089873, kMinus: 77426368.2681</code></td><td  style=\"background-color:Ivory;\">17.98s</td><td  style=\"background-color:Ivory;\"><code>c96b085a9e3a</code></td><td  style=\"background-color:Ivory;\">annular24</td></tr><tr><td  style=\"background-color:AliceBlue;\"><code>994a8f2d8e11</code></td><td  style=\"background-color:AliceBlue;\">2013-08-29 16:02</td><td  style=\"background-color:AliceBlue;\"><code>kPlus: 26.3665089873, kMinus: 100000000.0</code></td><td  style=\"background-color:AliceBlue;\">17.73s</td><td  style=\"background-color:AliceBlue;\"><code>c96b085a9e3a</code></td><td  style=\"background-color:AliceBlue;\">annular24</td></tr><tr><td  style=\"background-color:Ivory;\"><code>019975be2680</code></td><td  style=\"background-color:Ivory;\">2013-08-29 16:06</td><td  style=\"background-color:Ivory;\"><code>kPlus: 33.5981828628, kMinus: 10000000.0</code></td><td  style=\"background-color:Ivory;\">5.24s</td><td  style=\"background-color:Ivory;\"><code>c96b085a9e3a</code></td><td  style=\"background-color:Ivory;\">annular24</td></tr><tr><td  style=\"background-color:AliceBlue;\"><code>47d7bc23f604</code></td><td  style=\"background-color:AliceBlue;\">2013-08-29 16:06</td><td  style=\"background-color:AliceBlue;\"><code>kPlus: 33.5981828628, kMinus: 12915496.6501</code></td><td  style=\"background-color:AliceBlue;\">8.21s</td><td  style=\"background-color:AliceBlue;\"><code>c96b085a9e3a</code></td><td  style=\"background-color:AliceBlue;\">annular24</td></tr><tr><td  style=\"background-color:Ivory;\"><code>9289b0511000</code></td><td  style=\"background-color:Ivory;\">2013-08-29 16:06</td><td  style=\"background-color:Ivory;\"><code>kPlus: 33.5981828628, kMinus: 16681005.372</code></td><td  style=\"background-color:Ivory;\">8.66s</td><td  style=\"background-color:Ivory;\"><code>c96b085a9e3a</code></td><td  style=\"background-color:Ivory;\">annular24</td></tr><tr><td  style=\"background-color:AliceBlue;\"><code>7ac33f58e314</code></td><td  style=\"background-color:AliceBlue;\">2013-08-29 16:06</td><td  style=\"background-color:AliceBlue;\"><code>kPlus: 33.5981828628, kMinus: 21544346.9003</code></td><td  style=\"background-color:AliceBlue;\">8.64s</td><td  style=\"background-color:AliceBlue;\"><code>c96b085a9e3a</code></td><td  style=\"background-color:AliceBlue;\">annular24</td></tr><tr><td  style=\"background-color:Ivory;\"><code>687fb8aeb947</code></td><td  style=\"background-color:Ivory;\">2013-08-29 16:06</td><td  style=\"background-color:Ivory;\"><code>kPlus: 33.5981828628, kMinus: 27825594.0221</code></td><td  style=\"background-color:Ivory;\">8.74s</td><td  style=\"background-color:Ivory;\"><code>c96b085a9e3a</code></td><td  style=\"background-color:Ivory;\">annular24</td></tr><tr><td  style=\"background-color:AliceBlue;\"><code>701a98aa5f35</code></td><td  style=\"background-color:AliceBlue;\">2013-08-29 16:06</td><td  style=\"background-color:AliceBlue;\"><code>kPlus: 33.5981828628, kMinus: 35938136.638</code></td><td  style=\"background-color:AliceBlue;\">8.67s</td><td  style=\"background-color:AliceBlue;\"><code>c96b085a9e3a</code></td><td  style=\"background-color:AliceBlue;\">annular24</td></tr><tr><td  style=\"background-color:Ivory;\"><code>a007d3afc813</code></td><td  style=\"background-color:Ivory;\">2013-08-29 16:06</td><td  style=\"background-color:Ivory;\"><code>kPlus: 33.5981828628, kMinus: 46415888.3361</code></td><td  style=\"background-color:Ivory;\">8.44s</td><td  style=\"background-color:Ivory;\"><code>c96b085a9e3a</code></td><td  style=\"background-color:Ivory;\">annular24</td></tr><tr><td  style=\"background-color:AliceBlue;\"><code>6a7432fb04d6</code></td><td  style=\"background-color:AliceBlue;\">2013-08-29 16:06</td><td  style=\"background-color:AliceBlue;\"><code>kPlus: 33.5981828628, kMinus: 59948425.0319</code></td><td  style=\"background-color:AliceBlue;\">8.39s</td><td  style=\"background-color:AliceBlue;\"><code>c96b085a9e3a</code></td><td  style=\"background-color:AliceBlue;\">annular24</td></tr><tr><td  style=\"background-color:Ivory;\"><code>d2747092cccf</code></td><td  style=\"background-color:Ivory;\">2013-08-29 16:06</td><td  style=\"background-color:Ivory;\"><code>kPlus: 33.5981828628, kMinus: 77426368.2681</code></td><td  style=\"background-color:Ivory;\">9.47s</td><td  style=\"background-color:Ivory;\"><code>c96b085a9e3a</code></td><td  style=\"background-color:Ivory;\">annular24</td></tr><tr><td  style=\"background-color:AliceBlue;\"><code>735f9e5b1e1e</code></td><td  style=\"background-color:AliceBlue;\">2013-08-29 16:06</td><td  style=\"background-color:AliceBlue;\"><code>kPlus: 33.5981828628, kMinus: 100000000.0</code></td><td  style=\"background-color:AliceBlue;\">8.24s</td><td  style=\"background-color:AliceBlue;\"><code>c96b085a9e3a</code></td><td  style=\"background-color:AliceBlue;\">annular24</td></tr><tr><td  style=\"background-color:Ivory;\"><code>6add6e38200b</code></td><td  style=\"background-color:Ivory;\">2013-08-29 16:06</td><td  style=\"background-color:Ivory;\"><code>kPlus: 42.8133239872, kMinus: 10000000.0</code></td><td  style=\"background-color:Ivory;\">9.86s</td><td  style=\"background-color:Ivory;\"><code>c96b085a9e3a</code></td><td  style=\"background-color:Ivory;\">annular24</td></tr><tr><td  style=\"background-color:AliceBlue;\"><code>051bd06c9216</code></td><td  style=\"background-color:AliceBlue;\">2013-08-29 16:06</td><td  style=\"background-color:AliceBlue;\"><code>kPlus: 42.8133239872, kMinus: 12915496.6501</code></td><td  style=\"background-color:AliceBlue;\">8.82s</td><td  style=\"background-color:AliceBlue;\"><code>c96b085a9e3a</code></td><td  style=\"background-color:AliceBlue;\">annular24</td></tr><tr><td  style=\"background-color:Ivory;\"><code>246be92cdf12</code></td><td  style=\"background-color:Ivory;\">2013-08-29 16:06</td><td  style=\"background-color:Ivory;\"><code>kPlus: 42.8133239872, kMinus: 16681005.372</code></td><td  style=\"background-color:Ivory;\">9.06s</td><td  style=\"background-color:Ivory;\"><code>c96b085a9e3a</code></td><td  style=\"background-color:Ivory;\">annular24</td></tr><tr><td  style=\"background-color:AliceBlue;\"><code>cd5893460b34</code></td><td  style=\"background-color:AliceBlue;\">2013-08-29 16:07</td><td  style=\"background-color:AliceBlue;\"><code>kPlus: 42.8133239872, kMinus: 21544346.9003</code></td><td  style=\"background-color:AliceBlue;\">9.70s</td><td  style=\"background-color:AliceBlue;\"><code>c96b085a9e3a</code></td><td  style=\"background-color:AliceBlue;\">annular24</td></tr><tr><td  style=\"background-color:Ivory;\"><code>87a7cda7aa56</code></td><td  style=\"background-color:Ivory;\">2013-08-29 16:07</td><td  style=\"background-color:Ivory;\"><code>kPlus: 42.8133239872, kMinus: 27825594.0221</code></td><td  style=\"background-color:Ivory;\">11.58s</td><td  style=\"background-color:Ivory;\"><code>c96b085a9e3a</code></td><td  style=\"background-color:Ivory;\">annular24</td></tr><tr><td  style=\"background-color:AliceBlue;\"><code>d6db3579728f</code></td><td  style=\"background-color:AliceBlue;\">2013-08-29 16:07</td><td  style=\"background-color:AliceBlue;\"><code>kPlus: 42.8133239872, kMinus: 35938136.638</code></td><td  style=\"background-color:AliceBlue;\">11.49s</td><td  style=\"background-color:AliceBlue;\"><code>c96b085a9e3a</code></td><td  style=\"background-color:AliceBlue;\">annular24</td></tr><tr><td  style=\"background-color:Ivory;\"><code>ab44931c1319</code></td><td  style=\"background-color:Ivory;\">2013-08-29 16:07</td><td  style=\"background-color:Ivory;\"><code>kPlus: 42.8133239872, kMinus: 46415888.3361</code></td><td  style=\"background-color:Ivory;\">12.69s</td><td  style=\"background-color:Ivory;\"><code>c96b085a9e3a</code></td><td  style=\"background-color:Ivory;\">annular24</td></tr><tr><td  style=\"background-color:AliceBlue;\"><code>aca13c735918</code></td><td  style=\"background-color:AliceBlue;\">2013-08-29 16:07</td><td  style=\"background-color:AliceBlue;\"><code>kPlus: 42.8133239872, kMinus: 59948425.0319</code></td><td  style=\"background-color:AliceBlue;\">7.46s</td><td  style=\"background-color:AliceBlue;\"><code>c96b085a9e3a</code></td><td  style=\"background-color:AliceBlue;\">annular24</td></tr><tr><td  style=\"background-color:Ivory;\"><code>72067d65f58a</code></td><td  style=\"background-color:Ivory;\">2013-08-29 16:07</td><td  style=\"background-color:Ivory;\"><code>kPlus: 42.8133239872, kMinus: 77426368.2681</code></td><td  style=\"background-color:Ivory;\">7.07s</td><td  style=\"background-color:Ivory;\"><code>c96b085a9e3a</code></td><td  style=\"background-color:Ivory;\">annular24</td></tr><tr><td  style=\"background-color:AliceBlue;\"><code>d8eb53798633</code></td><td  style=\"background-color:AliceBlue;\">2013-08-29 16:07</td><td  style=\"background-color:AliceBlue;\"><code>kPlus: 42.8133239872, kMinus: 100000000.0</code></td><td  style=\"background-color:AliceBlue;\">6.84s</td><td  style=\"background-color:AliceBlue;\"><code>c96b085a9e3a</code></td><td  style=\"background-color:AliceBlue;\">annular24</td></tr><tr><td  style=\"background-color:Ivory;\"><code>222123a18411</code></td><td  style=\"background-color:Ivory;\">2013-08-29 16:07</td><td  style=\"background-color:Ivory;\"><code>kPlus: 54.5559478117, kMinus: 10000000.0</code></td><td  style=\"background-color:Ivory;\">11.03s</td><td  style=\"background-color:Ivory;\"><code>c96b085a9e3a</code></td><td  style=\"background-color:Ivory;\">annular24</td></tr><tr><td  style=\"background-color:AliceBlue;\"><code>6e88403ffaf2</code></td><td  style=\"background-color:AliceBlue;\">2013-08-29 16:07</td><td  style=\"background-color:AliceBlue;\"><code>kPlus: 54.5559478117, kMinus: 12915496.6501</code></td><td  style=\"background-color:AliceBlue;\">10.99s</td><td  style=\"background-color:AliceBlue;\"><code>c96b085a9e3a</code></td><td  style=\"background-color:AliceBlue;\">annular24</td></tr><tr><td  style=\"background-color:Ivory;\"><code>d817c56b49b1</code></td><td  style=\"background-color:Ivory;\">2013-08-29 16:07</td><td  style=\"background-color:Ivory;\"><code>kPlus: 54.5559478117, kMinus: 16681005.372</code></td><td  style=\"background-color:Ivory;\">11.12s</td><td  style=\"background-color:Ivory;\"><code>c96b085a9e3a</code></td><td  style=\"background-color:Ivory;\">annular24</td></tr><tr><td  style=\"background-color:AliceBlue;\"><code>84d01f3a2461</code></td><td  style=\"background-color:AliceBlue;\">2013-08-29 16:07</td><td  style=\"background-color:AliceBlue;\"><code>kPlus: 54.5559478117, kMinus: 21544346.9003</code></td><td  style=\"background-color:AliceBlue;\">10.95s</td><td  style=\"background-color:AliceBlue;\"><code>c96b085a9e3a</code></td><td  style=\"background-color:AliceBlue;\">annular24</td></tr><tr><td  style=\"background-color:Ivory;\"><code>2b8dadb20363</code></td><td  style=\"background-color:Ivory;\">2013-08-29 16:07</td><td  style=\"background-color:Ivory;\"><code>kPlus: 54.5559478117, kMinus: 27825594.0221</code></td><td  style=\"background-color:Ivory;\">15.24s</td><td  style=\"background-color:Ivory;\"><code>c96b085a9e3a</code></td><td  style=\"background-color:Ivory;\">annular24</td></tr><tr><td  style=\"background-color:AliceBlue;\"><code>dc9c2be1edc8</code></td><td  style=\"background-color:AliceBlue;\">2013-08-29 16:07</td><td  style=\"background-color:AliceBlue;\"><code>kPlus: 54.5559478117, kMinus: 35938136.638</code></td><td  style=\"background-color:AliceBlue;\">15.53s</td><td  style=\"background-color:AliceBlue;\"><code>c96b085a9e3a</code></td><td  style=\"background-color:AliceBlue;\">annular24</td></tr><tr><td  style=\"background-color:Ivory;\"><code>6a999f658a24</code></td><td  style=\"background-color:Ivory;\">2013-08-29 16:07</td><td  style=\"background-color:Ivory;\"><code>kPlus: 54.5559478117, kMinus: 46415888.3361</code></td><td  style=\"background-color:Ivory;\">15.12s</td><td  style=\"background-color:Ivory;\"><code>c96b085a9e3a</code></td><td  style=\"background-color:Ivory;\">annular24</td></tr><tr><td  style=\"background-color:AliceBlue;\"><code>78a4cb72cdee</code></td><td  style=\"background-color:AliceBlue;\">2013-08-29 16:07</td><td  style=\"background-color:AliceBlue;\"><code>kPlus: 54.5559478117, kMinus: 59948425.0319</code></td><td  style=\"background-color:AliceBlue;\">15.46s</td><td  style=\"background-color:AliceBlue;\"><code>c96b085a9e3a</code></td><td  style=\"background-color:AliceBlue;\">annular24</td></tr><tr><td  style=\"background-color:Ivory;\"><code>89bfca033d99</code></td><td  style=\"background-color:Ivory;\">2013-08-29 16:07</td><td  style=\"background-color:Ivory;\"><code>kPlus: 54.5559478117, kMinus: 77426368.2681</code></td><td  style=\"background-color:Ivory;\">14.50s</td><td  style=\"background-color:Ivory;\"><code>c96b085a9e3a</code></td><td  style=\"background-color:Ivory;\">annular24</td></tr><tr><td  style=\"background-color:AliceBlue;\"><code>a8a3c62cb2d5</code></td><td  style=\"background-color:AliceBlue;\">2013-08-29 16:07</td><td  style=\"background-color:AliceBlue;\"><code>kPlus: 54.5559478117, kMinus: 100000000.0</code></td><td  style=\"background-color:AliceBlue;\">14.31s</td><td  style=\"background-color:AliceBlue;\"><code>c96b085a9e3a</code></td><td  style=\"background-color:AliceBlue;\">annular24</td></tr><tr><td  style=\"background-color:Ivory;\"><code>829030d26340</code></td><td  style=\"background-color:Ivory;\">2013-08-29 16:07</td><td  style=\"background-color:Ivory;\"><code>kPlus: 69.5192796178, kMinus: 10000000.0</code></td><td  style=\"background-color:Ivory;\">10.74s</td><td  style=\"background-color:Ivory;\"><code>c96b085a9e3a</code></td><td  style=\"background-color:Ivory;\">annular24</td></tr><tr><td  style=\"background-color:AliceBlue;\"><code>7c2bb5bcf680</code></td><td  style=\"background-color:AliceBlue;\">2013-08-29 16:07</td><td  style=\"background-color:AliceBlue;\"><code>kPlus: 69.5192796178, kMinus: 12915496.6501</code></td><td  style=\"background-color:AliceBlue;\">10.94s</td><td  style=\"background-color:AliceBlue;\"><code>c96b085a9e3a</code></td><td  style=\"background-color:AliceBlue;\">annular24</td></tr><tr><td  style=\"background-color:Ivory;\"><code>0492d11c97c9</code></td><td  style=\"background-color:Ivory;\">2013-08-29 16:07</td><td  style=\"background-color:Ivory;\"><code>kPlus: 69.5192796178, kMinus: 16681005.372</code></td><td  style=\"background-color:Ivory;\">10.10s</td><td  style=\"background-color:Ivory;\"><code>c96b085a9e3a</code></td><td  style=\"background-color:Ivory;\">annular24</td></tr><tr><td  style=\"background-color:AliceBlue;\"><code>eb3fdc14b808</code></td><td  style=\"background-color:AliceBlue;\">2013-08-29 16:07</td><td  style=\"background-color:AliceBlue;\"><code>kPlus: 69.5192796178, kMinus: 21544346.9003</code></td><td  style=\"background-color:AliceBlue;\">9.96s</td><td  style=\"background-color:AliceBlue;\"><code>c96b085a9e3a</code></td><td  style=\"background-color:AliceBlue;\">annular24</td></tr><tr><td  style=\"background-color:Ivory;\"><code>6babab23c7ec</code></td><td  style=\"background-color:Ivory;\">2013-08-29 16:07</td><td  style=\"background-color:Ivory;\"><code>kPlus: 69.5192796178, kMinus: 27825594.0221</code></td><td  style=\"background-color:Ivory;\">9.41s</td><td  style=\"background-color:Ivory;\"><code>c96b085a9e3a</code></td><td  style=\"background-color:Ivory;\">annular24</td></tr><tr><td  style=\"background-color:AliceBlue;\"><code>fa27276addb4</code></td><td  style=\"background-color:AliceBlue;\">2013-08-29 16:07</td><td  style=\"background-color:AliceBlue;\"><code>kPlus: 69.5192796178, kMinus: 35938136.638</code></td><td  style=\"background-color:AliceBlue;\">10.02s</td><td  style=\"background-color:AliceBlue;\"><code>c96b085a9e3a</code></td><td  style=\"background-color:AliceBlue;\">annular24</td></tr><tr><td  style=\"background-color:Ivory;\"><code>7e4703a8fe57</code></td><td  style=\"background-color:Ivory;\">2013-08-29 16:07</td><td  style=\"background-color:Ivory;\"><code>kPlus: 69.5192796178, kMinus: 46415888.3361</code></td><td  style=\"background-color:Ivory;\">9.44s</td><td  style=\"background-color:Ivory;\"><code>c96b085a9e3a</code></td><td  style=\"background-color:Ivory;\">annular24</td></tr><tr><td  style=\"background-color:AliceBlue;\"><code>a8bb6ce2ebef</code></td><td  style=\"background-color:AliceBlue;\">2013-08-29 16:07</td><td  style=\"background-color:AliceBlue;\"><code>kPlus: 69.5192796178, kMinus: 59948425.0319</code></td><td  style=\"background-color:AliceBlue;\">10.04s</td><td  style=\"background-color:AliceBlue;\"><code>c96b085a9e3a</code></td><td  style=\"background-color:AliceBlue;\">annular24</td></tr><tr><td  style=\"background-color:Ivory;\"><code>5913b2897878</code></td><td  style=\"background-color:Ivory;\">2013-08-29 16:07</td><td  style=\"background-color:Ivory;\"><code>kPlus: 69.5192796178, kMinus: 77426368.2681</code></td><td  style=\"background-color:Ivory;\">9.56s</td><td  style=\"background-color:Ivory;\"><code>c96b085a9e3a</code></td><td  style=\"background-color:Ivory;\">annular24</td></tr><tr><td  style=\"background-color:AliceBlue;\"><code>55960af5c28b</code></td><td  style=\"background-color:AliceBlue;\">2013-08-29 16:07</td><td  style=\"background-color:AliceBlue;\"><code>kPlus: 69.5192796178, kMinus: 100000000.0</code></td><td  style=\"background-color:AliceBlue;\">10.13s</td><td  style=\"background-color:AliceBlue;\"><code>c96b085a9e3a</code></td><td  style=\"background-color:AliceBlue;\">annular24</td></tr><tr><td  style=\"background-color:Ivory;\"><code>b4fc9dff15b1</code></td><td  style=\"background-color:Ivory;\">2013-08-29 16:07</td><td  style=\"background-color:Ivory;\"><code>kPlus: 88.586679041, kMinus: 10000000.0</code></td><td  style=\"background-color:Ivory;\">10.79s</td><td  style=\"background-color:Ivory;\"><code>c96b085a9e3a</code></td><td  style=\"background-color:Ivory;\">annular24</td></tr><tr><td  style=\"background-color:AliceBlue;\"><code>3a6c445fbed2</code></td><td  style=\"background-color:AliceBlue;\">2013-08-29 16:07</td><td  style=\"background-color:AliceBlue;\"><code>kPlus: 88.586679041, kMinus: 12915496.6501</code></td><td  style=\"background-color:AliceBlue;\">11.94s</td><td  style=\"background-color:AliceBlue;\"><code>c96b085a9e3a</code></td><td  style=\"background-color:AliceBlue;\">annular24</td></tr><tr><td  style=\"background-color:Ivory;\"><code>8a5a89b41d39</code></td><td  style=\"background-color:Ivory;\">2013-08-29 16:07</td><td  style=\"background-color:Ivory;\"><code>kPlus: 88.586679041, kMinus: 16681005.372</code></td><td  style=\"background-color:Ivory;\">14.54s</td><td  style=\"background-color:Ivory;\"><code>c96b085a9e3a</code></td><td  style=\"background-color:Ivory;\">annular24</td></tr><tr><td  style=\"background-color:AliceBlue;\"><code>75c79c1f8b61</code></td><td  style=\"background-color:AliceBlue;\">2013-08-29 16:07</td><td  style=\"background-color:AliceBlue;\"><code>kPlus: 88.586679041, kMinus: 21544346.9003</code></td><td  style=\"background-color:AliceBlue;\">12.67s</td><td  style=\"background-color:AliceBlue;\"><code>c96b085a9e3a</code></td><td  style=\"background-color:AliceBlue;\">annular24</td></tr><tr><td  style=\"background-color:Ivory;\"><code>bb299ee9f834</code></td><td  style=\"background-color:Ivory;\">2013-08-29 16:07</td><td  style=\"background-color:Ivory;\"><code>kPlus: 88.586679041, kMinus: 27825594.0221</code></td><td  style=\"background-color:Ivory;\">13.18s</td><td  style=\"background-color:Ivory;\"><code>c96b085a9e3a</code></td><td  style=\"background-color:Ivory;\">annular24</td></tr><tr><td  style=\"background-color:AliceBlue;\"><code>ec11b2165da4</code></td><td  style=\"background-color:AliceBlue;\">2013-08-29 16:07</td><td  style=\"background-color:AliceBlue;\"><code>kPlus: 88.586679041, kMinus: 35938136.638</code></td><td  style=\"background-color:AliceBlue;\">13.94s</td><td  style=\"background-color:AliceBlue;\"><code>c96b085a9e3a</code></td><td  style=\"background-color:AliceBlue;\">annular24</td></tr><tr><td  style=\"background-color:Ivory;\"><code>6ea397024b5f</code></td><td  style=\"background-color:Ivory;\">2013-08-29 16:07</td><td  style=\"background-color:Ivory;\"><code>kPlus: 88.586679041, kMinus: 46415888.3361</code></td><td  style=\"background-color:Ivory;\">11.34s</td><td  style=\"background-color:Ivory;\"><code>c96b085a9e3a</code></td><td  style=\"background-color:Ivory;\">annular24</td></tr><tr><td  style=\"background-color:AliceBlue;\"><code>596deaf3ad53</code></td><td  style=\"background-color:AliceBlue;\">2013-08-29 16:07</td><td  style=\"background-color:AliceBlue;\"><code>kPlus: 88.586679041, kMinus: 59948425.0319</code></td><td  style=\"background-color:AliceBlue;\">13.34s</td><td  style=\"background-color:AliceBlue;\"><code>c96b085a9e3a</code></td><td  style=\"background-color:AliceBlue;\">annular24</td></tr><tr><td  style=\"background-color:Ivory;\"><code>44b2b6540f91</code></td><td  style=\"background-color:Ivory;\">2013-08-29 16:07</td><td  style=\"background-color:Ivory;\"><code>kPlus: 88.586679041, kMinus: 77426368.2681</code></td><td  style=\"background-color:Ivory;\">12.63s</td><td  style=\"background-color:Ivory;\"><code>c96b085a9e3a</code></td><td  style=\"background-color:Ivory;\">annular24</td></tr><tr><td  style=\"background-color:AliceBlue;\"><code>c6b33142db8c</code></td><td  style=\"background-color:AliceBlue;\">2013-08-29 16:07</td><td  style=\"background-color:AliceBlue;\"><code>kPlus: 88.586679041, kMinus: 100000000.0</code></td><td  style=\"background-color:AliceBlue;\">13.57s</td><td  style=\"background-color:AliceBlue;\"><code>c96b085a9e3a</code></td><td  style=\"background-color:AliceBlue;\">annular24</td></tr><tr><td  style=\"background-color:Ivory;\"><code>f941656fafc7</code></td><td  style=\"background-color:Ivory;\">2013-08-29 16:10</td><td  style=\"background-color:Ivory;\"><code>kPlus: 112.883789168, kMinus: 10000000.0</code></td><td  style=\"background-color:Ivory;\">5.46s</td><td  style=\"background-color:Ivory;\"><code>c96b085a9e3a</code></td><td  style=\"background-color:Ivory;\">annular24</td></tr><tr><td  style=\"background-color:AliceBlue;\"><code>d1ca23ea9429</code></td><td  style=\"background-color:AliceBlue;\">2013-08-29 16:11</td><td  style=\"background-color:AliceBlue;\"><code>kPlus: 112.883789168, kMinus: 12915496.6501</code></td><td  style=\"background-color:AliceBlue;\">8.91s</td><td  style=\"background-color:AliceBlue;\"><code>c96b085a9e3a</code></td><td  style=\"background-color:AliceBlue;\">annular24</td></tr><tr><td  style=\"background-color:Ivory;\"><code>e37b64925c32</code></td><td  style=\"background-color:Ivory;\">2013-08-29 16:11</td><td  style=\"background-color:Ivory;\"><code>kPlus: 112.883789168, kMinus: 16681005.372</code></td><td  style=\"background-color:Ivory;\">9.14s</td><td  style=\"background-color:Ivory;\"><code>c96b085a9e3a</code></td><td  style=\"background-color:Ivory;\">annular24</td></tr><tr><td  style=\"background-color:AliceBlue;\"><code>cfdf43b41457</code></td><td  style=\"background-color:AliceBlue;\">2013-08-29 16:11</td><td  style=\"background-color:AliceBlue;\"><code>kPlus: 112.883789168, kMinus: 21544346.9003</code></td><td  style=\"background-color:AliceBlue;\">8.10s</td><td  style=\"background-color:AliceBlue;\"><code>c96b085a9e3a</code></td><td  style=\"background-color:AliceBlue;\">annular24</td></tr><tr><td  style=\"background-color:Ivory;\"><code>fca54539c326</code></td><td  style=\"background-color:Ivory;\">2013-08-29 16:11</td><td  style=\"background-color:Ivory;\"><code>kPlus: 112.883789168, kMinus: 27825594.0221</code></td><td  style=\"background-color:Ivory;\">7.45s</td><td  style=\"background-color:Ivory;\"><code>c96b085a9e3a</code></td><td  style=\"background-color:Ivory;\">annular24</td></tr><tr><td  style=\"background-color:AliceBlue;\"><code>a545c25da6bc</code></td><td  style=\"background-color:AliceBlue;\">2013-08-29 16:11</td><td  style=\"background-color:AliceBlue;\"><code>kPlus: 112.883789168, kMinus: 35938136.638</code></td><td  style=\"background-color:AliceBlue;\">9.06s</td><td  style=\"background-color:AliceBlue;\"><code>c96b085a9e3a</code></td><td  style=\"background-color:AliceBlue;\">annular24</td></tr><tr><td  style=\"background-color:Ivory;\"><code>8e280b001dea</code></td><td  style=\"background-color:Ivory;\">2013-08-29 16:11</td><td  style=\"background-color:Ivory;\"><code>kPlus: 112.883789168, kMinus: 46415888.3361</code></td><td  style=\"background-color:Ivory;\">7.39s</td><td  style=\"background-color:Ivory;\"><code>c96b085a9e3a</code></td><td  style=\"background-color:Ivory;\">annular24</td></tr><tr><td  style=\"background-color:AliceBlue;\"><code>23c016ca5d40</code></td><td  style=\"background-color:AliceBlue;\">2013-08-29 16:11</td><td  style=\"background-color:AliceBlue;\"><code>kPlus: 112.883789168, kMinus: 59948425.0319</code></td><td  style=\"background-color:AliceBlue;\">9.12s</td><td  style=\"background-color:AliceBlue;\"><code>c96b085a9e3a</code></td><td  style=\"background-color:AliceBlue;\">annular24</td></tr><tr><td  style=\"background-color:Ivory;\"><code>f37e86222b0c</code></td><td  style=\"background-color:Ivory;\">2013-08-29 16:11</td><td  style=\"background-color:Ivory;\"><code>kPlus: 112.883789168, kMinus: 77426368.2681</code></td><td  style=\"background-color:Ivory;\">7.44s</td><td  style=\"background-color:Ivory;\"><code>c96b085a9e3a</code></td><td  style=\"background-color:Ivory;\">annular24</td></tr><tr><td  style=\"background-color:AliceBlue;\"><code>77fbc9a1b743</code></td><td  style=\"background-color:AliceBlue;\">2013-08-29 16:11</td><td  style=\"background-color:AliceBlue;\"><code>kPlus: 112.883789168, kMinus: 100000000.0</code></td><td  style=\"background-color:AliceBlue;\">8.99s</td><td  style=\"background-color:AliceBlue;\"><code>c96b085a9e3a</code></td><td  style=\"background-color:AliceBlue;\">annular24</td></tr><tr><td  style=\"background-color:Ivory;\"><code>e20f18eddca8</code></td><td  style=\"background-color:Ivory;\">2013-08-29 16:11</td><td  style=\"background-color:Ivory;\"><code>kPlus: 143.844988829, kMinus: 10000000.0</code></td><td  style=\"background-color:Ivory;\">8.95s</td><td  style=\"background-color:Ivory;\"><code>c96b085a9e3a</code></td><td  style=\"background-color:Ivory;\">annular24</td></tr><tr><td  style=\"background-color:AliceBlue;\"><code>2918b658c89c</code></td><td  style=\"background-color:AliceBlue;\">2013-08-29 16:11</td><td  style=\"background-color:AliceBlue;\"><code>kPlus: 143.844988829, kMinus: 12915496.6501</code></td><td  style=\"background-color:AliceBlue;\">8.23s</td><td  style=\"background-color:AliceBlue;\"><code>c96b085a9e3a</code></td><td  style=\"background-color:AliceBlue;\">annular24</td></tr><tr><td  style=\"background-color:Ivory;\"><code>353b5464ffb1</code></td><td  style=\"background-color:Ivory;\">2013-08-29 16:11</td><td  style=\"background-color:Ivory;\"><code>kPlus: 143.844988829, kMinus: 16681005.372</code></td><td  style=\"background-color:Ivory;\">9.05s</td><td  style=\"background-color:Ivory;\"><code>c96b085a9e3a</code></td><td  style=\"background-color:Ivory;\">annular24</td></tr><tr><td  style=\"background-color:AliceBlue;\"><code>39f2d30878c7</code></td><td  style=\"background-color:AliceBlue;\">2013-08-29 16:11</td><td  style=\"background-color:AliceBlue;\"><code>kPlus: 143.844988829, kMinus: 21544346.9003</code></td><td  style=\"background-color:AliceBlue;\">8.70s</td><td  style=\"background-color:AliceBlue;\"><code>c96b085a9e3a</code></td><td  style=\"background-color:AliceBlue;\">annular24</td></tr><tr><td  style=\"background-color:Ivory;\"><code>1f8d0acd6be4</code></td><td  style=\"background-color:Ivory;\">2013-08-29 16:11</td><td  style=\"background-color:Ivory;\"><code>kPlus: 143.844988829, kMinus: 27825594.0221</code></td><td  style=\"background-color:Ivory;\">8.14s</td><td  style=\"background-color:Ivory;\"><code>c96b085a9e3a</code></td><td  style=\"background-color:Ivory;\">annular24</td></tr><tr><td  style=\"background-color:AliceBlue;\"><code>33d24df839e1</code></td><td  style=\"background-color:AliceBlue;\">2013-08-29 16:11</td><td  style=\"background-color:AliceBlue;\"><code>kPlus: 143.844988829, kMinus: 35938136.638</code></td><td  style=\"background-color:AliceBlue;\">7.94s</td><td  style=\"background-color:AliceBlue;\"><code>c96b085a9e3a</code></td><td  style=\"background-color:AliceBlue;\">annular24</td></tr><tr><td  style=\"background-color:Ivory;\"><code>3f1af33adf8f</code></td><td  style=\"background-color:Ivory;\">2013-08-29 16:11</td><td  style=\"background-color:Ivory;\"><code>kPlus: 143.844988829, kMinus: 46415888.3361</code></td><td  style=\"background-color:Ivory;\">7.38s</td><td  style=\"background-color:Ivory;\"><code>c96b085a9e3a</code></td><td  style=\"background-color:Ivory;\">annular24</td></tr><tr><td  style=\"background-color:AliceBlue;\"><code>150f43c77522</code></td><td  style=\"background-color:AliceBlue;\">2013-08-29 16:11</td><td  style=\"background-color:AliceBlue;\"><code>kPlus: 143.844988829, kMinus: 59948425.0319</code></td><td  style=\"background-color:AliceBlue;\">7.07s</td><td  style=\"background-color:AliceBlue;\"><code>c96b085a9e3a</code></td><td  style=\"background-color:AliceBlue;\">annular24</td></tr><tr><td  style=\"background-color:Ivory;\"><code>98bbff5c745e</code></td><td  style=\"background-color:Ivory;\">2013-08-29 16:11</td><td  style=\"background-color:Ivory;\"><code>kPlus: 143.844988829, kMinus: 77426368.2681</code></td><td  style=\"background-color:Ivory;\">7.18s</td><td  style=\"background-color:Ivory;\"><code>c96b085a9e3a</code></td><td  style=\"background-color:Ivory;\">annular24</td></tr><tr><td  style=\"background-color:AliceBlue;\"><code>4150e1918a1e</code></td><td  style=\"background-color:AliceBlue;\">2013-08-29 16:11</td><td  style=\"background-color:AliceBlue;\"><code>kPlus: 143.844988829, kMinus: 100000000.0</code></td><td  style=\"background-color:AliceBlue;\">12.89s</td><td  style=\"background-color:AliceBlue;\"><code>c96b085a9e3a</code></td><td  style=\"background-color:AliceBlue;\">annular24</td></tr><tr><td  style=\"background-color:Ivory;\"><code>99e7e70ad6ac</code></td><td  style=\"background-color:Ivory;\">2013-08-29 16:12</td><td  style=\"background-color:Ivory;\"><code>kPlus: 183.298071083, kMinus: 10000000.0</code></td><td  style=\"background-color:Ivory;\">7.04s</td><td  style=\"background-color:Ivory;\"><code>c96b085a9e3a</code></td><td  style=\"background-color:Ivory;\">annular24</td></tr><tr><td  style=\"background-color:AliceBlue;\"><code>51dc274d4ecb</code></td><td  style=\"background-color:AliceBlue;\">2013-08-29 16:12</td><td  style=\"background-color:AliceBlue;\"><code>kPlus: 183.298071083, kMinus: 12915496.6501</code></td><td  style=\"background-color:AliceBlue;\">7.15s</td><td  style=\"background-color:AliceBlue;\"><code>c96b085a9e3a</code></td><td  style=\"background-color:AliceBlue;\">annular24</td></tr><tr><td  style=\"background-color:Ivory;\"><code>0c22e3843aad</code></td><td  style=\"background-color:Ivory;\">2013-08-29 16:12</td><td  style=\"background-color:Ivory;\"><code>kPlus: 183.298071083, kMinus: 16681005.372</code></td><td  style=\"background-color:Ivory;\">13.75s</td><td  style=\"background-color:Ivory;\"><code>c96b085a9e3a</code></td><td  style=\"background-color:Ivory;\">annular24</td></tr><tr><td  style=\"background-color:AliceBlue;\"><code>ae142e3976ff</code></td><td  style=\"background-color:AliceBlue;\">2013-08-29 16:12</td><td  style=\"background-color:AliceBlue;\"><code>kPlus: 183.298071083, kMinus: 21544346.9003</code></td><td  style=\"background-color:AliceBlue;\">13.72s</td><td  style=\"background-color:AliceBlue;\"><code>c96b085a9e3a</code></td><td  style=\"background-color:AliceBlue;\">annular24</td></tr><tr><td  style=\"background-color:Ivory;\"><code>be2d4889fff1</code></td><td  style=\"background-color:Ivory;\">2013-08-29 16:12</td><td  style=\"background-color:Ivory;\"><code>kPlus: 183.298071083, kMinus: 27825594.0221</code></td><td  style=\"background-color:Ivory;\">14.43s</td><td  style=\"background-color:Ivory;\"><code>c96b085a9e3a</code></td><td  style=\"background-color:Ivory;\">annular24</td></tr><tr><td  style=\"background-color:AliceBlue;\"><code>febd8384b9bb</code></td><td  style=\"background-color:AliceBlue;\">2013-08-29 16:12</td><td  style=\"background-color:AliceBlue;\"><code>kPlus: 183.298071083, kMinus: 35938136.638</code></td><td  style=\"background-color:AliceBlue;\">11.84s</td><td  style=\"background-color:AliceBlue;\"><code>c96b085a9e3a</code></td><td  style=\"background-color:AliceBlue;\">annular24</td></tr><tr><td  style=\"background-color:Ivory;\"><code>330d742e15d2</code></td><td  style=\"background-color:Ivory;\">2013-08-29 16:12</td><td  style=\"background-color:Ivory;\"><code>kPlus: 183.298071083, kMinus: 46415888.3361</code></td><td  style=\"background-color:Ivory;\">7.53s</td><td  style=\"background-color:Ivory;\"><code>c96b085a9e3a</code></td><td  style=\"background-color:Ivory;\">annular24</td></tr><tr><td  style=\"background-color:AliceBlue;\"><code>2024641bc448</code></td><td  style=\"background-color:AliceBlue;\">2013-08-29 16:12</td><td  style=\"background-color:AliceBlue;\"><code>kPlus: 183.298071083, kMinus: 59948425.0319</code></td><td  style=\"background-color:AliceBlue;\">7.22s</td><td  style=\"background-color:AliceBlue;\"><code>c96b085a9e3a</code></td><td  style=\"background-color:AliceBlue;\">annular24</td></tr><tr><td  style=\"background-color:Ivory;\"><code>8848c7b31d34</code></td><td  style=\"background-color:Ivory;\">2013-08-29 16:12</td><td  style=\"background-color:Ivory;\"><code>kPlus: 183.298071083, kMinus: 77426368.2681</code></td><td  style=\"background-color:Ivory;\">7.74s</td><td  style=\"background-color:Ivory;\"><code>c96b085a9e3a</code></td><td  style=\"background-color:Ivory;\">annular24</td></tr><tr><td  style=\"background-color:AliceBlue;\"><code>a728c5d219ba</code></td><td  style=\"background-color:AliceBlue;\">2013-08-29 16:12</td><td  style=\"background-color:AliceBlue;\"><code>kPlus: 183.298071083, kMinus: 100000000.0</code></td><td  style=\"background-color:AliceBlue;\">7.30s</td><td  style=\"background-color:AliceBlue;\"><code>c96b085a9e3a</code></td><td  style=\"background-color:AliceBlue;\">annular24</td></tr><tr><td  style=\"background-color:Ivory;\"><code>79d24d0fcdca</code></td><td  style=\"background-color:Ivory;\">2013-08-29 16:12</td><td  style=\"background-color:Ivory;\"><code>kPlus: 233.572146909, kMinus: 10000000.0</code></td><td  style=\"background-color:Ivory;\">7.80s</td><td  style=\"background-color:Ivory;\"><code>c96b085a9e3a</code></td><td  style=\"background-color:Ivory;\">annular24</td></tr><tr><td  style=\"background-color:AliceBlue;\"><code>a740fe9214d7</code></td><td  style=\"background-color:AliceBlue;\">2013-08-29 16:12</td><td  style=\"background-color:AliceBlue;\"><code>kPlus: 233.572146909, kMinus: 12915496.6501</code></td><td  style=\"background-color:AliceBlue;\">7.12s</td><td  style=\"background-color:AliceBlue;\"><code>c96b085a9e3a</code></td><td  style=\"background-color:AliceBlue;\">annular24</td></tr><tr><td  style=\"background-color:Ivory;\"><code>5cbaa2516e9a</code></td><td  style=\"background-color:Ivory;\">2013-08-29 16:12</td><td  style=\"background-color:Ivory;\"><code>kPlus: 233.572146909, kMinus: 16681005.372</code></td><td  style=\"background-color:Ivory;\">7.67s</td><td  style=\"background-color:Ivory;\"><code>c96b085a9e3a</code></td><td  style=\"background-color:Ivory;\">annular24</td></tr><tr><td  style=\"background-color:AliceBlue;\"><code>a5317f836881</code></td><td  style=\"background-color:AliceBlue;\">2013-08-29 16:12</td><td  style=\"background-color:AliceBlue;\"><code>kPlus: 233.572146909, kMinus: 21544346.9003</code></td><td  style=\"background-color:AliceBlue;\">7.34s</td><td  style=\"background-color:AliceBlue;\"><code>c96b085a9e3a</code></td><td  style=\"background-color:AliceBlue;\">annular24</td></tr><tr><td  style=\"background-color:Ivory;\"><code>00952889e777</code></td><td  style=\"background-color:Ivory;\">2013-08-29 16:12</td><td  style=\"background-color:Ivory;\"><code>kPlus: 233.572146909, kMinus: 27825594.0221</code></td><td  style=\"background-color:Ivory;\">11.99s</td><td  style=\"background-color:Ivory;\"><code>c96b085a9e3a</code></td><td  style=\"background-color:Ivory;\">annular24</td></tr><tr><td  style=\"background-color:AliceBlue;\"><code>a49b1cd888b8</code></td><td  style=\"background-color:AliceBlue;\">2013-08-29 16:12</td><td  style=\"background-color:AliceBlue;\"><code>kPlus: 233.572146909, kMinus: 35938136.638</code></td><td  style=\"background-color:AliceBlue;\">12.20s</td><td  style=\"background-color:AliceBlue;\"><code>c96b085a9e3a</code></td><td  style=\"background-color:AliceBlue;\">annular24</td></tr><tr><td  style=\"background-color:Ivory;\"><code>16f916078b28</code></td><td  style=\"background-color:Ivory;\">2013-08-29 16:12</td><td  style=\"background-color:Ivory;\"><code>kPlus: 233.572146909, kMinus: 46415888.3361</code></td><td  style=\"background-color:Ivory;\">11.98s</td><td  style=\"background-color:Ivory;\"><code>c96b085a9e3a</code></td><td  style=\"background-color:Ivory;\">annular24</td></tr><tr><td  style=\"background-color:AliceBlue;\"><code>19ecd8803b52</code></td><td  style=\"background-color:AliceBlue;\">2013-08-29 16:12</td><td  style=\"background-color:AliceBlue;\"><code>kPlus: 233.572146909, kMinus: 59948425.0319</code></td><td  style=\"background-color:AliceBlue;\">9.58s</td><td  style=\"background-color:AliceBlue;\"><code>c96b085a9e3a</code></td><td  style=\"background-color:AliceBlue;\">annular24</td></tr><tr><td  style=\"background-color:Ivory;\"><code>67a858df2cf7</code></td><td  style=\"background-color:Ivory;\">2013-08-29 16:12</td><td  style=\"background-color:Ivory;\"><code>kPlus: 233.572146909, kMinus: 77426368.2681</code></td><td  style=\"background-color:Ivory;\">9.93s</td><td  style=\"background-color:Ivory;\"><code>c96b085a9e3a</code></td><td  style=\"background-color:Ivory;\">annular24</td></tr><tr><td  style=\"background-color:AliceBlue;\"><code>1628ecb4b177</code></td><td  style=\"background-color:AliceBlue;\">2013-08-29 16:12</td><td  style=\"background-color:AliceBlue;\"><code>kPlus: 233.572146909, kMinus: 100000000.0</code></td><td  style=\"background-color:AliceBlue;\">11.39s</td><td  style=\"background-color:AliceBlue;\"><code>c96b085a9e3a</code></td><td  style=\"background-color:AliceBlue;\">annular24</td></tr><tr><td  style=\"background-color:Ivory;\"><code>4626fb83ce21</code></td><td  style=\"background-color:Ivory;\">2013-08-29 16:12</td><td  style=\"background-color:Ivory;\"><code>kPlus: 297.635144163, kMinus: 10000000.0</code></td><td  style=\"background-color:Ivory;\">10.90s</td><td  style=\"background-color:Ivory;\"><code>c96b085a9e3a</code></td><td  style=\"background-color:Ivory;\">annular24</td></tr><tr><td  style=\"background-color:AliceBlue;\"><code>e3995254c19f</code></td><td  style=\"background-color:AliceBlue;\">2013-08-29 16:12</td><td  style=\"background-color:AliceBlue;\"><code>kPlus: 297.635144163, kMinus: 12915496.6501</code></td><td  style=\"background-color:AliceBlue;\">11.42s</td><td  style=\"background-color:AliceBlue;\"><code>c96b085a9e3a</code></td><td  style=\"background-color:AliceBlue;\">annular24</td></tr><tr><td  style=\"background-color:Ivory;\"><code>73115ce82dc9</code></td><td  style=\"background-color:Ivory;\">2013-08-29 16:12</td><td  style=\"background-color:Ivory;\"><code>kPlus: 297.635144163, kMinus: 16681005.372</code></td><td  style=\"background-color:Ivory;\">12.01s</td><td  style=\"background-color:Ivory;\"><code>c96b085a9e3a</code></td><td  style=\"background-color:Ivory;\">annular24</td></tr><tr><td  style=\"background-color:AliceBlue;\"><code>f62682780bbb</code></td><td  style=\"background-color:AliceBlue;\">2013-08-29 16:12</td><td  style=\"background-color:AliceBlue;\"><code>kPlus: 297.635144163, kMinus: 21544346.9003</code></td><td  style=\"background-color:AliceBlue;\">11.76s</td><td  style=\"background-color:AliceBlue;\"><code>c96b085a9e3a</code></td><td  style=\"background-color:AliceBlue;\">annular24</td></tr><tr><td  style=\"background-color:Ivory;\"><code>9c8cb7aa8720</code></td><td  style=\"background-color:Ivory;\">2013-08-29 16:12</td><td  style=\"background-color:Ivory;\"><code>kPlus: 297.635144163, kMinus: 27825594.0221</code></td><td  style=\"background-color:Ivory;\">10.54s</td><td  style=\"background-color:Ivory;\"><code>c96b085a9e3a</code></td><td  style=\"background-color:Ivory;\">annular24</td></tr><tr><td  style=\"background-color:AliceBlue;\"><code>5da51e64509b</code></td><td  style=\"background-color:AliceBlue;\">2013-08-29 16:12</td><td  style=\"background-color:AliceBlue;\"><code>kPlus: 297.635144163, kMinus: 35938136.638</code></td><td  style=\"background-color:AliceBlue;\">11.77s</td><td  style=\"background-color:AliceBlue;\"><code>c96b085a9e3a</code></td><td  style=\"background-color:AliceBlue;\">annular24</td></tr><tr><td  style=\"background-color:Ivory;\"><code>62a3862c3939</code></td><td  style=\"background-color:Ivory;\">2013-08-29 16:12</td><td  style=\"background-color:Ivory;\"><code>kPlus: 297.635144163, kMinus: 46415888.3361</code></td><td  style=\"background-color:Ivory;\">10.53s</td><td  style=\"background-color:Ivory;\"><code>c96b085a9e3a</code></td><td  style=\"background-color:Ivory;\">annular24</td></tr><tr><td  style=\"background-color:AliceBlue;\"><code>2010c49fe968</code></td><td  style=\"background-color:AliceBlue;\">2013-08-29 16:12</td><td  style=\"background-color:AliceBlue;\"><code>kPlus: 297.635144163, kMinus: 59948425.0319</code></td><td  style=\"background-color:AliceBlue;\">10.25s</td><td  style=\"background-color:AliceBlue;\"><code>c96b085a9e3a</code></td><td  style=\"background-color:AliceBlue;\">annular24</td></tr><tr><td  style=\"background-color:Ivory;\"><code>bc3e14ed5d62</code></td><td  style=\"background-color:Ivory;\">2013-08-29 16:13</td><td  style=\"background-color:Ivory;\"><code>kPlus: 297.635144163, kMinus: 77426368.2681</code></td><td  style=\"background-color:Ivory;\">9.53s</td><td  style=\"background-color:Ivory;\"><code>c96b085a9e3a</code></td><td  style=\"background-color:Ivory;\">annular24</td></tr><tr><td  style=\"background-color:AliceBlue;\"><code>aebf643f8d18</code></td><td  style=\"background-color:AliceBlue;\">2013-08-29 16:13</td><td  style=\"background-color:AliceBlue;\"><code>kPlus: 297.635144163, kMinus: 100000000.0</code></td><td  style=\"background-color:AliceBlue;\">10.16s</td><td  style=\"background-color:AliceBlue;\"><code>c96b085a9e3a</code></td><td  style=\"background-color:AliceBlue;\">annular24</td></tr><tr><td  style=\"background-color:Ivory;\"><code>d0eaf2fa1559</code></td><td  style=\"background-color:Ivory;\">2013-08-29 16:14</td><td  style=\"background-color:Ivory;\"><code>kPlus: 379.269019073, kMinus: 10000000.0</code></td><td  style=\"background-color:Ivory;\">5.83s</td><td  style=\"background-color:Ivory;\"><code>c96b085a9e3a</code></td><td  style=\"background-color:Ivory;\">annular24</td></tr><tr><td  style=\"background-color:AliceBlue;\"><code>605b5bfa12b1</code></td><td  style=\"background-color:AliceBlue;\">2013-08-29 16:15</td><td  style=\"background-color:AliceBlue;\"><code>kPlus: 379.269019073, kMinus: 12915496.6501</code></td><td  style=\"background-color:AliceBlue;\">6.86s</td><td  style=\"background-color:AliceBlue;\"><code>c96b085a9e3a</code></td><td  style=\"background-color:AliceBlue;\">annular24</td></tr><tr><td  style=\"background-color:Ivory;\"><code>c9caf4e9069f</code></td><td  style=\"background-color:Ivory;\">2013-08-29 16:15</td><td  style=\"background-color:Ivory;\"><code>kPlus: 379.269019073, kMinus: 16681005.372</code></td><td  style=\"background-color:Ivory;\">7.14s</td><td  style=\"background-color:Ivory;\"><code>c96b085a9e3a</code></td><td  style=\"background-color:Ivory;\">annular24</td></tr><tr><td  style=\"background-color:AliceBlue;\"><code>6a136974afab</code></td><td  style=\"background-color:AliceBlue;\">2013-08-29 16:15</td><td  style=\"background-color:AliceBlue;\"><code>kPlus: 379.269019073, kMinus: 21544346.9003</code></td><td  style=\"background-color:AliceBlue;\">6.73s</td><td  style=\"background-color:AliceBlue;\"><code>c96b085a9e3a</code></td><td  style=\"background-color:AliceBlue;\">annular24</td></tr><tr><td  style=\"background-color:Ivory;\"><code>82eaa01504d8</code></td><td  style=\"background-color:Ivory;\">2013-08-29 16:16</td><td  style=\"background-color:Ivory;\"><code>kPlus: 379.269019073, kMinus: 27825594.0221</code></td><td  style=\"background-color:Ivory;\">6.91s</td><td  style=\"background-color:Ivory;\"><code>c96b085a9e3a</code></td><td  style=\"background-color:Ivory;\">annular24</td></tr><tr><td  style=\"background-color:AliceBlue;\"><code>996243896420</code></td><td  style=\"background-color:AliceBlue;\">2013-08-29 16:16</td><td  style=\"background-color:AliceBlue;\"><code>kPlus: 379.269019073, kMinus: 35938136.638</code></td><td  style=\"background-color:AliceBlue;\">8.36s</td><td  style=\"background-color:AliceBlue;\"><code>c96b085a9e3a</code></td><td  style=\"background-color:AliceBlue;\">annular24</td></tr><tr><td  style=\"background-color:Ivory;\"><code>0e0276f787a7</code></td><td  style=\"background-color:Ivory;\">2013-08-29 16:16</td><td  style=\"background-color:Ivory;\"><code>kPlus: 379.269019073, kMinus: 46415888.3361</code></td><td  style=\"background-color:Ivory;\">7.27s</td><td  style=\"background-color:Ivory;\"><code>c96b085a9e3a</code></td><td  style=\"background-color:Ivory;\">annular24</td></tr><tr><td  style=\"background-color:AliceBlue;\"><code>ff7c960cade0</code></td><td  style=\"background-color:AliceBlue;\">2013-08-29 16:16</td><td  style=\"background-color:AliceBlue;\"><code>kPlus: 379.269019073, kMinus: 59948425.0319</code></td><td  style=\"background-color:AliceBlue;\">7.97s</td><td  style=\"background-color:AliceBlue;\"><code>c96b085a9e3a</code></td><td  style=\"background-color:AliceBlue;\">annular24</td></tr><tr><td  style=\"background-color:Ivory;\"><code>cb961c6c3e1a</code></td><td  style=\"background-color:Ivory;\">2013-08-29 16:16</td><td  style=\"background-color:Ivory;\"><code>kPlus: 379.269019073, kMinus: 77426368.2681</code></td><td  style=\"background-color:Ivory;\">7.27s</td><td  style=\"background-color:Ivory;\"><code>c96b085a9e3a</code></td><td  style=\"background-color:Ivory;\">annular24</td></tr><tr><td  style=\"background-color:AliceBlue;\"><code>94420a4b07f4</code></td><td  style=\"background-color:AliceBlue;\">2013-08-29 16:16</td><td  style=\"background-color:AliceBlue;\"><code>kPlus: 379.269019073, kMinus: 100000000.0</code></td><td  style=\"background-color:AliceBlue;\">6.70s</td><td  style=\"background-color:AliceBlue;\"><code>c96b085a9e3a</code></td><td  style=\"background-color:AliceBlue;\">annular24</td></tr><tr><td  style=\"background-color:Ivory;\"><code>a3307857d65b</code></td><td  style=\"background-color:Ivory;\">2013-08-29 16:16</td><td  style=\"background-color:Ivory;\"><code>kPlus: 483.293023857, kMinus: 10000000.0</code></td><td  style=\"background-color:Ivory;\">8.57s</td><td  style=\"background-color:Ivory;\"><code>c96b085a9e3a</code></td><td  style=\"background-color:Ivory;\">annular24</td></tr><tr><td  style=\"background-color:AliceBlue;\"><code>cbf7f6975160</code></td><td  style=\"background-color:AliceBlue;\">2013-08-29 16:16</td><td  style=\"background-color:AliceBlue;\"><code>kPlus: 483.293023857, kMinus: 12915496.6501</code></td><td  style=\"background-color:AliceBlue;\">8.62s</td><td  style=\"background-color:AliceBlue;\"><code>c96b085a9e3a</code></td><td  style=\"background-color:AliceBlue;\">annular24</td></tr><tr><td  style=\"background-color:Ivory;\"><code>596d4de18f77</code></td><td  style=\"background-color:Ivory;\">2013-08-29 16:16</td><td  style=\"background-color:Ivory;\"><code>kPlus: 483.293023857, kMinus: 16681005.372</code></td><td  style=\"background-color:Ivory;\">7.72s</td><td  style=\"background-color:Ivory;\"><code>c96b085a9e3a</code></td><td  style=\"background-color:Ivory;\">annular24</td></tr><tr><td  style=\"background-color:AliceBlue;\"><code>7623c377d65f</code></td><td  style=\"background-color:AliceBlue;\">2013-08-29 16:16</td><td  style=\"background-color:AliceBlue;\"><code>kPlus: 483.293023857, kMinus: 21544346.9003</code></td><td  style=\"background-color:AliceBlue;\">8.45s</td><td  style=\"background-color:AliceBlue;\"><code>c96b085a9e3a</code></td><td  style=\"background-color:AliceBlue;\">annular24</td></tr><tr><td  style=\"background-color:Ivory;\"><code>c5e464918951</code></td><td  style=\"background-color:Ivory;\">2013-08-29 16:16</td><td  style=\"background-color:Ivory;\"><code>kPlus: 483.293023857, kMinus: 27825594.0221</code></td><td  style=\"background-color:Ivory;\">6.75s</td><td  style=\"background-color:Ivory;\"><code>c96b085a9e3a</code></td><td  style=\"background-color:Ivory;\">annular24</td></tr><tr><td  style=\"background-color:AliceBlue;\"><code>4c887cb98529</code></td><td  style=\"background-color:AliceBlue;\">2013-08-29 16:16</td><td  style=\"background-color:AliceBlue;\"><code>kPlus: 483.293023857, kMinus: 35938136.638</code></td><td  style=\"background-color:AliceBlue;\">6.26s</td><td  style=\"background-color:AliceBlue;\"><code>c96b085a9e3a</code></td><td  style=\"background-color:AliceBlue;\">annular24</td></tr><tr><td  style=\"background-color:Ivory;\"><code>4cd06d4565c9</code></td><td  style=\"background-color:Ivory;\">2013-08-29 16:16</td><td  style=\"background-color:Ivory;\"><code>kPlus: 483.293023857, kMinus: 46415888.3361</code></td><td  style=\"background-color:Ivory;\">6.02s</td><td  style=\"background-color:Ivory;\"><code>c96b085a9e3a</code></td><td  style=\"background-color:Ivory;\">annular24</td></tr><tr><td  style=\"background-color:AliceBlue;\"><code>5b1cd78a0b2d</code></td><td  style=\"background-color:AliceBlue;\">2013-08-29 16:16</td><td  style=\"background-color:AliceBlue;\"><code>kPlus: 483.293023857, kMinus: 59948425.0319</code></td><td  style=\"background-color:AliceBlue;\">6.14s</td><td  style=\"background-color:AliceBlue;\"><code>c96b085a9e3a</code></td><td  style=\"background-color:AliceBlue;\">annular24</td></tr><tr><td  style=\"background-color:Ivory;\"><code>8a4e40400731</code></td><td  style=\"background-color:Ivory;\">2013-08-29 16:16</td><td  style=\"background-color:Ivory;\"><code>kPlus: 483.293023857, kMinus: 77426368.2681</code></td><td  style=\"background-color:Ivory;\">6.96s</td><td  style=\"background-color:Ivory;\"><code>c96b085a9e3a</code></td><td  style=\"background-color:Ivory;\">annular24</td></tr><tr><td  style=\"background-color:AliceBlue;\"><code>c1c0cb63a113</code></td><td  style=\"background-color:AliceBlue;\">2013-08-29 16:16</td><td  style=\"background-color:AliceBlue;\"><code>kPlus: 483.293023857, kMinus: 100000000.0</code></td><td  style=\"background-color:AliceBlue;\">6.72s</td><td  style=\"background-color:AliceBlue;\"><code>c96b085a9e3a</code></td><td  style=\"background-color:AliceBlue;\">annular24</td></tr><tr><td  style=\"background-color:Ivory;\"><code>005259daba10</code></td><td  style=\"background-color:Ivory;\">2013-08-29 16:16</td><td  style=\"background-color:Ivory;\"><code>kPlus: 615.848211066, kMinus: 10000000.0</code></td><td  style=\"background-color:Ivory;\">12.69s</td><td  style=\"background-color:Ivory;\"><code>c96b085a9e3a</code></td><td  style=\"background-color:Ivory;\">annular24</td></tr><tr><td  style=\"background-color:AliceBlue;\"><code>ca0a7d5a3e86</code></td><td  style=\"background-color:AliceBlue;\">2013-08-29 16:16</td><td  style=\"background-color:AliceBlue;\"><code>kPlus: 615.848211066, kMinus: 12915496.6501</code></td><td  style=\"background-color:AliceBlue;\">7.95s</td><td  style=\"background-color:AliceBlue;\"><code>c96b085a9e3a</code></td><td  style=\"background-color:AliceBlue;\">annular24</td></tr><tr><td  style=\"background-color:Ivory;\"><code>52848b5d551e</code></td><td  style=\"background-color:Ivory;\">2013-08-29 16:16</td><td  style=\"background-color:Ivory;\"><code>kPlus: 615.848211066, kMinus: 16681005.372</code></td><td  style=\"background-color:Ivory;\">7.58s</td><td  style=\"background-color:Ivory;\"><code>c96b085a9e3a</code></td><td  style=\"background-color:Ivory;\">annular24</td></tr><tr><td  style=\"background-color:AliceBlue;\"><code>c6a33b9d9727</code></td><td  style=\"background-color:AliceBlue;\">2013-08-29 16:16</td><td  style=\"background-color:AliceBlue;\"><code>kPlus: 615.848211066, kMinus: 21544346.9003</code></td><td  style=\"background-color:AliceBlue;\">7.99s</td><td  style=\"background-color:AliceBlue;\"><code>c96b085a9e3a</code></td><td  style=\"background-color:AliceBlue;\">annular24</td></tr><tr><td  style=\"background-color:Ivory;\"><code>733a2733a761</code></td><td  style=\"background-color:Ivory;\">2013-08-29 16:16</td><td  style=\"background-color:Ivory;\"><code>kPlus: 615.848211066, kMinus: 27825594.0221</code></td><td  style=\"background-color:Ivory;\">14.20s</td><td  style=\"background-color:Ivory;\"><code>c96b085a9e3a</code></td><td  style=\"background-color:Ivory;\">annular24</td></tr><tr><td  style=\"background-color:AliceBlue;\"><code>25e00c9c7e4f</code></td><td  style=\"background-color:AliceBlue;\">2013-08-29 16:16</td><td  style=\"background-color:AliceBlue;\"><code>kPlus: 615.848211066, kMinus: 35938136.638</code></td><td  style=\"background-color:AliceBlue;\">14.37s</td><td  style=\"background-color:AliceBlue;\"><code>c96b085a9e3a</code></td><td  style=\"background-color:AliceBlue;\">annular24</td></tr><tr><td  style=\"background-color:Ivory;\"><code>98b0c18e1482</code></td><td  style=\"background-color:Ivory;\">2013-08-29 16:16</td><td  style=\"background-color:Ivory;\"><code>kPlus: 615.848211066, kMinus: 46415888.3361</code></td><td  style=\"background-color:Ivory;\">13.27s</td><td  style=\"background-color:Ivory;\"><code>c96b085a9e3a</code></td><td  style=\"background-color:Ivory;\">annular24</td></tr><tr><td  style=\"background-color:AliceBlue;\"><code>f1a6c6eaf200</code></td><td  style=\"background-color:AliceBlue;\">2013-08-29 16:17</td><td  style=\"background-color:AliceBlue;\"><code>kPlus: 615.848211066, kMinus: 59948425.0319</code></td><td  style=\"background-color:AliceBlue;\">6.50s</td><td  style=\"background-color:AliceBlue;\"><code>c96b085a9e3a</code></td><td  style=\"background-color:AliceBlue;\">annular24</td></tr><tr><td  style=\"background-color:Ivory;\"><code>2f4e78afd88b</code></td><td  style=\"background-color:Ivory;\">2013-08-29 16:17</td><td  style=\"background-color:Ivory;\"><code>kPlus: 615.848211066, kMinus: 77426368.2681</code></td><td  style=\"background-color:Ivory;\">6.83s</td><td  style=\"background-color:Ivory;\"><code>c96b085a9e3a</code></td><td  style=\"background-color:Ivory;\">annular24</td></tr><tr><td  style=\"background-color:AliceBlue;\"><code>294a4adc9dc6</code></td><td  style=\"background-color:AliceBlue;\">2013-08-29 16:17</td><td  style=\"background-color:AliceBlue;\"><code>kPlus: 615.848211066, kMinus: 100000000.0</code></td><td  style=\"background-color:AliceBlue;\">6.80s</td><td  style=\"background-color:AliceBlue;\"><code>c96b085a9e3a</code></td><td  style=\"background-color:AliceBlue;\">annular24</td></tr><tr><td  style=\"background-color:Ivory;\"><code>71589e6b19f7</code></td><td  style=\"background-color:Ivory;\">2013-08-29 16:17</td><td  style=\"background-color:Ivory;\"><code>kPlus: 784.759970351, kMinus: 10000000.0</code></td><td  style=\"background-color:Ivory;\">6.68s</td><td  style=\"background-color:Ivory;\"><code>c96b085a9e3a</code></td><td  style=\"background-color:Ivory;\">annular24</td></tr><tr><td  style=\"background-color:AliceBlue;\"><code>51f5ad6860aa</code></td><td  style=\"background-color:AliceBlue;\">2013-08-29 16:17</td><td  style=\"background-color:AliceBlue;\"><code>kPlus: 784.759970351, kMinus: 12915496.6501</code></td><td  style=\"background-color:AliceBlue;\">6.48s</td><td  style=\"background-color:AliceBlue;\"><code>c96b085a9e3a</code></td><td  style=\"background-color:AliceBlue;\">annular24</td></tr><tr><td  style=\"background-color:Ivory;\"><code>50408330f73c</code></td><td  style=\"background-color:Ivory;\">2013-08-29 16:17</td><td  style=\"background-color:Ivory;\"><code>kPlus: 784.759970351, kMinus: 16681005.372</code></td><td  style=\"background-color:Ivory;\">6.92s</td><td  style=\"background-color:Ivory;\"><code>c96b085a9e3a</code></td><td  style=\"background-color:Ivory;\">annular24</td></tr><tr><td  style=\"background-color:AliceBlue;\"><code>09779b091810</code></td><td  style=\"background-color:AliceBlue;\">2013-08-29 16:17</td><td  style=\"background-color:AliceBlue;\"><code>kPlus: 784.759970351, kMinus: 21544346.9003</code></td><td  style=\"background-color:AliceBlue;\">8.33s</td><td  style=\"background-color:AliceBlue;\"><code>c96b085a9e3a</code></td><td  style=\"background-color:AliceBlue;\">annular24</td></tr><tr><td  style=\"background-color:Ivory;\"><code>a258c8b48409</code></td><td  style=\"background-color:Ivory;\">2013-08-29 16:17</td><td  style=\"background-color:Ivory;\"><code>kPlus: 784.759970351, kMinus: 27825594.0221</code></td><td  style=\"background-color:Ivory;\">8.36s</td><td  style=\"background-color:Ivory;\"><code>c96b085a9e3a</code></td><td  style=\"background-color:Ivory;\">annular24</td></tr><tr><td  style=\"background-color:AliceBlue;\"><code>8354766597e5</code></td><td  style=\"background-color:AliceBlue;\">2013-08-29 16:17</td><td  style=\"background-color:AliceBlue;\"><code>kPlus: 784.759970351, kMinus: 35938136.638</code></td><td  style=\"background-color:AliceBlue;\">8.25s</td><td  style=\"background-color:AliceBlue;\"><code>c96b085a9e3a</code></td><td  style=\"background-color:AliceBlue;\">annular24</td></tr><tr><td  style=\"background-color:Ivory;\"><code>71818e942cbd</code></td><td  style=\"background-color:Ivory;\">2013-08-29 16:17</td><td  style=\"background-color:Ivory;\"><code>kPlus: 784.759970351, kMinus: 46415888.3361</code></td><td  style=\"background-color:Ivory;\">8.29s</td><td  style=\"background-color:Ivory;\"><code>c96b085a9e3a</code></td><td  style=\"background-color:Ivory;\">annular24</td></tr><tr><td  style=\"background-color:AliceBlue;\"><code>93d769235b28</code></td><td  style=\"background-color:AliceBlue;\">2013-08-29 16:17</td><td  style=\"background-color:AliceBlue;\"><code>kPlus: 784.759970351, kMinus: 59948425.0319</code></td><td  style=\"background-color:AliceBlue;\">11.66s</td><td  style=\"background-color:AliceBlue;\"><code>c96b085a9e3a</code></td><td  style=\"background-color:AliceBlue;\">annular24</td></tr><tr><td  style=\"background-color:Ivory;\"><code>f58853ded272</code></td><td  style=\"background-color:Ivory;\">2013-08-29 16:17</td><td  style=\"background-color:Ivory;\"><code>kPlus: 784.759970351, kMinus: 77426368.2681</code></td><td  style=\"background-color:Ivory;\">11.99s</td><td  style=\"background-color:Ivory;\"><code>c96b085a9e3a</code></td><td  style=\"background-color:Ivory;\">annular24</td></tr><tr><td  style=\"background-color:AliceBlue;\"><code>d6ec6de4e93d</code></td><td  style=\"background-color:AliceBlue;\">2013-08-29 16:17</td><td  style=\"background-color:AliceBlue;\"><code>kPlus: 784.759970351, kMinus: 100000000.0</code></td><td  style=\"background-color:AliceBlue;\">11.34s</td><td  style=\"background-color:AliceBlue;\"><code>c96b085a9e3a</code></td><td  style=\"background-color:AliceBlue;\">annular24</td></tr><tr><td  style=\"background-color:Ivory;\"><code>02d0ba38af66</code></td><td  style=\"background-color:Ivory;\">2013-08-29 16:17</td><td  style=\"background-color:Ivory;\"><code>kPlus: 1000.0, kMinus: 10000000.0</code></td><td  style=\"background-color:Ivory;\">12.04s</td><td  style=\"background-color:Ivory;\"><code>c96b085a9e3a</code></td><td  style=\"background-color:Ivory;\">annular24</td></tr><tr><td  style=\"background-color:AliceBlue;\"><code>0bca84f36d00</code></td><td  style=\"background-color:AliceBlue;\">2013-08-29 16:17</td><td  style=\"background-color:AliceBlue;\"><code>kPlus: 1000.0, kMinus: 12915496.6501</code></td><td  style=\"background-color:AliceBlue;\">12.47s</td><td  style=\"background-color:AliceBlue;\"><code>c96b085a9e3a</code></td><td  style=\"background-color:AliceBlue;\">annular24</td></tr><tr><td  style=\"background-color:Ivory;\"><code>3b5c8303e399</code></td><td  style=\"background-color:Ivory;\">2013-08-29 16:17</td><td  style=\"background-color:Ivory;\"><code>kPlus: 1000.0, kMinus: 16681005.372</code></td><td  style=\"background-color:Ivory;\">12.21s</td><td  style=\"background-color:Ivory;\"><code>c96b085a9e3a</code></td><td  style=\"background-color:Ivory;\">annular24</td></tr><tr><td  style=\"background-color:AliceBlue;\"><code>d057b9220b0c</code></td><td  style=\"background-color:AliceBlue;\">2013-08-29 16:17</td><td  style=\"background-color:AliceBlue;\"><code>kPlus: 1000.0, kMinus: 21544346.9003</code></td><td  style=\"background-color:AliceBlue;\">11.93s</td><td  style=\"background-color:AliceBlue;\"><code>c96b085a9e3a</code></td><td  style=\"background-color:AliceBlue;\">annular24</td></tr><tr><td  style=\"background-color:Ivory;\"><code>9ff44b5cc5d5</code></td><td  style=\"background-color:Ivory;\">2013-08-29 16:17</td><td  style=\"background-color:Ivory;\"><code>kPlus: 1000.0, kMinus: 27825594.0221</code></td><td  style=\"background-color:Ivory;\">11.41s</td><td  style=\"background-color:Ivory;\"><code>c96b085a9e3a</code></td><td  style=\"background-color:Ivory;\">annular24</td></tr><tr><td  style=\"background-color:AliceBlue;\"><code>8bd63bcca80c</code></td><td  style=\"background-color:AliceBlue;\">2013-08-29 16:17</td><td  style=\"background-color:AliceBlue;\"><code>kPlus: 1000.0, kMinus: 35938136.638</code></td><td  style=\"background-color:AliceBlue;\">11.95s</td><td  style=\"background-color:AliceBlue;\"><code>c96b085a9e3a</code></td><td  style=\"background-color:AliceBlue;\">annular24</td></tr><tr><td  style=\"background-color:Ivory;\"><code>1a5da3fa1996</code></td><td  style=\"background-color:Ivory;\">2013-08-29 16:17</td><td  style=\"background-color:Ivory;\"><code>kPlus: 1000.0, kMinus: 46415888.3361</code></td><td  style=\"background-color:Ivory;\">10.51s</td><td  style=\"background-color:Ivory;\"><code>c96b085a9e3a</code></td><td  style=\"background-color:Ivory;\">annular24</td></tr><tr><td  style=\"background-color:AliceBlue;\"><code>2e0da5068a32</code></td><td  style=\"background-color:AliceBlue;\">2013-08-29 16:17</td><td  style=\"background-color:AliceBlue;\"><code>kPlus: 1000.0, kMinus: 59948425.0319</code></td><td  style=\"background-color:AliceBlue;\">12.21s</td><td  style=\"background-color:AliceBlue;\"><code>c96b085a9e3a</code></td><td  style=\"background-color:AliceBlue;\">annular24</td></tr><tr><td  style=\"background-color:Ivory;\"><code>aba2231fec75</code></td><td  style=\"background-color:Ivory;\">2013-08-29 16:17</td><td  style=\"background-color:Ivory;\"><code>kPlus: 1000.0, kMinus: 77426368.2681</code></td><td  style=\"background-color:Ivory;\">10.83s</td><td  style=\"background-color:Ivory;\"><code>c96b085a9e3a</code></td><td  style=\"background-color:Ivory;\">annular24</td></tr><tr><td  style=\"background-color:AliceBlue;\"><code>4be3fb9bc244</code></td><td  style=\"background-color:AliceBlue;\">2013-08-29 16:17</td><td  style=\"background-color:AliceBlue;\"><code>kPlus: 1000.0, kMinus: 100000000.0</code></td><td  style=\"background-color:AliceBlue;\">10.37s</td><td  style=\"background-color:AliceBlue;\"><code>c96b085a9e3a</code></td><td  style=\"background-color:AliceBlue;\">annular24</td></tr></table>"
       ],
       "output_type": "pyout",
       "prompt_number": 2,
       "text": [
        "<IPython.core.display.HTML at 0x7b3da8d0>"
       ]
      }
     ],
     "prompt_number": 2
    },
    {
     "cell_type": "markdown",
     "metadata": {},
     "source": [
      "The above seems to have worked with the following changes in Sumatra:\n",
      "\n",
      "\n",
      "    --- a/sumatra/recordstore/django_store/__init__.py\tFri Jun 14 10:35:54 2013 +0200\n",
      "    +++ b/sumatra/recordstore/django_store/__init__.py\tThu Aug 29 16:40:03 2013 -0400\n",
      "    @@ -205,14 +205,29 @@\n",
      "                 db_keys = (self._get_db_obj('DataKey', key) for key in record.input_data[i:i+chunk_size])\n",
      "                 db_record.input_data.add(*db_keys)\n",
      "             for i in xrange(0, len(record.output_data), chunk_size):\n",
      "    -            db_keys = (self._get_db_obj('DataKey', key) for key in record.output_data[i:i+chunk_size])\n",
      "    -            db_record.output_data.add(*db_keys)\n",
      "    +            import time\n",
      "    +            for i in range(10):\n",
      "    +                db_keys = (self._get_db_obj('DataKey', key) for key in record.output_data[i:i+chunk_size])\n",
      "    +                try:\n",
      "    +                    db_record.output_data.add(*db_keys)\n",
      "    +                except TypeError:\n",
      "    +                    print db_keys\n",
      "    +                time.sleep(2)\n",
      "             if record.dependencies:\n",
      "                 for dep in record.dependencies:\n",
      "    -                #print \"Adding dependency %s to db_record\" % dep\n",
      "    -                db_record.dependencies.add(self._get_db_obj('Dependency', dep))\n",
      "    +                if len(dep.version) > 20:\n",
      "    +                    dep.version = dep.version[:20]\n",
      "    +                try:\n",
      "    +                    db_record.dependencies.add(self._get_db_obj('Dependency', dep))\n",
      "    +                except:\n",
      "    +                    print\n",
      "    +                    print 'Warning'\n",
      "    +                    print 'could not add:',dep\n",
      "             for pi in record.platforms:\n",
      "    -            db_record.platforms.add(self._get_db_obj('PlatformInformation', pi))\n",
      "    +            try:\n",
      "    +                db_record.platforms.add(self._get_db_obj('PlatformInformation', pi))\n",
      "    +            except TypeError:\n",
      "    +                pass\n",
      "             db_record.diff = record.diff\n",
      "             db_record.repeats = record.repeats\n",
      "             db_record.save(using=self._db_label)\n",
      "    diff -r 697a6198ad64 sumatra/recordstore/django_store/models.py\n",
      "    --- a/sumatra/recordstore/django_store/models.py\tFri Jun 14 10:35:54 2013 +0200\n",
      "    +++ b/sumatra/recordstore/django_store/models.py\tThu Aug 29 16:40:03 2013 -0400\n",
      "    @@ -36,9 +36,15 @@\n",
      "                         attributes[name] = str(obj) # ParameterSet, DataKey\n",
      "                     else:\n",
      "                         raise\n",
      "    -\n",
      "    -        return self.using(using).get_or_create(**attributes)            \n",
      "             \n",
      "    +        from django.core.exceptions import MultipleObjectsReturned\n",
      "    +        import time\n",
      "    +        for i in range(10):\n",
      "    +            try:\n",
      "    +                return self.using(using).get_or_create(**attributes) \n",
      "    +            except MultipleObjectsReturned:\n",
      "    +                time.sleep(2)\n",
      "    +            \n",
      "     \n",
      "     class BaseModel(models.Model):\n",
      "         objects = SumatraObjectsManager()\n"
     ]
    },
    {
     "cell_type": "code",
     "collapsed": false,
     "input": [],
     "language": "python",
     "metadata": {},
     "outputs": []
    }
   ],
   "metadata": {}
  }
 ]
}