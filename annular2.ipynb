{
 "metadata": {
  "name": "annular2"
 },
 "nbformat": 3,
 "nbformat_minor": 0,
 "worksheets": [
  {
   "cells": [
    {
     "cell_type": "markdown",
     "metadata": {},
     "source": [
      "# Compare with old annular code\n",
      "\n",
      "The annular code has been substantialy revamped by removing the extremefill2D dependency. After this major change I would like to check that things still work in the same way."
     ]
    },
    {
     "cell_type": "code",
     "collapsed": false,
     "input": [
      "%load_ext autoreload\n",
      "%autoreload 2\n",
      "from multiViewer import MultiViewer\n",
      "from smtext import getSMTRecords, smt_ipy_table\n",
      "records = getSMTRecords()"
     ],
     "language": "python",
     "metadata": {},
     "outputs": [
      {
       "output_type": "stream",
       "stream": "stdout",
       "text": [
        "Created Django record store using PostgreSQL\n"
       ]
      },
      {
       "output_type": "stream",
       "stream": "stderr",
       "text": [
        "/users/wd15/hg/sumatra/sumatra/programs.py:57: Warning: Python could not be found. Please supply the path to the /users/wd15/.virtualenvs/fipy/bin/python executable.\n",
        "  warnings.warn(errmsg)\n"
       ]
      }
     ],
     "prompt_number": 1
    },
    {
     "cell_type": "code",
     "collapsed": false,
     "input": [
      "annularRecords = getSMTRecords(records=records, tags=['annular'])\n",
      "rb = 14e-6\n",
      "comparisonRecords = getSMTRecords(records=annularRecords, parameters={'kPlus' : 200, 'rboundary' : rb, 'Nx' : 300})\n",
      "viewer = MultiViewer(comparisonRecords, title=['$R_b={0}$'.format(rb)], figsize=(4, 9))\n",
      "viewer.plot(times=numpy.arange(16) * 700.)\n",
      "smt_ipy_table(comparisonRecords, fields=['label', 'timestamp', 'parameters', 'duration', 'version', 'tags'], parameters=['kPlus', 'kMinus', 'rboundary', 'Nx'])"
     ],
     "language": "python",
     "metadata": {},
     "outputs": [
      {
       "output_type": "display_data",
       "png": "[encoded data removed]"
      },
      {
       "html": [
        "<table border=\"1\" cellpadding=\"3\" cellspacing=\"0\"  style=\"border:1px solid black;border-collapse:collapse;\"><tr><td  style=\"background-color:LightGray;\"><b>Label</b></td><td  style=\"background-color:LightGray;\"><b>Timestamp</b></td><td  style=\"background-color:LightGray;\"><b>Parameters</b></td><td  style=\"background-color:LightGray;\"><b>Duration</b></td><td  style=\"background-color:LightGray;\"><b>Version</b></td><td  style=\"background-color:LightGray;\"><b>Tags</b></td></tr><tr><td  style=\"background-color:Ivory;\"><code>26aff417be92</code></td><td  style=\"background-color:Ivory;\">2013-07-24 18:14</td><td  style=\"background-color:Ivory;\"><code>kPlus: 200.0, kMinus: 24500000.0, rboundary: 1.4e-05, Nx: 300</code></td><td  style=\"background-color:Ivory;\">3h 7m 54.47s</td><td  style=\"background-color:Ivory;\"><code>51296436a3ab</code></td><td  style=\"background-color:Ivory;\">annular</td></tr></table>"
       ],
       "output_type": "pyout",
       "prompt_number": 6,
       "text": [
        "<IPython.core.display.HTML at 0xa8f20490>"
       ]
      }
     ],
     "prompt_number": 6
    },
    {
     "cell_type": "code",
     "collapsed": false,
     "input": [
      "from smtext import batch_launch\n",
      "\n",
      "batch_launch(reason=\"test simulation for newly revamped annular simulation\", tags=['annular3'], kPlus=200.0, rboundary=1.4e-5)"
     ],
     "language": "python",
     "metadata": {},
     "outputs": [],
     "prompt_number": 25
    },
    {
     "cell_type": "code",
     "collapsed": false,
     "input": [
      "!qstat"
     ],
     "language": "python",
     "metadata": {},
     "outputs": [
      {
       "output_type": "stream",
       "stream": "stdout",
       "text": [
        "job-ID  prior   name       user         state submit/start at     queue                          slots ja-task-ID \r\n",
        "-----------------------------------------------------------------------------------------------------------------\r\n",
        "1683629 0.10900 launcher   wd15         r     07/25/2013 12:37:37 wide3@r002                         1        \r\n",
        "1683630 0.10900 launcher   wd15         r     07/25/2013 12:37:37 wide64@r031                        1        \r\n",
        "1683631 0.10900 launcher   wd15         r     07/25/2013 12:37:37 wide64@r031                        1        \r\n",
        "1683637 0.10900 launcher   wd15         r     07/25/2013 12:37:37 wide64@r031                        1        \r\n",
        "1683638 0.10900 launcher   wd15         r     07/25/2013 12:37:37 wide3@r002                         1        \r\n",
        "1683652 0.10763 launcher   wd15         r     07/25/2013 14:38:07 wide64@r031                        1        \r\n",
        "1683654 0.10763 launcher   wd15         r     07/25/2013 14:38:07 wide64@r038                        1        \r\n",
        "1683655 0.10763 launcher   wd15         r     07/25/2013 14:38:07 wide64@r031                        1        \r\n",
        "1683657 0.10763 launcher   wd15         r     07/25/2013 14:38:07 wide64@r031                        1        \r\n",
        "1683658 0.10763 launcher   wd15         r     07/25/2013 14:38:07 wide64@r038                        1        \r\n",
        "1683661 0.10763 launcher   wd15         r     07/25/2013 14:38:22 wide64@r038                        1        \r\n",
        "1683663 0.10763 launcher   wd15         r     07/25/2013 14:38:22 wide64@r038                        1        \r\n",
        "1683664 0.10763 launcher   wd15         r     07/25/2013 14:38:22 wide64@r031                        1        \r\n",
        "1683666 0.10763 launcher   wd15         r     07/25/2013 14:38:22 wide64@r031                        1        \r\n",
        "1683667 0.10763 launcher   wd15         r     07/25/2013 14:38:22 wide64@r035                        1        \r\n",
        "1683670 0.10763 launcher   wd15         r     07/25/2013 14:38:22 wide3@r002                         1        \r\n",
        "1683672 0.10763 launcher   wd15         r     07/25/2013 14:38:22 wide64@r035                        1        \r\n",
        "1683673 0.10763 launcher   wd15         r     07/25/2013 14:38:22 wide64@r040                        1        \r\n",
        "1683675 0.10763 launcher   wd15         r     07/25/2013 14:38:22 wide64@r031                        1        \r\n",
        "1683676 0.10763 launcher   wd15         r     07/25/2013 14:38:22 wide64@r035                        1        \r\n",
        "1684040 0.00595 launcher   wd15         r     07/30/2013 15:57:22 ctcms@r019                         1        \r\n"
       ]
      }
     ],
     "prompt_number": 28
    },
    {
     "cell_type": "code",
     "collapsed": false,
     "input": [],
     "language": "python",
     "metadata": {},
     "outputs": []
    }
   ],
   "metadata": {}
  }
 ]
}