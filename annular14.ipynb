{
 "metadata": {
  "name": "annular14"
 },
 "nbformat": 3,
 "nbformat_minor": 0,
 "worksheets": [
  {
   "cells": [
    {
     "cell_type": "markdown",
     "metadata": {},
     "source": [
      "# $k^+$ v $k^-$ with `Nx=200`\n",
      "\n",
      "Sweep of paramater space with a more refined grid."
     ]
    },
    {
     "cell_type": "code",
     "collapsed": false,
     "input": [
      "from tools import batch_launch\n",
      "\n",
      "kPluses = np.logspace(0, 4, 20)\n",
      "kMinuses = np.logspace(6, 9, 20)\n",
      "\n",
      "!date\n",
      "rboundary = 50e-6 / np.sqrt(np.pi)\n",
      "    \n",
      "reason = \"Running simulation for k+ v k- with Nx=200\"\n",
      "    \n",
      "for kPlus in kPluses:\n",
      "    for kMinus in kMinuses:\n",
      "        batch_launch(reason=reason,\n",
      "                     tags=['annular58'],\n",
      "                     kPlus=kPlus,\n",
      "                     kMinus=kMinus,\n",
      "                     rboundary=50e-6 / np.sqrt(np.pi),\n",
      "                     Nx=200,\n",
      "                     spacing_ratio=1.2,\n",
      "                     CFL=0.1,\n",
      "                     levelset_update_ncell=5,\n",
      "                     data_frequency=100,\n",
      "                     bulkSuppressor=0.06,\n",
      "                     appliedPotential=-0.45)"
     ],
     "language": "python",
     "metadata": {},
     "outputs": [
      {
       "output_type": "stream",
       "stream": "stdout",
       "text": [
        "Thu Sep 26 16:39:47 EDT 2013\r\n"
       ]
      }
     ],
     "prompt_number": 1
    },
    {
     "cell_type": "code",
     "collapsed": false,
     "input": [],
     "language": "python",
     "metadata": {},
     "outputs": []
    }
   ],
   "metadata": {}
  }
 ]
}